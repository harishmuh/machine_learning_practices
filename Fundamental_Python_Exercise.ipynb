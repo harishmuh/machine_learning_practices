{
  "nbformat": 4,
  "nbformat_minor": 0,
  "metadata": {
    "colab": {
      "provenance": [],
      "mount_file_id": "1Krn-7Q6-3pHnsYjw85mRvZydn04AIM8Q",
      "authorship_tag": "ABX9TyOBvTmilU18a6IjacDN2c8B",
      "include_colab_link": true
    },
    "kernelspec": {
      "name": "python3",
      "display_name": "Python 3"
    },
    "language_info": {
      "name": "python"
    }
  },
  "cells": [
    {
      "cell_type": "markdown",
      "metadata": {
        "id": "view-in-github",
        "colab_type": "text"
      },
      "source": [
        "<a href=\"https://colab.research.google.com/github/harishmuh/machine_learning_practices/blob/main/Fundamental_Python_Exercise.ipynb\" target=\"_parent\"><img src=\"https://colab.research.google.com/assets/colab-badge.svg\" alt=\"Open In Colab\"/></a>"
      ]
    },
    {
      "cell_type": "markdown",
      "source": [
        "# **Fundamental Python**"
      ],
      "metadata": {
        "id": "G9I_u0vZH6yH"
      }
    },
    {
      "cell_type": "markdown",
      "source": [
        "## **Variable**"
      ],
      "metadata": {
        "id": "7r0XsoZXIJ8A"
      }
    },
    {
      "cell_type": "code",
      "execution_count": 1,
      "metadata": {
        "id": "tu8qhle3FohI"
      },
      "outputs": [],
      "source": [
        "# Creating variable one by one\n",
        "name = 'Jessica'\n",
        "height = 168\n",
        "weight = 62\n",
        "is_student = True"
      ]
    },
    {
      "cell_type": "code",
      "source": [
        "# Creating variable one by one\n",
        "# We can also include the data type\n",
        "name: str = 'Jessica'\n",
        "height: int = 168\n",
        "weight: float = 62\n",
        "is_student: bool = True\n",
        "\n",
        "print(f'Name: {name}, data type {type(name)}')\n",
        "print(f'Height: {height}, data type {type(height)}')\n",
        "print(f'Weight: {weight}, data type {type(weight)}')\n",
        "print(f'Is student: {is_student}, data type {type(is_student)}')"
      ],
      "metadata": {
        "id": "dXooWfIAKMMC",
        "colab": {
          "base_uri": "https://localhost:8080/"
        },
        "outputId": "e9b6f197-3762-426d-96f2-df0d0e412d26"
      },
      "execution_count": 42,
      "outputs": [
        {
          "output_type": "stream",
          "name": "stdout",
          "text": [
            "Name: Jessica, data type <class 'str'>\n",
            "Height: 168, data type <class 'int'>\n",
            "Weight: 62, data type <class 'int'>\n",
            "Is student: True, data type <class 'bool'>\n"
          ]
        }
      ]
    },
    {
      "cell_type": "code",
      "source": [
        "# Creating variable with unpacking\n",
        "name, height, weight, is_student = 'Jessica', 168, 62, True\n",
        "\n",
        "print(name, height, weight, is_student)"
      ],
      "metadata": {
        "colab": {
          "base_uri": "https://localhost:8080/"
        },
        "id": "dUkZ-DkvIpCA",
        "outputId": "088e8deb-7794-414c-95f3-d3fb76506094"
      },
      "execution_count": 3,
      "outputs": [
        {
          "output_type": "stream",
          "name": "stdout",
          "text": [
            "Jessica 168 62 True\n"
          ]
        }
      ]
    },
    {
      "cell_type": "code",
      "source": [
        "# Switching variable value\n",
        "x = 15\n",
        "y = x\n",
        "x = 22\n",
        "\n",
        "print(f'The values of x and y are {x} dan {y}')"
      ],
      "metadata": {
        "colab": {
          "base_uri": "https://localhost:8080/"
        },
        "id": "o37I2v3IoTLt",
        "outputId": "d6c582e1-6052-4fc9-a719-5992d03f7e38"
      },
      "execution_count": 43,
      "outputs": [
        {
          "output_type": "stream",
          "name": "stdout",
          "text": [
            "The values of x and y are 22 dan 15\n"
          ]
        }
      ]
    },
    {
      "cell_type": "code",
      "source": [
        "# Switching variable value\n",
        "a = 3\n",
        "b = (a != 3)\n",
        "print(b)"
      ],
      "metadata": {
        "colab": {
          "base_uri": "https://localhost:8080/"
        },
        "id": "ugyvAgb_aSVY",
        "outputId": "26da78c4-b05a-4a5a-ae15-0df9761103b7"
      },
      "execution_count": 12,
      "outputs": [
        {
          "output_type": "stream",
          "name": "stdout",
          "text": [
            "False\n"
          ]
        }
      ]
    },
    {
      "cell_type": "code",
      "source": [
        "# String variables\n",
        "street = \"125 Main Street\"\n",
        "print(\"The address of the book shop is \" + \"street\")\n",
        "print(\"The address of the book shop is \" + street)"
      ],
      "metadata": {
        "colab": {
          "base_uri": "https://localhost:8080/"
        },
        "id": "a1cCXbjIqpWD",
        "outputId": "9bdd0ebd-ada2-4bdf-d7c4-22ef0ff1c9e3"
      },
      "execution_count": 44,
      "outputs": [
        {
          "output_type": "stream",
          "name": "stdout",
          "text": [
            "The address of the book shop is street\n",
            "The address of the book shop is 125 Main Street\n"
          ]
        }
      ]
    },
    {
      "cell_type": "code",
      "source": [
        "# String variables\n",
        "str = \"His shirt is red\"\n",
        "pos = str.find(\"is\")\n",
        "print(pos) # Output is the position of the first"
      ],
      "metadata": {
        "colab": {
          "base_uri": "https://localhost:8080/"
        },
        "id": "duQXTGkgrhi-",
        "outputId": "f0326635-6d31-4ca9-c874-5d2718ea967a"
      },
      "execution_count": 45,
      "outputs": [
        {
          "output_type": "stream",
          "name": "stdout",
          "text": [
            "1\n"
          ]
        }
      ]
    },
    {
      "cell_type": "code",
      "source": [
        "# String method\n",
        "# What is the value of s1 after the following code executes?\n",
        "\n",
        "s1 = \"heY\"\n",
        "s1 = s1.capitalize()\n",
        "s1.lower()\n",
        "\n",
        "print(s1) # output: Hey\n"
      ],
      "metadata": {
        "colab": {
          "base_uri": "https://localhost:8080/"
        },
        "id": "dhyCnl9dr5IN",
        "outputId": "730e979d-e02c-4a69-ff08-c3d10863a861"
      },
      "execution_count": 49,
      "outputs": [
        {
          "output_type": "stream",
          "name": "stdout",
          "text": [
            "Hey\n"
          ]
        }
      ]
    },
    {
      "cell_type": "code",
      "source": [
        "# String\n",
        "# What is the value of s1 after the following code executes?\n",
        "s = \"python is awesome\"\n",
        "print(s[2] + s[-5])"
      ],
      "metadata": {
        "colab": {
          "base_uri": "https://localhost:8080/"
        },
        "id": "-B1JssiqsxF_",
        "outputId": "c3743c18-1659-4e07-ff24-22badd153ab3"
      },
      "execution_count": 50,
      "outputs": [
        {
          "output_type": "stream",
          "name": "stdout",
          "text": [
            "te\n"
          ]
        }
      ]
    },
    {
      "cell_type": "code",
      "source": [
        "# String method\n",
        "# What is the value of s1 after the following code executes?\n",
        "animal = \"dog\"\n",
        "print(\"animal\" + animal)"
      ],
      "metadata": {
        "colab": {
          "base_uri": "https://localhost:8080/"
        },
        "id": "eidWjrhttEwm",
        "outputId": "ab4f2ffc-d04f-4490-8f10-7c814276363f"
      },
      "execution_count": 52,
      "outputs": [
        {
          "output_type": "stream",
          "name": "stdout",
          "text": [
            "animaldog\n"
          ]
        }
      ]
    },
    {
      "cell_type": "code",
      "source": [
        "# Guess game\n",
        "a = b = c= d= 10\n",
        "\n",
        "d, e, f = 20, 30, 40\n",
        "\n",
        "g = h = i = 7\n",
        "\n",
        "# Print\n",
        "print(a,b,c,d) # output 10 10 10 10\n",
        "print(d, e, f) # output 20 30 40\n",
        "print(g, h, i, sep='-') # 7-7-7"
      ],
      "metadata": {
        "colab": {
          "base_uri": "https://localhost:8080/"
        },
        "id": "dCvrSV4bJPPt",
        "outputId": "90e347c2-11fc-4579-8eb3-310d83e3f727"
      },
      "execution_count": 4,
      "outputs": [
        {
          "output_type": "stream",
          "name": "stdout",
          "text": [
            "10 10 10 20\n",
            "20 30 40\n",
            "7-7-7\n"
          ]
        }
      ]
    },
    {
      "cell_type": "code",
      "source": [
        "# String method\n",
        "# What is the value of s1 after the following code executes?\n",
        "a = 3\n",
        "b = (a != 3)\n",
        "print(b)"
      ],
      "metadata": {
        "colab": {
          "base_uri": "https://localhost:8080/"
        },
        "id": "WSM42tXhvPWe",
        "outputId": "99c3d4a3-d71d-46a8-9f03-64c742fe4e9b"
      },
      "execution_count": 60,
      "outputs": [
        {
          "output_type": "stream",
          "name": "stdout",
          "text": [
            "False\n"
          ]
        }
      ]
    },
    {
      "cell_type": "markdown",
      "source": [
        "## **Mathematical operations**"
      ],
      "metadata": {
        "id": "FmPGTMkoH6MS"
      }
    },
    {
      "cell_type": "code",
      "source": [
        "# Mathematical operations\n",
        "a = 10\n",
        "b = 5\n",
        "\n",
        "# Addition\n",
        "result_addition = a + b\n",
        "print('The result of addition:', result_addition) # output 15\n",
        "\n",
        "# Subtraction\n",
        "result_subtraction = a - b\n",
        "print('The result of substraction:', result_subtraction) # output 5\n",
        "\n",
        "# Multiplication\n",
        "result_multiplication = a * b\n",
        "print('The result of multipication:', result_multiplication) # output 50\n",
        "\n",
        "# Division\n",
        "result_division = a / b\n",
        "print('The result of division:', result_division) # output 2.0 # Float\n",
        "\n",
        "# Modulus\n",
        "result_modulus = a % b\n",
        "print('The result of modulus:', result_modulus) # output 0\n",
        "\n",
        "# Exponentiation\n",
        "result_exponentiation = a ** b\n",
        "print('The result of exponentiation:', result_exponentiation) # output 100000\n",
        "\n",
        "\n",
        "# Floor division\n",
        "result_floor_division = a // b\n",
        "print('The result of floor division', result_floor_division) # output 2\n"
      ],
      "metadata": {
        "colab": {
          "base_uri": "https://localhost:8080/"
        },
        "id": "wAXde4LMLLSz",
        "outputId": "07f6366f-3d0a-4119-b026-7ffce9b5cac3"
      },
      "execution_count": 5,
      "outputs": [
        {
          "output_type": "stream",
          "name": "stdout",
          "text": [
            "The result of addition: 15\n",
            "The result of substraction: 5\n",
            "The result of multipication: 50\n",
            "The result of division: 2.0\n",
            "The result of modulus: 0\n",
            "The result of exponentiation: 100000\n",
            "The result of floor division 2\n"
          ]
        }
      ]
    },
    {
      "cell_type": "code",
      "source": [
        "# Logical operator\n",
        "\n",
        "# AND\n",
        "print('Logical operator (AND):')\n",
        "print(True and True) # output True\n",
        "print(True and False) # output False\n",
        "print(False and True) # output False\n",
        "print(False and False) # output False\n",
        "\n",
        "\n",
        "# OR\n",
        "print('Logical operator (OR):')\n",
        "print(True or True) # output True\n",
        "print(True or False) # output True\n",
        "print(False or True) # output True\n",
        "print(False or False) # output False\n",
        "\n",
        "# NOT\n",
        "print('Logical operator (NOT):')\n",
        "print(not True) # output False\n",
        "print(not False) # output True\n"
      ],
      "metadata": {
        "colab": {
          "base_uri": "https://localhost:8080/"
        },
        "id": "l5zTSWW0MzjF",
        "outputId": "62d3d8b3-80f6-47a9-cffe-fb076b7d6b3d"
      },
      "execution_count": 6,
      "outputs": [
        {
          "output_type": "stream",
          "name": "stdout",
          "text": [
            "Logical operator (AND):\n",
            "True\n",
            "False\n",
            "False\n",
            "False\n",
            "Logical operator (OR):\n",
            "True\n",
            "True\n",
            "True\n",
            "False\n",
            "Logical operator (NOT):\n",
            "False\n",
            "True\n"
          ]
        }
      ]
    },
    {
      "cell_type": "markdown",
      "source": [
        "## **Data Structure**"
      ],
      "metadata": {
        "id": "b1UBaWdL6cfJ"
      }
    },
    {
      "cell_type": "markdown",
      "source": [
        "**List**"
      ],
      "metadata": {
        "id": "JRTtg3cVy8oZ"
      }
    },
    {
      "cell_type": "code",
      "source": [
        "# Initiating empty list\n",
        "\n",
        "empty_list = []\n",
        "print(empty_list) # output []"
      ],
      "metadata": {
        "colab": {
          "base_uri": "https://localhost:8080/"
        },
        "id": "S2V4-8xyKWDA",
        "outputId": "e879a4b8-b8c3-434f-a4cf-5e4a35650658"
      },
      "execution_count": 7,
      "outputs": [
        {
          "output_type": "stream",
          "name": "stdout",
          "text": [
            "[]\n"
          ]
        }
      ]
    },
    {
      "cell_type": "code",
      "source": [
        "# Initiating list with elements\n",
        "list_number = [1, 2, 3, 4, 5]\n",
        "print(list_number) # output [1, 2, 3, 4, 5]\n",
        "\n",
        "list_fruits = ['apple', 'banana', 'orange']\n",
        "print(list_fruits) # output ['apple', 'banana', 'orange']\n",
        "\n",
        "mixed_list = [1, 'apple', 3.14, True]\n",
        "print(mixed_list) # output [1, 'apple', 3.14, True]"
      ],
      "metadata": {
        "colab": {
          "base_uri": "https://localhost:8080/"
        },
        "id": "jlzfHjh8KiUY",
        "outputId": "d97bb1c2-d8a7-439b-afc4-2294a2417f65"
      },
      "execution_count": 8,
      "outputs": [
        {
          "output_type": "stream",
          "name": "stdout",
          "text": [
            "[1, 2, 3, 4, 5]\n",
            "['apple', 'banana', 'orange']\n",
            "[1, 'apple', 3.14, True]\n"
          ]
        }
      ]
    },
    {
      "cell_type": "code",
      "source": [
        "# List from string\n",
        "text = 'Hi, I am Devina from Indonesia'\n",
        "list_text = text.split()\n",
        "print(list_text) # output ['Hi,', 'I', 'am', 'Devina', 'from', 'Indonesia']"
      ],
      "metadata": {
        "colab": {
          "base_uri": "https://localhost:8080/"
        },
        "id": "-4oi8QXNLBQr",
        "outputId": "7243c241-bb12-4773-d7ac-44c200711b05"
      },
      "execution_count": 9,
      "outputs": [
        {
          "output_type": "stream",
          "name": "stdout",
          "text": [
            "['Hi,', 'I', 'am', 'Devina', 'from', 'Indonesia']\n"
          ]
        }
      ]
    },
    {
      "cell_type": "code",
      "source": [
        "# Membership operator\n",
        "list_example = [1, 2, 3, 4, 5]\n",
        "\n",
        "print('1 in list_example?', 1 in list_example) # output True\n",
        "print('6 in list_example?', 6 in list_example) # output False\n",
        "print('1 not in list_example?', 1 not in list_example) # output False"
      ],
      "metadata": {
        "colab": {
          "base_uri": "https://localhost:8080/"
        },
        "id": "FHYguN-LNhHQ",
        "outputId": "e0770fc2-69dc-4532-ae40-a00aa07dd8bc"
      },
      "execution_count": 10,
      "outputs": [
        {
          "output_type": "stream",
          "name": "stdout",
          "text": [
            "1 in list_example? True\n",
            "6 in list_example? False\n",
            "1 not in list_example? False\n"
          ]
        }
      ]
    },
    {
      "cell_type": "code",
      "source": [
        "# Built-in function\n",
        "number = [5, 2, 8, 3, 6]\n",
        "\n",
        "# The minimum value\n",
        "min_number = min(number)\n",
        "print('The minimum value:', min_number) # output 2\n",
        "\n",
        "# The maximum value\n",
        "max_number = max(number)\n",
        "print('The maximum value:', max_number) # output 8"
      ],
      "metadata": {
        "colab": {
          "base_uri": "https://localhost:8080/"
        },
        "id": "uUZ2hvh1OHXw",
        "outputId": "500562cc-4ced-464f-eefc-b0be1d098e24"
      },
      "execution_count": 11,
      "outputs": [
        {
          "output_type": "stream",
          "name": "stdout",
          "text": [
            "The minimum value: 2\n",
            "The maximum value: 8\n"
          ]
        }
      ]
    },
    {
      "cell_type": "code",
      "source": [
        "# List within list\n",
        "alist = [3, 67, \"cat\", [56, 57, \"dog\"], [ ], 3.14, False]\n",
        "def slice_exercise():\n",
        "    alist = [3, 67, \"cat\", [56, 57, \"dog\"], [ ], 3.14, False]\n",
        "    print(alist[2:4])\n",
        "print(alist[2:4])"
      ],
      "metadata": {
        "colab": {
          "base_uri": "https://localhost:8080/"
        },
        "id": "OP2IPIMHaww3",
        "outputId": "b3d35c94-a252-4e71-c02a-a31c69a0f764"
      },
      "execution_count": 15,
      "outputs": [
        {
          "output_type": "stream",
          "name": "stdout",
          "text": [
            "['cat', [56, 57, 'dog']]\n"
          ]
        }
      ]
    },
    {
      "cell_type": "code",
      "source": [
        "# Indexing for nested list\n",
        "\n",
        "list_example = [['Campus', 'x', 'ITB'], ['Batch', 2]]\n",
        "print('index 0,0:', list_example[0][0]) # output 'Campus'\n",
        "print('index 1,0:', list_example[1][0]) # output 'Batch'\n",
        "print('index 1,1:', list_example[1][1]) # output 2"
      ],
      "metadata": {
        "colab": {
          "base_uri": "https://localhost:8080/"
        },
        "id": "0zrb6n8yzAse",
        "outputId": "a33f0aa4-a7eb-437e-bee0-e2f3cb545bc5"
      },
      "execution_count": 12,
      "outputs": [
        {
          "output_type": "stream",
          "name": "stdout",
          "text": [
            "index 0,0: Campus\n",
            "index 1,0: Batch\n",
            "index 1,1: 2\n"
          ]
        }
      ]
    },
    {
      "cell_type": "code",
      "source": [
        "# Slicing list\n",
        "List = ['G', 'E', 'E', 'K', 'S', 'F', 'O', 'R', 'G', 'E', 'E', 'K', 'S']\n",
        "\n",
        "print(List[1:]) # Index 1 to end\n",
        "print(List[-12]) # Index -12 to end\n",
        "print(List[:4]) # Index 0 to 3\n",
        "print(List[3:9]) # output ['K', 'S', 'F', 'O', 'R', 'G']\n",
        "print(List[:-7]) # output"
      ],
      "metadata": {
        "colab": {
          "base_uri": "https://localhost:8080/"
        },
        "id": "TaAmhGZK091Y",
        "outputId": "7b96b5c6-1d50-458a-d5a3-5cc90431023c"
      },
      "execution_count": 13,
      "outputs": [
        {
          "output_type": "stream",
          "name": "stdout",
          "text": [
            "['E', 'E', 'K', 'S', 'F', 'O', 'R', 'G', 'E', 'E', 'K', 'S']\n",
            "E\n",
            "['G', 'E', 'E', 'K']\n",
            "['K', 'S', 'F', 'O', 'R', 'G']\n",
            "['G', 'E', 'E', 'K', 'S', 'F']\n"
          ]
        }
      ]
    },
    {
      "cell_type": "code",
      "source": [
        "# Slicing list [intial: end: Index jump/step]\n",
        "\n",
        "# Displaying the result of index 1,3,7,9 # Step 2\n",
        "print(List[1:10:2]) # Step 2\n",
        "print(List[1:10:3]) # Step 3\n",
        "print(List[1:10:4]) # step 4"
      ],
      "metadata": {
        "colab": {
          "base_uri": "https://localhost:8080/"
        },
        "id": "xqzSVT7A27Nt",
        "outputId": "a2746433-235d-44bb-ce81-4b5406345a7e"
      },
      "execution_count": 14,
      "outputs": [
        {
          "output_type": "stream",
          "name": "stdout",
          "text": [
            "['E', 'K', 'F', 'R', 'E']\n",
            "['E', 'S', 'R']\n",
            "['E', 'F', 'E']\n"
          ]
        }
      ]
    },
    {
      "cell_type": "code",
      "source": [
        "# Reverse List\n",
        "print(List[::-1]) # output"
      ],
      "metadata": {
        "colab": {
          "base_uri": "https://localhost:8080/"
        },
        "id": "UGZ03PU52rVe",
        "outputId": "f582ef35-f635-4e82-9c22-c1b858d1c5c4"
      },
      "execution_count": 15,
      "outputs": [
        {
          "output_type": "stream",
          "name": "stdout",
          "text": [
            "['S', 'K', 'E', 'E', 'G', 'R', 'O', 'F', 'S', 'K', 'E', 'E', 'G']\n"
          ]
        }
      ]
    },
    {
      "cell_type": "code",
      "source": [
        "# List comperhension\n",
        "\n",
        "# list numbers\n",
        "list_comp = [i for i in range(0,10,1)]\n",
        "print(list_comp) # output 0, 1, 2, 3, 4, 5, 6, 7, 8, 9\n",
        "\n",
        "# Squared numbers\n",
        "list_comp_squared = [i**2 for i in range(0,10,1)]\n",
        "print(list_comp_squared) # output\n",
        "\n",
        "# Even numbers\n",
        "list_comp_if = [i for i in range(0,10,1) if i % 2 == 0]\n",
        "print(list_comp_if) # output"
      ],
      "metadata": {
        "colab": {
          "base_uri": "https://localhost:8080/"
        },
        "id": "MmB8iikgyzRa",
        "outputId": "d12d7fd4-1c8f-425a-8058-97db88e08f36"
      },
      "execution_count": 64,
      "outputs": [
        {
          "output_type": "stream",
          "name": "stdout",
          "text": [
            "[0, 1, 2, 3, 4, 5, 6, 7, 8, 9]\n",
            "[0, 1, 4, 9, 16, 25, 36, 49, 64, 81]\n",
            "[0, 2, 4, 6, 8]\n"
          ]
        }
      ]
    },
    {
      "cell_type": "code",
      "source": [
        "# What will be the following code print?\n",
        "\n",
        "def mystery(num_list):\n",
        "    index = 0\n",
        "    while index < len(num_list):\n",
        "        num = num_list[index]\n",
        "        print(f'The num is {num}')\n",
        "        print(f'The index is {index}')\n",
        "        if num == 0:\n",
        "            num_list.pop(index)\n",
        "        index += 1\n",
        "\n",
        "list1 = [3, 0, 2, 0, 0]\n",
        "mystery(list1)\n",
        "print(list1)"
      ],
      "metadata": {
        "colab": {
          "base_uri": "https://localhost:8080/"
        },
        "id": "Q-gyLqhFbG2l",
        "outputId": "4032d00e-e7ea-4d71-8649-b9d6b3c9b056"
      },
      "execution_count": 14,
      "outputs": [
        {
          "output_type": "stream",
          "name": "stdout",
          "text": [
            "The num is 3\n",
            "The index is 0\n",
            "The num is 0\n",
            "The index is 1\n",
            "The num is 0\n",
            "The index is 2\n",
            "[3, 2, 0]\n"
          ]
        }
      ]
    },
    {
      "cell_type": "code",
      "source": [
        "# What will be the following code print?\n",
        "\n",
        "def mystery(num_list):\n",
        "    sum = 0\n",
        "    for i in range(0, len(num_list), 2):\n",
        "        num = num_list[i]\n",
        "        sum += num\n",
        "        return sum\n",
        "\n",
        "list1 = [1, 2, 3, 4, 5]\n",
        "print(mystery(list1))"
      ],
      "metadata": {
        "colab": {
          "base_uri": "https://localhost:8080/"
        },
        "id": "dyEso2hhWWGM",
        "outputId": "6d79f882-cbe9-4c3e-fc68-5ed0fb860fbf"
      },
      "execution_count": 10,
      "outputs": [
        {
          "output_type": "stream",
          "name": "stdout",
          "text": [
            "1\n"
          ]
        }
      ]
    },
    {
      "cell_type": "code",
      "source": [
        "# What will the content of the list in 'Blist'\n",
        "alist = [4, 2, 8, 6, 5]\n",
        "blist = [alist] * 2\n",
        "alist[3] = 999\n",
        "\n",
        "print(blist)"
      ],
      "metadata": {
        "colab": {
          "base_uri": "https://localhost:8080/"
        },
        "id": "rA8pX79_WeRQ",
        "outputId": "24f85568-6e81-4058-9b7c-5b6f771884e3"
      },
      "execution_count": 11,
      "outputs": [
        {
          "output_type": "stream",
          "name": "stdout",
          "text": [
            "[[4, 2, 8, 999, 5], [4, 2, 8, 999, 5]]\n"
          ]
        }
      ]
    },
    {
      "cell_type": "markdown",
      "source": [
        "**Tuple**"
      ],
      "metadata": {
        "id": "ocvRlaaU6zvs"
      }
    },
    {
      "cell_type": "code",
      "source": [
        "# Sorting tuple\n",
        "tup = ('30', '3', '2', '8')\n",
        "print(sorted(tup))\n",
        "\n",
        "# This returns a list with the strings sorted in ascending order.\n"
      ],
      "metadata": {
        "colab": {
          "base_uri": "https://localhost:8080/"
        },
        "id": "tQCXbfzkVMQa",
        "outputId": "4648ca72-f718-4dd5-c6b7-e87b44397f87"
      },
      "execution_count": 5,
      "outputs": [
        {
          "output_type": "stream",
          "name": "stdout",
          "text": [
            "['2', '3', '30', '8']\n"
          ]
        }
      ]
    },
    {
      "cell_type": "code",
      "source": [
        "# Indexing for tuple\n",
        "\n",
        "list_example = [['Campus', 'x', 'ITB'], ['Batch', 2]]\n",
        "\n",
        "# Changing list to tuple\n",
        "tuple_example = (list_example)\n",
        "print('index 0,0:', tuple_example[0][0]) # output 'Campus'\n",
        "print('index 1,0:', tuple_example[1][0]) # output 'Batch'\n",
        "print('index 1,1:', tuple_example[1][1]) # output 2"
      ],
      "metadata": {
        "colab": {
          "base_uri": "https://localhost:8080/"
        },
        "id": "9QoJgtaV6zSY",
        "outputId": "3e5226c5-28e3-4e17-ad02-926c19fd4211"
      },
      "execution_count": 16,
      "outputs": [
        {
          "output_type": "stream",
          "name": "stdout",
          "text": [
            "index 0,0: Campus\n",
            "index 1,0: Batch\n",
            "index 1,1: 2\n"
          ]
        }
      ]
    },
    {
      "cell_type": "markdown",
      "source": [
        "**Set**"
      ],
      "metadata": {
        "id": "_AQsHH0sueTu"
      }
    },
    {
      "cell_type": "code",
      "source": [
        "# Set\n",
        "# Union, intersection, difference\n",
        "set1 = {1, 2, 3, 4, 5}\n",
        "set2 = {3, 4, 5, 6, 7}\n",
        "\n",
        "# Union\n",
        "union_set = set1.union(set2)\n",
        "print('Union set:', union_set) # output\n",
        "\n",
        "# Intersection\n",
        "intersection_set = set1.intersection(set2)\n",
        "print('Intersection set:', intersection_set) # output\n",
        "\n",
        "# Difference\n",
        "# Difference(): returns the difference of two or more sets as new set\n",
        "difference_set = set1.difference(set2)\n",
        "print('Difference set:', difference_set) # output"
      ],
      "metadata": {
        "colab": {
          "base_uri": "https://localhost:8080/"
        },
        "id": "YDsRazAjuLvp",
        "outputId": "af1dba1c-a414-489b-d8f5-a7828fe669da"
      },
      "execution_count": 17,
      "outputs": [
        {
          "output_type": "stream",
          "name": "stdout",
          "text": [
            "Union set: {1, 2, 3, 4, 5, 6, 7}\n",
            "Intersection set: {3, 4, 5}\n",
            "Difference set: {1, 2}\n"
          ]
        }
      ]
    },
    {
      "cell_type": "markdown",
      "source": [
        "**Dictionary**"
      ],
      "metadata": {
        "id": "CcO6XJk4wdcj"
      }
    },
    {
      "cell_type": "code",
      "source": [
        "# A dictionary contains key and value\n",
        "course = {'Monday': 'math', 'Tuesday': 'physics', 'Wednesday': 'chemistry'}\n",
        "print(course) # output"
      ],
      "metadata": {
        "colab": {
          "base_uri": "https://localhost:8080/"
        },
        "id": "vZuqm2EV2ks6",
        "outputId": "843303c6-6f43-44be-c8b5-ff3f7c596785"
      },
      "execution_count": 65,
      "outputs": [
        {
          "output_type": "stream",
          "name": "stdout",
          "text": [
            "{'Monday': 'math', 'Tuesday': 'physics', 'Wednesday': 'chemistry'}\n"
          ]
        }
      ]
    },
    {
      "cell_type": "code",
      "source": [
        "# items\n",
        "course.items()"
      ],
      "metadata": {
        "colab": {
          "base_uri": "https://localhost:8080/"
        },
        "id": "2zLYMGnI27gQ",
        "outputId": "54fa33dc-62fb-4aa7-afe4-267e707d669f"
      },
      "execution_count": 66,
      "outputs": [
        {
          "output_type": "execute_result",
          "data": {
            "text/plain": [
              "dict_items([('Monday', 'math'), ('Tuesday', 'physics'), ('Wednesday', 'chemistry')])"
            ]
          },
          "metadata": {},
          "execution_count": 66
        }
      ]
    },
    {
      "cell_type": "code",
      "source": [
        "# Course on monday?\n",
        "course['Monday']"
      ],
      "metadata": {
        "colab": {
          "base_uri": "https://localhost:8080/",
          "height": 36
        },
        "id": "nOERMFam3E0X",
        "outputId": "6e4373f1-96d4-43a9-9d1f-48d7087320ae"
      },
      "execution_count": 68,
      "outputs": [
        {
          "output_type": "execute_result",
          "data": {
            "text/plain": [
              "'math'"
            ],
            "application/vnd.google.colaboratory.intrinsic+json": {
              "type": "string"
            }
          },
          "metadata": {},
          "execution_count": 68
        }
      ]
    },
    {
      "cell_type": "code",
      "source": [
        "# Get value\n",
        "course.get('Monday')"
      ],
      "metadata": {
        "colab": {
          "base_uri": "https://localhost:8080/",
          "height": 36
        },
        "id": "Vu2kaylQ3RPm",
        "outputId": "87caa0b0-dfe7-421b-b75e-d701ab9598dd"
      },
      "execution_count": 69,
      "outputs": [
        {
          "output_type": "execute_result",
          "data": {
            "text/plain": [
              "'math'"
            ],
            "application/vnd.google.colaboratory.intrinsic+json": {
              "type": "string"
            }
          },
          "metadata": {},
          "execution_count": 69
        }
      ]
    },
    {
      "cell_type": "code",
      "source": [
        "# Get value\n",
        "course.get('Friday') # Nothing happen # No course on friday"
      ],
      "metadata": {
        "id": "Jc7DMqcu3iJC"
      },
      "execution_count": 71,
      "outputs": []
    },
    {
      "cell_type": "code",
      "source": [
        "# Displaying keys and values\n",
        "data = {\n",
        "    'name':'Yamato',\n",
        "    'gender': 'male'\n",
        "}\n",
        "\n",
        "\n",
        "for key in data:\n",
        "    print(key,data[key])"
      ],
      "metadata": {
        "colab": {
          "base_uri": "https://localhost:8080/"
        },
        "id": "YS8TUVD9wfVw",
        "outputId": "17d09945-c873-48b0-f17f-1204cb919103"
      },
      "execution_count": 6,
      "outputs": [
        {
          "output_type": "stream",
          "name": "stdout",
          "text": [
            "name Yamato\n",
            "gender male\n"
          ]
        }
      ]
    },
    {
      "cell_type": "code",
      "source": [
        "# Counting alphabets of a sentence\n",
        "phrase = \"Cheese in Philadelphia is extraordinary according to Erik\"\n",
        "\n",
        "counter = 0\n",
        "letters = {}\n",
        "for word in phrase.split():\n",
        "    for letter in word:\n",
        "        letter = letter.lower()\n",
        "        #print(letter)\n",
        "        if letter not in letters.keys():\n",
        "            letters[letter] = 0\n",
        "            #print(letters[letter])\n",
        "        letters[letter] += 1\n",
        "for key in letters.keys():\n",
        "    print(key, letters[key])\n",
        "    if letters[key] > 2:\n",
        "        counter += 1\n",
        "\n",
        "\n",
        "print(counter)"
      ],
      "metadata": {
        "colab": {
          "base_uri": "https://localhost:8080/"
        },
        "id": "TjbMLYmh2a8M",
        "outputId": "8872ac09-1d09-4ab5-99f9-adfcea861ce1"
      },
      "execution_count": 7,
      "outputs": [
        {
          "output_type": "stream",
          "name": "stdout",
          "text": [
            "c 3\n",
            "h 3\n",
            "e 6\n",
            "s 2\n",
            "i 7\n",
            "n 3\n",
            "p 2\n",
            "l 2\n",
            "a 5\n",
            "d 3\n",
            "x 1\n",
            "t 2\n",
            "r 5\n",
            "o 3\n",
            "y 1\n",
            "g 1\n",
            "k 1\n",
            "9\n"
          ]
        }
      ]
    },
    {
      "cell_type": "code",
      "source": [
        "# What order do the keys print in after the following code is run?\n",
        "counts = {'annie' : 42, 'chuck' : 1, 'jan' : 100}\n",
        "items = counts.items()\n",
        "sorted(items, key = lambda t: t[1])\n",
        "for item in items:\n",
        "    print(item[0])\n",
        "\n",
        "# This will print the keys in their current order since sorted returns a new list"
      ],
      "metadata": {
        "colab": {
          "base_uri": "https://localhost:8080/"
        },
        "id": "_xyRhXrMVuoi",
        "outputId": "7bcfe5ec-0712-4c21-bcf5-cfc69e33eb0e"
      },
      "execution_count": 8,
      "outputs": [
        {
          "output_type": "stream",
          "name": "stdout",
          "text": [
            "annie\n",
            "chuck\n",
            "jan\n"
          ]
        }
      ]
    },
    {
      "cell_type": "code",
      "source": [
        "# What order do the keys print in after the following code is run?\n",
        "counts = {'annie' : 42, 'chuck' : 1, 'jan' : 100}\n",
        "items = counts.items()\n",
        "out = sorted(items, key = lambda t: t[1])\n",
        "for item in out:\n",
        "    print(item[0])"
      ],
      "metadata": {
        "colab": {
          "base_uri": "https://localhost:8080/"
        },
        "id": "6rUoYBW7WKJj",
        "outputId": "47ca0814-6a1f-46c7-d799-e15038b7968c"
      },
      "execution_count": 9,
      "outputs": [
        {
          "output_type": "stream",
          "name": "stdout",
          "text": [
            "chuck\n",
            "annie\n",
            "jan\n"
          ]
        }
      ]
    },
    {
      "cell_type": "markdown",
      "source": [
        "## **Conditional**"
      ],
      "metadata": {
        "id": "PmZCXA2wt6mh"
      }
    },
    {
      "cell_type": "code",
      "source": [
        "# Conditional statement (If)\n",
        "x = -10\n",
        "if x < 0:\n",
        "    print(\"The negative number \",  x, \" is not valid here.\")\n",
        "print(\"This is always printed\")"
      ],
      "metadata": {
        "colab": {
          "base_uri": "https://localhost:8080/"
        },
        "id": "idXSOIpkuNf_",
        "outputId": "95d9a4b3-01cf-43d9-d04a-7df99b1fc932"
      },
      "execution_count": 55,
      "outputs": [
        {
          "output_type": "stream",
          "name": "stdout",
          "text": [
            "The negative number  -10  is not valid here.\n",
            "This is always printed\n"
          ]
        }
      ]
    },
    {
      "cell_type": "code",
      "source": [
        "# Conditional statement (If, Else)\n",
        "if 4 + 5 == 10:\n",
        "    print(\"TRUE\")\n",
        "else:\n",
        "    print(\"FALSE\")\n",
        "print(\"TRUE\")"
      ],
      "metadata": {
        "id": "WX4m9ynzvgx6",
        "colab": {
          "base_uri": "https://localhost:8080/"
        },
        "outputId": "64cf7f92-459b-4823-ef36-c519c10fb2a1"
      },
      "execution_count": 53,
      "outputs": [
        {
          "output_type": "stream",
          "name": "stdout",
          "text": [
            "FALSE\n",
            "TRUE\n"
          ]
        }
      ]
    },
    {
      "cell_type": "code",
      "source": [
        "# Conditional statement (If, If)\n",
        "x = 3\n",
        "if (x > 2):\n",
        "    x = x * 2\n",
        "if (x > 4):\n",
        "    x = 0\n",
        "print(x)"
      ],
      "metadata": {
        "colab": {
          "base_uri": "https://localhost:8080/"
        },
        "id": "6wf_YV1fuzbo",
        "outputId": "8615003e-efae-493c-db47-3db0815809d5"
      },
      "execution_count": 56,
      "outputs": [
        {
          "output_type": "stream",
          "name": "stdout",
          "text": [
            "0\n"
          ]
        }
      ]
    },
    {
      "cell_type": "code",
      "source": [
        "# Conditional statement (if, if, if)\n",
        "weight = 0.5\n",
        "numItems = 5\n",
        "if weight < 1:\n",
        "    price = 1.45\n",
        "if weight >= 1:\n",
        "    price = 1.15\n",
        "total = weight * price\n",
        "if numItems >= 10:\n",
        "    total = total * 0.9\n",
        "print(f'The weight is {weight} kg')\n",
        "print(f'The price is USD {price}')\n",
        "print(f'The total price is USD {total}')"
      ],
      "metadata": {
        "colab": {
          "base_uri": "https://localhost:8080/"
        },
        "id": "f508eXebvGeQ",
        "outputId": "03cdf261-3da3-41d5-f30f-e97b3ffa6ab2"
      },
      "execution_count": 59,
      "outputs": [
        {
          "output_type": "stream",
          "name": "stdout",
          "text": [
            "The weight is 0.5 kg\n",
            "The price is USD 1.45\n",
            "The total price is USD 0.725\n"
          ]
        }
      ]
    },
    {
      "cell_type": "markdown",
      "source": [
        "## **Control Flow**"
      ],
      "metadata": {
        "id": "j8D_sOVxv4cT"
      }
    },
    {
      "cell_type": "markdown",
      "source": [
        "**For Loop**"
      ],
      "metadata": {
        "id": "bxEu51146LjQ"
      }
    },
    {
      "cell_type": "code",
      "source": [
        "# For loop\n",
        "# Iteration\n",
        "planets = ['Mercury', 'Venus', 'Mars', 'Earth']\n",
        "for planet in planets:\n",
        "  print(planet, end=' ') # Print all on the same line"
      ],
      "metadata": {
        "colab": {
          "base_uri": "https://localhost:8080/"
        },
        "id": "HzZ76d_Rv7NP",
        "outputId": "3be65898-38a6-4cc0-e5c4-4805107dcb7a"
      },
      "execution_count": 18,
      "outputs": [
        {
          "output_type": "stream",
          "name": "stdout",
          "text": [
            "Mercury Venus Mars Earth "
          ]
        }
      ]
    },
    {
      "cell_type": "code",
      "source": [
        "for i in range(1,5):\n",
        "    sum = 0\n",
        "    sum = sum + i\n",
        "    print(f'The value of sum is: {sum}')"
      ],
      "metadata": {
        "colab": {
          "base_uri": "https://localhost:8080/"
        },
        "id": "-bYEPs0kf6Y3",
        "outputId": "ee6fa7a8-ea2c-465b-9f54-327a75b0f6b0"
      },
      "execution_count": 27,
      "outputs": [
        {
          "output_type": "stream",
          "name": "stdout",
          "text": [
            "The value of sum is: 1\n",
            "The value of sum is: 2\n",
            "The value of sum is: 3\n",
            "The value of sum is: 4\n"
          ]
        }
      ]
    },
    {
      "cell_type": "code",
      "source": [
        "# For loop\n",
        "sum = 0\n",
        "values = [1,3,5,7]\n",
        "for number in values:\n",
        "    sum = sum + number\n",
        "print(sum)"
      ],
      "metadata": {
        "colab": {
          "base_uri": "https://localhost:8080/"
        },
        "id": "YPa1X7Jvf0rn",
        "outputId": "1068b3a0-ac5d-43c0-e992-5a3edac8c2f7"
      },
      "execution_count": 26,
      "outputs": [
        {
          "output_type": "stream",
          "name": "stdout",
          "text": [
            "16\n"
          ]
        }
      ]
    },
    {
      "cell_type": "code",
      "source": [
        "# For loop\n",
        "# range\n",
        "for i in range(5): # Numbers until 5\n",
        "  print(\"*\" * 5)\n",
        "  print(\"Doing crucial work. i =\", i)"
      ],
      "metadata": {
        "colab": {
          "base_uri": "https://localhost:8080/"
        },
        "id": "6NcrNQYswblt",
        "outputId": "015df914-486a-44aa-e1ca-aa1e49cfd177"
      },
      "execution_count": 28,
      "outputs": [
        {
          "output_type": "stream",
          "name": "stdout",
          "text": [
            "*****\n",
            "Doing crucial work. i = 0\n",
            "*****\n",
            "Doing crucial work. i = 1\n",
            "*****\n",
            "Doing crucial work. i = 2\n",
            "*****\n",
            "Doing crucial work. i = 3\n",
            "*****\n",
            "Doing crucial work. i = 4\n"
          ]
        }
      ]
    },
    {
      "cell_type": "code",
      "source": [
        "# For loop\n",
        "# Iteration\n",
        "car = ['honda', 'BMW', 'Tesla']\n",
        "manufacturer = ['Japan', 'Germany', 'USA']\n",
        "\n",
        "for i in range(len(car)):\n",
        "    print(f'{car[i]} is from {manufacturer[i]}')"
      ],
      "metadata": {
        "colab": {
          "base_uri": "https://localhost:8080/"
        },
        "id": "BqQu73wHxGzZ",
        "outputId": "5652fbd4-783c-48aa-c5ab-62afc6285638"
      },
      "execution_count": 63,
      "outputs": [
        {
          "output_type": "stream",
          "name": "stdout",
          "text": [
            "honda is from Japan\n",
            "BMW is from Germany\n",
            "Tesla is from USA\n"
          ]
        }
      ]
    },
    {
      "cell_type": "code",
      "source": [
        "# For loop\n",
        "# Enumerate\n",
        "for i, val in enumerate(range(10)):\n",
        "  print('index =', i, 'values =', val)"
      ],
      "metadata": {
        "colab": {
          "base_uri": "https://localhost:8080/"
        },
        "id": "sELaeCK9w1xO",
        "outputId": "bdb0a0a3-1daf-498f-9e46-b699acf7d39b"
      },
      "execution_count": 20,
      "outputs": [
        {
          "output_type": "stream",
          "name": "stdout",
          "text": [
            "index = 0 values = 0\n",
            "index = 1 values = 1\n",
            "index = 2 values = 2\n",
            "index = 3 values = 3\n",
            "index = 4 values = 4\n",
            "index = 5 values = 5\n",
            "index = 6 values = 6\n",
            "index = 7 values = 7\n",
            "index = 8 values = 8\n",
            "index = 9 values = 9\n"
          ]
        }
      ]
    },
    {
      "cell_type": "code",
      "source": [
        "# For Loop # Enumerate\n",
        "areas = [11.5, 18, 20, 20.5, 8.5, 9.7]\n",
        "\n",
        "# Change for loop to use enumerate() and update print()\n",
        "for index, area in enumerate(areas):\n",
        "  print('Room', str(index), ': ', str(area))"
      ],
      "metadata": {
        "colab": {
          "base_uri": "https://localhost:8080/"
        },
        "id": "nzr8pO-JxKtw",
        "outputId": "b0a1da06-b4cd-43d3-e05a-d6790759c7eb"
      },
      "execution_count": 21,
      "outputs": [
        {
          "output_type": "stream",
          "name": "stdout",
          "text": [
            "Room 0 :  11.5\n",
            "Room 1 :  18\n",
            "Room 2 :  20\n",
            "Room 3 :  20.5\n",
            "Room 4 :  8.5\n",
            "Room 5 :  9.7\n"
          ]
        }
      ]
    },
    {
      "cell_type": "code",
      "source": [
        "# What is the result of executing the following code?\n",
        "number = 0\n",
        "while number <= 10:\n",
        "    print(f'Currently, the number is {number}')\n",
        "    number = number + 1"
      ],
      "metadata": {
        "colab": {
          "base_uri": "https://localhost:8080/"
        },
        "id": "FBonF3HjfeuH",
        "outputId": "fe9c6342-1d48-4689-9520-7bdd8f4afad0"
      },
      "execution_count": 25,
      "outputs": [
        {
          "output_type": "stream",
          "name": "stdout",
          "text": [
            "Currently, the number is 0\n",
            "Currently, the number is 1\n",
            "Currently, the number is 2\n",
            "Currently, the number is 3\n",
            "Currently, the number is 4\n",
            "Currently, the number is 5\n",
            "Currently, the number is 6\n",
            "Currently, the number is 7\n",
            "Currently, the number is 8\n",
            "Currently, the number is 9\n",
            "Currently, the number is 10\n"
          ]
        }
      ]
    },
    {
      "cell_type": "code",
      "source": [
        "# For Loop\n",
        "# How many asterisks will be printed when the following code executes?\n",
        "for x in [0, 1, 2, 3]:\n",
        "    for y in [0, 1, 2, 3, 4]:\n",
        "        print(f'value of x = {x} and value of y = {y} continue to display asteriks(*)') # 20 asteriks(*)"
      ],
      "metadata": {
        "colab": {
          "base_uri": "https://localhost:8080/"
        },
        "id": "CCGR35RmTZ-i",
        "outputId": "a7bc451a-b264-4bfd-bee7-50b858757776"
      },
      "execution_count": 2,
      "outputs": [
        {
          "output_type": "stream",
          "name": "stdout",
          "text": [
            "value of x = 0 and value of y = 0 continue to display asteriks(*)\n",
            "value of x = 0 and value of y = 1 continue to display asteriks(*)\n",
            "value of x = 0 and value of y = 2 continue to display asteriks(*)\n",
            "value of x = 0 and value of y = 3 continue to display asteriks(*)\n",
            "value of x = 0 and value of y = 4 continue to display asteriks(*)\n",
            "value of x = 1 and value of y = 0 continue to display asteriks(*)\n",
            "value of x = 1 and value of y = 1 continue to display asteriks(*)\n",
            "value of x = 1 and value of y = 2 continue to display asteriks(*)\n",
            "value of x = 1 and value of y = 3 continue to display asteriks(*)\n",
            "value of x = 1 and value of y = 4 continue to display asteriks(*)\n",
            "value of x = 2 and value of y = 0 continue to display asteriks(*)\n",
            "value of x = 2 and value of y = 1 continue to display asteriks(*)\n",
            "value of x = 2 and value of y = 2 continue to display asteriks(*)\n",
            "value of x = 2 and value of y = 3 continue to display asteriks(*)\n",
            "value of x = 2 and value of y = 4 continue to display asteriks(*)\n",
            "value of x = 3 and value of y = 0 continue to display asteriks(*)\n",
            "value of x = 3 and value of y = 1 continue to display asteriks(*)\n",
            "value of x = 3 and value of y = 2 continue to display asteriks(*)\n",
            "value of x = 3 and value of y = 3 continue to display asteriks(*)\n",
            "value of x = 3 and value of y = 4 continue to display asteriks(*)\n"
          ]
        }
      ]
    },
    {
      "cell_type": "code",
      "source": [
        "# For Loop\n",
        "out = \"\"\n",
        "for i in range(2):\n",
        "    for j in range(2):\n",
        "        out += \"i: \" + str(i) + \" j:\" + str(j) + \", \"\n",
        "print(out)"
      ],
      "metadata": {
        "colab": {
          "base_uri": "https://localhost:8080/"
        },
        "id": "6pNUEG2mUhqD",
        "outputId": "ca66e518-5a64-4bff-a7c4-e3fbbbb606cc"
      },
      "execution_count": 3,
      "outputs": [
        {
          "output_type": "stream",
          "name": "stdout",
          "text": [
            "i: 0 j:0, i: 0 j:1, i: 1 j:0, i: 1 j:1, \n"
          ]
        }
      ]
    },
    {
      "cell_type": "code",
      "source": [
        "# For Loop\n",
        "l1 = [1, 2]\n",
        "l2 = [3, 4]\n",
        "out = []\n",
        "for val1 in l1:\n",
        "    for val2 in l2:\n",
        "        out.append(val1 + val2)\n",
        "print(out)"
      ],
      "metadata": {
        "colab": {
          "base_uri": "https://localhost:8080/"
        },
        "id": "JRP9Yxq1Utv0",
        "outputId": "21af8e3e-985e-4aa3-e60f-fa6954bef5fb"
      },
      "execution_count": 4,
      "outputs": [
        {
          "output_type": "stream",
          "name": "stdout",
          "text": [
            "[4, 5, 5, 6]\n"
          ]
        }
      ]
    },
    {
      "cell_type": "code",
      "source": [
        "# While Loop\n",
        "i = 0\n",
        "while i < 10:\n",
        "  print(i, end=' ') # Printed in the same line\n",
        "  i += 1"
      ],
      "metadata": {
        "colab": {
          "base_uri": "https://localhost:8080/"
        },
        "id": "RjquyZGtxney",
        "outputId": "8f144a0b-17d3-4669-9b1e-9beef911c2f4"
      },
      "execution_count": 22,
      "outputs": [
        {
          "output_type": "stream",
          "name": "stdout",
          "text": [
            "0 1 2 3 4 5 6 7 8 9 "
          ]
        }
      ]
    },
    {
      "cell_type": "code",
      "source": [
        "# While loop\n",
        "lives = 5\n",
        "\n",
        "meals = {\n",
        "    'carrot':'healthy',\n",
        "    'cheeseburger': 'unhealthy',\n",
        "    'pizza': 'unhealthy',\n",
        "    'milk': 'healthy',\n",
        "    'spinach': 'healthy'\n",
        "}\n",
        "ix = 0\n",
        "meals_left = len(meals)\n",
        "while lives > 0:\n",
        "    meals_left = meals_left - 1\n",
        "    if meals[list(meals.keys())[ix]] == 'unhealthy':\n",
        "        lives = lives - 3\n",
        "    lives = lives - 1\n",
        "    print(f'How many lives remaining? {lives}')\n",
        "    print(f'How many meals_left? {meals_left}')\n",
        "\n",
        "print(meals_left)"
      ],
      "metadata": {
        "colab": {
          "base_uri": "https://localhost:8080/"
        },
        "id": "hMCToIPZgS4O",
        "outputId": "599fc67e-8b35-4a2e-8e8f-c5c5c98a7f81"
      },
      "execution_count": 30,
      "outputs": [
        {
          "output_type": "stream",
          "name": "stdout",
          "text": [
            "How many lives remaining? 4\n",
            "How many meals_left? 4\n",
            "How many lives remaining? 3\n",
            "How many meals_left? 3\n",
            "How many lives remaining? 2\n",
            "How many meals_left? 2\n",
            "How many lives remaining? 1\n",
            "How many meals_left? 1\n",
            "How many lives remaining? 0\n",
            "How many meals_left? 0\n",
            "0\n"
          ]
        }
      ]
    },
    {
      "cell_type": "code",
      "source": [
        "# While\n",
        "counter = 1\n",
        "sum = 0\n",
        "\n",
        "print(f'Initial counter -> {counter}')\n",
        "print(f'Initial sum -> {sum}')\n",
        "while counter <= 6:\n",
        "    sum = sum + counter\n",
        "    counter = counter + 2\n",
        "    print(f'counter (after) -> {counter}')\n",
        "    print(f'sum (after) -> {sum}')\n",
        "    print('nice!')\n",
        "print(sum)"
      ],
      "metadata": {
        "colab": {
          "base_uri": "https://localhost:8080/"
        },
        "id": "HtxGPAkehGAo",
        "outputId": "eafc978f-4399-49f1-ac9d-ae73b0c00235"
      },
      "execution_count": 31,
      "outputs": [
        {
          "output_type": "stream",
          "name": "stdout",
          "text": [
            "Initial counter -> 1\n",
            "Initial sum -> 0\n",
            "counter (after) -> 3\n",
            "sum (after) -> 1\n",
            "nice!\n",
            "counter (after) -> 5\n",
            "sum (after) -> 4\n",
            "nice!\n",
            "counter (after) -> 7\n",
            "sum (after) -> 9\n",
            "nice!\n",
            "9\n"
          ]
        }
      ]
    },
    {
      "cell_type": "markdown",
      "source": [
        "**Function**"
      ],
      "metadata": {
        "id": "5FVSXzAk3pVv"
      }
    },
    {
      "cell_type": "markdown",
      "source": [
        "**Built-in function**\n",
        "\n",
        "A built-in function is a function that is already provided by Python and is always available for use — no need to import any module to use it.\n",
        "\n",
        "Some example of built-in function in python consist of print(), len(), filter(), type(), sum(), max(), input(), etc."
      ],
      "metadata": {
        "id": "bu-ibh-f_C-p"
      }
    },
    {
      "cell_type": "code",
      "source": [
        "# Using 'sum' Built-in function\n",
        "numbers = [10, 20, 30]\n",
        "total = sum(numbers)     # 'sum()' is a Built-in function\n",
        "print(\"Total:\", total)\n"
      ],
      "metadata": {
        "colab": {
          "base_uri": "https://localhost:8080/"
        },
        "id": "BlSn-S4dBBUi",
        "outputId": "e634934e-d276-4a5a-efc4-20ffc4f1c88a"
      },
      "execution_count": 23,
      "outputs": [
        {
          "output_type": "stream",
          "name": "stdout",
          "text": [
            "Total: 60\n"
          ]
        }
      ]
    },
    {
      "cell_type": "markdown",
      "source": [
        "**User-defined function**\n",
        "\n",
        "A user-defined function in Python is a function that you create yourself to perform a specific task. Unlike built-in functions (like print(), len(), or sum()), user-defined functions are written by the programmer to organize and reuse code."
      ],
      "metadata": {
        "id": "NVIi-P1V-88W"
      }
    },
    {
      "cell_type": "code",
      "source": [
        "# Creating a user-defined function\n",
        "def add_numbers(x,y):\n",
        "  '''\n",
        "  This function adds two numbers and returns the result.\n",
        "  '''\n",
        "  result = x + y\n",
        "  return result\n"
      ],
      "metadata": {
        "id": "98Ri1kwz3rx5"
      },
      "execution_count": 24,
      "outputs": []
    },
    {
      "cell_type": "code",
      "source": [
        "# Testing the add_number function\n",
        "add_numbers(10,5)"
      ],
      "metadata": {
        "colab": {
          "base_uri": "https://localhost:8080/"
        },
        "id": "G0rdzNiR4GH5",
        "outputId": "683f9ee7-9d23-4a12-c069-6cb040d89e67"
      },
      "execution_count": 25,
      "outputs": [
        {
          "output_type": "execute_result",
          "data": {
            "text/plain": [
              "15"
            ]
          },
          "metadata": {},
          "execution_count": 25
        }
      ]
    },
    {
      "cell_type": "code",
      "source": [
        "# Creating function with return\n",
        "def add_numbers(x,y):\n",
        "  '''\n",
        "  This function adds two numbers and returns the result.\n",
        "  '''\n",
        "  result = x + y\n",
        "  return result\n",
        "\n",
        "result = add_numbers(10,5)\n",
        "print(result) # Output 15"
      ],
      "metadata": {
        "colab": {
          "base_uri": "https://localhost:8080/"
        },
        "id": "L3IbAeFET9rk",
        "outputId": "ae4e5e4e-fb28-4d1e-e08d-518aabb05b24"
      },
      "execution_count": 26,
      "outputs": [
        {
          "output_type": "stream",
          "name": "stdout",
          "text": [
            "15\n"
          ]
        }
      ]
    },
    {
      "cell_type": "code",
      "source": [
        "# Creating function (without 'return')\n",
        "\n",
        "def add_numbers(x,y):\n",
        "  '''\n",
        "  This function adds two numbers and returns the result.\n",
        "  '''\n",
        "  result = x + y\n",
        "\n",
        "result = add_numbers(10,5)\n",
        "print(result) # Output None"
      ],
      "metadata": {
        "colab": {
          "base_uri": "https://localhost:8080/"
        },
        "id": "g09tcttWUODo",
        "outputId": "3926b794-22cb-4f59-c691-046498497284"
      },
      "execution_count": 27,
      "outputs": [
        {
          "output_type": "stream",
          "name": "stdout",
          "text": [
            "None\n"
          ]
        }
      ]
    },
    {
      "cell_type": "code",
      "source": [
        "# Creating function with default argument\n",
        "def greet(name, age = 29):\n",
        "  print(f'Hello, {name}. You are {age} years old')"
      ],
      "metadata": {
        "id": "v7ZEzsY54hIT"
      },
      "execution_count": 28,
      "outputs": []
    },
    {
      "cell_type": "code",
      "source": [
        "# Testing the function\n",
        "greet('Nova') # It will display the default number"
      ],
      "metadata": {
        "colab": {
          "base_uri": "https://localhost:8080/"
        },
        "id": "Tf_WBxHE4932",
        "outputId": "e176a737-8409-484f-eaa3-976286c66866"
      },
      "execution_count": 29,
      "outputs": [
        {
          "output_type": "stream",
          "name": "stdout",
          "text": [
            "Hello, Nova. You are 29 years old\n"
          ]
        }
      ]
    },
    {
      "cell_type": "code",
      "source": [
        "# Testing the function # But adding argument\n",
        "greet('Jessica', 20)"
      ],
      "metadata": {
        "colab": {
          "base_uri": "https://localhost:8080/"
        },
        "id": "4aSwoo2H5N5N",
        "outputId": "35463c12-b210-4877-b8bf-b0a3ae3b2c7c"
      },
      "execution_count": 30,
      "outputs": [
        {
          "output_type": "stream",
          "name": "stdout",
          "text": [
            "Hello, Jessica. You are 20 years old\n"
          ]
        }
      ]
    },
    {
      "cell_type": "code",
      "source": [
        "# Creating a function for calculation\n",
        "\n",
        "def calculate_area(radius):\n",
        "  '''\n",
        "  This function calculates the area of a circle.\n",
        "  '''\n",
        "  import math\n",
        "  circle_area = round(math.pi * (radius ** 2),2)\n",
        "  return circle_area\n",
        "\n",
        "# Implementation\n",
        "print(calculate_area(7))\n"
      ],
      "metadata": {
        "colab": {
          "base_uri": "https://localhost:8080/"
        },
        "id": "0UdCq0JbWVSD",
        "outputId": "5b379b2a-1dc4-48c4-8fb3-3e2861bd59ad"
      },
      "execution_count": 37,
      "outputs": [
        {
          "output_type": "stream",
          "name": "stdout",
          "text": [
            "153.94\n"
          ]
        }
      ]
    },
    {
      "cell_type": "code",
      "source": [
        "# Function to transform a string file\n",
        "\n",
        "def transform_string(word):\n",
        "    if len(word) <= 5:\n",
        "        new_letters = word[1:3].upper()\n",
        "        if new_letters[0] == new_letters[1]:\n",
        "            print(new_letters)\n",
        "        else:\n",
        "            print(\"Letters don't match.\")\n",
        "    else:\n",
        "        new_chars = word[-3:]\n",
        "        print(new_chars)\n",
        "    print('Done.')"
      ],
      "metadata": {
        "id": "NNPZgFHMcLzP"
      },
      "execution_count": 16,
      "outputs": []
    },
    {
      "cell_type": "code",
      "source": [
        "# Implementation\n",
        "transform_string('green')\n",
        "transform_string('door')\n",
        "transform_string('mountains')"
      ],
      "metadata": {
        "colab": {
          "base_uri": "https://localhost:8080/"
        },
        "id": "DkZuSKrpccK4",
        "outputId": "19af3f07-c05f-46b1-c4a4-fa8aef9011d1"
      },
      "execution_count": 17,
      "outputs": [
        {
          "output_type": "stream",
          "name": "stdout",
          "text": [
            "Letters don't match.\n",
            "Done.\n",
            "OO\n",
            "Done.\n",
            "ins\n",
            "Done.\n"
          ]
        }
      ]
    },
    {
      "cell_type": "markdown",
      "source": [
        "**Lambda function**\n",
        "\n",
        "A lambda function in Python is an anonymous function defined using the 'lambda' keyword. Why do you use Lambda? To keep code compact and readable. It’s typically used for short, simple operations, especially when used as an argument in functions like map(), filter(), or sorted()."
      ],
      "metadata": {
        "id": "nVJJomAYGGiU"
      }
    },
    {
      "cell_type": "code",
      "source": [
        "# A Lambda funtion to add 5 to a number\n",
        "add_five = lambda x: x + 5\n",
        "\n",
        "print(add_five(10)) # Output: 15"
      ],
      "metadata": {
        "colab": {
          "base_uri": "https://localhost:8080/"
        },
        "id": "r6u_m1JWIWqe",
        "outputId": "d0e8ed31-131e-486c-9632-3f0f7cb6095d"
      },
      "execution_count": 31,
      "outputs": [
        {
          "output_type": "stream",
          "name": "stdout",
          "text": [
            "15\n"
          ]
        }
      ]
    },
    {
      "cell_type": "code",
      "source": [
        "#  Lambda with map() to square numbers\n",
        "numbers = [1,2,3,4,5]\n",
        "squared = list(map(lambda x: x**2, numbers))\n",
        "\n",
        "print(squared) # Output: [1, 4, 9, 16, 25]"
      ],
      "metadata": {
        "colab": {
          "base_uri": "https://localhost:8080/"
        },
        "id": "-OTDMY5cImrP",
        "outputId": "e8d079f9-d3c8-4d3a-eea0-85999aa1a55f"
      },
      "execution_count": 32,
      "outputs": [
        {
          "output_type": "stream",
          "name": "stdout",
          "text": [
            "[1, 4, 9, 16, 25]\n"
          ]
        }
      ]
    },
    {
      "cell_type": "markdown",
      "source": [
        "**Recursive functions**\n",
        "\n",
        "A recursive function is a function that calls itself in order to solve a smaller version of the original problem. It usually includes:\n",
        "\n",
        "* Base case – the stopping condition.\n",
        "\n",
        "* Recursive case – where the function calls itself."
      ],
      "metadata": {
        "id": "XInhT7eS8ky6"
      }
    },
    {
      "cell_type": "code",
      "source": [
        "# Recursive functions\n",
        "# Creating factorial function\n",
        "def factorial(n):\n",
        "  # Base case\n",
        "  if n == 0 or n == 1:\n",
        "    return 1\n",
        "  else: # recursive call\n",
        "    return n * factorial(n-1)\n",
        "    # 5 * 4\n",
        "    # 5 * 4 * 3\n",
        "    # 5 * 4 * 3 * 2 *\n",
        "    # 5 * 4 * 3 * 2 * 1\n",
        "\n"
      ],
      "metadata": {
        "id": "goxjPbLS8mNq"
      },
      "execution_count": 33,
      "outputs": []
    },
    {
      "cell_type": "code",
      "source": [
        "# Factorial function Implementation\n",
        "print(factorial(5))  # Output: 120\n",
        "print(factorial(0))  # Output: 1\n"
      ],
      "metadata": {
        "id": "TcuVGSKX-CSO",
        "colab": {
          "base_uri": "https://localhost:8080/"
        },
        "outputId": "90cd01b1-0c1d-4c51-ab49-9e178ca2f3e5"
      },
      "execution_count": 34,
      "outputs": [
        {
          "output_type": "stream",
          "name": "stdout",
          "text": [
            "120\n",
            "1\n"
          ]
        }
      ]
    },
    {
      "cell_type": "code",
      "source": [],
      "metadata": {
        "id": "cxooQxzMYFTb"
      },
      "execution_count": null,
      "outputs": []
    },
    {
      "cell_type": "markdown",
      "source": [
        "## **Global VS Local Variables**\n"
      ],
      "metadata": {
        "id": "AB1wcGFXZDIM"
      }
    },
    {
      "cell_type": "code",
      "source": [
        "# Displaying local vs global variable\n",
        "\n",
        "# Define global variable\n",
        "global_var = 'global' # global variable is declared outside functions\n",
        "\n",
        "def print_func():\n",
        "  local_var = 'local' # local variable only can be declared inside functions\n",
        "  print('global variable inside function:', global_var)\n",
        "  print('local variable inside function:', local_var)\n",
        "\n",
        "print_func()\n",
        "print('global variable outside function:', global_var)\n",
        "#print('local variable outside function:', local_var) # output: Name Error"
      ],
      "metadata": {
        "colab": {
          "base_uri": "https://localhost:8080/"
        },
        "id": "_vZpfofbZNgi",
        "outputId": "7bd8bc18-3531-4407-8c53-d7af0790ea09"
      },
      "execution_count": 35,
      "outputs": [
        {
          "output_type": "stream",
          "name": "stdout",
          "text": [
            "global variable inside function: global\n",
            "local variable inside function: local\n",
            "global variable outside function: global\n"
          ]
        }
      ]
    }
  ]
}