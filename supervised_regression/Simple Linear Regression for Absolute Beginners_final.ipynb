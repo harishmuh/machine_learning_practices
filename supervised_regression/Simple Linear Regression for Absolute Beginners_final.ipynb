{
 "cells": [
  {
   "cell_type": "markdown",
   "metadata": {
    "colab_type": "text",
    "id": "M27qF7CTrBqc"
   },
   "source": [
    "# TASK #1: UNDERSTAND THE PROBLEM STATEMENT"
   ]
  },
  {
   "cell_type": "markdown",
   "metadata": {},
   "source": [
    "![image.png](https://github.com/harishmuh/machine_learning_practices/blob/main/assets/ice%20cream%20slide.PNG?raw=true)"
   ]
  },
  {
   "cell_type": "markdown",
   "metadata": {
    "colab_type": "text",
    "id": "zKmFmyaGunc7"
   },
   "source": [
    "# TASK #2: IMPORT LIBRARIES AND DATASETS"
   ]
  },
  {
   "cell_type": "code",
   "execution_count": 2,
   "metadata": {
    "colab": {
     "base_uri": "https://localhost:8080/",
     "height": 505
    },
    "colab_type": "code",
    "executionInfo": {
     "elapsed": 46376,
     "status": "ok",
     "timestamp": 1566177742415,
     "user": {
      "displayName": "Stemplicity",
      "photoUrl": "https://lh6.googleusercontent.com/-lfS0Ez8Vfv4/AAAAAAAAAAI/AAAAAAAAALw/EUEfplOjgZw/s64/photo.jpg",
      "userId": "10668071569687886186"
     },
     "user_tz": 240
    },
    "id": "96V_NSAYaCev",
    "outputId": "b306fccd-0046-4f4e-d277-0d4f16fc1edc"
   },
   "outputs": [],
   "source": [
    "import pandas as pd\n",
    "import numpy as np\n",
    "import seaborn as sns\n",
    "import matplotlib.pyplot as plt\n",
    "\n",
    "\n",
    "from jupyterthemes import jtplot\n",
    "jtplot.style(theme='monokai', context='notebook', ticks=True, grid=False) \n",
    "# setting the style of the notebook to be monokai theme  \n",
    "# this line of code is important to ensure that we are able to see the x and y axes clearly\n",
    "# If you don't run this code line, you will notice that the xlabel and ylabel on any plot is black on black and it will be hard to see them. \n"
   ]
  },
  {
   "cell_type": "markdown",
   "metadata": {},
   "source": [
    "Dataset can be accessed through this [link](https://github.com/harishmuh/machine_learning_practices/blob/main/datasets/IceCreamData.csv) "
   ]
  },
  {
   "cell_type": "code",
   "execution_count": 3,
   "metadata": {
    "colab": {},
    "colab_type": "code",
    "id": "mLjnytV6eMA0"
   },
   "outputs": [],
   "source": [
    "sales_df = pd.read_csv('IceCreamData.csv')"
   ]
  },
  {
   "cell_type": "code",
   "execution_count": 4,
   "metadata": {},
   "outputs": [
    {
     "data": {
      "text/html": [
       "<div>\n",
       "<style scoped>\n",
       "    .dataframe tbody tr th:only-of-type {\n",
       "        vertical-align: middle;\n",
       "    }\n",
       "\n",
       "    .dataframe tbody tr th {\n",
       "        vertical-align: top;\n",
       "    }\n",
       "\n",
       "    .dataframe thead th {\n",
       "        text-align: right;\n",
       "    }\n",
       "</style>\n",
       "<table border=\"1\" class=\"dataframe\">\n",
       "  <thead>\n",
       "    <tr style=\"text-align: right;\">\n",
       "      <th></th>\n",
       "      <th>Temperature</th>\n",
       "      <th>Revenue</th>\n",
       "    </tr>\n",
       "  </thead>\n",
       "  <tbody>\n",
       "    <tr>\n",
       "      <th>0</th>\n",
       "      <td>24.566884</td>\n",
       "      <td>534.799028</td>\n",
       "    </tr>\n",
       "    <tr>\n",
       "      <th>1</th>\n",
       "      <td>26.005191</td>\n",
       "      <td>625.190122</td>\n",
       "    </tr>\n",
       "    <tr>\n",
       "      <th>2</th>\n",
       "      <td>27.790554</td>\n",
       "      <td>660.632289</td>\n",
       "    </tr>\n",
       "    <tr>\n",
       "      <th>3</th>\n",
       "      <td>20.595335</td>\n",
       "      <td>487.706960</td>\n",
       "    </tr>\n",
       "    <tr>\n",
       "      <th>4</th>\n",
       "      <td>11.503498</td>\n",
       "      <td>316.240194</td>\n",
       "    </tr>\n",
       "    <tr>\n",
       "      <th>...</th>\n",
       "      <td>...</td>\n",
       "      <td>...</td>\n",
       "    </tr>\n",
       "    <tr>\n",
       "      <th>495</th>\n",
       "      <td>22.274899</td>\n",
       "      <td>524.746364</td>\n",
       "    </tr>\n",
       "    <tr>\n",
       "      <th>496</th>\n",
       "      <td>32.893092</td>\n",
       "      <td>755.818399</td>\n",
       "    </tr>\n",
       "    <tr>\n",
       "      <th>497</th>\n",
       "      <td>12.588157</td>\n",
       "      <td>306.090719</td>\n",
       "    </tr>\n",
       "    <tr>\n",
       "      <th>498</th>\n",
       "      <td>22.362402</td>\n",
       "      <td>566.217304</td>\n",
       "    </tr>\n",
       "    <tr>\n",
       "      <th>499</th>\n",
       "      <td>28.957736</td>\n",
       "      <td>655.660388</td>\n",
       "    </tr>\n",
       "  </tbody>\n",
       "</table>\n",
       "<p>500 rows × 2 columns</p>\n",
       "</div>"
      ],
      "text/plain": [
       "     Temperature     Revenue\n",
       "0      24.566884  534.799028\n",
       "1      26.005191  625.190122\n",
       "2      27.790554  660.632289\n",
       "3      20.595335  487.706960\n",
       "4      11.503498  316.240194\n",
       "..           ...         ...\n",
       "495    22.274899  524.746364\n",
       "496    32.893092  755.818399\n",
       "497    12.588157  306.090719\n",
       "498    22.362402  566.217304\n",
       "499    28.957736  655.660388\n",
       "\n",
       "[500 rows x 2 columns]"
      ]
     },
     "execution_count": 4,
     "metadata": {},
     "output_type": "execute_result"
    }
   ],
   "source": [
    "sales_df"
   ]
  },
  {
   "cell_type": "code",
   "execution_count": 5,
   "metadata": {
    "colab": {
     "base_uri": "https://localhost:8080/",
     "height": 202
    },
    "colab_type": "code",
    "executionInfo": {
     "elapsed": 424,
     "status": "ok",
     "timestamp": 1566177867032,
     "user": {
      "displayName": "Stemplicity",
      "photoUrl": "https://lh6.googleusercontent.com/-lfS0Ez8Vfv4/AAAAAAAAAAI/AAAAAAAAALw/EUEfplOjgZw/s64/photo.jpg",
      "userId": "10668071569687886186"
     },
     "user_tz": 240
    },
    "id": "E7puy9-xxS4A",
    "outputId": "9cb765cc-82d5-4ff0-c62d-2c27deaaa3f1"
   },
   "outputs": [
    {
     "data": {
      "text/html": [
       "<div>\n",
       "<style scoped>\n",
       "    .dataframe tbody tr th:only-of-type {\n",
       "        vertical-align: middle;\n",
       "    }\n",
       "\n",
       "    .dataframe tbody tr th {\n",
       "        vertical-align: top;\n",
       "    }\n",
       "\n",
       "    .dataframe thead th {\n",
       "        text-align: right;\n",
       "    }\n",
       "</style>\n",
       "<table border=\"1\" class=\"dataframe\">\n",
       "  <thead>\n",
       "    <tr style=\"text-align: right;\">\n",
       "      <th></th>\n",
       "      <th>Temperature</th>\n",
       "      <th>Revenue</th>\n",
       "    </tr>\n",
       "  </thead>\n",
       "  <tbody>\n",
       "    <tr>\n",
       "      <th>0</th>\n",
       "      <td>24.566884</td>\n",
       "      <td>534.799028</td>\n",
       "    </tr>\n",
       "    <tr>\n",
       "      <th>1</th>\n",
       "      <td>26.005191</td>\n",
       "      <td>625.190122</td>\n",
       "    </tr>\n",
       "    <tr>\n",
       "      <th>2</th>\n",
       "      <td>27.790554</td>\n",
       "      <td>660.632289</td>\n",
       "    </tr>\n",
       "    <tr>\n",
       "      <th>3</th>\n",
       "      <td>20.595335</td>\n",
       "      <td>487.706960</td>\n",
       "    </tr>\n",
       "    <tr>\n",
       "      <th>4</th>\n",
       "      <td>11.503498</td>\n",
       "      <td>316.240194</td>\n",
       "    </tr>\n",
       "  </tbody>\n",
       "</table>\n",
       "</div>"
      ],
      "text/plain": [
       "   Temperature     Revenue\n",
       "0    24.566884  534.799028\n",
       "1    26.005191  625.190122\n",
       "2    27.790554  660.632289\n",
       "3    20.595335  487.706960\n",
       "4    11.503498  316.240194"
      ]
     },
     "execution_count": 5,
     "metadata": {},
     "output_type": "execute_result"
    }
   ],
   "source": [
    "sales_df.head()"
   ]
  },
  {
   "cell_type": "code",
   "execution_count": 6,
   "metadata": {
    "colab": {
     "base_uri": "https://localhost:8080/",
     "height": 355
    },
    "colab_type": "code",
    "executionInfo": {
     "elapsed": 404,
     "status": "ok",
     "timestamp": 1566177881101,
     "user": {
      "displayName": "Stemplicity",
      "photoUrl": "https://lh6.googleusercontent.com/-lfS0Ez8Vfv4/AAAAAAAAAAI/AAAAAAAAALw/EUEfplOjgZw/s64/photo.jpg",
      "userId": "10668071569687886186"
     },
     "user_tz": 240
    },
    "id": "RUt2ON_UxyYk",
    "outputId": "76ee3fe8-5206-4216-d7ea-51d23f2d2bdb"
   },
   "outputs": [
    {
     "data": {
      "text/html": [
       "<div>\n",
       "<style scoped>\n",
       "    .dataframe tbody tr th:only-of-type {\n",
       "        vertical-align: middle;\n",
       "    }\n",
       "\n",
       "    .dataframe tbody tr th {\n",
       "        vertical-align: top;\n",
       "    }\n",
       "\n",
       "    .dataframe thead th {\n",
       "        text-align: right;\n",
       "    }\n",
       "</style>\n",
       "<table border=\"1\" class=\"dataframe\">\n",
       "  <thead>\n",
       "    <tr style=\"text-align: right;\">\n",
       "      <th></th>\n",
       "      <th>Temperature</th>\n",
       "      <th>Revenue</th>\n",
       "    </tr>\n",
       "  </thead>\n",
       "  <tbody>\n",
       "    <tr>\n",
       "      <th>492</th>\n",
       "      <td>23.056214</td>\n",
       "      <td>552.819351</td>\n",
       "    </tr>\n",
       "    <tr>\n",
       "      <th>493</th>\n",
       "      <td>14.931506</td>\n",
       "      <td>377.430928</td>\n",
       "    </tr>\n",
       "    <tr>\n",
       "      <th>494</th>\n",
       "      <td>25.112066</td>\n",
       "      <td>571.434257</td>\n",
       "    </tr>\n",
       "    <tr>\n",
       "      <th>495</th>\n",
       "      <td>22.274899</td>\n",
       "      <td>524.746364</td>\n",
       "    </tr>\n",
       "    <tr>\n",
       "      <th>496</th>\n",
       "      <td>32.893092</td>\n",
       "      <td>755.818399</td>\n",
       "    </tr>\n",
       "    <tr>\n",
       "      <th>497</th>\n",
       "      <td>12.588157</td>\n",
       "      <td>306.090719</td>\n",
       "    </tr>\n",
       "    <tr>\n",
       "      <th>498</th>\n",
       "      <td>22.362402</td>\n",
       "      <td>566.217304</td>\n",
       "    </tr>\n",
       "    <tr>\n",
       "      <th>499</th>\n",
       "      <td>28.957736</td>\n",
       "      <td>655.660388</td>\n",
       "    </tr>\n",
       "  </tbody>\n",
       "</table>\n",
       "</div>"
      ],
      "text/plain": [
       "     Temperature     Revenue\n",
       "492    23.056214  552.819351\n",
       "493    14.931506  377.430928\n",
       "494    25.112066  571.434257\n",
       "495    22.274899  524.746364\n",
       "496    32.893092  755.818399\n",
       "497    12.588157  306.090719\n",
       "498    22.362402  566.217304\n",
       "499    28.957736  655.660388"
      ]
     },
     "execution_count": 6,
     "metadata": {},
     "output_type": "execute_result"
    }
   ],
   "source": [
    "sales_df.tail(8)"
   ]
  },
  {
   "cell_type": "code",
   "execution_count": 7,
   "metadata": {
    "colab": {
     "base_uri": "https://localhost:8080/",
     "height": 139
    },
    "colab_type": "code",
    "executionInfo": {
     "elapsed": 355,
     "status": "ok",
     "timestamp": 1566177900070,
     "user": {
      "displayName": "Stemplicity",
      "photoUrl": "https://lh6.googleusercontent.com/-lfS0Ez8Vfv4/AAAAAAAAAAI/AAAAAAAAALw/EUEfplOjgZw/s64/photo.jpg",
      "userId": "10668071569687886186"
     },
     "user_tz": 240
    },
    "id": "hMq3-KWOx0e1",
    "outputId": "63cb6718-0914-4ef4-b9d0-00037f9b9502"
   },
   "outputs": [
    {
     "name": "stdout",
     "output_type": "stream",
     "text": [
      "<class 'pandas.core.frame.DataFrame'>\n",
      "RangeIndex: 500 entries, 0 to 499\n",
      "Data columns (total 2 columns):\n",
      " #   Column       Non-Null Count  Dtype  \n",
      "---  ------       --------------  -----  \n",
      " 0   Temperature  500 non-null    float64\n",
      " 1   Revenue      500 non-null    float64\n",
      "dtypes: float64(2)\n",
      "memory usage: 7.9 KB\n"
     ]
    }
   ],
   "source": [
    "sales_df.info()"
   ]
  },
  {
   "cell_type": "code",
   "execution_count": 8,
   "metadata": {
    "colab": {
     "base_uri": "https://localhost:8080/",
     "height": 294
    },
    "colab_type": "code",
    "executionInfo": {
     "elapsed": 342,
     "status": "ok",
     "timestamp": 1566177942593,
     "user": {
      "displayName": "Stemplicity",
      "photoUrl": "https://lh6.googleusercontent.com/-lfS0Ez8Vfv4/AAAAAAAAAAI/AAAAAAAAALw/EUEfplOjgZw/s64/photo.jpg",
      "userId": "10668071569687886186"
     },
     "user_tz": 240
    },
    "id": "s0E9xPLdx2Ok",
    "outputId": "c4f55b96-1746-4137-e008-e49e4b62a05f"
   },
   "outputs": [
    {
     "data": {
      "text/html": [
       "<div>\n",
       "<style scoped>\n",
       "    .dataframe tbody tr th:only-of-type {\n",
       "        vertical-align: middle;\n",
       "    }\n",
       "\n",
       "    .dataframe tbody tr th {\n",
       "        vertical-align: top;\n",
       "    }\n",
       "\n",
       "    .dataframe thead th {\n",
       "        text-align: right;\n",
       "    }\n",
       "</style>\n",
       "<table border=\"1\" class=\"dataframe\">\n",
       "  <thead>\n",
       "    <tr style=\"text-align: right;\">\n",
       "      <th></th>\n",
       "      <th>Temperature</th>\n",
       "      <th>Revenue</th>\n",
       "    </tr>\n",
       "  </thead>\n",
       "  <tbody>\n",
       "    <tr>\n",
       "      <th>count</th>\n",
       "      <td>500.000000</td>\n",
       "      <td>500.000000</td>\n",
       "    </tr>\n",
       "    <tr>\n",
       "      <th>mean</th>\n",
       "      <td>22.232225</td>\n",
       "      <td>521.570777</td>\n",
       "    </tr>\n",
       "    <tr>\n",
       "      <th>std</th>\n",
       "      <td>8.096388</td>\n",
       "      <td>175.404751</td>\n",
       "    </tr>\n",
       "    <tr>\n",
       "      <th>min</th>\n",
       "      <td>0.000000</td>\n",
       "      <td>10.000000</td>\n",
       "    </tr>\n",
       "    <tr>\n",
       "      <th>25%</th>\n",
       "      <td>17.122258</td>\n",
       "      <td>405.558681</td>\n",
       "    </tr>\n",
       "    <tr>\n",
       "      <th>50%</th>\n",
       "      <td>22.392791</td>\n",
       "      <td>529.368565</td>\n",
       "    </tr>\n",
       "    <tr>\n",
       "      <th>75%</th>\n",
       "      <td>27.740674</td>\n",
       "      <td>642.257922</td>\n",
       "    </tr>\n",
       "    <tr>\n",
       "      <th>max</th>\n",
       "      <td>45.000000</td>\n",
       "      <td>1000.000000</td>\n",
       "    </tr>\n",
       "  </tbody>\n",
       "</table>\n",
       "</div>"
      ],
      "text/plain": [
       "       Temperature      Revenue\n",
       "count   500.000000   500.000000\n",
       "mean     22.232225   521.570777\n",
       "std       8.096388   175.404751\n",
       "min       0.000000    10.000000\n",
       "25%      17.122258   405.558681\n",
       "50%      22.392791   529.368565\n",
       "75%      27.740674   642.257922\n",
       "max      45.000000  1000.000000"
      ]
     },
     "execution_count": 8,
     "metadata": {},
     "output_type": "execute_result"
    }
   ],
   "source": [
    "sales_df.describe()"
   ]
  },
  {
   "cell_type": "markdown",
   "metadata": {},
   "source": [
    "**PRACTICE OPPORTUNITY #1 [OPTIONAL]:**\n",
    "- **Calculate the average and maximum temperature and revenue using an alternative method**"
   ]
  },
  {
   "cell_type": "code",
   "execution_count": 9,
   "metadata": {},
   "outputs": [
    {
     "data": {
      "text/plain": [
       "Temperature     22.232225\n",
       "Revenue        521.570777\n",
       "dtype: float64"
      ]
     },
     "execution_count": 9,
     "metadata": {},
     "output_type": "execute_result"
    }
   ],
   "source": [
    "# Average\n",
    "sales_df.mean()"
   ]
  },
  {
   "cell_type": "code",
   "execution_count": 10,
   "metadata": {},
   "outputs": [
    {
     "data": {
      "text/plain": [
       "Temperature      45.0\n",
       "Revenue        1000.0\n",
       "dtype: float64"
      ]
     },
     "execution_count": 10,
     "metadata": {},
     "output_type": "execute_result"
    }
   ],
   "source": [
    "# Max\n",
    "sales_df.max()"
   ]
  },
  {
   "cell_type": "markdown",
   "metadata": {
    "colab_type": "text",
    "id": "LlszUhNNyrl_"
   },
   "source": [
    "# TASK #3: PERFORM DATA VISUALIZATION"
   ]
  },
  {
   "cell_type": "code",
   "execution_count": 13,
   "metadata": {
    "colab": {
     "base_uri": "https://localhost:8080/",
     "height": 301
    },
    "colab_type": "code",
    "executionInfo": {
     "elapsed": 556,
     "status": "ok",
     "timestamp": 1566178017128,
     "user": {
      "displayName": "Stemplicity",
      "photoUrl": "https://lh6.googleusercontent.com/-lfS0Ez8Vfv4/AAAAAAAAAAI/AAAAAAAAALw/EUEfplOjgZw/s64/photo.jpg",
      "userId": "10668071569687886186"
     },
     "user_tz": 240
    },
    "id": "TYcWopZVyvAs",
    "outputId": "34173fd6-941c-4451-c6cc-2fbe077eb0d1"
   },
   "outputs": [
    {
     "data": {
      "image/png": "[encoded data removed]",
      "text/plain": [
       "<Figure size 1300x700 with 1 Axes>"
      ]
     },
     "metadata": {},
     "output_type": "display_data"
    }
   ],
   "source": [
    "plt.figure(figsize = (13,7))\n",
    "sns.scatterplot(x='Temperature', y='Revenue', data = sales_df)\n",
    "plt.grid()\n",
    "plt.show()"
   ]
  },
  {
   "cell_type": "code",
   "execution_count": 14,
   "metadata": {},
   "outputs": [
    {
     "data": {
      "image/png": "[encoded data removed]",
      "text/plain": [
       "<Figure size 1300x700 with 1 Axes>"
      ]
     },
     "metadata": {},
     "output_type": "display_data"
    }
   ],
   "source": [
    "plt.figure(figsize = (13,7))\n",
    "sns.regplot(x='Temperature', y='Revenue', data = sales_df)\n",
    "plt.grid()\n",
    "plt.show()"
   ]
  },
  {
   "cell_type": "markdown",
   "metadata": {
    "colab_type": "text",
    "id": "Y0GmpAjG3GiH"
   },
   "source": [
    "# TASK #4: CREATE TESTING AND TRAINING DATASET"
   ]
  },
  {
   "cell_type": "code",
   "execution_count": 18,
   "metadata": {
    "colab": {},
    "colab_type": "code",
    "id": "0-maV8hb9rYM"
   },
   "outputs": [],
   "source": [
    "X = sales_df['Temperature']\n",
    "y = sales_df['Revenue']"
   ]
  },
  {
   "cell_type": "code",
   "execution_count": 19,
   "metadata": {},
   "outputs": [
    {
     "data": {
      "text/plain": [
       "0      24.566884\n",
       "1      26.005191\n",
       "2      27.790554\n",
       "3      20.595335\n",
       "4      11.503498\n",
       "         ...    \n",
       "495    22.274899\n",
       "496    32.893092\n",
       "497    12.588157\n",
       "498    22.362402\n",
       "499    28.957736\n",
       "Name: Temperature, Length: 500, dtype: float64"
      ]
     },
     "execution_count": 19,
     "metadata": {},
     "output_type": "execute_result"
    }
   ],
   "source": [
    "X"
   ]
  },
  {
   "cell_type": "code",
   "execution_count": 20,
   "metadata": {},
   "outputs": [],
   "source": [
    "# Turn into array from dataframe\n",
    "X = np.array(X)\n",
    "y = np.array(y)"
   ]
  },
  {
   "cell_type": "code",
   "execution_count": 21,
   "metadata": {},
   "outputs": [
    {
     "data": {
      "text/plain": [
       "array([24.56688442, 26.00519115, 27.79055388, 20.59533505, 11.50349764,\n",
       "       14.35251388, 13.70777988, 30.83398474,  0.97686999, 31.66946458,\n",
       "       11.45525338,  3.66466958, 18.81182403, 13.62450892, 39.53990899,\n",
       "       18.48314099, 25.93537514, 42.51528041, 29.58948056, 21.77594799,\n",
       "       25.45783637, 15.21456942, 22.61931574, 16.25872074, 23.88172478,\n",
       "       18.97830025, 15.6614643 , 29.18504465, 19.02461092, 35.12015142,\n",
       "       24.18393726, 15.23119012,  8.79095281, 18.23322784, 35.62892497,\n",
       "       37.05754246, 22.28455032, 17.51707397, 31.7379196 , 17.04973761,\n",
       "       23.0034888 ,  8.75555394, 18.77535808, 14.10966102, 18.63391286,\n",
       "       15.67648661, 20.94791347, 30.6353071 , 20.47359412, 31.22898848,\n",
       "        6.39383463, 27.18581031, 28.63373276, 27.99922248, 10.32638937,\n",
       "       27.31281141, 33.23567229, 36.56911506, 12.46293731, 14.37969698,\n",
       "       16.30255473, 11.56964367, 33.55141872,  3.98652317, 20.51163741,\n",
       "        6.5425144 , 19.81753939, 11.69453767, 21.4881766 , 18.77353222,\n",
       "       12.68842965, 27.88711086, 26.9567197 , 27.37540101, 24.10161613,\n",
       "       28.7901015 , 40.47398918, 25.54596553, 28.70127646, 29.4637861 ,\n",
       "       16.02097541, 14.73955066, 22.17119887, 29.03573877, 29.20971484,\n",
       "       16.36494499, 27.78049953, 13.33060576, 29.3050392 , 14.3840835 ,\n",
       "       30.42779184,  9.07383825, 23.07061587,  8.58694814, 12.35208102,\n",
       "        9.01886024, 20.26501213, 19.36315346, 14.6859445 ,  9.95435701,\n",
       "       19.97746731, 32.00416835, 14.28719594, 17.65850231, 26.59505405,\n",
       "       17.26218112, 23.76143592, 15.58806128, 28.43656665, 27.72739922,\n",
       "       25.41930193, 18.4750345 , 24.24311263, 31.66848495, 17.69003162,\n",
       "       31.8914678 , 25.925171  , 29.31201255, 11.05909651, 25.49662411,\n",
       "       22.94031709, 12.90177331, 28.26283094, 30.56266124, 12.57151377,\n",
       "       19.05928653, 15.99234716, 26.18796989, 31.41262876, 32.29733128,\n",
       "       21.6967827 , 20.47502254, 19.43326763, 20.12955049,  6.09389721,\n",
       "       22.84197048, 24.58590837, 28.54798741, 19.77936855, 12.4508333 ,\n",
       "       36.70257212, 19.62265889, 32.40924246, 19.26778542, 19.72807749,\n",
       "        8.63807589, 29.43057848, 19.25165371, 24.61523866, 12.44265041,\n",
       "       24.54855656, 12.20968364, 12.26588434, 19.75470829, 23.34903419,\n",
       "       21.14404693, 18.88035599, 28.2717647 , 16.40602096, 28.99373705,\n",
       "       10.24505765, 11.07784312, 25.49968375, 27.93134811, 28.4595428 ,\n",
       "       13.30179635, 25.99599345, 32.80503252, 32.71638067, 32.10707989,\n",
       "       24.77867495, 15.02911176, 23.42464718, 35.21724007, 16.37957324,\n",
       "       20.55667911, 21.32239237, 26.94363797, 22.63473505, 33.25089892,\n",
       "        8.99176011, 26.87495294, 21.35802411, 22.00987431, 29.12912778,\n",
       "       16.19129752, 35.35976059, 11.18775682, 16.55584289, 30.33033167,\n",
       "       12.90066587, 19.81463838, 20.93460766, 23.59102806, 16.55794796,\n",
       "       30.66659556,  9.81251047, 31.57998903, 25.42216523, 25.24114819,\n",
       "       26.87358624, 21.42455778, 23.9638795 , 10.4471261 ,  5.82233235,\n",
       "       16.14582413, 23.95931178,  9.78238075, 23.97593152, 10.09664458,\n",
       "       22.38760374, 27.32232277, 20.24734584, 23.15300185, 15.75395072,\n",
       "       27.57296049, 18.77682968, 22.65313582, 17.99302022, 13.11245224,\n",
       "       24.80257679, 18.60275025, 25.8659433 , 26.25074588, 13.36431317,\n",
       "       21.54045905, 27.12812867, 26.9441229 , 38.14633277,  4.23646497,\n",
       "        9.40347921, 20.15334527, 19.72133149, 19.19495126, 19.17204498,\n",
       "       36.11656147, 23.41086133, 29.91930886, 32.00436506, 29.76822349,\n",
       "       11.13270573, 23.38514451, 27.70505923, 15.04792332,  6.35245937,\n",
       "       14.2635406 , 25.42294716, 24.72715441, 16.30012497, 18.14895234,\n",
       "       18.57811922, 32.33480808,  7.56112494, 31.47122432, 28.33536277,\n",
       "       17.63693676, 21.70395288, 18.46290678, 32.47979434, 17.36073198,\n",
       "       21.00704512, 23.57711325, 30.76273994, 22.6785601 , 28.85519147,\n",
       "        9.65149525, 18.50623116,  5.33841267, 35.4581362 , 24.77819856,\n",
       "       24.62861149, 28.4917635 , 24.94971519, 25.44824   , 22.24873896,\n",
       "       24.76187643, 22.44803391, 35.03345633, 33.7442087 , 22.52674945,\n",
       "       28.46493296, 23.49753209, 26.07840506, 28.86558895, 22.14631706,\n",
       "       26.33705248, 25.00237968, 26.4560508 , 22.18951589, 15.52116187,\n",
       "       17.6568394 , 28.72991474, 27.52923218, 27.18851714, 10.40342267,\n",
       "       17.58837197, 24.52184673, 37.99863474, 16.95477783,  7.74528596,\n",
       "        5.85845428, 26.85972289, 24.49347704, 21.90251935, 30.02820743,\n",
       "       21.28191601, 32.46497067, 17.09064457, 33.31499762, 23.4125478 ,\n",
       "       18.97799114, 12.27096675, 25.19142452, 27.06860738, 25.72547019,\n",
       "       22.31107869, 25.11606991, 22.15258869, 28.29868977, 21.71200518,\n",
       "       15.11819661, 25.37410906, 18.43998163, 22.87056201, 14.36142415,\n",
       "        7.2613484 , 25.22777375, 20.97115284, 19.77514871, 41.92444647,\n",
       "       28.64919191, 29.24175192, 15.84302201, 20.89871624, 30.45673953,\n",
       "       24.81875357, 19.84924077, 22.11870569, 34.0616734 ,  9.55727588,\n",
       "       25.55120003, 19.06659113, 23.08766377,  8.03315296, 29.70702382,\n",
       "       12.18941793, 35.09479555, 24.96044566, 38.18519935, 18.98527518,\n",
       "       18.70847606,  7.22337716, 12.70471774, 24.5288527 , 39.76412854,\n",
       "       30.24724825, 24.47243216, 20.24414985, 20.22642046, 14.89697237,\n",
       "       28.78743552, 29.70418303, 26.36974685,  6.77520631, 23.24671713,\n",
       "       24.30829573, 25.71796257, 21.68442569, 26.19166817, 21.6018917 ,\n",
       "       18.88371892,  0.2670277 , 19.61787546, 20.10390047, 23.98464085,\n",
       "       29.25112258, 34.86070051, 11.17715183, 26.12624136, 39.8593964 ,\n",
       "       20.41103121, 17.87119907, 18.34681936,  9.90029326, 25.05628082,\n",
       "       12.08460133, 36.99708394, 14.73182422,  7.10749101, 38.09660871,\n",
       "       26.9236056 , 12.43313955, 10.11973687, 17.57423462, 12.06247527,\n",
       "       30.40761507,  7.33544501, 22.63297707, 28.04640445, 33.51453981,\n",
       "       24.24037247, 38.62886243,  0.        , 24.34910395, 26.16885914,\n",
       "        5.30750735, 17.99701481, 30.96508651, 29.7185162 , 32.64993621,\n",
       "       21.12912561, 18.55163953, 14.55121221, 41.76658912, 27.11773949,\n",
       "       20.01638438, 20.56301483, 27.51664567, 30.22810362, 21.67989703,\n",
       "       20.05018591, 17.29920384, 17.19943002, 35.44454622, 19.11365281,\n",
       "       18.95252067, 26.12213765, 19.98286779, 27.72143999, 21.02639814,\n",
       "       25.3804373 , 24.11359659, 27.5990664 ,  8.75600403, 27.54196095,\n",
       "       15.91667782, 17.18894776, 28.79315859, 17.13279538,  8.79430294,\n",
       "       31.03033279, 19.20297003, 27.12941186, 30.08108934, 45.        ,\n",
       "       18.90848865, 15.10292191, 21.89743267, 29.50819457, 19.2786717 ,\n",
       "       29.87997288, 21.61064376, 24.98851899, 31.16003022, 34.67804648,\n",
       "       20.90057478, 37.12707034, 26.36052065, 35.33120818, 24.48490862,\n",
       "       38.66820248, 28.90019172, 12.12301401, 11.5951027 , 17.45516162,\n",
       "       20.89661921, 40.30376781, 26.53021877, 39.5131548 , 22.39797728,\n",
       "        9.3093456 , 19.49474317, 22.22512228, 18.88716165, 21.75209218,\n",
       "       18.15921677, 14.86610347, 28.82975908, 25.33342015, 18.50836039,\n",
       "       22.48279827, 30.08518963, 16.99788893, 27.28106383,  4.86587362,\n",
       "       23.40725697, 12.30161489, 32.63285815, 16.70385182, 26.96421749,\n",
       "       23.82492237, 34.47216919, 23.05621357, 14.93150577, 25.11206572,\n",
       "       22.27489926, 32.89309211, 12.58815695, 22.36240237, 28.95773632])"
      ]
     },
     "execution_count": 21,
     "metadata": {},
     "output_type": "execute_result"
    }
   ],
   "source": [
    "X"
   ]
  },
  {
   "cell_type": "code",
   "execution_count": 22,
   "metadata": {},
   "outputs": [
    {
     "name": "stdout",
     "output_type": "stream",
     "text": [
      "(500, 1)\n",
      "(500, 1)\n"
     ]
    }
   ],
   "source": [
    "# reshaping the array from (500,) to (500, 1)\n",
    "X = X.reshape(-1,1)\n",
    "print(X.shape)\n",
    "\n",
    "# reshaping the array from (500,) to (500, 1)\n",
    "y = y.reshape(-1,1)\n",
    "print(y.shape)"
   ]
  },
  {
   "cell_type": "code",
   "execution_count": 33,
   "metadata": {},
   "outputs": [],
   "source": [
    "from sklearn.model_selection import train_test_split\n",
    "X_train, X_test, y_train, y_test = train_test_split(X, y, test_size=0.2)"
   ]
  },
  {
   "cell_type": "code",
   "execution_count": 24,
   "metadata": {},
   "outputs": [
    {
     "data": {
      "text/plain": [
       "(400, 1)"
      ]
     },
     "execution_count": 24,
     "metadata": {},
     "output_type": "execute_result"
    }
   ],
   "source": [
    "X_train.shape"
   ]
  },
  {
   "cell_type": "code",
   "execution_count": 25,
   "metadata": {},
   "outputs": [
    {
     "data": {
      "text/plain": [
       "(400, 1)"
      ]
     },
     "execution_count": 25,
     "metadata": {},
     "output_type": "execute_result"
    }
   ],
   "source": [
    "y_train.shape"
   ]
  },
  {
   "cell_type": "code",
   "execution_count": 26,
   "metadata": {},
   "outputs": [
    {
     "data": {
      "text/plain": [
       "(100, 1)"
      ]
     },
     "execution_count": 26,
     "metadata": {},
     "output_type": "execute_result"
    }
   ],
   "source": [
    "X_test.shape"
   ]
  },
  {
   "cell_type": "code",
   "execution_count": 27,
   "metadata": {},
   "outputs": [
    {
     "data": {
      "text/plain": [
       "(100, 1)"
      ]
     },
     "execution_count": 27,
     "metadata": {},
     "output_type": "execute_result"
    }
   ],
   "source": [
    "y_test.shape"
   ]
  },
  {
   "cell_type": "markdown",
   "metadata": {},
   "source": [
    "**PRACTICE OPPORUNITY #2 [OPTIONAL]:**\n",
    "- **Change the split ratio to allocate 30% for testing and 70% for training.**\n",
    "- **Confirm that the train test split process is successful.**"
   ]
  },
  {
   "cell_type": "code",
   "execution_count": 28,
   "metadata": {},
   "outputs": [],
   "source": [
    "from sklearn.model_selection import train_test_split\n",
    "X_train, X_test, y_train, y_test = train_test_split(X, y, test_size=0.3)"
   ]
  },
  {
   "cell_type": "code",
   "execution_count": 29,
   "metadata": {},
   "outputs": [
    {
     "data": {
      "text/plain": [
       "(350, 1)"
      ]
     },
     "execution_count": 29,
     "metadata": {},
     "output_type": "execute_result"
    }
   ],
   "source": [
    "X_train.shape"
   ]
  },
  {
   "cell_type": "code",
   "execution_count": 30,
   "metadata": {},
   "outputs": [
    {
     "data": {
      "text/plain": [
       "(350, 1)"
      ]
     },
     "execution_count": 30,
     "metadata": {},
     "output_type": "execute_result"
    }
   ],
   "source": [
    "y_train.shape"
   ]
  },
  {
   "cell_type": "code",
   "execution_count": 31,
   "metadata": {},
   "outputs": [
    {
     "data": {
      "text/plain": [
       "(150, 1)"
      ]
     },
     "execution_count": 31,
     "metadata": {},
     "output_type": "execute_result"
    }
   ],
   "source": [
    "X_test.shape"
   ]
  },
  {
   "cell_type": "code",
   "execution_count": 32,
   "metadata": {},
   "outputs": [
    {
     "data": {
      "text/plain": [
       "(150, 1)"
      ]
     },
     "execution_count": 32,
     "metadata": {},
     "output_type": "execute_result"
    }
   ],
   "source": [
    "y_test.shape"
   ]
  },
  {
   "cell_type": "markdown",
   "metadata": {
    "colab_type": "text",
    "id": "_dXoZAtVcbfA"
   },
   "source": [
    "# TASK #5: UNDERSTAND THEORY BEHIND SIMPLE LINER REGRESSION "
   ]
  },
  {
   "cell_type": "markdown",
   "metadata": {},
   "source": [
    "![image.png](https://github.com/harishmuh/machine_learning_practices/blob/main/assets/simple%20linear%20regression_0.PNG?raw=true)"
   ]
  },
  {
   "cell_type": "markdown",
   "metadata": {},
   "source": [
    "![image.png](https://github.com/harishmuh/machine_learning_practices/blob/main/assets/simple%20linear%20regression_1.PNG?raw=true)"
   ]
  },
  {
   "cell_type": "markdown",
   "metadata": {},
   "source": [
    "![image.png](https://github.com/harishmuh/machine_learning_practices/blob/main/assets/simple%20linear%20regression_2.PNG?raw=true)"
   ]
  },
  {
   "cell_type": "markdown",
   "metadata": {},
   "source": [
    "# TASK #6: TRAIN A SIMPLE LINEAR REGRESSION MODEL IN SCIKIT LEARN"
   ]
  },
  {
   "cell_type": "code",
   "execution_count": 34,
   "metadata": {
    "colab": {
     "base_uri": "https://localhost:8080/",
     "height": 35
    },
    "colab_type": "code",
    "executionInfo": {
     "elapsed": 358,
     "status": "ok",
     "timestamp": 1566181320319,
     "user": {
      "displayName": "Stemplicity",
      "photoUrl": "https://lh6.googleusercontent.com/-lfS0Ez8Vfv4/AAAAAAAAAAI/AAAAAAAAALw/EUEfplOjgZw/s64/photo.jpg",
      "userId": "10668071569687886186"
     },
     "user_tz": 240
    },
    "id": "9L6vMQ6ddfSd",
    "outputId": "873218b8-e3b1-45be-caa7-40b43968ade7",
    "scrolled": true
   },
   "outputs": [
    {
     "data": {
      "text/plain": [
       "(400, 1)"
      ]
     },
     "execution_count": 34,
     "metadata": {},
     "output_type": "execute_result"
    }
   ],
   "source": [
    "X_train.shape"
   ]
  },
  {
   "cell_type": "code",
   "execution_count": 35,
   "metadata": {
    "colab": {
     "base_uri": "https://localhost:8080/",
     "height": 35
    },
    "colab_type": "code",
    "executionInfo": {
     "elapsed": 345,
     "status": "ok",
     "timestamp": 1566181368114,
     "user": {
      "displayName": "Stemplicity",
      "photoUrl": "https://lh6.googleusercontent.com/-lfS0Ez8Vfv4/AAAAAAAAAAI/AAAAAAAAALw/EUEfplOjgZw/s64/photo.jpg",
      "userId": "10668071569687886186"
     },
     "user_tz": 240
    },
    "id": "T93r6_HKdoMU",
    "outputId": "4b033a4a-d7b5-4f74-b70e-0f27680876e6",
    "scrolled": true
   },
   "outputs": [
    {
     "data": {
      "text/plain": [
       "(400, 1)"
      ]
     },
     "execution_count": 35,
     "metadata": {},
     "output_type": "execute_result"
    }
   ],
   "source": [
    "y_train.shape"
   ]
  },
  {
   "cell_type": "code",
   "execution_count": 42,
   "metadata": {
    "colab": {
     "base_uri": "https://localhost:8080/",
     "height": 35
    },
    "colab_type": "code",
    "executionInfo": {
     "elapsed": 453,
     "status": "ok",
     "timestamp": 1566181650779,
     "user": {
      "displayName": "Stemplicity",
      "photoUrl": "https://lh6.googleusercontent.com/-lfS0Ez8Vfv4/AAAAAAAAAAI/AAAAAAAAALw/EUEfplOjgZw/s64/photo.jpg",
      "userId": "10668071569687886186"
     },
     "user_tz": 240
    },
    "id": "L5bpK-EWcW1b",
    "outputId": "b9f2e7cb-2fdd-45a7-9f31-e96ac9bdf76f"
   },
   "outputs": [
    {
     "data": {
      "text/html": [
       "<style>#sk-container-id-4 {color: black;background-color: white;}#sk-container-id-4 pre{padding: 0;}#sk-container-id-4 div.sk-toggleable {background-color: white;}#sk-container-id-4 label.sk-toggleable__label {cursor: pointer;display: block;width: 100%;margin-bottom: 0;padding: 0.3em;box-sizing: border-box;text-align: center;}#sk-container-id-4 label.sk-toggleable__label-arrow:before {content: \"▸\";float: left;margin-right: 0.25em;color: #696969;}#sk-container-id-4 label.sk-toggleable__label-arrow:hover:before {color: black;}#sk-container-id-4 div.sk-estimator:hover label.sk-toggleable__label-arrow:before {color: black;}#sk-container-id-4 div.sk-toggleable__content {max-height: 0;max-width: 0;overflow: hidden;text-align: left;background-color: #f0f8ff;}#sk-container-id-4 div.sk-toggleable__content pre {margin: 0.2em;color: black;border-radius: 0.25em;background-color: #f0f8ff;}#sk-container-id-4 input.sk-toggleable__control:checked~div.sk-toggleable__content {max-height: 200px;max-width: 100%;overflow: auto;}#sk-container-id-4 input.sk-toggleable__control:checked~label.sk-toggleable__label-arrow:before {content: \"▾\";}#sk-container-id-4 div.sk-estimator input.sk-toggleable__control:checked~label.sk-toggleable__label {background-color: #d4ebff;}#sk-container-id-4 div.sk-label input.sk-toggleable__control:checked~label.sk-toggleable__label {background-color: #d4ebff;}#sk-container-id-4 input.sk-hidden--visually {border: 0;clip: rect(1px 1px 1px 1px);clip: rect(1px, 1px, 1px, 1px);height: 1px;margin: -1px;overflow: hidden;padding: 0;position: absolute;width: 1px;}#sk-container-id-4 div.sk-estimator {font-family: monospace;background-color: #f0f8ff;border: 1px dotted black;border-radius: 0.25em;box-sizing: border-box;margin-bottom: 0.5em;}#sk-container-id-4 div.sk-estimator:hover {background-color: #d4ebff;}#sk-container-id-4 div.sk-parallel-item::after {content: \"\";width: 100%;border-bottom: 1px solid gray;flex-grow: 1;}#sk-container-id-4 div.sk-label:hover label.sk-toggleable__label {background-color: #d4ebff;}#sk-container-id-4 div.sk-serial::before {content: \"\";position: absolute;border-left: 1px solid gray;box-sizing: border-box;top: 0;bottom: 0;left: 50%;z-index: 0;}#sk-container-id-4 div.sk-serial {display: flex;flex-direction: column;align-items: center;background-color: white;padding-right: 0.2em;padding-left: 0.2em;position: relative;}#sk-container-id-4 div.sk-item {position: relative;z-index: 1;}#sk-container-id-4 div.sk-parallel {display: flex;align-items: stretch;justify-content: center;background-color: white;position: relative;}#sk-container-id-4 div.sk-item::before, #sk-container-id-4 div.sk-parallel-item::before {content: \"\";position: absolute;border-left: 1px solid gray;box-sizing: border-box;top: 0;bottom: 0;left: 50%;z-index: -1;}#sk-container-id-4 div.sk-parallel-item {display: flex;flex-direction: column;z-index: 1;position: relative;background-color: white;}#sk-container-id-4 div.sk-parallel-item:first-child::after {align-self: flex-end;width: 50%;}#sk-container-id-4 div.sk-parallel-item:last-child::after {align-self: flex-start;width: 50%;}#sk-container-id-4 div.sk-parallel-item:only-child::after {width: 0;}#sk-container-id-4 div.sk-dashed-wrapped {border: 1px dashed gray;margin: 0 0.4em 0.5em 0.4em;box-sizing: border-box;padding-bottom: 0.4em;background-color: white;}#sk-container-id-4 div.sk-label label {font-family: monospace;font-weight: bold;display: inline-block;line-height: 1.2em;}#sk-container-id-4 div.sk-label-container {text-align: center;}#sk-container-id-4 div.sk-container {/* jupyter's `normalize.less` sets `[hidden] { display: none; }` but bootstrap.min.css set `[hidden] { display: none !important; }` so we also need the `!important` here to be able to override the default hidden behavior on the sphinx rendered scikit-learn.org. See: https://github.com/scikit-learn/scikit-learn/issues/21755 */display: inline-block !important;position: relative;}#sk-container-id-4 div.sk-text-repr-fallback {display: none;}</style><div id=\"sk-container-id-4\" class=\"sk-top-container\"><div class=\"sk-text-repr-fallback\"><pre>LinearRegression()</pre><b>In a Jupyter environment, please rerun this cell to show the HTML representation or trust the notebook. <br />On GitHub, the HTML representation is unable to render, please try loading this page with nbviewer.org.</b></div><div class=\"sk-container\" hidden><div class=\"sk-item\"><div class=\"sk-estimator sk-toggleable\"><input class=\"sk-toggleable__control sk-hidden--visually\" id=\"sk-estimator-id-4\" type=\"checkbox\" checked><label for=\"sk-estimator-id-4\" class=\"sk-toggleable__label sk-toggleable__label-arrow\">LinearRegression</label><div class=\"sk-toggleable__content\"><pre>LinearRegression()</pre></div></div></div></div></div>"
      ],
      "text/plain": [
       "LinearRegression()"
      ]
     },
     "execution_count": 42,
     "metadata": {},
     "output_type": "execute_result"
    }
   ],
   "source": [
    "# Training\n",
    "from sklearn.linear_model import LinearRegression\n",
    "\n",
    "# set fit_intercept = True\n",
    "SimpleLinearRegression = LinearRegression(fit_intercept = True)\n",
    "SimpleLinearRegression.fit(X_train, y_train)"
   ]
  },
  {
   "cell_type": "code",
   "execution_count": 43,
   "metadata": {
    "colab": {
     "base_uri": "https://localhost:8080/",
     "height": 52
    },
    "colab_type": "code",
    "executionInfo": {
     "elapsed": 361,
     "status": "ok",
     "timestamp": 1566181651718,
     "user": {
      "displayName": "Stemplicity",
      "photoUrl": "https://lh6.googleusercontent.com/-lfS0Ez8Vfv4/AAAAAAAAAAI/AAAAAAAAALw/EUEfplOjgZw/s64/photo.jpg",
      "userId": "10668071569687886186"
     },
     "user_tz": 240
    },
    "id": "uUyzZYAHcrgs",
    "outputId": "0ecd0197-0310-4e02-c8f6-a5eb0c6c024c"
   },
   "outputs": [
    {
     "name": "stdout",
     "output_type": "stream",
     "text": [
      "Linear Model Coeff(m) [[21.39564547]]\n",
      "Linear Model Coeff(b) [45.00981597]\n"
     ]
    }
   ],
   "source": [
    "print('Linear Model Coeff(m)', SimpleLinearRegression.coef_) # Coeficient\n",
    "print('Linear Model Coeff(b)', SimpleLinearRegression.intercept_) # Intercept"
   ]
  },
  {
   "cell_type": "markdown",
   "metadata": {},
   "source": [
    "**PRACTICE OPPORTUNITY #3 [OPTIONAL]:**\n",
    "- **Set the fit_intercept attribute to False and retrain the model. What do you notice? comment on the result.**"
   ]
  },
  {
   "cell_type": "code",
   "execution_count": 40,
   "metadata": {},
   "outputs": [
    {
     "data": {
      "text/html": [
       "<style>#sk-container-id-3 {color: black;background-color: white;}#sk-container-id-3 pre{padding: 0;}#sk-container-id-3 div.sk-toggleable {background-color: white;}#sk-container-id-3 label.sk-toggleable__label {cursor: pointer;display: block;width: 100%;margin-bottom: 0;padding: 0.3em;box-sizing: border-box;text-align: center;}#sk-container-id-3 label.sk-toggleable__label-arrow:before {content: \"▸\";float: left;margin-right: 0.25em;color: #696969;}#sk-container-id-3 label.sk-toggleable__label-arrow:hover:before {color: black;}#sk-container-id-3 div.sk-estimator:hover label.sk-toggleable__label-arrow:before {color: black;}#sk-container-id-3 div.sk-toggleable__content {max-height: 0;max-width: 0;overflow: hidden;text-align: left;background-color: #f0f8ff;}#sk-container-id-3 div.sk-toggleable__content pre {margin: 0.2em;color: black;border-radius: 0.25em;background-color: #f0f8ff;}#sk-container-id-3 input.sk-toggleable__control:checked~div.sk-toggleable__content {max-height: 200px;max-width: 100%;overflow: auto;}#sk-container-id-3 input.sk-toggleable__control:checked~label.sk-toggleable__label-arrow:before {content: \"▾\";}#sk-container-id-3 div.sk-estimator input.sk-toggleable__control:checked~label.sk-toggleable__label {background-color: #d4ebff;}#sk-container-id-3 div.sk-label input.sk-toggleable__control:checked~label.sk-toggleable__label {background-color: #d4ebff;}#sk-container-id-3 input.sk-hidden--visually {border: 0;clip: rect(1px 1px 1px 1px);clip: rect(1px, 1px, 1px, 1px);height: 1px;margin: -1px;overflow: hidden;padding: 0;position: absolute;width: 1px;}#sk-container-id-3 div.sk-estimator {font-family: monospace;background-color: #f0f8ff;border: 1px dotted black;border-radius: 0.25em;box-sizing: border-box;margin-bottom: 0.5em;}#sk-container-id-3 div.sk-estimator:hover {background-color: #d4ebff;}#sk-container-id-3 div.sk-parallel-item::after {content: \"\";width: 100%;border-bottom: 1px solid gray;flex-grow: 1;}#sk-container-id-3 div.sk-label:hover label.sk-toggleable__label {background-color: #d4ebff;}#sk-container-id-3 div.sk-serial::before {content: \"\";position: absolute;border-left: 1px solid gray;box-sizing: border-box;top: 0;bottom: 0;left: 50%;z-index: 0;}#sk-container-id-3 div.sk-serial {display: flex;flex-direction: column;align-items: center;background-color: white;padding-right: 0.2em;padding-left: 0.2em;position: relative;}#sk-container-id-3 div.sk-item {position: relative;z-index: 1;}#sk-container-id-3 div.sk-parallel {display: flex;align-items: stretch;justify-content: center;background-color: white;position: relative;}#sk-container-id-3 div.sk-item::before, #sk-container-id-3 div.sk-parallel-item::before {content: \"\";position: absolute;border-left: 1px solid gray;box-sizing: border-box;top: 0;bottom: 0;left: 50%;z-index: -1;}#sk-container-id-3 div.sk-parallel-item {display: flex;flex-direction: column;z-index: 1;position: relative;background-color: white;}#sk-container-id-3 div.sk-parallel-item:first-child::after {align-self: flex-end;width: 50%;}#sk-container-id-3 div.sk-parallel-item:last-child::after {align-self: flex-start;width: 50%;}#sk-container-id-3 div.sk-parallel-item:only-child::after {width: 0;}#sk-container-id-3 div.sk-dashed-wrapped {border: 1px dashed gray;margin: 0 0.4em 0.5em 0.4em;box-sizing: border-box;padding-bottom: 0.4em;background-color: white;}#sk-container-id-3 div.sk-label label {font-family: monospace;font-weight: bold;display: inline-block;line-height: 1.2em;}#sk-container-id-3 div.sk-label-container {text-align: center;}#sk-container-id-3 div.sk-container {/* jupyter's `normalize.less` sets `[hidden] { display: none; }` but bootstrap.min.css set `[hidden] { display: none !important; }` so we also need the `!important` here to be able to override the default hidden behavior on the sphinx rendered scikit-learn.org. See: https://github.com/scikit-learn/scikit-learn/issues/21755 */display: inline-block !important;position: relative;}#sk-container-id-3 div.sk-text-repr-fallback {display: none;}</style><div id=\"sk-container-id-3\" class=\"sk-top-container\"><div class=\"sk-text-repr-fallback\"><pre>LinearRegression(fit_intercept=False)</pre><b>In a Jupyter environment, please rerun this cell to show the HTML representation or trust the notebook. <br />On GitHub, the HTML representation is unable to render, please try loading this page with nbviewer.org.</b></div><div class=\"sk-container\" hidden><div class=\"sk-item\"><div class=\"sk-estimator sk-toggleable\"><input class=\"sk-toggleable__control sk-hidden--visually\" id=\"sk-estimator-id-3\" type=\"checkbox\" checked><label for=\"sk-estimator-id-3\" class=\"sk-toggleable__label sk-toggleable__label-arrow\">LinearRegression</label><div class=\"sk-toggleable__content\"><pre>LinearRegression(fit_intercept=False)</pre></div></div></div></div></div>"
      ],
      "text/plain": [
       "LinearRegression(fit_intercept=False)"
      ]
     },
     "execution_count": 40,
     "metadata": {},
     "output_type": "execute_result"
    }
   ],
   "source": [
    "# Set the intercept to false\n",
    "from sklearn.linear_model import LinearRegression\n",
    "\n",
    "# fit_Intercept = False : fit the intercept equal to zero\n",
    "SimpleLinearRegression = LinearRegression(fit_intercept = False)\n",
    "SimpleLinearRegression.fit(X_train, y_train)"
   ]
  },
  {
   "cell_type": "code",
   "execution_count": 41,
   "metadata": {},
   "outputs": [
    {
     "name": "stdout",
     "output_type": "stream",
     "text": [
      "Linear Model Coeff(m) [[23.18965081]]\n",
      "Linear Model Coeff(b) 0.0\n"
     ]
    }
   ],
   "source": [
    "print('Linear Model Coeff(m)', SimpleLinearRegression.coef_) # Coeficient\n",
    "print('Linear Model Coeff(b)', SimpleLinearRegression.intercept_) # Intercept"
   ]
  },
  {
   "cell_type": "markdown",
   "metadata": {},
   "source": [
    "# TASK #7: EVALUATE TRAINED SIMPLE LINEAR REGRESSION MODEL IN SCIKIT LEARN"
   ]
  },
  {
   "cell_type": "code",
   "execution_count": 45,
   "metadata": {
    "colab": {
     "base_uri": "https://localhost:8080/",
     "height": 313
    },
    "colab_type": "code",
    "executionInfo": {
     "elapsed": 514,
     "status": "ok",
     "timestamp": 1566181664231,
     "user": {
      "displayName": "Stemplicity",
      "photoUrl": "https://lh6.googleusercontent.com/-lfS0Ez8Vfv4/AAAAAAAAAAI/AAAAAAAAALw/EUEfplOjgZw/s64/photo.jpg",
      "userId": "10668071569687886186"
     },
     "user_tz": 240
    },
    "id": "BQRkG80MdycN",
    "outputId": "ee0fa862-465f-4f46-d6bb-de824c74cc01"
   },
   "outputs": [
    {
     "data": {
      "image/png": "[encoded data removed]",
      "text/plain": [
       "<Figure size 800x700 with 1 Axes>"
      ]
     },
     "metadata": {},
     "output_type": "display_data"
    }
   ],
   "source": [
    "plt.scatter(X_train, y_train, color = 'gray')\n",
    "plt.plot(X_train, SimpleLinearRegression.predict(X_train), color = 'r')\n",
    "plt.ylabel('Revenue [USD]')\n",
    "plt.xlabel('T [degC]')\n",
    "plt.title('Revenue Generated vs Temperature')\n",
    "plt.show()"
   ]
  },
  {
   "cell_type": "code",
   "execution_count": 46,
   "metadata": {},
   "outputs": [
    {
     "data": {
      "text/plain": [
       "0.980378566011684"
      ]
     },
     "execution_count": 46,
     "metadata": {},
     "output_type": "execute_result"
    }
   ],
   "source": [
    "accuracy_LinearRegression = SimpleLinearRegression.score(X_test, y_test)\n",
    "accuracy_LinearRegression"
   ]
  },
  {
   "cell_type": "code",
   "execution_count": 47,
   "metadata": {},
   "outputs": [
    {
     "data": {
      "image/png": "[encoded data removed]",
      "text/plain": [
       "<Figure size 800x700 with 1 Axes>"
      ]
     },
     "metadata": {},
     "output_type": "display_data"
    }
   ],
   "source": [
    "plt.scatter(X_test, y_test, color = 'gray')\n",
    "plt.plot(X_test, SimpleLinearRegression.predict(X_test), color = 'r')\n",
    "plt.ylabel('Revenue [USD]')\n",
    "plt.xlabel('T [degC]')\n",
    "plt.title('Revenue Generated vs Temperature')\n",
    "plt.show()"
   ]
  },
  {
   "cell_type": "code",
   "execution_count": 48,
   "metadata": {},
   "outputs": [
    {
     "name": "stdout",
     "output_type": "stream",
     "text": [
      "Revenue Predictions = [[472.92272542]]\n"
     ]
    }
   ],
   "source": [
    "# Use the trained model to generate predictions # 20 C \n",
    "\n",
    "Temp = np.array([20])\n",
    "Temp = Temp.reshape(-1,1)\n",
    "\n",
    "Revenue = SimpleLinearRegression.predict(Temp)\n",
    "print('Revenue Predictions =', Revenue)\n"
   ]
  },
  {
   "cell_type": "markdown",
   "metadata": {},
   "source": [
    "**PRACTICE OPPORTUNITY #4 [OPTIONAL]:**\n",
    "- **Try at least 3 temperature values and record the output**\n",
    "- **Perform a sanity check and comment on your results!**"
   ]
  },
  {
   "cell_type": "code",
   "execution_count": 49,
   "metadata": {},
   "outputs": [
    {
     "name": "stdout",
     "output_type": "stream",
     "text": [
      "Revenue Predictions = [[258.9662707]]\n"
     ]
    }
   ],
   "source": [
    "# Use the trained model to generate predictions # T = 10 C \n",
    "\n",
    "Temp = np.array([10])\n",
    "Temp = Temp.reshape(-1,1)\n",
    "\n",
    "Revenue = SimpleLinearRegression.predict(Temp)\n",
    "print('Revenue Predictions =', Revenue)\n"
   ]
  },
  {
   "cell_type": "code",
   "execution_count": 50,
   "metadata": {},
   "outputs": [
    {
     "name": "stdout",
     "output_type": "stream",
     "text": [
      "Revenue Predictions = [[686.87918014]]\n"
     ]
    }
   ],
   "source": [
    "# Use the trained model to generate predictions # T = 30 C \n",
    "\n",
    "Temp = np.array([30])\n",
    "Temp = Temp.reshape(-1,1)\n",
    "\n",
    "Revenue = SimpleLinearRegression.predict(Temp)\n",
    "print('Revenue Predictions =', Revenue)"
   ]
  },
  {
   "cell_type": "code",
   "execution_count": 51,
   "metadata": {},
   "outputs": [
    {
     "name": "stdout",
     "output_type": "stream",
     "text": [
      "Revenue Predictions = [[900.83563487]]\n"
     ]
    }
   ],
   "source": [
    "# Use the trained model to generate predictions # T = 40 C \n",
    "\n",
    "Temp = np.array([40])\n",
    "Temp = Temp.reshape(-1,1)\n",
    "\n",
    "Revenue = SimpleLinearRegression.predict(Temp)\n",
    "print('Revenue Predictions =', Revenue)"
   ]
  },
  {
   "cell_type": "markdown",
   "metadata": {
    "colab_type": "text",
    "id": "27OgYEJu9EFV"
   },
   "source": [
    "# EXCELLENT JOB"
   ]
  },
  {
   "cell_type": "markdown",
   "metadata": {},
   "source": [
    "# PRACTICE OPPORTUNITIES SOLUTION"
   ]
  },
  {
   "cell_type": "markdown",
   "metadata": {},
   "source": [
    "**PRACTICE OPPORTUNITY #1 SOLUTION:**\n",
    "- **Calculate the average and maximum temperature and revenue using an alternative method**"
   ]
  },
  {
   "cell_type": "code",
   "execution_count": 52,
   "metadata": {},
   "outputs": [
    {
     "data": {
      "text/plain": [
       "Temperature     22.232225\n",
       "Revenue        521.570777\n",
       "dtype: float64"
      ]
     },
     "execution_count": 52,
     "metadata": {},
     "output_type": "execute_result"
    }
   ],
   "source": [
    "sales_df.mean()"
   ]
  },
  {
   "cell_type": "code",
   "execution_count": 53,
   "metadata": {},
   "outputs": [
    {
     "data": {
      "text/plain": [
       "Temperature      45.0\n",
       "Revenue        1000.0\n",
       "dtype: float64"
      ]
     },
     "execution_count": 53,
     "metadata": {},
     "output_type": "execute_result"
    }
   ],
   "source": [
    "sales_df.max()"
   ]
  },
  {
   "cell_type": "markdown",
   "metadata": {},
   "source": [
    "**PRACTICE OPPORUNITY #2 SOLUTION:**\n",
    "- **Change the split ratio to allocate 30% for testing and 70% for training.**\n",
    "- **Confirm that the train test split process is successful.**"
   ]
  },
  {
   "cell_type": "code",
   "execution_count": 54,
   "metadata": {},
   "outputs": [],
   "source": [
    "# Data splitting 30% test and 70% training data\n",
    "from sklearn.model_selection import train_test_split\n",
    "X_train, X_test, y_train, y_test = train_test_split(X, y, test_size=0.3, random_state=10)"
   ]
  },
  {
   "cell_type": "code",
   "execution_count": 55,
   "metadata": {},
   "outputs": [
    {
     "data": {
      "text/plain": [
       "(350, 1)"
      ]
     },
     "execution_count": 55,
     "metadata": {},
     "output_type": "execute_result"
    }
   ],
   "source": [
    "X_train.shape"
   ]
  },
  {
   "cell_type": "code",
   "execution_count": 56,
   "metadata": {},
   "outputs": [
    {
     "data": {
      "text/plain": [
       "(350, 1)"
      ]
     },
     "execution_count": 56,
     "metadata": {},
     "output_type": "execute_result"
    }
   ],
   "source": [
    "y_train.shape"
   ]
  },
  {
   "cell_type": "code",
   "execution_count": 57,
   "metadata": {},
   "outputs": [
    {
     "data": {
      "text/plain": [
       "(150, 1)"
      ]
     },
     "execution_count": 57,
     "metadata": {},
     "output_type": "execute_result"
    }
   ],
   "source": [
    "X_test.shape"
   ]
  },
  {
   "cell_type": "code",
   "execution_count": 58,
   "metadata": {},
   "outputs": [
    {
     "data": {
      "text/plain": [
       "(150, 1)"
      ]
     },
     "execution_count": 58,
     "metadata": {},
     "output_type": "execute_result"
    }
   ],
   "source": [
    "y_test.shape"
   ]
  },
  {
   "cell_type": "markdown",
   "metadata": {},
   "source": [
    "**PRACTICE OPPORTUNITY #3 SOLUTION:**\n",
    "- **Set the fit_intercept attribute to False and retrain the model. What do you notice? comment on the result.**"
   ]
  },
  {
   "cell_type": "code",
   "execution_count": 59,
   "metadata": {},
   "outputs": [
    {
     "data": {
      "text/html": [
       "<style>#sk-container-id-5 {color: black;background-color: white;}#sk-container-id-5 pre{padding: 0;}#sk-container-id-5 div.sk-toggleable {background-color: white;}#sk-container-id-5 label.sk-toggleable__label {cursor: pointer;display: block;width: 100%;margin-bottom: 0;padding: 0.3em;box-sizing: border-box;text-align: center;}#sk-container-id-5 label.sk-toggleable__label-arrow:before {content: \"▸\";float: left;margin-right: 0.25em;color: #696969;}#sk-container-id-5 label.sk-toggleable__label-arrow:hover:before {color: black;}#sk-container-id-5 div.sk-estimator:hover label.sk-toggleable__label-arrow:before {color: black;}#sk-container-id-5 div.sk-toggleable__content {max-height: 0;max-width: 0;overflow: hidden;text-align: left;background-color: #f0f8ff;}#sk-container-id-5 div.sk-toggleable__content pre {margin: 0.2em;color: black;border-radius: 0.25em;background-color: #f0f8ff;}#sk-container-id-5 input.sk-toggleable__control:checked~div.sk-toggleable__content {max-height: 200px;max-width: 100%;overflow: auto;}#sk-container-id-5 input.sk-toggleable__control:checked~label.sk-toggleable__label-arrow:before {content: \"▾\";}#sk-container-id-5 div.sk-estimator input.sk-toggleable__control:checked~label.sk-toggleable__label {background-color: #d4ebff;}#sk-container-id-5 div.sk-label input.sk-toggleable__control:checked~label.sk-toggleable__label {background-color: #d4ebff;}#sk-container-id-5 input.sk-hidden--visually {border: 0;clip: rect(1px 1px 1px 1px);clip: rect(1px, 1px, 1px, 1px);height: 1px;margin: -1px;overflow: hidden;padding: 0;position: absolute;width: 1px;}#sk-container-id-5 div.sk-estimator {font-family: monospace;background-color: #f0f8ff;border: 1px dotted black;border-radius: 0.25em;box-sizing: border-box;margin-bottom: 0.5em;}#sk-container-id-5 div.sk-estimator:hover {background-color: #d4ebff;}#sk-container-id-5 div.sk-parallel-item::after {content: \"\";width: 100%;border-bottom: 1px solid gray;flex-grow: 1;}#sk-container-id-5 div.sk-label:hover label.sk-toggleable__label {background-color: #d4ebff;}#sk-container-id-5 div.sk-serial::before {content: \"\";position: absolute;border-left: 1px solid gray;box-sizing: border-box;top: 0;bottom: 0;left: 50%;z-index: 0;}#sk-container-id-5 div.sk-serial {display: flex;flex-direction: column;align-items: center;background-color: white;padding-right: 0.2em;padding-left: 0.2em;position: relative;}#sk-container-id-5 div.sk-item {position: relative;z-index: 1;}#sk-container-id-5 div.sk-parallel {display: flex;align-items: stretch;justify-content: center;background-color: white;position: relative;}#sk-container-id-5 div.sk-item::before, #sk-container-id-5 div.sk-parallel-item::before {content: \"\";position: absolute;border-left: 1px solid gray;box-sizing: border-box;top: 0;bottom: 0;left: 50%;z-index: -1;}#sk-container-id-5 div.sk-parallel-item {display: flex;flex-direction: column;z-index: 1;position: relative;background-color: white;}#sk-container-id-5 div.sk-parallel-item:first-child::after {align-self: flex-end;width: 50%;}#sk-container-id-5 div.sk-parallel-item:last-child::after {align-self: flex-start;width: 50%;}#sk-container-id-5 div.sk-parallel-item:only-child::after {width: 0;}#sk-container-id-5 div.sk-dashed-wrapped {border: 1px dashed gray;margin: 0 0.4em 0.5em 0.4em;box-sizing: border-box;padding-bottom: 0.4em;background-color: white;}#sk-container-id-5 div.sk-label label {font-family: monospace;font-weight: bold;display: inline-block;line-height: 1.2em;}#sk-container-id-5 div.sk-label-container {text-align: center;}#sk-container-id-5 div.sk-container {/* jupyter's `normalize.less` sets `[hidden] { display: none; }` but bootstrap.min.css set `[hidden] { display: none !important; }` so we also need the `!important` here to be able to override the default hidden behavior on the sphinx rendered scikit-learn.org. See: https://github.com/scikit-learn/scikit-learn/issues/21755 */display: inline-block !important;position: relative;}#sk-container-id-5 div.sk-text-repr-fallback {display: none;}</style><div id=\"sk-container-id-5\" class=\"sk-top-container\"><div class=\"sk-text-repr-fallback\"><pre>LinearRegression(fit_intercept=False)</pre><b>In a Jupyter environment, please rerun this cell to show the HTML representation or trust the notebook. <br />On GitHub, the HTML representation is unable to render, please try loading this page with nbviewer.org.</b></div><div class=\"sk-container\" hidden><div class=\"sk-item\"><div class=\"sk-estimator sk-toggleable\"><input class=\"sk-toggleable__control sk-hidden--visually\" id=\"sk-estimator-id-5\" type=\"checkbox\" checked><label for=\"sk-estimator-id-5\" class=\"sk-toggleable__label sk-toggleable__label-arrow\">LinearRegression</label><div class=\"sk-toggleable__content\"><pre>LinearRegression(fit_intercept=False)</pre></div></div></div></div></div>"
      ],
      "text/plain": [
       "LinearRegression(fit_intercept=False)"
      ]
     },
     "execution_count": 59,
     "metadata": {},
     "output_type": "execute_result"
    }
   ],
   "source": [
    "from sklearn.linear_model import LinearRegression\n",
    "\n",
    "SimpleLinearRegression = LinearRegression(fit_intercept = False)\n",
    "SimpleLinearRegression.fit(X_train, y_train)"
   ]
  },
  {
   "cell_type": "code",
   "execution_count": 61,
   "metadata": {},
   "outputs": [
    {
     "name": "stdout",
     "output_type": "stream",
     "text": [
      "Revenue Predictions = [[464.89867543]]\n"
     ]
    }
   ],
   "source": [
    "# Use the trained model to generate predictions # T = 20 C \n",
    "\n",
    "Temp = np.array([20])\n",
    "Temp = Temp.reshape(-1,1)\n",
    "\n",
    "Revenue = SimpleLinearRegression.predict(Temp)\n",
    "print('Revenue Predictions =', Revenue)\n",
    "\n",
    "# For the same temperature, the score result with (fit_intercept=False) is lower than (fit_intercept=True)"
   ]
  },
  {
   "cell_type": "markdown",
   "metadata": {},
   "source": [
    "**PRACTICE OPPORTUNITY #4 SOLUTION:**\n",
    "- **Try at least 3 temperature values and record the output**\n",
    "- **Perform a sanity check and comment on your results!**"
   ]
  },
  {
   "cell_type": "code",
   "execution_count": 34,
   "metadata": {},
   "outputs": [],
   "source": [
    "# Temp = 5, Revenue = $150\n",
    "# Temp = 20, Revenue = $474\n",
    "# Temp = 40, Revenue = $905"
   ]
  },
  {
   "cell_type": "code",
   "execution_count": 62,
   "metadata": {},
   "outputs": [
    {
     "data": {
      "text/html": [
       "<style>#sk-container-id-6 {color: black;background-color: white;}#sk-container-id-6 pre{padding: 0;}#sk-container-id-6 div.sk-toggleable {background-color: white;}#sk-container-id-6 label.sk-toggleable__label {cursor: pointer;display: block;width: 100%;margin-bottom: 0;padding: 0.3em;box-sizing: border-box;text-align: center;}#sk-container-id-6 label.sk-toggleable__label-arrow:before {content: \"▸\";float: left;margin-right: 0.25em;color: #696969;}#sk-container-id-6 label.sk-toggleable__label-arrow:hover:before {color: black;}#sk-container-id-6 div.sk-estimator:hover label.sk-toggleable__label-arrow:before {color: black;}#sk-container-id-6 div.sk-toggleable__content {max-height: 0;max-width: 0;overflow: hidden;text-align: left;background-color: #f0f8ff;}#sk-container-id-6 div.sk-toggleable__content pre {margin: 0.2em;color: black;border-radius: 0.25em;background-color: #f0f8ff;}#sk-container-id-6 input.sk-toggleable__control:checked~div.sk-toggleable__content {max-height: 200px;max-width: 100%;overflow: auto;}#sk-container-id-6 input.sk-toggleable__control:checked~label.sk-toggleable__label-arrow:before {content: \"▾\";}#sk-container-id-6 div.sk-estimator input.sk-toggleable__control:checked~label.sk-toggleable__label {background-color: #d4ebff;}#sk-container-id-6 div.sk-label input.sk-toggleable__control:checked~label.sk-toggleable__label {background-color: #d4ebff;}#sk-container-id-6 input.sk-hidden--visually {border: 0;clip: rect(1px 1px 1px 1px);clip: rect(1px, 1px, 1px, 1px);height: 1px;margin: -1px;overflow: hidden;padding: 0;position: absolute;width: 1px;}#sk-container-id-6 div.sk-estimator {font-family: monospace;background-color: #f0f8ff;border: 1px dotted black;border-radius: 0.25em;box-sizing: border-box;margin-bottom: 0.5em;}#sk-container-id-6 div.sk-estimator:hover {background-color: #d4ebff;}#sk-container-id-6 div.sk-parallel-item::after {content: \"\";width: 100%;border-bottom: 1px solid gray;flex-grow: 1;}#sk-container-id-6 div.sk-label:hover label.sk-toggleable__label {background-color: #d4ebff;}#sk-container-id-6 div.sk-serial::before {content: \"\";position: absolute;border-left: 1px solid gray;box-sizing: border-box;top: 0;bottom: 0;left: 50%;z-index: 0;}#sk-container-id-6 div.sk-serial {display: flex;flex-direction: column;align-items: center;background-color: white;padding-right: 0.2em;padding-left: 0.2em;position: relative;}#sk-container-id-6 div.sk-item {position: relative;z-index: 1;}#sk-container-id-6 div.sk-parallel {display: flex;align-items: stretch;justify-content: center;background-color: white;position: relative;}#sk-container-id-6 div.sk-item::before, #sk-container-id-6 div.sk-parallel-item::before {content: \"\";position: absolute;border-left: 1px solid gray;box-sizing: border-box;top: 0;bottom: 0;left: 50%;z-index: -1;}#sk-container-id-6 div.sk-parallel-item {display: flex;flex-direction: column;z-index: 1;position: relative;background-color: white;}#sk-container-id-6 div.sk-parallel-item:first-child::after {align-self: flex-end;width: 50%;}#sk-container-id-6 div.sk-parallel-item:last-child::after {align-self: flex-start;width: 50%;}#sk-container-id-6 div.sk-parallel-item:only-child::after {width: 0;}#sk-container-id-6 div.sk-dashed-wrapped {border: 1px dashed gray;margin: 0 0.4em 0.5em 0.4em;box-sizing: border-box;padding-bottom: 0.4em;background-color: white;}#sk-container-id-6 div.sk-label label {font-family: monospace;font-weight: bold;display: inline-block;line-height: 1.2em;}#sk-container-id-6 div.sk-label-container {text-align: center;}#sk-container-id-6 div.sk-container {/* jupyter's `normalize.less` sets `[hidden] { display: none; }` but bootstrap.min.css set `[hidden] { display: none !important; }` so we also need the `!important` here to be able to override the default hidden behavior on the sphinx rendered scikit-learn.org. See: https://github.com/scikit-learn/scikit-learn/issues/21755 */display: inline-block !important;position: relative;}#sk-container-id-6 div.sk-text-repr-fallback {display: none;}</style><div id=\"sk-container-id-6\" class=\"sk-top-container\"><div class=\"sk-text-repr-fallback\"><pre>LinearRegression()</pre><b>In a Jupyter environment, please rerun this cell to show the HTML representation or trust the notebook. <br />On GitHub, the HTML representation is unable to render, please try loading this page with nbviewer.org.</b></div><div class=\"sk-container\" hidden><div class=\"sk-item\"><div class=\"sk-estimator sk-toggleable\"><input class=\"sk-toggleable__control sk-hidden--visually\" id=\"sk-estimator-id-6\" type=\"checkbox\" checked><label for=\"sk-estimator-id-6\" class=\"sk-toggleable__label sk-toggleable__label-arrow\">LinearRegression</label><div class=\"sk-toggleable__content\"><pre>LinearRegression()</pre></div></div></div></div></div>"
      ],
      "text/plain": [
       "LinearRegression()"
      ]
     },
     "execution_count": 62,
     "metadata": {},
     "output_type": "execute_result"
    }
   ],
   "source": [
    "# Training model\n",
    "from sklearn.linear_model import LinearRegression\n",
    "\n",
    "SimpleLinearRegression = LinearRegression(fit_intercept = True)\n",
    "SimpleLinearRegression.fit(X_train, y_train)"
   ]
  },
  {
   "cell_type": "code",
   "execution_count": 64,
   "metadata": {},
   "outputs": [
    {
     "name": "stdout",
     "output_type": "stream",
     "text": [
      "Revenue Predictions = [[150.79089546]]\n"
     ]
    }
   ],
   "source": [
    "# Use the trained model to generate predictions # T = 5 C \n",
    "\n",
    "Temp = np.array([5])\n",
    "Temp = Temp.reshape(-1,1)\n",
    "\n",
    "Revenue = SimpleLinearRegression.predict(Temp)\n",
    "print('Revenue Predictions =', Revenue)"
   ]
  },
  {
   "cell_type": "code",
   "execution_count": 65,
   "metadata": {},
   "outputs": [
    {
     "name": "stdout",
     "output_type": "stream",
     "text": [
      "Revenue Predictions = [[474.39075654]]\n"
     ]
    }
   ],
   "source": [
    "# Use the trained model to generate predictions # T = 20 C \n",
    "\n",
    "Temp = np.array([20])\n",
    "Temp = Temp.reshape(-1,1)\n",
    "\n",
    "Revenue = SimpleLinearRegression.predict(Temp)\n",
    "print('Revenue Predictions =', Revenue)"
   ]
  },
  {
   "cell_type": "code",
   "execution_count": 66,
   "metadata": {},
   "outputs": [
    {
     "name": "stdout",
     "output_type": "stream",
     "text": [
      "Revenue Predictions = [[905.85723797]]\n"
     ]
    }
   ],
   "source": [
    "# Use the trained model to generate predictions # T = 40 C \n",
    "\n",
    "Temp = np.array([40])\n",
    "Temp = Temp.reshape(-1,1)\n",
    "\n",
    "Revenue = SimpleLinearRegression.predict(Temp)\n",
    "print('Revenue Predictions =', Revenue)"
   ]
  }
 ],
 "metadata": {
  "accelerator": "GPU",
  "colab": {
   "collapsed_sections": [],
   "name": "2. Develop a Model to Predict Ice Cream Sales Using Temperature - Solutions.ipynb",
   "provenance": [
    {
     "file_id": "1a4oSLAX60Ao926nlZ6LeZ5_-9OiS0-6Z",
     "timestamp": 1566175724116
    },
    {
     "file_id": "1mq7NVxvs3eGrUXAYfra0F0_GkbddGuj5",
     "timestamp": 1566175601760
    },
    {
     "file_id": "1CHDPbceE-LisXLhoOw64axVK4cv8Dfko",
     "timestamp": 1565722015437
    },
    {
     "file_id": "1eiMl_DeuwX9kc05_YXfBMEf6elXCk5g_",
     "timestamp": 1565712881168
    }
   ],
   "version": "0.3.2"
  },
  "kernelspec": {
   "display_name": "Python 3 (ipykernel)",
   "language": "python",
   "name": "python3"
  },
  "language_info": {
   "codemirror_mode": {
    "name": "ipython",
    "version": 3
   },
   "file_extension": ".py",
   "mimetype": "text/x-python",
   "name": "python",
   "nbconvert_exporter": "python",
   "pygments_lexer": "ipython3",
   "version": "3.10.6"
  }
 },
 "nbformat": 4,
 "nbformat_minor": 1
}
