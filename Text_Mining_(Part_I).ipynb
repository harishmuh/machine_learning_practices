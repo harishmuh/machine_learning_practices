{
  "cells": [
    {
      "cell_type": "markdown",
      "metadata": {
        "id": "view-in-github",
        "colab_type": "text"
      },
      "source": [
        "<a href=\"https://colab.research.google.com/github/harishmuh/machine_learning_practices/blob/main/Text_Mining_(Part_I).ipynb\" target=\"_parent\"><img src=\"https://colab.research.google.com/assets/colab-badge.svg\" alt=\"Open In Colab\"/></a>"
      ]
    },
    {
      "cell_type": "markdown",
      "metadata": {
        "id": "tWNv1kZrVDF5"
      },
      "source": [
        "---\n",
        "# **Text mining**\n",
        "---"
      ]
    },
    {
      "cell_type": "markdown",
      "source": [
        "## **What is text mining?**\n",
        "Text mining (also known as text data mining or text analytics) is the process of extracting useful patterns, insights, or knowledge from unstructured text data using techniques from natural language processing (NLP), machine learning, and statistics."
      ],
      "metadata": {
        "id": "sLCNgf3_6vG-"
      }
    },
    {
      "cell_type": "markdown",
      "source": [
        "## **What is the goal of text mining?**\n",
        "\n",
        "| Goal                       | Description                                                         |\n",
        "| -------------------------- | ------------------------------------------------------------------- |\n",
        "| 🔍 **Discover Patterns**   | Identify trends, frequent terms, and associations in text           |\n",
        "| 📊 **Classify Text**       | Assign labels (e.g., spam vs. ham, positive vs. negative sentiment) |\n",
        "| 🧠 **Extract Meaning**     | Understand the underlying themes or topics (e.g., topic modeling)   |\n",
        "| 📈 **Make Decisions**      | Use text data to support business, research, or policy decisions    |\n",
        "| 💬 **Understand Language** | Analyze linguistic structure and usage                              |\n",
        "\n"
      ],
      "metadata": {
        "id": "VbPU-iuA9g6L"
      }
    },
    {
      "cell_type": "markdown",
      "source": [
        "## **Study case**\n",
        "\n",
        "At this moment, we will learn to perform text mining on text message dataset in two parts:\n",
        "* Part 1: Preprocessing text data and exploratory data analysis.\n",
        "* Part 2: Build machine learning model to discriminate text message as spam and non-spam (ham).\n",
        "\n",
        "| Term     | Meaning                                                          |\n",
        "| -------- | ---------------------------------------------------------------- |\n",
        "| **Spam** | Unwanted or junk messages (e.g., ads, scams)                     |\n",
        "| **Ham**  | Genuine, non-spam messages (e.g., from friends, banks, services) |\n"
      ],
      "metadata": {
        "id": "VGBYUdzw-JCG"
      }
    },
    {
      "cell_type": "code",
      "execution_count": 60,
      "metadata": {
        "id": "RrdzmP9vVDF8"
      },
      "outputs": [],
      "source": [
        "# Importing library\n",
        "import numpy as np\n",
        "import pandas as pd\n",
        "import seaborn as sns\n",
        "import matplotlib.pyplot as plt\n",
        "\n",
        "# remove warning\n",
        "import warnings\n",
        "warnings.filterwarnings('ignore')\n",
        "\n",
        "# Plot style\n",
        "plt.style.use('ggplot')"
      ]
    },
    {
      "cell_type": "markdown",
      "metadata": {
        "id": "ByDK2ragVDF9"
      },
      "source": [
        "## Preprocessing Part 1\n",
        "\n",
        "1. Lowercase\n",
        "1. Remove contraction\n",
        "1. Remove number\n",
        "1. Remove punctuation\n",
        "1. Remove stopwords\n",
        "1. Romove whitespace"
      ]
    },
    {
      "cell_type": "code",
      "execution_count": 2,
      "metadata": {
        "colab": {
          "base_uri": "https://localhost:8080/",
          "height": 423
        },
        "id": "yQ84TON8VDF-",
        "outputId": "5fb011e8-04ab-4dc3-ea5b-e685ec568e33"
      },
      "outputs": [
        {
          "output_type": "execute_result",
          "data": {
            "text/plain": [
              "     label                                            message\n",
              "0      ham  Go until jurong point, crazy.. Available only ...\n",
              "1      ham                      Ok lar... Joking wif u oni...\n",
              "2     spam  Free entry in 2 a wkly comp to win FA Cup fina...\n",
              "3      ham  U dun say so early hor... U c already then say...\n",
              "4      ham  Nah I don't think he goes to usf, he lives aro...\n",
              "...    ...                                                ...\n",
              "5567  spam  This is the 2nd time we have tried 2 contact u...\n",
              "5568   ham               Will ü b going to esplanade fr home?\n",
              "5569   ham  Pity, * was in mood for that. So...any other s...\n",
              "5570   ham  The guy did some bitching but I acted like i'd...\n",
              "5571   ham                         Rofl. Its true to its name\n",
              "\n",
              "[5572 rows x 2 columns]"
            ],
            "text/html": [
              "\n",
              "  <div id=\"df-724718c0-c117-4f40-87d8-2ce5c464b6d2\" class=\"colab-df-container\">\n",
              "    <div>\n",
              "<style scoped>\n",
              "    .dataframe tbody tr th:only-of-type {\n",
              "        vertical-align: middle;\n",
              "    }\n",
              "\n",
              "    .dataframe tbody tr th {\n",
              "        vertical-align: top;\n",
              "    }\n",
              "\n",
              "    .dataframe thead th {\n",
              "        text-align: right;\n",
              "    }\n",
              "</style>\n",
              "<table border=\"1\" class=\"dataframe\">\n",
              "  <thead>\n",
              "    <tr style=\"text-align: right;\">\n",
              "      <th></th>\n",
              "      <th>label</th>\n",
              "      <th>message</th>\n",
              "    </tr>\n",
              "  </thead>\n",
              "  <tbody>\n",
              "    <tr>\n",
              "      <th>0</th>\n",
              "      <td>ham</td>\n",
              "      <td>Go until jurong point, crazy.. Available only ...</td>\n",
              "    </tr>\n",
              "    <tr>\n",
              "      <th>1</th>\n",
              "      <td>ham</td>\n",
              "      <td>Ok lar... Joking wif u oni...</td>\n",
              "    </tr>\n",
              "    <tr>\n",
              "      <th>2</th>\n",
              "      <td>spam</td>\n",
              "      <td>Free entry in 2 a wkly comp to win FA Cup fina...</td>\n",
              "    </tr>\n",
              "    <tr>\n",
              "      <th>3</th>\n",
              "      <td>ham</td>\n",
              "      <td>U dun say so early hor... U c already then say...</td>\n",
              "    </tr>\n",
              "    <tr>\n",
              "      <th>4</th>\n",
              "      <td>ham</td>\n",
              "      <td>Nah I don't think he goes to usf, he lives aro...</td>\n",
              "    </tr>\n",
              "    <tr>\n",
              "      <th>...</th>\n",
              "      <td>...</td>\n",
              "      <td>...</td>\n",
              "    </tr>\n",
              "    <tr>\n",
              "      <th>5567</th>\n",
              "      <td>spam</td>\n",
              "      <td>This is the 2nd time we have tried 2 contact u...</td>\n",
              "    </tr>\n",
              "    <tr>\n",
              "      <th>5568</th>\n",
              "      <td>ham</td>\n",
              "      <td>Will ü b going to esplanade fr home?</td>\n",
              "    </tr>\n",
              "    <tr>\n",
              "      <th>5569</th>\n",
              "      <td>ham</td>\n",
              "      <td>Pity, * was in mood for that. So...any other s...</td>\n",
              "    </tr>\n",
              "    <tr>\n",
              "      <th>5570</th>\n",
              "      <td>ham</td>\n",
              "      <td>The guy did some bitching but I acted like i'd...</td>\n",
              "    </tr>\n",
              "    <tr>\n",
              "      <th>5571</th>\n",
              "      <td>ham</td>\n",
              "      <td>Rofl. Its true to its name</td>\n",
              "    </tr>\n",
              "  </tbody>\n",
              "</table>\n",
              "<p>5572 rows × 2 columns</p>\n",
              "</div>\n",
              "    <div class=\"colab-df-buttons\">\n",
              "\n",
              "  <div class=\"colab-df-container\">\n",
              "    <button class=\"colab-df-convert\" onclick=\"convertToInteractive('df-724718c0-c117-4f40-87d8-2ce5c464b6d2')\"\n",
              "            title=\"Convert this dataframe to an interactive table.\"\n",
              "            style=\"display:none;\">\n",
              "\n",
              "  <svg xmlns=\"http://www.w3.org/2000/svg\" height=\"24px\" viewBox=\"0 -960 960 960\">\n",
              "    <path d=\"M120-120v-720h720v720H120Zm60-500h600v-160H180v160Zm220 220h160v-160H400v160Zm0 220h160v-160H400v160ZM180-400h160v-160H180v160Zm440 0h160v-160H620v160ZM180-180h160v-160H180v160Zm440 0h160v-160H620v160Z\"/>\n",
              "  </svg>\n",
              "    </button>\n",
              "\n",
              "  <style>\n",
              "    .colab-df-container {\n",
              "      display:flex;\n",
              "      gap: 12px;\n",
              "    }\n",
              "\n",
              "    .colab-df-convert {\n",
              "      background-color: #E8F0FE;\n",
              "      border: none;\n",
              "      border-radius: 50%;\n",
              "      cursor: pointer;\n",
              "      display: none;\n",
              "      fill: #1967D2;\n",
              "      height: 32px;\n",
              "      padding: 0 0 0 0;\n",
              "      width: 32px;\n",
              "    }\n",
              "\n",
              "    .colab-df-convert:hover {\n",
              "      background-color: #E2EBFA;\n",
              "      box-shadow: 0px 1px 2px rgba(60, 64, 67, 0.3), 0px 1px 3px 1px rgba(60, 64, 67, 0.15);\n",
              "      fill: #174EA6;\n",
              "    }\n",
              "\n",
              "    .colab-df-buttons div {\n",
              "      margin-bottom: 4px;\n",
              "    }\n",
              "\n",
              "    [theme=dark] .colab-df-convert {\n",
              "      background-color: #3B4455;\n",
              "      fill: #D2E3FC;\n",
              "    }\n",
              "\n",
              "    [theme=dark] .colab-df-convert:hover {\n",
              "      background-color: #434B5C;\n",
              "      box-shadow: 0px 1px 3px 1px rgba(0, 0, 0, 0.15);\n",
              "      filter: drop-shadow(0px 1px 2px rgba(0, 0, 0, 0.3));\n",
              "      fill: #FFFFFF;\n",
              "    }\n",
              "  </style>\n",
              "\n",
              "    <script>\n",
              "      const buttonEl =\n",
              "        document.querySelector('#df-724718c0-c117-4f40-87d8-2ce5c464b6d2 button.colab-df-convert');\n",
              "      buttonEl.style.display =\n",
              "        google.colab.kernel.accessAllowed ? 'block' : 'none';\n",
              "\n",
              "      async function convertToInteractive(key) {\n",
              "        const element = document.querySelector('#df-724718c0-c117-4f40-87d8-2ce5c464b6d2');\n",
              "        const dataTable =\n",
              "          await google.colab.kernel.invokeFunction('convertToInteractive',\n",
              "                                                    [key], {});\n",
              "        if (!dataTable) return;\n",
              "\n",
              "        const docLinkHtml = 'Like what you see? Visit the ' +\n",
              "          '<a target=\"_blank\" href=https://colab.research.google.com/notebooks/data_table.ipynb>data table notebook</a>'\n",
              "          + ' to learn more about interactive tables.';\n",
              "        element.innerHTML = '';\n",
              "        dataTable['output_type'] = 'display_data';\n",
              "        await google.colab.output.renderOutput(dataTable, element);\n",
              "        const docLink = document.createElement('div');\n",
              "        docLink.innerHTML = docLinkHtml;\n",
              "        element.appendChild(docLink);\n",
              "      }\n",
              "    </script>\n",
              "  </div>\n",
              "\n",
              "\n",
              "    <div id=\"df-a42b3fdc-8aea-48a3-95f4-fcc0aa23b1eb\">\n",
              "      <button class=\"colab-df-quickchart\" onclick=\"quickchart('df-a42b3fdc-8aea-48a3-95f4-fcc0aa23b1eb')\"\n",
              "                title=\"Suggest charts\"\n",
              "                style=\"display:none;\">\n",
              "\n",
              "<svg xmlns=\"http://www.w3.org/2000/svg\" height=\"24px\"viewBox=\"0 0 24 24\"\n",
              "     width=\"24px\">\n",
              "    <g>\n",
              "        <path d=\"M19 3H5c-1.1 0-2 .9-2 2v14c0 1.1.9 2 2 2h14c1.1 0 2-.9 2-2V5c0-1.1-.9-2-2-2zM9 17H7v-7h2v7zm4 0h-2V7h2v10zm4 0h-2v-4h2v4z\"/>\n",
              "    </g>\n",
              "</svg>\n",
              "      </button>\n",
              "\n",
              "<style>\n",
              "  .colab-df-quickchart {\n",
              "      --bg-color: #E8F0FE;\n",
              "      --fill-color: #1967D2;\n",
              "      --hover-bg-color: #E2EBFA;\n",
              "      --hover-fill-color: #174EA6;\n",
              "      --disabled-fill-color: #AAA;\n",
              "      --disabled-bg-color: #DDD;\n",
              "  }\n",
              "\n",
              "  [theme=dark] .colab-df-quickchart {\n",
              "      --bg-color: #3B4455;\n",
              "      --fill-color: #D2E3FC;\n",
              "      --hover-bg-color: #434B5C;\n",
              "      --hover-fill-color: #FFFFFF;\n",
              "      --disabled-bg-color: #3B4455;\n",
              "      --disabled-fill-color: #666;\n",
              "  }\n",
              "\n",
              "  .colab-df-quickchart {\n",
              "    background-color: var(--bg-color);\n",
              "    border: none;\n",
              "    border-radius: 50%;\n",
              "    cursor: pointer;\n",
              "    display: none;\n",
              "    fill: var(--fill-color);\n",
              "    height: 32px;\n",
              "    padding: 0;\n",
              "    width: 32px;\n",
              "  }\n",
              "\n",
              "  .colab-df-quickchart:hover {\n",
              "    background-color: var(--hover-bg-color);\n",
              "    box-shadow: 0 1px 2px rgba(60, 64, 67, 0.3), 0 1px 3px 1px rgba(60, 64, 67, 0.15);\n",
              "    fill: var(--button-hover-fill-color);\n",
              "  }\n",
              "\n",
              "  .colab-df-quickchart-complete:disabled,\n",
              "  .colab-df-quickchart-complete:disabled:hover {\n",
              "    background-color: var(--disabled-bg-color);\n",
              "    fill: var(--disabled-fill-color);\n",
              "    box-shadow: none;\n",
              "  }\n",
              "\n",
              "  .colab-df-spinner {\n",
              "    border: 2px solid var(--fill-color);\n",
              "    border-color: transparent;\n",
              "    border-bottom-color: var(--fill-color);\n",
              "    animation:\n",
              "      spin 1s steps(1) infinite;\n",
              "  }\n",
              "\n",
              "  @keyframes spin {\n",
              "    0% {\n",
              "      border-color: transparent;\n",
              "      border-bottom-color: var(--fill-color);\n",
              "      border-left-color: var(--fill-color);\n",
              "    }\n",
              "    20% {\n",
              "      border-color: transparent;\n",
              "      border-left-color: var(--fill-color);\n",
              "      border-top-color: var(--fill-color);\n",
              "    }\n",
              "    30% {\n",
              "      border-color: transparent;\n",
              "      border-left-color: var(--fill-color);\n",
              "      border-top-color: var(--fill-color);\n",
              "      border-right-color: var(--fill-color);\n",
              "    }\n",
              "    40% {\n",
              "      border-color: transparent;\n",
              "      border-right-color: var(--fill-color);\n",
              "      border-top-color: var(--fill-color);\n",
              "    }\n",
              "    60% {\n",
              "      border-color: transparent;\n",
              "      border-right-color: var(--fill-color);\n",
              "    }\n",
              "    80% {\n",
              "      border-color: transparent;\n",
              "      border-right-color: var(--fill-color);\n",
              "      border-bottom-color: var(--fill-color);\n",
              "    }\n",
              "    90% {\n",
              "      border-color: transparent;\n",
              "      border-bottom-color: var(--fill-color);\n",
              "    }\n",
              "  }\n",
              "</style>\n",
              "\n",
              "      <script>\n",
              "        async function quickchart(key) {\n",
              "          const quickchartButtonEl =\n",
              "            document.querySelector('#' + key + ' button');\n",
              "          quickchartButtonEl.disabled = true;  // To prevent multiple clicks.\n",
              "          quickchartButtonEl.classList.add('colab-df-spinner');\n",
              "          try {\n",
              "            const charts = await google.colab.kernel.invokeFunction(\n",
              "                'suggestCharts', [key], {});\n",
              "          } catch (error) {\n",
              "            console.error('Error during call to suggestCharts:', error);\n",
              "          }\n",
              "          quickchartButtonEl.classList.remove('colab-df-spinner');\n",
              "          quickchartButtonEl.classList.add('colab-df-quickchart-complete');\n",
              "        }\n",
              "        (() => {\n",
              "          let quickchartButtonEl =\n",
              "            document.querySelector('#df-a42b3fdc-8aea-48a3-95f4-fcc0aa23b1eb button');\n",
              "          quickchartButtonEl.style.display =\n",
              "            google.colab.kernel.accessAllowed ? 'block' : 'none';\n",
              "        })();\n",
              "      </script>\n",
              "    </div>\n",
              "\n",
              "  <div id=\"id_19ef145c-744f-4251-b3ff-fe47a6542b4d\">\n",
              "    <style>\n",
              "      .colab-df-generate {\n",
              "        background-color: #E8F0FE;\n",
              "        border: none;\n",
              "        border-radius: 50%;\n",
              "        cursor: pointer;\n",
              "        display: none;\n",
              "        fill: #1967D2;\n",
              "        height: 32px;\n",
              "        padding: 0 0 0 0;\n",
              "        width: 32px;\n",
              "      }\n",
              "\n",
              "      .colab-df-generate:hover {\n",
              "        background-color: #E2EBFA;\n",
              "        box-shadow: 0px 1px 2px rgba(60, 64, 67, 0.3), 0px 1px 3px 1px rgba(60, 64, 67, 0.15);\n",
              "        fill: #174EA6;\n",
              "      }\n",
              "\n",
              "      [theme=dark] .colab-df-generate {\n",
              "        background-color: #3B4455;\n",
              "        fill: #D2E3FC;\n",
              "      }\n",
              "\n",
              "      [theme=dark] .colab-df-generate:hover {\n",
              "        background-color: #434B5C;\n",
              "        box-shadow: 0px 1px 3px 1px rgba(0, 0, 0, 0.15);\n",
              "        filter: drop-shadow(0px 1px 2px rgba(0, 0, 0, 0.3));\n",
              "        fill: #FFFFFF;\n",
              "      }\n",
              "    </style>\n",
              "    <button class=\"colab-df-generate\" onclick=\"generateWithVariable('df')\"\n",
              "            title=\"Generate code using this dataframe.\"\n",
              "            style=\"display:none;\">\n",
              "\n",
              "  <svg xmlns=\"http://www.w3.org/2000/svg\" height=\"24px\"viewBox=\"0 0 24 24\"\n",
              "       width=\"24px\">\n",
              "    <path d=\"M7,19H8.4L18.45,9,17,7.55,7,17.6ZM5,21V16.75L18.45,3.32a2,2,0,0,1,2.83,0l1.4,1.43a1.91,1.91,0,0,1,.58,1.4,1.91,1.91,0,0,1-.58,1.4L9.25,21ZM18.45,9,17,7.55Zm-12,3A5.31,5.31,0,0,0,4.9,8.1,5.31,5.31,0,0,0,1,6.5,5.31,5.31,0,0,0,4.9,4.9,5.31,5.31,0,0,0,6.5,1,5.31,5.31,0,0,0,8.1,4.9,5.31,5.31,0,0,0,12,6.5,5.46,5.46,0,0,0,6.5,12Z\"/>\n",
              "  </svg>\n",
              "    </button>\n",
              "    <script>\n",
              "      (() => {\n",
              "      const buttonEl =\n",
              "        document.querySelector('#id_19ef145c-744f-4251-b3ff-fe47a6542b4d button.colab-df-generate');\n",
              "      buttonEl.style.display =\n",
              "        google.colab.kernel.accessAllowed ? 'block' : 'none';\n",
              "\n",
              "      buttonEl.onclick = () => {\n",
              "        google.colab.notebook.generateWithVariable('df');\n",
              "      }\n",
              "      })();\n",
              "    </script>\n",
              "  </div>\n",
              "\n",
              "    </div>\n",
              "  </div>\n"
            ],
            "application/vnd.google.colaboratory.intrinsic+json": {
              "type": "dataframe",
              "variable_name": "df",
              "summary": "{\n  \"name\": \"df\",\n  \"rows\": 5572,\n  \"fields\": [\n    {\n      \"column\": \"label\",\n      \"properties\": {\n        \"dtype\": \"category\",\n        \"num_unique_values\": 2,\n        \"samples\": [\n          \"spam\",\n          \"ham\"\n        ],\n        \"semantic_type\": \"\",\n        \"description\": \"\"\n      }\n    },\n    {\n      \"column\": \"message\",\n      \"properties\": {\n        \"dtype\": \"string\",\n        \"num_unique_values\": 5169,\n        \"samples\": [\n          \"K, makes sense, btw carlos is being difficult so you guys are gonna smoke while I go pick up the second batch and get gas\",\n          \"URGENT! Your mobile No *********** WON a \\u00a32,000 Bonus Caller Prize on 02/06/03! This is the 2nd attempt to reach YOU! Call 09066362220 ASAP! BOX97N7QP, 150ppm\"\n        ],\n        \"semantic_type\": \"\",\n        \"description\": \"\"\n      }\n    }\n  ]\n}"
            }
          },
          "metadata": {},
          "execution_count": 2
        }
      ],
      "source": [
        "# Loading dataset\n",
        "url = 'https://raw.githubusercontent.com/harishmuh/machine_learning_practices/refs/heads/main/datasets/sms_spam_collection.csv'\n",
        "df = pd.read_csv(url)\n",
        "df"
      ]
    },
    {
      "cell_type": "markdown",
      "metadata": {
        "id": "548i1CxrVDF_"
      },
      "source": [
        "### 1. Lowercase\n",
        "\n",
        "* Applying lowercase on texts and sentences"
      ]
    },
    {
      "cell_type": "code",
      "execution_count": 3,
      "metadata": {
        "colab": {
          "base_uri": "https://localhost:8080/",
          "height": 36
        },
        "id": "heac5o1yVDGA",
        "outputId": "621e5c9d-c9c2-4d32-b198-c1287f637a28"
      },
      "outputs": [
        {
          "output_type": "execute_result",
          "data": {
            "text/plain": [
              "\"i don't know about you, but i'm feeling 22\""
            ],
            "application/vnd.google.colaboratory.intrinsic+json": {
              "type": "string"
            }
          },
          "metadata": {},
          "execution_count": 3
        }
      ],
      "source": [
        "text_example = \"I don't know about you, but I'm feeling 22\"\n",
        "text_example.lower()"
      ]
    },
    {
      "cell_type": "code",
      "execution_count": 4,
      "metadata": {
        "id": "F4IVI4Z3VDGA"
      },
      "outputs": [],
      "source": [
        "# Lower case function\n",
        "# to_lower function\n",
        "def to_lower(text):\n",
        "    return text.lower()"
      ]
    },
    {
      "cell_type": "code",
      "execution_count": 5,
      "metadata": {
        "colab": {
          "base_uri": "https://localhost:8080/",
          "height": 36
        },
        "id": "i0Ge5rWcVDGB",
        "outputId": "8e5b6a07-71d5-46d1-df99-3719d4d9d42b"
      },
      "outputs": [
        {
          "output_type": "execute_result",
          "data": {
            "text/plain": [
              "\"i don't know about you, but i'm feeling 22\""
            ],
            "application/vnd.google.colaboratory.intrinsic+json": {
              "type": "string"
            }
          },
          "metadata": {},
          "execution_count": 5
        }
      ],
      "source": [
        "# Applying lower case function\n",
        "to_lower(text_example)"
      ]
    },
    {
      "cell_type": "markdown",
      "metadata": {
        "id": "7c3NaulbVDGC"
      },
      "source": [
        "### 2. Remove contraction\n",
        "\n",
        "* Contractions are a unique type of word that combines two or more other words in a shortened form, usually with an apostrophe.\n",
        "* Contractions take words that usually go together, like can not or I have, and then remove certain letters to shorten them and make other words, like can't or I've.\n",
        "* Removing contraction function will eliminate the contraction in the sentence or texts."
      ]
    },
    {
      "cell_type": "code",
      "execution_count": 6,
      "metadata": {
        "id": "Hf9l7dSBVDGD"
      },
      "outputs": [],
      "source": [
        "contractions_dict = {\n",
        "    \"ain't\": \"am not\",\n",
        "    \"aren't\": \"are not\",\n",
        "    \"can't\": \"cannot\",\n",
        "    \"can't've\": \"cannot have\",\n",
        "    \"'cause\": \"because\",\n",
        "    \"could've\": \"could have\",\n",
        "    \"couldn't\": \"could not\",\n",
        "    \"couldn't've\": \"could not have\",\n",
        "    \"didn't\": \"did not\",\n",
        "    \"doesn't\": \"does not\",\n",
        "    \"don't\": \"do not\",\n",
        "    \"hadn't\": \"had not\",\n",
        "    \"hadn't've\": \"had not have\",\n",
        "    \"hasn't\": \"has not\",\n",
        "    \"haven't\": \"have not\",\n",
        "    \"he'd\": \"he had\",\n",
        "    \"he'd've\": \"he would have\",\n",
        "    \"he'll\": \"he will\",\n",
        "    \"he'll've\": \"he will have\",\n",
        "    \"he's\": \"he is\",\n",
        "    \"how'd\": \"how did\",\n",
        "    \"how'd'y\": \"how do you\",\n",
        "    \"how'll\": \"how will\",\n",
        "    \"how's\": \"how is\",\n",
        "    \"i'd\": \"i had\",\n",
        "    \"i'd've\": \"i would have\",\n",
        "    \"i'll\": \"i will\",\n",
        "    \"i'll've\": \"i will have\",\n",
        "    \"i'm\": \"i am\",\n",
        "    \"i've\": \"i have\",\n",
        "    \"isn't\": \"is not\",\n",
        "    \"it'd\": \"it had\",\n",
        "    \"it'd've\": \"it would have\",\n",
        "    \"it'll\": \"it will\",\n",
        "    \"it'll've\": \"iit will have\",\n",
        "    \"it's\": \"it is\",\n",
        "    \"let's\": \"let us\",\n",
        "    \"ma'am\": \"madam\",\n",
        "    \"mayn't\": \"may not\",\n",
        "    \"might've\": \"might have\",\n",
        "    \"mightn't\": \"might not\",\n",
        "    \"mightn't've\": \"might not have\",\n",
        "    \"must've\": \"must have\",\n",
        "    \"mustn't\": \"must not\",\n",
        "    \"mustn't've\": \"must not have\",\n",
        "    \"needn't\": \"need not\",\n",
        "    \"needn't've\": \"need not have\",\n",
        "    \"o'clock\": \"of the clock\",\n",
        "    \"oughtn't\": \"ought not\",\n",
        "    \"oughtn't've\": \"ought not have\",\n",
        "    \"shan't\": \"shall not\",\n",
        "    \"sha'n't\": \"shall not\",\n",
        "    \"shan't've\": \"shall not have\",\n",
        "    \"she'd\": \"she had\",\n",
        "    \"she'd've\": \"she would have\",\n",
        "    \"she'll\": \"she will\",\n",
        "    \"she'll've\": \"she will have\",\n",
        "    \"she's\": \"she is\",\n",
        "    \"should've\": \"should have\",\n",
        "    \"shouldn't\": \"should not\",\n",
        "    \"shouldn't've\": \"should not have\",\n",
        "    \"so've\": \"so have\",\n",
        "    \"so's\": \"so is\",\n",
        "    \"that'd\": \"that had\",\n",
        "    \"that'd've\": \"that would have\",\n",
        "    \"that's\": \"that is\",\n",
        "    \"there'd\": \"there had\",\n",
        "    \"there'd've\": \"there would have\",\n",
        "    \"there's\": \"there is\",\n",
        "    \"they'd\": \"they had\",\n",
        "    \"they'd've\": \"they would have\",\n",
        "    \"they'll\": \"they will\",\n",
        "    \"they'll've\": \"they will have\",\n",
        "    \"they're\": \"they are\",\n",
        "    \"they've\": \"they have\",\n",
        "    \"to've\": \"to have\",\n",
        "    \"wasn't\": \"was not\",\n",
        "    \"we'd\": \"we had\",\n",
        "    \"we'd've\": \"we would have\",\n",
        "    \"we'll\": \"we will\",\n",
        "    \"we'll've\": \"we will have\",\n",
        "    \"we're\": \"we are\",\n",
        "    \"we've\": \"we have\",\n",
        "    \"weren't\": \"were not\",\n",
        "    \"what'll\": \"what will\",\n",
        "    \"what'll've\": \"what will have\",\n",
        "    \"what're\": \"what are\",\n",
        "    \"what's\": \"what is\",\n",
        "    \"what've\": \"what have\",\n",
        "    \"when's\": \"when is\",\n",
        "    \"when've\": \"when have\",\n",
        "    \"where'd\": \"where did\",\n",
        "    \"where's\": \"where is\",\n",
        "    \"where've\": \"where have\",\n",
        "    \"who'll\": \"who will\",\n",
        "    \"who'll've\": \"who will have\",\n",
        "    \"who's\": \"who is\",\n",
        "    \"who've\": \"who have\",\n",
        "    \"why's\": \"why is\",\n",
        "    \"why've\": \"why have\",\n",
        "    \"will've\": \"will have\",\n",
        "    \"won't\": \"will not\",\n",
        "    \"won't've\": \"will not have\",\n",
        "    \"would've\": \"would have\",\n",
        "    \"wouldn't\": \"would not\",\n",
        "    \"wouldn't've\": \"would not have\",\n",
        "    \"y'all\": \"you all\",\n",
        "    \"y'all'd\": \"you all would\",\n",
        "    \"y'all'd've\": \"you all would have\",\n",
        "    \"y'all're\": \"you all are\",\n",
        "    \"y'all've\": \"you all have\",\n",
        "    \"you'd\": \"you had\",\n",
        "    \"you'd've\": \"you would have\",\n",
        "    \"you'll\": \"you will\",\n",
        "    \"you'll've\": \"you will have\",\n",
        "    \"you're\": \"you are\",\n",
        "    \"you've\": \"you have\"\n",
        "}"
      ]
    },
    {
      "cell_type": "code",
      "execution_count": 7,
      "metadata": {
        "colab": {
          "base_uri": "https://localhost:8080/",
          "height": 36
        },
        "id": "5YrXX81bVDGE",
        "outputId": "bdc4bcb9-a2e0-404b-ae4f-a0f25260954a"
      },
      "outputs": [
        {
          "output_type": "execute_result",
          "data": {
            "text/plain": [
              "\"i don't know about you, but i'm feeling 22\""
            ],
            "application/vnd.google.colaboratory.intrinsic+json": {
              "type": "string"
            }
          },
          "metadata": {},
          "execution_count": 7
        }
      ],
      "source": [
        "# Exercise: Applying remove contractions\n",
        "# Converting\n",
        "text_example1 = \"i don't know about you, but i'm feeling 22\"\n",
        "text_example1"
      ]
    },
    {
      "cell_type": "code",
      "execution_count": 8,
      "metadata": {
        "colab": {
          "base_uri": "https://localhost:8080/"
        },
        "id": "gXod4NxEVDGE",
        "outputId": "45f82380-ae51-4815-931a-5d14dba2a59d"
      },
      "outputs": [
        {
          "output_type": "stream",
          "name": "stdout",
          "text": [
            "i do not know about you, but i am feeling 22\n"
          ]
        }
      ],
      "source": [
        "# Solution 1\n",
        "for key, value in contractions_dict.items():\n",
        "    text_example1 = text_example1.replace(key, value)\n",
        "\n",
        "print(text_example1)\n"
      ]
    },
    {
      "cell_type": "code",
      "execution_count": 9,
      "metadata": {
        "id": "bDKE_NXrVDGF"
      },
      "outputs": [],
      "source": [
        "# Solution 2 # Defining function to remove contraction\n",
        "def remove_contraction(text):\n",
        "\n",
        "    list_words = text.split()\n",
        "    list_result = []\n",
        "\n",
        "    for kata in list_words:\n",
        "\n",
        "        if kata in contractions_dict.keys():\n",
        "            list_result.append(contractions_dict[kata])\n",
        "        else:\n",
        "            list_result.append(kata)\n",
        "\n",
        "    results = ' '.join(list_result)\n",
        "    return results"
      ]
    },
    {
      "cell_type": "code",
      "execution_count": 10,
      "metadata": {
        "colab": {
          "base_uri": "https://localhost:8080/",
          "height": 36
        },
        "id": "BBSznHDvVDGG",
        "outputId": "1e862184-094a-4731-ddae-50f4ba99a8d2"
      },
      "outputs": [
        {
          "output_type": "execute_result",
          "data": {
            "text/plain": [
              "'i do not know about you, but i am feeling 22'"
            ],
            "application/vnd.google.colaboratory.intrinsic+json": {
              "type": "string"
            }
          },
          "metadata": {},
          "execution_count": 10
        }
      ],
      "source": [
        "# Applying the function\n",
        "remove_contraction(text_example1)"
      ]
    },
    {
      "cell_type": "markdown",
      "metadata": {
        "id": "YLp388BVVDGG"
      },
      "source": [
        "### 3. Remove number\n",
        "* We will perform number removal on texts."
      ]
    },
    {
      "cell_type": "code",
      "execution_count": 11,
      "metadata": {
        "colab": {
          "base_uri": "https://localhost:8080/"
        },
        "id": "sHDtGG7NVDGH",
        "outputId": "f3b09f1e-4ae7-4228-8751-53fb5c6b9e5d"
      },
      "outputs": [
        {
          "output_type": "execute_result",
          "data": {
            "text/plain": [
              "True"
            ]
          },
          "metadata": {},
          "execution_count": 11
        }
      ],
      "source": [
        "# Check\n",
        "kata = '48'\n",
        "kata.isnumeric()"
      ]
    },
    {
      "cell_type": "code",
      "execution_count": 12,
      "metadata": {
        "colab": {
          "base_uri": "https://localhost:8080/",
          "height": 36
        },
        "id": "h1VRBW2jVDGH",
        "outputId": "274d1f28-a1cc-479a-a05b-4d99b1347ad9"
      },
      "outputs": [
        {
          "output_type": "execute_result",
          "data": {
            "text/plain": [
              "'i do not know about you, but i am feeling 22'"
            ],
            "application/vnd.google.colaboratory.intrinsic+json": {
              "type": "string"
            }
          },
          "metadata": {},
          "execution_count": 12
        }
      ],
      "source": [
        "# text\n",
        "text_example1= 'i do not know about you, but i am feeling 22'\n",
        "text_example1"
      ]
    },
    {
      "cell_type": "code",
      "execution_count": 13,
      "metadata": {
        "colab": {
          "base_uri": "https://localhost:8080/",
          "height": 36
        },
        "id": "ES9miHogVDGI",
        "outputId": "00e9d53b-3e9e-4e03-d91f-c1cd744967e8"
      },
      "outputs": [
        {
          "output_type": "execute_result",
          "data": {
            "text/plain": [
              "'i do not know about you, but i am feeling '"
            ],
            "application/vnd.google.colaboratory.intrinsic+json": {
              "type": "string"
            }
          },
          "metadata": {},
          "execution_count": 13
        }
      ],
      "source": [
        "# Removing number from text\n",
        "''.join([char for char in text_example1 if not char.isnumeric()])"
      ]
    },
    {
      "cell_type": "code",
      "execution_count": 14,
      "metadata": {
        "id": "b9ON2GF0VDGI"
      },
      "outputs": [],
      "source": [
        "# Number removal function\n",
        "def remove_number(text):\n",
        "    result = ''.join([char for char in text if not char.isnumeric()]) # Only include non-numeric\n",
        "    return result"
      ]
    },
    {
      "cell_type": "code",
      "execution_count": 15,
      "metadata": {
        "colab": {
          "base_uri": "https://localhost:8080/",
          "height": 36
        },
        "id": "tv_XZJTPVDGJ",
        "outputId": "83197b93-fa6e-48d9-dc84-e9331a684fa1"
      },
      "outputs": [
        {
          "output_type": "execute_result",
          "data": {
            "text/plain": [
              "'i do not know about you, but i am feeling '"
            ],
            "application/vnd.google.colaboratory.intrinsic+json": {
              "type": "string"
            }
          },
          "metadata": {},
          "execution_count": 15
        }
      ],
      "source": [
        "# Applying the function\n",
        "remove_number(text_example1)"
      ]
    },
    {
      "cell_type": "markdown",
      "metadata": {
        "id": "z-eaGYdCVDGJ"
      },
      "source": [
        "### 4. Remove punctuation\n",
        "* We will use library that has specific for punctuation."
      ]
    },
    {
      "cell_type": "code",
      "execution_count": 16,
      "metadata": {
        "id": "zZ0jbGtwVDGK"
      },
      "outputs": [],
      "source": [
        "from string import punctuation"
      ]
    },
    {
      "cell_type": "code",
      "execution_count": 17,
      "metadata": {
        "colab": {
          "base_uri": "https://localhost:8080/",
          "height": 36
        },
        "id": "cQ-unh9yVDGK",
        "outputId": "a40f8e20-df93-42ca-e5af-5a59b005b8f0"
      },
      "outputs": [
        {
          "output_type": "execute_result",
          "data": {
            "text/plain": [
              "'!\"#$%&\\'()*+,-./:;<=>?@[\\\\]^_`{|}~'"
            ],
            "application/vnd.google.colaboratory.intrinsic+json": {
              "type": "string"
            }
          },
          "metadata": {},
          "execution_count": 17
        }
      ],
      "source": [
        "punctuation"
      ]
    },
    {
      "cell_type": "code",
      "execution_count": 18,
      "metadata": {
        "colab": {
          "base_uri": "https://localhost:8080/",
          "height": 36
        },
        "id": "pmEWuoWJVDGK",
        "outputId": "52046da3-8e99-4ec4-b522-a09376117b28"
      },
      "outputs": [
        {
          "output_type": "execute_result",
          "data": {
            "text/plain": [
              "'i do not know about you, but i am feeling '"
            ],
            "application/vnd.google.colaboratory.intrinsic+json": {
              "type": "string"
            }
          },
          "metadata": {},
          "execution_count": 18
        }
      ],
      "source": [
        "text_example1 = 'i do not know about you, but i am feeling '\n",
        "text_example1"
      ]
    },
    {
      "cell_type": "code",
      "execution_count": 19,
      "metadata": {
        "colab": {
          "base_uri": "https://localhost:8080/",
          "height": 36
        },
        "id": "33vkp5mKVDGK",
        "outputId": "3c1bc7d9-adea-44b8-db42-cf36b0a0b94e"
      },
      "outputs": [
        {
          "output_type": "execute_result",
          "data": {
            "text/plain": [
              "'i do not know about you but i am feeling '"
            ],
            "application/vnd.google.colaboratory.intrinsic+json": {
              "type": "string"
            }
          },
          "metadata": {},
          "execution_count": 19
        }
      ],
      "source": [
        "# Removal punctuation mark example\n",
        "''.join([char for char in text_example1 if not char in punctuation])"
      ]
    },
    {
      "cell_type": "code",
      "execution_count": 20,
      "metadata": {
        "id": "UsUVtTX7VDGL"
      },
      "outputs": [],
      "source": [
        "# Function to remove punctuation mark\n",
        "def remove_punctuation(text):\n",
        "    hasil = ''.join([char for char in text if not char in punctuation])\n",
        "    return hasil"
      ]
    },
    {
      "cell_type": "code",
      "execution_count": 21,
      "metadata": {
        "colab": {
          "base_uri": "https://localhost:8080/",
          "height": 36
        },
        "id": "f8jhvvEgVDGL",
        "outputId": "13f84cc2-f43b-4d94-fc45-0cbd4529e081"
      },
      "outputs": [
        {
          "output_type": "execute_result",
          "data": {
            "text/plain": [
              "'i do not know about you but i am feeling '"
            ],
            "application/vnd.google.colaboratory.intrinsic+json": {
              "type": "string"
            }
          },
          "metadata": {},
          "execution_count": 21
        }
      ],
      "source": [
        "# Applying the function\n",
        "remove_punctuation(text_example1)"
      ]
    },
    {
      "cell_type": "markdown",
      "metadata": {
        "id": "ZB4IAZttVDGL"
      },
      "source": [
        "### 5. Remove stopwords\n",
        "\n",
        "* In text mining, stopwords are common words that are usually filtered out (i.e., removed) before processing the text.\n",
        "* These are words that occur frequently in a language but carry very little meaningful information for analysis\n",
        "* Example of stopwords in English: \"the\", \"is\", \"in\", \"at\", \"of\", \"and\", \"to\", \"a\"\n",
        "* We will use the NLTK (Natural Language Toolkit) library for tasks in Natural Language Processing (NLP), including stopwords removal"
      ]
    },
    {
      "cell_type": "code",
      "execution_count": 23,
      "metadata": {
        "id": "UoseYboEVDGL"
      },
      "outputs": [],
      "source": [
        "# Importing nltk library\n",
        "import nltk\n",
        "from nltk.corpus import stopwords"
      ]
    },
    {
      "cell_type": "code",
      "execution_count": 24,
      "metadata": {
        "colab": {
          "base_uri": "https://localhost:8080/"
        },
        "id": "eJEn98QeVDGM",
        "outputId": "e9ae16ee-af85-4ab3-f305-873d12e5e49b"
      },
      "outputs": [
        {
          "output_type": "stream",
          "name": "stderr",
          "text": [
            "[nltk_data] Downloading package stopwords to /root/nltk_data...\n",
            "[nltk_data]   Unzipping corpora/stopwords.zip.\n",
            "[nltk_data] Downloading package punkt to /root/nltk_data...\n",
            "[nltk_data]   Unzipping tokenizers/punkt.zip.\n"
          ]
        },
        {
          "output_type": "execute_result",
          "data": {
            "text/plain": [
              "True"
            ]
          },
          "metadata": {},
          "execution_count": 24
        }
      ],
      "source": [
        "nltk.download('stopwords')\n",
        "nltk.download('punkt')"
      ]
    },
    {
      "cell_type": "code",
      "execution_count": 25,
      "metadata": {
        "id": "9OtDHZuKVDGN"
      },
      "outputs": [],
      "source": [
        "# Selecting language\n",
        "stop_words = stopwords.words('english')"
      ]
    },
    {
      "cell_type": "code",
      "execution_count": 26,
      "metadata": {
        "id": "vAecBpCwVDGO"
      },
      "outputs": [],
      "source": [
        "# We will ignore 'not' as stopwords\n",
        "stop_words.remove('not')"
      ]
    },
    {
      "cell_type": "code",
      "execution_count": 27,
      "metadata": {
        "id": "Iss7pW8AVDGO"
      },
      "outputs": [],
      "source": [
        "example_text2 = 'i do not know about you but i am feeling '"
      ]
    },
    {
      "cell_type": "code",
      "execution_count": 28,
      "metadata": {
        "colab": {
          "base_uri": "https://localhost:8080/"
        },
        "id": "SrUZaJWUVDGP",
        "outputId": "b5fdaaf3-d420-4645-e6b3-caeba23c856d"
      },
      "outputs": [
        {
          "output_type": "execute_result",
          "data": {
            "text/plain": [
              "['not', 'know', 'feeling']"
            ]
          },
          "metadata": {},
          "execution_count": 28
        }
      ],
      "source": [
        "# How to isolate words, excluding the stopwords\n",
        "[word for word in example_text2.split() if word not in stop_words]"
      ]
    },
    {
      "cell_type": "code",
      "execution_count": 29,
      "metadata": {
        "id": "4WSiuYdeVDGP"
      },
      "outputs": [],
      "source": [
        "# Creating function\n",
        "# How to isolate words, excluding the stopwords\n",
        "def remove_stopwords(text):\n",
        "    result = ' '.join([word for word in text.split() if word not in stop_words])\n",
        "    return result"
      ]
    },
    {
      "cell_type": "code",
      "execution_count": 30,
      "metadata": {
        "colab": {
          "base_uri": "https://localhost:8080/",
          "height": 36
        },
        "id": "XWdBz03eVDGQ",
        "outputId": "e97a8c78-b6ab-4dfb-ff44-03a45e399e2c"
      },
      "outputs": [
        {
          "output_type": "execute_result",
          "data": {
            "text/plain": [
              "'not know feeling'"
            ],
            "application/vnd.google.colaboratory.intrinsic+json": {
              "type": "string"
            }
          },
          "metadata": {},
          "execution_count": 30
        }
      ],
      "source": [
        "# Applying the function\n",
        "remove_stopwords(example_text2)"
      ]
    },
    {
      "cell_type": "markdown",
      "source": [
        "### Tokenization\n",
        "\n",
        "* Tokenization is the process of splitting text into smaller pieces called tokens, which are the basic building blocks for natural language processing (NLP)."
      ],
      "metadata": {
        "id": "rAjbqx6M8Rss"
      }
    },
    {
      "cell_type": "code",
      "source": [
        "# Tokenization\n",
        "# process of splitting text into smaller pieces (words or subwords)\n",
        "nltk.download('punkt_tab')\n",
        "nltk.word_tokenize(example_text2)"
      ],
      "metadata": {
        "colab": {
          "base_uri": "https://localhost:8080/"
        },
        "id": "qF4UfI2-9NS4",
        "outputId": "94ff7f09-177a-4869-fe1f-dcd8bdb92dfa"
      },
      "execution_count": 31,
      "outputs": [
        {
          "output_type": "stream",
          "name": "stderr",
          "text": [
            "[nltk_data] Downloading package punkt_tab to /root/nltk_data...\n",
            "[nltk_data]   Unzipping tokenizers/punkt_tab.zip.\n"
          ]
        },
        {
          "output_type": "execute_result",
          "data": {
            "text/plain": [
              "['i', 'do', 'not', 'know', 'about', 'you', 'but', 'i', 'am', 'feeling']"
            ]
          },
          "metadata": {},
          "execution_count": 31
        }
      ]
    },
    {
      "cell_type": "markdown",
      "metadata": {
        "id": "M7ck3AyWVDGQ"
      },
      "source": [
        "### 6. Remove whitespace"
      ]
    },
    {
      "cell_type": "code",
      "execution_count": 32,
      "metadata": {
        "colab": {
          "base_uri": "https://localhost:8080/",
          "height": 36
        },
        "id": "WUjXN8UHVDGa",
        "outputId": "06343d46-2ae9-4a96-cedc-83d200c589d2"
      },
      "outputs": [
        {
          "output_type": "execute_result",
          "data": {
            "text/plain": [
              "'not know feeling'"
            ],
            "application/vnd.google.colaboratory.intrinsic+json": {
              "type": "string"
            }
          },
          "metadata": {},
          "execution_count": 32
        }
      ],
      "source": [
        "# White space removal\n",
        "text_example3 = '  not know     feeling      '\n",
        "\n",
        "' '.join(text_example3.split())"
      ]
    },
    {
      "cell_type": "code",
      "execution_count": 33,
      "metadata": {
        "id": "0w9WARGmVDGa"
      },
      "outputs": [],
      "source": [
        "# Function to remove white space\n",
        "def remove_whitespace(text):\n",
        "    hasil = ' '.join(text.split())\n",
        "    return hasil"
      ]
    },
    {
      "cell_type": "code",
      "execution_count": 34,
      "metadata": {
        "colab": {
          "base_uri": "https://localhost:8080/",
          "height": 36
        },
        "id": "wDL2EJzyVDGa",
        "outputId": "7a846346-0f08-46f1-d381-08df7dca270e"
      },
      "outputs": [
        {
          "output_type": "execute_result",
          "data": {
            "text/plain": [
              "'not know feeling'"
            ],
            "application/vnd.google.colaboratory.intrinsic+json": {
              "type": "string"
            }
          },
          "metadata": {},
          "execution_count": 34
        }
      ],
      "source": [
        "# Applying the function\n",
        "remove_whitespace(text_example3)"
      ]
    },
    {
      "cell_type": "markdown",
      "metadata": {
        "id": "IVvGgYJoVDGb"
      },
      "source": [
        "### Combine all steps"
      ]
    },
    {
      "cell_type": "code",
      "execution_count": 35,
      "metadata": {
        "colab": {
          "base_uri": "https://localhost:8080/",
          "height": 362
        },
        "id": "DOl_nfQWVDGb",
        "outputId": "d0f085c3-7642-4ee0-f4b4-e73870da89a4"
      },
      "outputs": [
        {
          "output_type": "execute_result",
          "data": {
            "text/plain": [
              "  label                                            message  \\\n",
              "0   ham  Go until jurong point, crazy.. Available only ...   \n",
              "1   ham                      Ok lar... Joking wif u oni...   \n",
              "2  spam  Free entry in 2 a wkly comp to win FA Cup fina...   \n",
              "3   ham  U dun say so early hor... U c already then say...   \n",
              "4   ham  Nah I don't think he goes to usf, he lives aro...   \n",
              "\n",
              "                                               prep1  \\\n",
              "0  go until jurong point, crazy.. available only ...   \n",
              "1                      ok lar... joking wif u oni...   \n",
              "2  free entry in 2 a wkly comp to win fa cup fina...   \n",
              "3  u dun say so early hor... u c already then say...   \n",
              "4  nah i don't think he goes to usf, he lives aro...   \n",
              "\n",
              "                                               prep2  \\\n",
              "0  go until jurong point, crazy.. available only ...   \n",
              "1                      ok lar... joking wif u oni...   \n",
              "2  free entry in 2 a wkly comp to win fa cup fina...   \n",
              "3  u dun say so early hor... u c already then say...   \n",
              "4  nah i do not think he goes to usf, he lives ar...   \n",
              "\n",
              "                                               prep3  \\\n",
              "0  go until jurong point, crazy.. available only ...   \n",
              "1                      ok lar... joking wif u oni...   \n",
              "2  free entry in  a wkly comp to win fa cup final...   \n",
              "3  u dun say so early hor... u c already then say...   \n",
              "4  nah i do not think he goes to usf, he lives ar...   \n",
              "\n",
              "                                               prep4  \\\n",
              "0  go until jurong point crazy available only in ...   \n",
              "1                            ok lar joking wif u oni   \n",
              "2  free entry in  a wkly comp to win fa cup final...   \n",
              "3        u dun say so early hor u c already then say   \n",
              "4  nah i do not think he goes to usf he lives aro...   \n",
              "\n",
              "                                               prep5  \\\n",
              "0  go jurong point crazy available bugis n great ...   \n",
              "1                            ok lar joking wif u oni   \n",
              "2  free entry wkly comp win fa cup final tkts st ...   \n",
              "3                u dun say early hor u c already say   \n",
              "4         nah not think goes usf lives around though   \n",
              "\n",
              "                                               prep6  \n",
              "0  go jurong point crazy available bugis n great ...  \n",
              "1                            ok lar joking wif u oni  \n",
              "2  free entry wkly comp win fa cup final tkts st ...  \n",
              "3                u dun say early hor u c already say  \n",
              "4         nah not think goes usf lives around though  "
            ],
            "text/html": [
              "\n",
              "  <div id=\"df-a71034f9-de65-449c-b6bc-aee67d0685e9\" class=\"colab-df-container\">\n",
              "    <div>\n",
              "<style scoped>\n",
              "    .dataframe tbody tr th:only-of-type {\n",
              "        vertical-align: middle;\n",
              "    }\n",
              "\n",
              "    .dataframe tbody tr th {\n",
              "        vertical-align: top;\n",
              "    }\n",
              "\n",
              "    .dataframe thead th {\n",
              "        text-align: right;\n",
              "    }\n",
              "</style>\n",
              "<table border=\"1\" class=\"dataframe\">\n",
              "  <thead>\n",
              "    <tr style=\"text-align: right;\">\n",
              "      <th></th>\n",
              "      <th>label</th>\n",
              "      <th>message</th>\n",
              "      <th>prep1</th>\n",
              "      <th>prep2</th>\n",
              "      <th>prep3</th>\n",
              "      <th>prep4</th>\n",
              "      <th>prep5</th>\n",
              "      <th>prep6</th>\n",
              "    </tr>\n",
              "  </thead>\n",
              "  <tbody>\n",
              "    <tr>\n",
              "      <th>0</th>\n",
              "      <td>ham</td>\n",
              "      <td>Go until jurong point, crazy.. Available only ...</td>\n",
              "      <td>go until jurong point, crazy.. available only ...</td>\n",
              "      <td>go until jurong point, crazy.. available only ...</td>\n",
              "      <td>go until jurong point, crazy.. available only ...</td>\n",
              "      <td>go until jurong point crazy available only in ...</td>\n",
              "      <td>go jurong point crazy available bugis n great ...</td>\n",
              "      <td>go jurong point crazy available bugis n great ...</td>\n",
              "    </tr>\n",
              "    <tr>\n",
              "      <th>1</th>\n",
              "      <td>ham</td>\n",
              "      <td>Ok lar... Joking wif u oni...</td>\n",
              "      <td>ok lar... joking wif u oni...</td>\n",
              "      <td>ok lar... joking wif u oni...</td>\n",
              "      <td>ok lar... joking wif u oni...</td>\n",
              "      <td>ok lar joking wif u oni</td>\n",
              "      <td>ok lar joking wif u oni</td>\n",
              "      <td>ok lar joking wif u oni</td>\n",
              "    </tr>\n",
              "    <tr>\n",
              "      <th>2</th>\n",
              "      <td>spam</td>\n",
              "      <td>Free entry in 2 a wkly comp to win FA Cup fina...</td>\n",
              "      <td>free entry in 2 a wkly comp to win fa cup fina...</td>\n",
              "      <td>free entry in 2 a wkly comp to win fa cup fina...</td>\n",
              "      <td>free entry in  a wkly comp to win fa cup final...</td>\n",
              "      <td>free entry in  a wkly comp to win fa cup final...</td>\n",
              "      <td>free entry wkly comp win fa cup final tkts st ...</td>\n",
              "      <td>free entry wkly comp win fa cup final tkts st ...</td>\n",
              "    </tr>\n",
              "    <tr>\n",
              "      <th>3</th>\n",
              "      <td>ham</td>\n",
              "      <td>U dun say so early hor... U c already then say...</td>\n",
              "      <td>u dun say so early hor... u c already then say...</td>\n",
              "      <td>u dun say so early hor... u c already then say...</td>\n",
              "      <td>u dun say so early hor... u c already then say...</td>\n",
              "      <td>u dun say so early hor u c already then say</td>\n",
              "      <td>u dun say early hor u c already say</td>\n",
              "      <td>u dun say early hor u c already say</td>\n",
              "    </tr>\n",
              "    <tr>\n",
              "      <th>4</th>\n",
              "      <td>ham</td>\n",
              "      <td>Nah I don't think he goes to usf, he lives aro...</td>\n",
              "      <td>nah i don't think he goes to usf, he lives aro...</td>\n",
              "      <td>nah i do not think he goes to usf, he lives ar...</td>\n",
              "      <td>nah i do not think he goes to usf, he lives ar...</td>\n",
              "      <td>nah i do not think he goes to usf he lives aro...</td>\n",
              "      <td>nah not think goes usf lives around though</td>\n",
              "      <td>nah not think goes usf lives around though</td>\n",
              "    </tr>\n",
              "  </tbody>\n",
              "</table>\n",
              "</div>\n",
              "    <div class=\"colab-df-buttons\">\n",
              "\n",
              "  <div class=\"colab-df-container\">\n",
              "    <button class=\"colab-df-convert\" onclick=\"convertToInteractive('df-a71034f9-de65-449c-b6bc-aee67d0685e9')\"\n",
              "            title=\"Convert this dataframe to an interactive table.\"\n",
              "            style=\"display:none;\">\n",
              "\n",
              "  <svg xmlns=\"http://www.w3.org/2000/svg\" height=\"24px\" viewBox=\"0 -960 960 960\">\n",
              "    <path d=\"M120-120v-720h720v720H120Zm60-500h600v-160H180v160Zm220 220h160v-160H400v160Zm0 220h160v-160H400v160ZM180-400h160v-160H180v160Zm440 0h160v-160H620v160ZM180-180h160v-160H180v160Zm440 0h160v-160H620v160Z\"/>\n",
              "  </svg>\n",
              "    </button>\n",
              "\n",
              "  <style>\n",
              "    .colab-df-container {\n",
              "      display:flex;\n",
              "      gap: 12px;\n",
              "    }\n",
              "\n",
              "    .colab-df-convert {\n",
              "      background-color: #E8F0FE;\n",
              "      border: none;\n",
              "      border-radius: 50%;\n",
              "      cursor: pointer;\n",
              "      display: none;\n",
              "      fill: #1967D2;\n",
              "      height: 32px;\n",
              "      padding: 0 0 0 0;\n",
              "      width: 32px;\n",
              "    }\n",
              "\n",
              "    .colab-df-convert:hover {\n",
              "      background-color: #E2EBFA;\n",
              "      box-shadow: 0px 1px 2px rgba(60, 64, 67, 0.3), 0px 1px 3px 1px rgba(60, 64, 67, 0.15);\n",
              "      fill: #174EA6;\n",
              "    }\n",
              "\n",
              "    .colab-df-buttons div {\n",
              "      margin-bottom: 4px;\n",
              "    }\n",
              "\n",
              "    [theme=dark] .colab-df-convert {\n",
              "      background-color: #3B4455;\n",
              "      fill: #D2E3FC;\n",
              "    }\n",
              "\n",
              "    [theme=dark] .colab-df-convert:hover {\n",
              "      background-color: #434B5C;\n",
              "      box-shadow: 0px 1px 3px 1px rgba(0, 0, 0, 0.15);\n",
              "      filter: drop-shadow(0px 1px 2px rgba(0, 0, 0, 0.3));\n",
              "      fill: #FFFFFF;\n",
              "    }\n",
              "  </style>\n",
              "\n",
              "    <script>\n",
              "      const buttonEl =\n",
              "        document.querySelector('#df-a71034f9-de65-449c-b6bc-aee67d0685e9 button.colab-df-convert');\n",
              "      buttonEl.style.display =\n",
              "        google.colab.kernel.accessAllowed ? 'block' : 'none';\n",
              "\n",
              "      async function convertToInteractive(key) {\n",
              "        const element = document.querySelector('#df-a71034f9-de65-449c-b6bc-aee67d0685e9');\n",
              "        const dataTable =\n",
              "          await google.colab.kernel.invokeFunction('convertToInteractive',\n",
              "                                                    [key], {});\n",
              "        if (!dataTable) return;\n",
              "\n",
              "        const docLinkHtml = 'Like what you see? Visit the ' +\n",
              "          '<a target=\"_blank\" href=https://colab.research.google.com/notebooks/data_table.ipynb>data table notebook</a>'\n",
              "          + ' to learn more about interactive tables.';\n",
              "        element.innerHTML = '';\n",
              "        dataTable['output_type'] = 'display_data';\n",
              "        await google.colab.output.renderOutput(dataTable, element);\n",
              "        const docLink = document.createElement('div');\n",
              "        docLink.innerHTML = docLinkHtml;\n",
              "        element.appendChild(docLink);\n",
              "      }\n",
              "    </script>\n",
              "  </div>\n",
              "\n",
              "\n",
              "    <div id=\"df-a4647d32-ed8e-4461-a2db-74f05c5c9537\">\n",
              "      <button class=\"colab-df-quickchart\" onclick=\"quickchart('df-a4647d32-ed8e-4461-a2db-74f05c5c9537')\"\n",
              "                title=\"Suggest charts\"\n",
              "                style=\"display:none;\">\n",
              "\n",
              "<svg xmlns=\"http://www.w3.org/2000/svg\" height=\"24px\"viewBox=\"0 0 24 24\"\n",
              "     width=\"24px\">\n",
              "    <g>\n",
              "        <path d=\"M19 3H5c-1.1 0-2 .9-2 2v14c0 1.1.9 2 2 2h14c1.1 0 2-.9 2-2V5c0-1.1-.9-2-2-2zM9 17H7v-7h2v7zm4 0h-2V7h2v10zm4 0h-2v-4h2v4z\"/>\n",
              "    </g>\n",
              "</svg>\n",
              "      </button>\n",
              "\n",
              "<style>\n",
              "  .colab-df-quickchart {\n",
              "      --bg-color: #E8F0FE;\n",
              "      --fill-color: #1967D2;\n",
              "      --hover-bg-color: #E2EBFA;\n",
              "      --hover-fill-color: #174EA6;\n",
              "      --disabled-fill-color: #AAA;\n",
              "      --disabled-bg-color: #DDD;\n",
              "  }\n",
              "\n",
              "  [theme=dark] .colab-df-quickchart {\n",
              "      --bg-color: #3B4455;\n",
              "      --fill-color: #D2E3FC;\n",
              "      --hover-bg-color: #434B5C;\n",
              "      --hover-fill-color: #FFFFFF;\n",
              "      --disabled-bg-color: #3B4455;\n",
              "      --disabled-fill-color: #666;\n",
              "  }\n",
              "\n",
              "  .colab-df-quickchart {\n",
              "    background-color: var(--bg-color);\n",
              "    border: none;\n",
              "    border-radius: 50%;\n",
              "    cursor: pointer;\n",
              "    display: none;\n",
              "    fill: var(--fill-color);\n",
              "    height: 32px;\n",
              "    padding: 0;\n",
              "    width: 32px;\n",
              "  }\n",
              "\n",
              "  .colab-df-quickchart:hover {\n",
              "    background-color: var(--hover-bg-color);\n",
              "    box-shadow: 0 1px 2px rgba(60, 64, 67, 0.3), 0 1px 3px 1px rgba(60, 64, 67, 0.15);\n",
              "    fill: var(--button-hover-fill-color);\n",
              "  }\n",
              "\n",
              "  .colab-df-quickchart-complete:disabled,\n",
              "  .colab-df-quickchart-complete:disabled:hover {\n",
              "    background-color: var(--disabled-bg-color);\n",
              "    fill: var(--disabled-fill-color);\n",
              "    box-shadow: none;\n",
              "  }\n",
              "\n",
              "  .colab-df-spinner {\n",
              "    border: 2px solid var(--fill-color);\n",
              "    border-color: transparent;\n",
              "    border-bottom-color: var(--fill-color);\n",
              "    animation:\n",
              "      spin 1s steps(1) infinite;\n",
              "  }\n",
              "\n",
              "  @keyframes spin {\n",
              "    0% {\n",
              "      border-color: transparent;\n",
              "      border-bottom-color: var(--fill-color);\n",
              "      border-left-color: var(--fill-color);\n",
              "    }\n",
              "    20% {\n",
              "      border-color: transparent;\n",
              "      border-left-color: var(--fill-color);\n",
              "      border-top-color: var(--fill-color);\n",
              "    }\n",
              "    30% {\n",
              "      border-color: transparent;\n",
              "      border-left-color: var(--fill-color);\n",
              "      border-top-color: var(--fill-color);\n",
              "      border-right-color: var(--fill-color);\n",
              "    }\n",
              "    40% {\n",
              "      border-color: transparent;\n",
              "      border-right-color: var(--fill-color);\n",
              "      border-top-color: var(--fill-color);\n",
              "    }\n",
              "    60% {\n",
              "      border-color: transparent;\n",
              "      border-right-color: var(--fill-color);\n",
              "    }\n",
              "    80% {\n",
              "      border-color: transparent;\n",
              "      border-right-color: var(--fill-color);\n",
              "      border-bottom-color: var(--fill-color);\n",
              "    }\n",
              "    90% {\n",
              "      border-color: transparent;\n",
              "      border-bottom-color: var(--fill-color);\n",
              "    }\n",
              "  }\n",
              "</style>\n",
              "\n",
              "      <script>\n",
              "        async function quickchart(key) {\n",
              "          const quickchartButtonEl =\n",
              "            document.querySelector('#' + key + ' button');\n",
              "          quickchartButtonEl.disabled = true;  // To prevent multiple clicks.\n",
              "          quickchartButtonEl.classList.add('colab-df-spinner');\n",
              "          try {\n",
              "            const charts = await google.colab.kernel.invokeFunction(\n",
              "                'suggestCharts', [key], {});\n",
              "          } catch (error) {\n",
              "            console.error('Error during call to suggestCharts:', error);\n",
              "          }\n",
              "          quickchartButtonEl.classList.remove('colab-df-spinner');\n",
              "          quickchartButtonEl.classList.add('colab-df-quickchart-complete');\n",
              "        }\n",
              "        (() => {\n",
              "          let quickchartButtonEl =\n",
              "            document.querySelector('#df-a4647d32-ed8e-4461-a2db-74f05c5c9537 button');\n",
              "          quickchartButtonEl.style.display =\n",
              "            google.colab.kernel.accessAllowed ? 'block' : 'none';\n",
              "        })();\n",
              "      </script>\n",
              "    </div>\n",
              "\n",
              "    </div>\n",
              "  </div>\n"
            ],
            "application/vnd.google.colaboratory.intrinsic+json": {
              "type": "dataframe",
              "variable_name": "df",
              "summary": "{\n  \"name\": \"df\",\n  \"rows\": 5572,\n  \"fields\": [\n    {\n      \"column\": \"label\",\n      \"properties\": {\n        \"dtype\": \"category\",\n        \"num_unique_values\": 2,\n        \"samples\": [\n          \"spam\",\n          \"ham\"\n        ],\n        \"semantic_type\": \"\",\n        \"description\": \"\"\n      }\n    },\n    {\n      \"column\": \"message\",\n      \"properties\": {\n        \"dtype\": \"string\",\n        \"num_unique_values\": 5169,\n        \"samples\": [\n          \"K, makes sense, btw carlos is being difficult so you guys are gonna smoke while I go pick up the second batch and get gas\",\n          \"URGENT! Your mobile No *********** WON a \\u00a32,000 Bonus Caller Prize on 02/06/03! This is the 2nd attempt to reach YOU! Call 09066362220 ASAP! BOX97N7QP, 150ppm\"\n        ],\n        \"semantic_type\": \"\",\n        \"description\": \"\"\n      }\n    },\n    {\n      \"column\": \"prep1\",\n      \"properties\": {\n        \"dtype\": \"string\",\n        \"num_unique_values\": 5168,\n        \"samples\": [\n          \"me sef dey laugh you. meanwhile how's my darling anjie!\",\n          \"apart from the one i told you about yesterday?\"\n        ],\n        \"semantic_type\": \"\",\n        \"description\": \"\"\n      }\n    },\n    {\n      \"column\": \"prep2\",\n      \"properties\": {\n        \"dtype\": \"string\",\n        \"num_unique_values\": 5157,\n        \"samples\": [\n          \"what is your record for one night? :)\",\n          \"are you free now?can i call now?\"\n        ],\n        \"semantic_type\": \"\",\n        \"description\": \"\"\n      }\n    },\n    {\n      \"column\": \"prep3\",\n      \"properties\": {\n        \"dtype\": \"string\",\n        \"num_unique_values\": 5135,\n        \"samples\": [\n          \":-( sad puppy noise\",\n          \"i was about to do it when i texted. i finished a long time ago and showered and er'ything!\"\n        ],\n        \"semantic_type\": \"\",\n        \"description\": \"\"\n      }\n    },\n    {\n      \"column\": \"prep4\",\n      \"properties\": {\n        \"dtype\": \"string\",\n        \"num_unique_values\": 5105,\n        \"samples\": [\n          \"nothing smsing u n xy lor sorry lor da guys neva c u in person but they sort of know u lor so u wan  meet them xy ask me  bring u along  our next meeting\",\n          \"gud mrng dear have a nice day\"\n        ],\n        \"semantic_type\": \"\",\n        \"description\": \"\"\n      }\n    },\n    {\n      \"column\": \"prep5\",\n      \"properties\": {\n        \"dtype\": \"string\",\n        \"num_unique_values\": 5075,\n        \"samples\": [\n          \"wanna watch movie\",\n          \"not forget owns private property good boy always passionate kiss\"\n        ],\n        \"semantic_type\": \"\",\n        \"description\": \"\"\n      }\n    },\n    {\n      \"column\": \"prep6\",\n      \"properties\": {\n        \"dtype\": \"string\",\n        \"num_unique_values\": 5075,\n        \"samples\": [\n          \"wanna watch movie\",\n          \"not forget owns private property good boy always passionate kiss\"\n        ],\n        \"semantic_type\": \"\",\n        \"description\": \"\"\n      }\n    }\n  ]\n}"
            }
          },
          "metadata": {},
          "execution_count": 35
        }
      ],
      "source": [
        "# Combining previous steps to preporcess the whole text\n",
        "\n",
        "# Implementing Lower case function to the text message\n",
        "df['prep1'] = df['message'].apply(to_lower)\n",
        "\n",
        "# Implementing remove contraction function to the text message\n",
        "df['prep2'] = df['prep1'].apply(remove_contraction)\n",
        "\n",
        "# Implementing remove number function to the text message\n",
        "df['prep3'] = df['prep2'].apply(remove_number)\n",
        "\n",
        "# Implementing remove punctuation mark function to the text message\n",
        "df['prep4'] = df['prep3'].apply(remove_punctuation)\n",
        "\n",
        "# Implementing remove stopwords function to the text message\n",
        "df['prep5'] = df['prep4'].apply(remove_stopwords)\n",
        "\n",
        "# Implementing white space removal function to the text message\n",
        "df['prep6'] = df['prep5'].apply(remove_whitespace)\n",
        "\n",
        "df.head()"
      ]
    },
    {
      "cell_type": "code",
      "execution_count": 36,
      "metadata": {
        "id": "hhtFrs0CVDGb"
      },
      "outputs": [],
      "source": [
        "# Creating function to integrate all cleaning\n",
        "def combine_cleaning(your_series):\n",
        "\n",
        "    df['prep1'] = your_series.apply(to_lower)\n",
        "    df['prep2'] = df['prep1'].apply(remove_contraction)\n",
        "    df['prep3'] = df['prep2'].apply(remove_number)\n",
        "    df['prep4'] = df['prep3'].apply(remove_punctuation)\n",
        "    df['prep5'] = df['prep4'].apply(remove_stopwords)\n",
        "    df['prep6'] = df['prep5'].apply(remove_whitespace)\n",
        "\n",
        "    return df"
      ]
    },
    {
      "cell_type": "code",
      "execution_count": 37,
      "metadata": {
        "colab": {
          "base_uri": "https://localhost:8080/",
          "height": 718
        },
        "id": "TTojQM0XVDGb",
        "outputId": "ace30579-56bd-4fc3-e1c2-426d375efb41"
      },
      "outputs": [
        {
          "output_type": "execute_result",
          "data": {
            "text/plain": [
              "     label                                            message  \\\n",
              "0      ham  Go until jurong point, crazy.. Available only ...   \n",
              "1      ham                      Ok lar... Joking wif u oni...   \n",
              "2     spam  Free entry in 2 a wkly comp to win FA Cup fina...   \n",
              "3      ham  U dun say so early hor... U c already then say...   \n",
              "4      ham  Nah I don't think he goes to usf, he lives aro...   \n",
              "...    ...                                                ...   \n",
              "5567  spam  This is the 2nd time we have tried 2 contact u...   \n",
              "5568   ham               Will ü b going to esplanade fr home?   \n",
              "5569   ham  Pity, * was in mood for that. So...any other s...   \n",
              "5570   ham  The guy did some bitching but I acted like i'd...   \n",
              "5571   ham                         Rofl. Its true to its name   \n",
              "\n",
              "                                                  prep1  \\\n",
              "0     go until jurong point, crazy.. available only ...   \n",
              "1                         ok lar... joking wif u oni...   \n",
              "2     free entry in 2 a wkly comp to win fa cup fina...   \n",
              "3     u dun say so early hor... u c already then say...   \n",
              "4     nah i don't think he goes to usf, he lives aro...   \n",
              "...                                                 ...   \n",
              "5567  this is the 2nd time we have tried 2 contact u...   \n",
              "5568               will ü b going to esplanade fr home?   \n",
              "5569  pity, * was in mood for that. so...any other s...   \n",
              "5570  the guy did some bitching but i acted like i'd...   \n",
              "5571                         rofl. its true to its name   \n",
              "\n",
              "                                                  prep2  \\\n",
              "0     go until jurong point, crazy.. available only ...   \n",
              "1                         ok lar... joking wif u oni...   \n",
              "2     free entry in 2 a wkly comp to win fa cup fina...   \n",
              "3     u dun say so early hor... u c already then say...   \n",
              "4     nah i do not think he goes to usf, he lives ar...   \n",
              "...                                                 ...   \n",
              "5567  this is the 2nd time we have tried 2 contact u...   \n",
              "5568               will ü b going to esplanade fr home?   \n",
              "5569  pity, * was in mood for that. so...any other s...   \n",
              "5570  the guy did some bitching but i acted like i h...   \n",
              "5571                         rofl. its true to its name   \n",
              "\n",
              "                                                  prep3  \\\n",
              "0     go until jurong point, crazy.. available only ...   \n",
              "1                         ok lar... joking wif u oni...   \n",
              "2     free entry in  a wkly comp to win fa cup final...   \n",
              "3     u dun say so early hor... u c already then say...   \n",
              "4     nah i do not think he goes to usf, he lives ar...   \n",
              "...                                                 ...   \n",
              "5567  this is the nd time we have tried  contact u. ...   \n",
              "5568               will ü b going to esplanade fr home?   \n",
              "5569  pity, * was in mood for that. so...any other s...   \n",
              "5570  the guy did some bitching but i acted like i h...   \n",
              "5571                         rofl. its true to its name   \n",
              "\n",
              "                                                  prep4  \\\n",
              "0     go until jurong point crazy available only in ...   \n",
              "1                               ok lar joking wif u oni   \n",
              "2     free entry in  a wkly comp to win fa cup final...   \n",
              "3           u dun say so early hor u c already then say   \n",
              "4     nah i do not think he goes to usf he lives aro...   \n",
              "...                                                 ...   \n",
              "5567  this is the nd time we have tried  contact u u...   \n",
              "5568                will ü b going to esplanade fr home   \n",
              "5569  pity  was in mood for that soany other suggest...   \n",
              "5570  the guy did some bitching but i acted like i h...   \n",
              "5571                          rofl its true to its name   \n",
              "\n",
              "                                                  prep5  \\\n",
              "0     go jurong point crazy available bugis n great ...   \n",
              "1                               ok lar joking wif u oni   \n",
              "2     free entry wkly comp win fa cup final tkts st ...   \n",
              "3                   u dun say early hor u c already say   \n",
              "4            nah not think goes usf lives around though   \n",
              "...                                                 ...   \n",
              "5567  nd time tried contact u u £ pound prize claim ...   \n",
              "5568                        ü b going esplanade fr home   \n",
              "5569                        pity mood soany suggestions   \n",
              "5570  guy bitching acted like interested buying some...   \n",
              "5571                                     rofl true name   \n",
              "\n",
              "                                                  prep6  \n",
              "0     go jurong point crazy available bugis n great ...  \n",
              "1                               ok lar joking wif u oni  \n",
              "2     free entry wkly comp win fa cup final tkts st ...  \n",
              "3                   u dun say early hor u c already say  \n",
              "4            nah not think goes usf lives around though  \n",
              "...                                                 ...  \n",
              "5567  nd time tried contact u u £ pound prize claim ...  \n",
              "5568                        ü b going esplanade fr home  \n",
              "5569                        pity mood soany suggestions  \n",
              "5570  guy bitching acted like interested buying some...  \n",
              "5571                                     rofl true name  \n",
              "\n",
              "[5572 rows x 8 columns]"
            ],
            "text/html": [
              "\n",
              "  <div id=\"df-bd62c95f-d8a6-49d3-b1bb-fe98d233ac98\" class=\"colab-df-container\">\n",
              "    <div>\n",
              "<style scoped>\n",
              "    .dataframe tbody tr th:only-of-type {\n",
              "        vertical-align: middle;\n",
              "    }\n",
              "\n",
              "    .dataframe tbody tr th {\n",
              "        vertical-align: top;\n",
              "    }\n",
              "\n",
              "    .dataframe thead th {\n",
              "        text-align: right;\n",
              "    }\n",
              "</style>\n",
              "<table border=\"1\" class=\"dataframe\">\n",
              "  <thead>\n",
              "    <tr style=\"text-align: right;\">\n",
              "      <th></th>\n",
              "      <th>label</th>\n",
              "      <th>message</th>\n",
              "      <th>prep1</th>\n",
              "      <th>prep2</th>\n",
              "      <th>prep3</th>\n",
              "      <th>prep4</th>\n",
              "      <th>prep5</th>\n",
              "      <th>prep6</th>\n",
              "    </tr>\n",
              "  </thead>\n",
              "  <tbody>\n",
              "    <tr>\n",
              "      <th>0</th>\n",
              "      <td>ham</td>\n",
              "      <td>Go until jurong point, crazy.. Available only ...</td>\n",
              "      <td>go until jurong point, crazy.. available only ...</td>\n",
              "      <td>go until jurong point, crazy.. available only ...</td>\n",
              "      <td>go until jurong point, crazy.. available only ...</td>\n",
              "      <td>go until jurong point crazy available only in ...</td>\n",
              "      <td>go jurong point crazy available bugis n great ...</td>\n",
              "      <td>go jurong point crazy available bugis n great ...</td>\n",
              "    </tr>\n",
              "    <tr>\n",
              "      <th>1</th>\n",
              "      <td>ham</td>\n",
              "      <td>Ok lar... Joking wif u oni...</td>\n",
              "      <td>ok lar... joking wif u oni...</td>\n",
              "      <td>ok lar... joking wif u oni...</td>\n",
              "      <td>ok lar... joking wif u oni...</td>\n",
              "      <td>ok lar joking wif u oni</td>\n",
              "      <td>ok lar joking wif u oni</td>\n",
              "      <td>ok lar joking wif u oni</td>\n",
              "    </tr>\n",
              "    <tr>\n",
              "      <th>2</th>\n",
              "      <td>spam</td>\n",
              "      <td>Free entry in 2 a wkly comp to win FA Cup fina...</td>\n",
              "      <td>free entry in 2 a wkly comp to win fa cup fina...</td>\n",
              "      <td>free entry in 2 a wkly comp to win fa cup fina...</td>\n",
              "      <td>free entry in  a wkly comp to win fa cup final...</td>\n",
              "      <td>free entry in  a wkly comp to win fa cup final...</td>\n",
              "      <td>free entry wkly comp win fa cup final tkts st ...</td>\n",
              "      <td>free entry wkly comp win fa cup final tkts st ...</td>\n",
              "    </tr>\n",
              "    <tr>\n",
              "      <th>3</th>\n",
              "      <td>ham</td>\n",
              "      <td>U dun say so early hor... U c already then say...</td>\n",
              "      <td>u dun say so early hor... u c already then say...</td>\n",
              "      <td>u dun say so early hor... u c already then say...</td>\n",
              "      <td>u dun say so early hor... u c already then say...</td>\n",
              "      <td>u dun say so early hor u c already then say</td>\n",
              "      <td>u dun say early hor u c already say</td>\n",
              "      <td>u dun say early hor u c already say</td>\n",
              "    </tr>\n",
              "    <tr>\n",
              "      <th>4</th>\n",
              "      <td>ham</td>\n",
              "      <td>Nah I don't think he goes to usf, he lives aro...</td>\n",
              "      <td>nah i don't think he goes to usf, he lives aro...</td>\n",
              "      <td>nah i do not think he goes to usf, he lives ar...</td>\n",
              "      <td>nah i do not think he goes to usf, he lives ar...</td>\n",
              "      <td>nah i do not think he goes to usf he lives aro...</td>\n",
              "      <td>nah not think goes usf lives around though</td>\n",
              "      <td>nah not think goes usf lives around though</td>\n",
              "    </tr>\n",
              "    <tr>\n",
              "      <th>...</th>\n",
              "      <td>...</td>\n",
              "      <td>...</td>\n",
              "      <td>...</td>\n",
              "      <td>...</td>\n",
              "      <td>...</td>\n",
              "      <td>...</td>\n",
              "      <td>...</td>\n",
              "      <td>...</td>\n",
              "    </tr>\n",
              "    <tr>\n",
              "      <th>5567</th>\n",
              "      <td>spam</td>\n",
              "      <td>This is the 2nd time we have tried 2 contact u...</td>\n",
              "      <td>this is the 2nd time we have tried 2 contact u...</td>\n",
              "      <td>this is the 2nd time we have tried 2 contact u...</td>\n",
              "      <td>this is the nd time we have tried  contact u. ...</td>\n",
              "      <td>this is the nd time we have tried  contact u u...</td>\n",
              "      <td>nd time tried contact u u £ pound prize claim ...</td>\n",
              "      <td>nd time tried contact u u £ pound prize claim ...</td>\n",
              "    </tr>\n",
              "    <tr>\n",
              "      <th>5568</th>\n",
              "      <td>ham</td>\n",
              "      <td>Will ü b going to esplanade fr home?</td>\n",
              "      <td>will ü b going to esplanade fr home?</td>\n",
              "      <td>will ü b going to esplanade fr home?</td>\n",
              "      <td>will ü b going to esplanade fr home?</td>\n",
              "      <td>will ü b going to esplanade fr home</td>\n",
              "      <td>ü b going esplanade fr home</td>\n",
              "      <td>ü b going esplanade fr home</td>\n",
              "    </tr>\n",
              "    <tr>\n",
              "      <th>5569</th>\n",
              "      <td>ham</td>\n",
              "      <td>Pity, * was in mood for that. So...any other s...</td>\n",
              "      <td>pity, * was in mood for that. so...any other s...</td>\n",
              "      <td>pity, * was in mood for that. so...any other s...</td>\n",
              "      <td>pity, * was in mood for that. so...any other s...</td>\n",
              "      <td>pity  was in mood for that soany other suggest...</td>\n",
              "      <td>pity mood soany suggestions</td>\n",
              "      <td>pity mood soany suggestions</td>\n",
              "    </tr>\n",
              "    <tr>\n",
              "      <th>5570</th>\n",
              "      <td>ham</td>\n",
              "      <td>The guy did some bitching but I acted like i'd...</td>\n",
              "      <td>the guy did some bitching but i acted like i'd...</td>\n",
              "      <td>the guy did some bitching but i acted like i h...</td>\n",
              "      <td>the guy did some bitching but i acted like i h...</td>\n",
              "      <td>the guy did some bitching but i acted like i h...</td>\n",
              "      <td>guy bitching acted like interested buying some...</td>\n",
              "      <td>guy bitching acted like interested buying some...</td>\n",
              "    </tr>\n",
              "    <tr>\n",
              "      <th>5571</th>\n",
              "      <td>ham</td>\n",
              "      <td>Rofl. Its true to its name</td>\n",
              "      <td>rofl. its true to its name</td>\n",
              "      <td>rofl. its true to its name</td>\n",
              "      <td>rofl. its true to its name</td>\n",
              "      <td>rofl its true to its name</td>\n",
              "      <td>rofl true name</td>\n",
              "      <td>rofl true name</td>\n",
              "    </tr>\n",
              "  </tbody>\n",
              "</table>\n",
              "<p>5572 rows × 8 columns</p>\n",
              "</div>\n",
              "    <div class=\"colab-df-buttons\">\n",
              "\n",
              "  <div class=\"colab-df-container\">\n",
              "    <button class=\"colab-df-convert\" onclick=\"convertToInteractive('df-bd62c95f-d8a6-49d3-b1bb-fe98d233ac98')\"\n",
              "            title=\"Convert this dataframe to an interactive table.\"\n",
              "            style=\"display:none;\">\n",
              "\n",
              "  <svg xmlns=\"http://www.w3.org/2000/svg\" height=\"24px\" viewBox=\"0 -960 960 960\">\n",
              "    <path d=\"M120-120v-720h720v720H120Zm60-500h600v-160H180v160Zm220 220h160v-160H400v160Zm0 220h160v-160H400v160ZM180-400h160v-160H180v160Zm440 0h160v-160H620v160ZM180-180h160v-160H180v160Zm440 0h160v-160H620v160Z\"/>\n",
              "  </svg>\n",
              "    </button>\n",
              "\n",
              "  <style>\n",
              "    .colab-df-container {\n",
              "      display:flex;\n",
              "      gap: 12px;\n",
              "    }\n",
              "\n",
              "    .colab-df-convert {\n",
              "      background-color: #E8F0FE;\n",
              "      border: none;\n",
              "      border-radius: 50%;\n",
              "      cursor: pointer;\n",
              "      display: none;\n",
              "      fill: #1967D2;\n",
              "      height: 32px;\n",
              "      padding: 0 0 0 0;\n",
              "      width: 32px;\n",
              "    }\n",
              "\n",
              "    .colab-df-convert:hover {\n",
              "      background-color: #E2EBFA;\n",
              "      box-shadow: 0px 1px 2px rgba(60, 64, 67, 0.3), 0px 1px 3px 1px rgba(60, 64, 67, 0.15);\n",
              "      fill: #174EA6;\n",
              "    }\n",
              "\n",
              "    .colab-df-buttons div {\n",
              "      margin-bottom: 4px;\n",
              "    }\n",
              "\n",
              "    [theme=dark] .colab-df-convert {\n",
              "      background-color: #3B4455;\n",
              "      fill: #D2E3FC;\n",
              "    }\n",
              "\n",
              "    [theme=dark] .colab-df-convert:hover {\n",
              "      background-color: #434B5C;\n",
              "      box-shadow: 0px 1px 3px 1px rgba(0, 0, 0, 0.15);\n",
              "      filter: drop-shadow(0px 1px 2px rgba(0, 0, 0, 0.3));\n",
              "      fill: #FFFFFF;\n",
              "    }\n",
              "  </style>\n",
              "\n",
              "    <script>\n",
              "      const buttonEl =\n",
              "        document.querySelector('#df-bd62c95f-d8a6-49d3-b1bb-fe98d233ac98 button.colab-df-convert');\n",
              "      buttonEl.style.display =\n",
              "        google.colab.kernel.accessAllowed ? 'block' : 'none';\n",
              "\n",
              "      async function convertToInteractive(key) {\n",
              "        const element = document.querySelector('#df-bd62c95f-d8a6-49d3-b1bb-fe98d233ac98');\n",
              "        const dataTable =\n",
              "          await google.colab.kernel.invokeFunction('convertToInteractive',\n",
              "                                                    [key], {});\n",
              "        if (!dataTable) return;\n",
              "\n",
              "        const docLinkHtml = 'Like what you see? Visit the ' +\n",
              "          '<a target=\"_blank\" href=https://colab.research.google.com/notebooks/data_table.ipynb>data table notebook</a>'\n",
              "          + ' to learn more about interactive tables.';\n",
              "        element.innerHTML = '';\n",
              "        dataTable['output_type'] = 'display_data';\n",
              "        await google.colab.output.renderOutput(dataTable, element);\n",
              "        const docLink = document.createElement('div');\n",
              "        docLink.innerHTML = docLinkHtml;\n",
              "        element.appendChild(docLink);\n",
              "      }\n",
              "    </script>\n",
              "  </div>\n",
              "\n",
              "\n",
              "    <div id=\"df-9c9026b4-1809-485a-a1d5-b261c3277b74\">\n",
              "      <button class=\"colab-df-quickchart\" onclick=\"quickchart('df-9c9026b4-1809-485a-a1d5-b261c3277b74')\"\n",
              "                title=\"Suggest charts\"\n",
              "                style=\"display:none;\">\n",
              "\n",
              "<svg xmlns=\"http://www.w3.org/2000/svg\" height=\"24px\"viewBox=\"0 0 24 24\"\n",
              "     width=\"24px\">\n",
              "    <g>\n",
              "        <path d=\"M19 3H5c-1.1 0-2 .9-2 2v14c0 1.1.9 2 2 2h14c1.1 0 2-.9 2-2V5c0-1.1-.9-2-2-2zM9 17H7v-7h2v7zm4 0h-2V7h2v10zm4 0h-2v-4h2v4z\"/>\n",
              "    </g>\n",
              "</svg>\n",
              "      </button>\n",
              "\n",
              "<style>\n",
              "  .colab-df-quickchart {\n",
              "      --bg-color: #E8F0FE;\n",
              "      --fill-color: #1967D2;\n",
              "      --hover-bg-color: #E2EBFA;\n",
              "      --hover-fill-color: #174EA6;\n",
              "      --disabled-fill-color: #AAA;\n",
              "      --disabled-bg-color: #DDD;\n",
              "  }\n",
              "\n",
              "  [theme=dark] .colab-df-quickchart {\n",
              "      --bg-color: #3B4455;\n",
              "      --fill-color: #D2E3FC;\n",
              "      --hover-bg-color: #434B5C;\n",
              "      --hover-fill-color: #FFFFFF;\n",
              "      --disabled-bg-color: #3B4455;\n",
              "      --disabled-fill-color: #666;\n",
              "  }\n",
              "\n",
              "  .colab-df-quickchart {\n",
              "    background-color: var(--bg-color);\n",
              "    border: none;\n",
              "    border-radius: 50%;\n",
              "    cursor: pointer;\n",
              "    display: none;\n",
              "    fill: var(--fill-color);\n",
              "    height: 32px;\n",
              "    padding: 0;\n",
              "    width: 32px;\n",
              "  }\n",
              "\n",
              "  .colab-df-quickchart:hover {\n",
              "    background-color: var(--hover-bg-color);\n",
              "    box-shadow: 0 1px 2px rgba(60, 64, 67, 0.3), 0 1px 3px 1px rgba(60, 64, 67, 0.15);\n",
              "    fill: var(--button-hover-fill-color);\n",
              "  }\n",
              "\n",
              "  .colab-df-quickchart-complete:disabled,\n",
              "  .colab-df-quickchart-complete:disabled:hover {\n",
              "    background-color: var(--disabled-bg-color);\n",
              "    fill: var(--disabled-fill-color);\n",
              "    box-shadow: none;\n",
              "  }\n",
              "\n",
              "  .colab-df-spinner {\n",
              "    border: 2px solid var(--fill-color);\n",
              "    border-color: transparent;\n",
              "    border-bottom-color: var(--fill-color);\n",
              "    animation:\n",
              "      spin 1s steps(1) infinite;\n",
              "  }\n",
              "\n",
              "  @keyframes spin {\n",
              "    0% {\n",
              "      border-color: transparent;\n",
              "      border-bottom-color: var(--fill-color);\n",
              "      border-left-color: var(--fill-color);\n",
              "    }\n",
              "    20% {\n",
              "      border-color: transparent;\n",
              "      border-left-color: var(--fill-color);\n",
              "      border-top-color: var(--fill-color);\n",
              "    }\n",
              "    30% {\n",
              "      border-color: transparent;\n",
              "      border-left-color: var(--fill-color);\n",
              "      border-top-color: var(--fill-color);\n",
              "      border-right-color: var(--fill-color);\n",
              "    }\n",
              "    40% {\n",
              "      border-color: transparent;\n",
              "      border-right-color: var(--fill-color);\n",
              "      border-top-color: var(--fill-color);\n",
              "    }\n",
              "    60% {\n",
              "      border-color: transparent;\n",
              "      border-right-color: var(--fill-color);\n",
              "    }\n",
              "    80% {\n",
              "      border-color: transparent;\n",
              "      border-right-color: var(--fill-color);\n",
              "      border-bottom-color: var(--fill-color);\n",
              "    }\n",
              "    90% {\n",
              "      border-color: transparent;\n",
              "      border-bottom-color: var(--fill-color);\n",
              "    }\n",
              "  }\n",
              "</style>\n",
              "\n",
              "      <script>\n",
              "        async function quickchart(key) {\n",
              "          const quickchartButtonEl =\n",
              "            document.querySelector('#' + key + ' button');\n",
              "          quickchartButtonEl.disabled = true;  // To prevent multiple clicks.\n",
              "          quickchartButtonEl.classList.add('colab-df-spinner');\n",
              "          try {\n",
              "            const charts = await google.colab.kernel.invokeFunction(\n",
              "                'suggestCharts', [key], {});\n",
              "          } catch (error) {\n",
              "            console.error('Error during call to suggestCharts:', error);\n",
              "          }\n",
              "          quickchartButtonEl.classList.remove('colab-df-spinner');\n",
              "          quickchartButtonEl.classList.add('colab-df-quickchart-complete');\n",
              "        }\n",
              "        (() => {\n",
              "          let quickchartButtonEl =\n",
              "            document.querySelector('#df-9c9026b4-1809-485a-a1d5-b261c3277b74 button');\n",
              "          quickchartButtonEl.style.display =\n",
              "            google.colab.kernel.accessAllowed ? 'block' : 'none';\n",
              "        })();\n",
              "      </script>\n",
              "    </div>\n",
              "\n",
              "  <div id=\"id_ce95ade9-936a-4d78-b979-b68678a08f12\">\n",
              "    <style>\n",
              "      .colab-df-generate {\n",
              "        background-color: #E8F0FE;\n",
              "        border: none;\n",
              "        border-radius: 50%;\n",
              "        cursor: pointer;\n",
              "        display: none;\n",
              "        fill: #1967D2;\n",
              "        height: 32px;\n",
              "        padding: 0 0 0 0;\n",
              "        width: 32px;\n",
              "      }\n",
              "\n",
              "      .colab-df-generate:hover {\n",
              "        background-color: #E2EBFA;\n",
              "        box-shadow: 0px 1px 2px rgba(60, 64, 67, 0.3), 0px 1px 3px 1px rgba(60, 64, 67, 0.15);\n",
              "        fill: #174EA6;\n",
              "      }\n",
              "\n",
              "      [theme=dark] .colab-df-generate {\n",
              "        background-color: #3B4455;\n",
              "        fill: #D2E3FC;\n",
              "      }\n",
              "\n",
              "      [theme=dark] .colab-df-generate:hover {\n",
              "        background-color: #434B5C;\n",
              "        box-shadow: 0px 1px 3px 1px rgba(0, 0, 0, 0.15);\n",
              "        filter: drop-shadow(0px 1px 2px rgba(0, 0, 0, 0.3));\n",
              "        fill: #FFFFFF;\n",
              "      }\n",
              "    </style>\n",
              "    <button class=\"colab-df-generate\" onclick=\"generateWithVariable('df')\"\n",
              "            title=\"Generate code using this dataframe.\"\n",
              "            style=\"display:none;\">\n",
              "\n",
              "  <svg xmlns=\"http://www.w3.org/2000/svg\" height=\"24px\"viewBox=\"0 0 24 24\"\n",
              "       width=\"24px\">\n",
              "    <path d=\"M7,19H8.4L18.45,9,17,7.55,7,17.6ZM5,21V16.75L18.45,3.32a2,2,0,0,1,2.83,0l1.4,1.43a1.91,1.91,0,0,1,.58,1.4,1.91,1.91,0,0,1-.58,1.4L9.25,21ZM18.45,9,17,7.55Zm-12,3A5.31,5.31,0,0,0,4.9,8.1,5.31,5.31,0,0,0,1,6.5,5.31,5.31,0,0,0,4.9,4.9,5.31,5.31,0,0,0,6.5,1,5.31,5.31,0,0,0,8.1,4.9,5.31,5.31,0,0,0,12,6.5,5.46,5.46,0,0,0,6.5,12Z\"/>\n",
              "  </svg>\n",
              "    </button>\n",
              "    <script>\n",
              "      (() => {\n",
              "      const buttonEl =\n",
              "        document.querySelector('#id_ce95ade9-936a-4d78-b979-b68678a08f12 button.colab-df-generate');\n",
              "      buttonEl.style.display =\n",
              "        google.colab.kernel.accessAllowed ? 'block' : 'none';\n",
              "\n",
              "      buttonEl.onclick = () => {\n",
              "        google.colab.notebook.generateWithVariable('df');\n",
              "      }\n",
              "      })();\n",
              "    </script>\n",
              "  </div>\n",
              "\n",
              "    </div>\n",
              "  </div>\n"
            ],
            "application/vnd.google.colaboratory.intrinsic+json": {
              "type": "dataframe",
              "variable_name": "df",
              "summary": "{\n  \"name\": \"df\",\n  \"rows\": 5572,\n  \"fields\": [\n    {\n      \"column\": \"label\",\n      \"properties\": {\n        \"dtype\": \"category\",\n        \"num_unique_values\": 2,\n        \"samples\": [\n          \"spam\",\n          \"ham\"\n        ],\n        \"semantic_type\": \"\",\n        \"description\": \"\"\n      }\n    },\n    {\n      \"column\": \"message\",\n      \"properties\": {\n        \"dtype\": \"string\",\n        \"num_unique_values\": 5169,\n        \"samples\": [\n          \"K, makes sense, btw carlos is being difficult so you guys are gonna smoke while I go pick up the second batch and get gas\",\n          \"URGENT! Your mobile No *********** WON a \\u00a32,000 Bonus Caller Prize on 02/06/03! This is the 2nd attempt to reach YOU! Call 09066362220 ASAP! BOX97N7QP, 150ppm\"\n        ],\n        \"semantic_type\": \"\",\n        \"description\": \"\"\n      }\n    },\n    {\n      \"column\": \"prep1\",\n      \"properties\": {\n        \"dtype\": \"string\",\n        \"num_unique_values\": 5168,\n        \"samples\": [\n          \"me sef dey laugh you. meanwhile how's my darling anjie!\",\n          \"apart from the one i told you about yesterday?\"\n        ],\n        \"semantic_type\": \"\",\n        \"description\": \"\"\n      }\n    },\n    {\n      \"column\": \"prep2\",\n      \"properties\": {\n        \"dtype\": \"string\",\n        \"num_unique_values\": 5157,\n        \"samples\": [\n          \"what is your record for one night? :)\",\n          \"are you free now?can i call now?\"\n        ],\n        \"semantic_type\": \"\",\n        \"description\": \"\"\n      }\n    },\n    {\n      \"column\": \"prep3\",\n      \"properties\": {\n        \"dtype\": \"string\",\n        \"num_unique_values\": 5135,\n        \"samples\": [\n          \":-( sad puppy noise\",\n          \"i was about to do it when i texted. i finished a long time ago and showered and er'ything!\"\n        ],\n        \"semantic_type\": \"\",\n        \"description\": \"\"\n      }\n    },\n    {\n      \"column\": \"prep4\",\n      \"properties\": {\n        \"dtype\": \"string\",\n        \"num_unique_values\": 5105,\n        \"samples\": [\n          \"nothing smsing u n xy lor sorry lor da guys neva c u in person but they sort of know u lor so u wan  meet them xy ask me  bring u along  our next meeting\",\n          \"gud mrng dear have a nice day\"\n        ],\n        \"semantic_type\": \"\",\n        \"description\": \"\"\n      }\n    },\n    {\n      \"column\": \"prep5\",\n      \"properties\": {\n        \"dtype\": \"string\",\n        \"num_unique_values\": 5075,\n        \"samples\": [\n          \"wanna watch movie\",\n          \"not forget owns private property good boy always passionate kiss\"\n        ],\n        \"semantic_type\": \"\",\n        \"description\": \"\"\n      }\n    },\n    {\n      \"column\": \"prep6\",\n      \"properties\": {\n        \"dtype\": \"string\",\n        \"num_unique_values\": 5075,\n        \"samples\": [\n          \"wanna watch movie\",\n          \"not forget owns private property good boy always passionate kiss\"\n        ],\n        \"semantic_type\": \"\",\n        \"description\": \"\"\n      }\n    }\n  ]\n}"
            }
          },
          "metadata": {},
          "execution_count": 37
        }
      ],
      "source": [
        "# Applying the function\n",
        "combine_cleaning(df['message'])"
      ]
    },
    {
      "cell_type": "markdown",
      "source": [
        "## Preprocessing Part 2\n",
        "\n",
        "In this part, we will use stemming and lemmatization for preprocessing text. Stemming and lemmatization are both techniques used in Natural Language Processing (NLP) **to reduce words to their base or root form**, but they work differently."
      ],
      "metadata": {
        "id": "5mHdFtz1BZJj"
      }
    },
    {
      "cell_type": "code",
      "execution_count": 41,
      "metadata": {
        "id": "u9j0mdlcVDGc"
      },
      "outputs": [],
      "source": [
        "# Importing library\n",
        "from nltk.stem import SnowballStemmer, WordNetLemmatizer"
      ]
    },
    {
      "cell_type": "markdown",
      "metadata": {
        "id": "_EGkzHYpVDGd"
      },
      "source": [
        "### Stemming\n",
        "\n",
        "* Stemming cuts off prefixes or suffixes to get the root form of a word.\n",
        "* It doesn’t care if the result is a real word."
      ]
    },
    {
      "cell_type": "code",
      "execution_count": 42,
      "metadata": {
        "colab": {
          "base_uri": "https://localhost:8080/",
          "height": 36
        },
        "id": "NKSSEEaSVDGd",
        "outputId": "e463341d-4bdb-4b63-c03e-f0c58cfb553f"
      },
      "outputs": [
        {
          "output_type": "execute_result",
          "data": {
            "text/plain": [
              "'care caring cared car'"
            ],
            "application/vnd.google.colaboratory.intrinsic+json": {
              "type": "string"
            }
          },
          "metadata": {},
          "execution_count": 42
        }
      ],
      "source": [
        "# Stemming\n",
        "stemmer = SnowballStemmer('english')\n",
        "\n",
        "stemming_example = 'care caring cared carefully'\n",
        "\n",
        "stemmer.stem(stemming_example)"
      ]
    },
    {
      "cell_type": "code",
      "execution_count": 43,
      "metadata": {
        "colab": {
          "base_uri": "https://localhost:8080/"
        },
        "id": "_CzIQb0zVDGd",
        "outputId": "4443204c-c7e2-48f5-d798-436b0f669072"
      },
      "outputs": [
        {
          "output_type": "execute_result",
          "data": {
            "text/plain": [
              "['care', 'caring', 'cared', 'carefully']"
            ]
          },
          "metadata": {},
          "execution_count": 43
        }
      ],
      "source": [
        "# Perform word tokenization\n",
        "nltk.word_tokenize(stemming_example)"
      ]
    },
    {
      "cell_type": "code",
      "execution_count": null,
      "metadata": {
        "id": "23MmYB5eVDGe"
      },
      "outputs": [],
      "source": [
        "# Looking for base root\n",
        "[stemmer.stem(i) for i in nltk.word_tokenize(stemming_example)]"
      ]
    },
    {
      "cell_type": "code",
      "source": [
        "df['prep6']"
      ],
      "metadata": {
        "colab": {
          "base_uri": "https://localhost:8080/",
          "height": 458
        },
        "id": "1ntdMnlHHSw4",
        "outputId": "f2bd9d61-c154-4e32-8b51-e0847a4391b0"
      },
      "execution_count": 44,
      "outputs": [
        {
          "output_type": "execute_result",
          "data": {
            "text/plain": [
              "0       go jurong point crazy available bugis n great ...\n",
              "1                                 ok lar joking wif u oni\n",
              "2       free entry wkly comp win fa cup final tkts st ...\n",
              "3                     u dun say early hor u c already say\n",
              "4              nah not think goes usf lives around though\n",
              "                              ...                        \n",
              "5567    nd time tried contact u u £ pound prize claim ...\n",
              "5568                          ü b going esplanade fr home\n",
              "5569                          pity mood soany suggestions\n",
              "5570    guy bitching acted like interested buying some...\n",
              "5571                                       rofl true name\n",
              "Name: prep6, Length: 5572, dtype: object"
            ],
            "text/html": [
              "<div>\n",
              "<style scoped>\n",
              "    .dataframe tbody tr th:only-of-type {\n",
              "        vertical-align: middle;\n",
              "    }\n",
              "\n",
              "    .dataframe tbody tr th {\n",
              "        vertical-align: top;\n",
              "    }\n",
              "\n",
              "    .dataframe thead th {\n",
              "        text-align: right;\n",
              "    }\n",
              "</style>\n",
              "<table border=\"1\" class=\"dataframe\">\n",
              "  <thead>\n",
              "    <tr style=\"text-align: right;\">\n",
              "      <th></th>\n",
              "      <th>prep6</th>\n",
              "    </tr>\n",
              "  </thead>\n",
              "  <tbody>\n",
              "    <tr>\n",
              "      <th>0</th>\n",
              "      <td>go jurong point crazy available bugis n great ...</td>\n",
              "    </tr>\n",
              "    <tr>\n",
              "      <th>1</th>\n",
              "      <td>ok lar joking wif u oni</td>\n",
              "    </tr>\n",
              "    <tr>\n",
              "      <th>2</th>\n",
              "      <td>free entry wkly comp win fa cup final tkts st ...</td>\n",
              "    </tr>\n",
              "    <tr>\n",
              "      <th>3</th>\n",
              "      <td>u dun say early hor u c already say</td>\n",
              "    </tr>\n",
              "    <tr>\n",
              "      <th>4</th>\n",
              "      <td>nah not think goes usf lives around though</td>\n",
              "    </tr>\n",
              "    <tr>\n",
              "      <th>...</th>\n",
              "      <td>...</td>\n",
              "    </tr>\n",
              "    <tr>\n",
              "      <th>5567</th>\n",
              "      <td>nd time tried contact u u £ pound prize claim ...</td>\n",
              "    </tr>\n",
              "    <tr>\n",
              "      <th>5568</th>\n",
              "      <td>ü b going esplanade fr home</td>\n",
              "    </tr>\n",
              "    <tr>\n",
              "      <th>5569</th>\n",
              "      <td>pity mood soany suggestions</td>\n",
              "    </tr>\n",
              "    <tr>\n",
              "      <th>5570</th>\n",
              "      <td>guy bitching acted like interested buying some...</td>\n",
              "    </tr>\n",
              "    <tr>\n",
              "      <th>5571</th>\n",
              "      <td>rofl true name</td>\n",
              "    </tr>\n",
              "  </tbody>\n",
              "</table>\n",
              "<p>5572 rows × 1 columns</p>\n",
              "</div><br><label><b>dtype:</b> object</label>"
            ]
          },
          "metadata": {},
          "execution_count": 44
        }
      ]
    },
    {
      "cell_type": "code",
      "execution_count": 45,
      "metadata": {
        "colab": {
          "base_uri": "https://localhost:8080/",
          "height": 36
        },
        "id": "QmylH1xRVDGe",
        "outputId": "4ccddde8-b7c5-4a13-edef-1597e203985e"
      },
      "outputs": [
        {
          "output_type": "execute_result",
          "data": {
            "text/plain": [
              "'go jurong point crazy available bugis n great world la e buffet cine got amore wat'"
            ],
            "application/vnd.google.colaboratory.intrinsic+json": {
              "type": "string"
            }
          },
          "metadata": {},
          "execution_count": 45
        }
      ],
      "source": [
        "df['prep6'][0]"
      ]
    },
    {
      "cell_type": "code",
      "execution_count": 46,
      "metadata": {
        "colab": {
          "base_uri": "https://localhost:8080/",
          "height": 36
        },
        "id": "KLLO4ZnCVDGe",
        "outputId": "47679bb2-9a6e-4cda-c09e-113f3713fca4"
      },
      "outputs": [
        {
          "output_type": "execute_result",
          "data": {
            "text/plain": [
              "'go jurong point crazi avail bugi n great world la e buffet cine got amor wat'"
            ],
            "application/vnd.google.colaboratory.intrinsic+json": {
              "type": "string"
            }
          },
          "metadata": {},
          "execution_count": 46
        }
      ],
      "source": [
        "# Stemming\n",
        "text = df['prep6'][0]\n",
        "list_result1 = []\n",
        "\n",
        "for sentence in nltk.sent_tokenize(text):        # Split paragraph into sentences\n",
        "    for word in nltk.word_tokenize(sentence):    # Split sentences into words\n",
        "        list_result1.append(stemmer.stem(word))  # Transform words into their base or root form\n",
        "\n",
        "result = ' '.join(list_result1)\n",
        "result"
      ]
    },
    {
      "cell_type": "code",
      "execution_count": 47,
      "metadata": {
        "id": "iXt8XGoQVDGf"
      },
      "outputs": [],
      "source": [
        "# Function for Stemming\n",
        "def stem(text):\n",
        "\n",
        "    list_hasil = []\n",
        "\n",
        "    for sentence in nltk.sent_tokenize(text):     # Split paragraph into sentences\n",
        "      for word in nltk.word_tokenize(sentence):   # Split sentences into words\n",
        "        list_result1.append(stemmer.stem(word))   # Transform words into their base or root form\n",
        "\n",
        "    result = ' '.join(list_hasil)\n",
        "    return result"
      ]
    },
    {
      "cell_type": "code",
      "execution_count": 48,
      "metadata": {
        "colab": {
          "base_uri": "https://localhost:8080/",
          "height": 36
        },
        "id": "kH24QfU_VDGf",
        "outputId": "fe24723f-6ce5-4ace-f707-e5cc107011cb"
      },
      "outputs": [
        {
          "output_type": "execute_result",
          "data": {
            "text/plain": [
              "'go jurong point crazi avail bugi n great world la e buffet cine got amor wat'"
            ],
            "application/vnd.google.colaboratory.intrinsic+json": {
              "type": "string"
            }
          },
          "metadata": {},
          "execution_count": 48
        }
      ],
      "source": [
        "# Applying the stemming function\n",
        "stem(df['prep6'][0])"
      ]
    },
    {
      "cell_type": "markdown",
      "metadata": {
        "id": "ggp6v6CZVDGf"
      },
      "source": [
        "### Lemmatization\n",
        "\n",
        "* Lemmatization uses vocabulary and grammar (e.g., part-of-speech) to return the proper dictionary word (lemma).\n",
        "* It ensures the result is a real word."
      ]
    },
    {
      "cell_type": "code",
      "execution_count": 49,
      "metadata": {
        "colab": {
          "base_uri": "https://localhost:8080/"
        },
        "id": "FauYVpUYVDGf",
        "outputId": "be37571e-a4f9-4ee1-9b9c-c8c6372dcd7a"
      },
      "outputs": [
        {
          "output_type": "stream",
          "name": "stderr",
          "text": [
            "[nltk_data] Downloading package wordnet to /root/nltk_data...\n"
          ]
        },
        {
          "output_type": "execute_result",
          "data": {
            "text/plain": [
              "True"
            ]
          },
          "metadata": {},
          "execution_count": 49
        }
      ],
      "source": [
        "# Downloading wordnet package\n",
        "nltk.download('wordnet')"
      ]
    },
    {
      "cell_type": "code",
      "execution_count": 50,
      "metadata": {
        "colab": {
          "base_uri": "https://localhost:8080/"
        },
        "id": "Z68tOEcNVDGg",
        "outputId": "8b94d6c3-4fd0-46bf-f9a7-1dd9b2e7ee5e"
      },
      "outputs": [
        {
          "output_type": "execute_result",
          "data": {
            "text/plain": [
              "['care', 'care', 'cared', 'caring', 'carefully']"
            ]
          },
          "metadata": {},
          "execution_count": 50
        }
      ],
      "source": [
        "# Lemmatization\n",
        "lemmatizer = WordNetLemmatizer()\n",
        "\n",
        "words = 'care cares cared caring carefully'\n",
        "\n",
        "[lemmatizer.lemmatize(i) for i in nltk.word_tokenize(words)]"
      ]
    },
    {
      "cell_type": "code",
      "execution_count": 51,
      "metadata": {
        "id": "Av3jyq-uVDGg"
      },
      "outputs": [],
      "source": [
        "# Function for lemmatization\n",
        "def lemmatize(text):\n",
        "\n",
        "    list_output = []\n",
        "\n",
        "    for sentence in nltk.sent_tokenize(text):                 # Split paragraph into sentences\n",
        "        for word in nltk.word_tokenize(sentence):             # Split sentences into words\n",
        "            list_output.append(lemmatizer.lemmatize(word))    # Transform words into their base or root form\n",
        "\n",
        "    output = ' '.join(list_output)\n",
        "    return output"
      ]
    },
    {
      "cell_type": "code",
      "execution_count": 52,
      "metadata": {
        "colab": {
          "base_uri": "https://localhost:8080/",
          "height": 36
        },
        "id": "cELFjXYOVDGh",
        "outputId": "219f7526-504e-4c85-d9ef-8bcaad7357bb"
      },
      "outputs": [
        {
          "output_type": "execute_result",
          "data": {
            "text/plain": [
              "'go jurong point crazy available bugis n great world la e buffet cine got amore wat'"
            ],
            "application/vnd.google.colaboratory.intrinsic+json": {
              "type": "string"
            }
          },
          "metadata": {},
          "execution_count": 52
        }
      ],
      "source": [
        "# Implementing lemmatization\n",
        "lemmatize(df['prep6'][0])"
      ]
    },
    {
      "cell_type": "markdown",
      "metadata": {
        "id": "2H--V9XaVDGh"
      },
      "source": [
        "---\n",
        "## Combine Preprocessing Part 1 & Part 2"
      ]
    },
    {
      "cell_type": "code",
      "execution_count": 53,
      "metadata": {
        "colab": {
          "base_uri": "https://localhost:8080/",
          "height": 857
        },
        "id": "d5rpOxluVDGh",
        "outputId": "950bd173-fa8a-446a-fd06-e7eebd8b5244"
      },
      "outputs": [
        {
          "output_type": "execute_result",
          "data": {
            "text/plain": [
              "     label                                            message  \\\n",
              "0      ham  Go until jurong point, crazy.. Available only ...   \n",
              "1      ham                      Ok lar... Joking wif u oni...   \n",
              "2     spam  Free entry in 2 a wkly comp to win FA Cup fina...   \n",
              "3      ham  U dun say so early hor... U c already then say...   \n",
              "4      ham  Nah I don't think he goes to usf, he lives aro...   \n",
              "...    ...                                                ...   \n",
              "5567  spam  This is the 2nd time we have tried 2 contact u...   \n",
              "5568   ham               Will ü b going to esplanade fr home?   \n",
              "5569   ham  Pity, * was in mood for that. So...any other s...   \n",
              "5570   ham  The guy did some bitching but I acted like i'd...   \n",
              "5571   ham                         Rofl. Its true to its name   \n",
              "\n",
              "                                                  prep1  \\\n",
              "0     go until jurong point, crazy.. available only ...   \n",
              "1                         ok lar... joking wif u oni...   \n",
              "2     free entry in 2 a wkly comp to win fa cup fina...   \n",
              "3     u dun say so early hor... u c already then say...   \n",
              "4     nah i don't think he goes to usf, he lives aro...   \n",
              "...                                                 ...   \n",
              "5567  this is the 2nd time we have tried 2 contact u...   \n",
              "5568               will ü b going to esplanade fr home?   \n",
              "5569  pity, * was in mood for that. so...any other s...   \n",
              "5570  the guy did some bitching but i acted like i'd...   \n",
              "5571                         rofl. its true to its name   \n",
              "\n",
              "                                                  prep2  \\\n",
              "0     go until jurong point, crazy.. available only ...   \n",
              "1                         ok lar... joking wif u oni...   \n",
              "2     free entry in 2 a wkly comp to win fa cup fina...   \n",
              "3     u dun say so early hor... u c already then say...   \n",
              "4     nah i do not think he goes to usf, he lives ar...   \n",
              "...                                                 ...   \n",
              "5567  this is the 2nd time we have tried 2 contact u...   \n",
              "5568               will ü b going to esplanade fr home?   \n",
              "5569  pity, * was in mood for that. so...any other s...   \n",
              "5570  the guy did some bitching but i acted like i h...   \n",
              "5571                         rofl. its true to its name   \n",
              "\n",
              "                                                  prep3  \\\n",
              "0     go until jurong point, crazy.. available only ...   \n",
              "1                         ok lar... joking wif u oni...   \n",
              "2     free entry in  a wkly comp to win fa cup final...   \n",
              "3     u dun say so early hor... u c already then say...   \n",
              "4     nah i do not think he goes to usf, he lives ar...   \n",
              "...                                                 ...   \n",
              "5567  this is the nd time we have tried  contact u. ...   \n",
              "5568               will ü b going to esplanade fr home?   \n",
              "5569  pity, * was in mood for that. so...any other s...   \n",
              "5570  the guy did some bitching but i acted like i h...   \n",
              "5571                         rofl. its true to its name   \n",
              "\n",
              "                                                  prep4  \\\n",
              "0     go until jurong point crazy available only in ...   \n",
              "1                               ok lar joking wif u oni   \n",
              "2     free entry in  a wkly comp to win fa cup final...   \n",
              "3           u dun say so early hor u c already then say   \n",
              "4     nah i do not think he goes to usf he lives aro...   \n",
              "...                                                 ...   \n",
              "5567  this is the nd time we have tried  contact u u...   \n",
              "5568                will ü b going to esplanade fr home   \n",
              "5569  pity  was in mood for that soany other suggest...   \n",
              "5570  the guy did some bitching but i acted like i h...   \n",
              "5571                          rofl its true to its name   \n",
              "\n",
              "                                                  prep5  \\\n",
              "0     go jurong point crazy available bugis n great ...   \n",
              "1                               ok lar joking wif u oni   \n",
              "2     free entry wkly comp win fa cup final tkts st ...   \n",
              "3                   u dun say early hor u c already say   \n",
              "4            nah not think goes usf lives around though   \n",
              "...                                                 ...   \n",
              "5567  nd time tried contact u u £ pound prize claim ...   \n",
              "5568                        ü b going esplanade fr home   \n",
              "5569                        pity mood soany suggestions   \n",
              "5570  guy bitching acted like interested buying some...   \n",
              "5571                                     rofl true name   \n",
              "\n",
              "                                                  prep6  \\\n",
              "0     go jurong point crazy available bugis n great ...   \n",
              "1                               ok lar joking wif u oni   \n",
              "2     free entry wkly comp win fa cup final tkts st ...   \n",
              "3                   u dun say early hor u c already say   \n",
              "4            nah not think goes usf lives around though   \n",
              "...                                                 ...   \n",
              "5567  nd time tried contact u u £ pound prize claim ...   \n",
              "5568                        ü b going esplanade fr home   \n",
              "5569                        pity mood soany suggestions   \n",
              "5570  guy bitching acted like interested buying some...   \n",
              "5571                                     rofl true name   \n",
              "\n",
              "                                                   stem  \\\n",
              "0     go jurong point crazi avail bugi n great world...   \n",
              "1                                 ok lar joke wif u oni   \n",
              "2     free entri wkli comp win fa cup final tkts st ...   \n",
              "3                   u dun say earli hor u c alreadi say   \n",
              "4              nah not think goe usf live around though   \n",
              "...                                                 ...   \n",
              "5567  nd time tri contact u u £ pound prize claim ea...   \n",
              "5568                            ü b go esplanad fr home   \n",
              "5569                            piti mood soani suggest   \n",
              "5570  guy bitch act like interest buy someth els nex...   \n",
              "5571                                     rofl true name   \n",
              "\n",
              "                                              lemmatize  \n",
              "0     go jurong point crazy available bugis n great ...  \n",
              "1                               ok lar joking wif u oni  \n",
              "2     free entry wkly comp win fa cup final tkts st ...  \n",
              "3                   u dun say early hor u c already say  \n",
              "4               nah not think go usf life around though  \n",
              "...                                                 ...  \n",
              "5567  nd time tried contact u u £ pound prize claim ...  \n",
              "5568                        ü b going esplanade fr home  \n",
              "5569                         pity mood soany suggestion  \n",
              "5570  guy bitching acted like interested buying some...  \n",
              "5571                                     rofl true name  \n",
              "\n",
              "[5572 rows x 10 columns]"
            ],
            "text/html": [
              "\n",
              "  <div id=\"df-c815760e-cc0c-49b6-ba4f-5f9bc5fb7504\" class=\"colab-df-container\">\n",
              "    <div>\n",
              "<style scoped>\n",
              "    .dataframe tbody tr th:only-of-type {\n",
              "        vertical-align: middle;\n",
              "    }\n",
              "\n",
              "    .dataframe tbody tr th {\n",
              "        vertical-align: top;\n",
              "    }\n",
              "\n",
              "    .dataframe thead th {\n",
              "        text-align: right;\n",
              "    }\n",
              "</style>\n",
              "<table border=\"1\" class=\"dataframe\">\n",
              "  <thead>\n",
              "    <tr style=\"text-align: right;\">\n",
              "      <th></th>\n",
              "      <th>label</th>\n",
              "      <th>message</th>\n",
              "      <th>prep1</th>\n",
              "      <th>prep2</th>\n",
              "      <th>prep3</th>\n",
              "      <th>prep4</th>\n",
              "      <th>prep5</th>\n",
              "      <th>prep6</th>\n",
              "      <th>stem</th>\n",
              "      <th>lemmatize</th>\n",
              "    </tr>\n",
              "  </thead>\n",
              "  <tbody>\n",
              "    <tr>\n",
              "      <th>0</th>\n",
              "      <td>ham</td>\n",
              "      <td>Go until jurong point, crazy.. Available only ...</td>\n",
              "      <td>go until jurong point, crazy.. available only ...</td>\n",
              "      <td>go until jurong point, crazy.. available only ...</td>\n",
              "      <td>go until jurong point, crazy.. available only ...</td>\n",
              "      <td>go until jurong point crazy available only in ...</td>\n",
              "      <td>go jurong point crazy available bugis n great ...</td>\n",
              "      <td>go jurong point crazy available bugis n great ...</td>\n",
              "      <td>go jurong point crazi avail bugi n great world...</td>\n",
              "      <td>go jurong point crazy available bugis n great ...</td>\n",
              "    </tr>\n",
              "    <tr>\n",
              "      <th>1</th>\n",
              "      <td>ham</td>\n",
              "      <td>Ok lar... Joking wif u oni...</td>\n",
              "      <td>ok lar... joking wif u oni...</td>\n",
              "      <td>ok lar... joking wif u oni...</td>\n",
              "      <td>ok lar... joking wif u oni...</td>\n",
              "      <td>ok lar joking wif u oni</td>\n",
              "      <td>ok lar joking wif u oni</td>\n",
              "      <td>ok lar joking wif u oni</td>\n",
              "      <td>ok lar joke wif u oni</td>\n",
              "      <td>ok lar joking wif u oni</td>\n",
              "    </tr>\n",
              "    <tr>\n",
              "      <th>2</th>\n",
              "      <td>spam</td>\n",
              "      <td>Free entry in 2 a wkly comp to win FA Cup fina...</td>\n",
              "      <td>free entry in 2 a wkly comp to win fa cup fina...</td>\n",
              "      <td>free entry in 2 a wkly comp to win fa cup fina...</td>\n",
              "      <td>free entry in  a wkly comp to win fa cup final...</td>\n",
              "      <td>free entry in  a wkly comp to win fa cup final...</td>\n",
              "      <td>free entry wkly comp win fa cup final tkts st ...</td>\n",
              "      <td>free entry wkly comp win fa cup final tkts st ...</td>\n",
              "      <td>free entri wkli comp win fa cup final tkts st ...</td>\n",
              "      <td>free entry wkly comp win fa cup final tkts st ...</td>\n",
              "    </tr>\n",
              "    <tr>\n",
              "      <th>3</th>\n",
              "      <td>ham</td>\n",
              "      <td>U dun say so early hor... U c already then say...</td>\n",
              "      <td>u dun say so early hor... u c already then say...</td>\n",
              "      <td>u dun say so early hor... u c already then say...</td>\n",
              "      <td>u dun say so early hor... u c already then say...</td>\n",
              "      <td>u dun say so early hor u c already then say</td>\n",
              "      <td>u dun say early hor u c already say</td>\n",
              "      <td>u dun say early hor u c already say</td>\n",
              "      <td>u dun say earli hor u c alreadi say</td>\n",
              "      <td>u dun say early hor u c already say</td>\n",
              "    </tr>\n",
              "    <tr>\n",
              "      <th>4</th>\n",
              "      <td>ham</td>\n",
              "      <td>Nah I don't think he goes to usf, he lives aro...</td>\n",
              "      <td>nah i don't think he goes to usf, he lives aro...</td>\n",
              "      <td>nah i do not think he goes to usf, he lives ar...</td>\n",
              "      <td>nah i do not think he goes to usf, he lives ar...</td>\n",
              "      <td>nah i do not think he goes to usf he lives aro...</td>\n",
              "      <td>nah not think goes usf lives around though</td>\n",
              "      <td>nah not think goes usf lives around though</td>\n",
              "      <td>nah not think goe usf live around though</td>\n",
              "      <td>nah not think go usf life around though</td>\n",
              "    </tr>\n",
              "    <tr>\n",
              "      <th>...</th>\n",
              "      <td>...</td>\n",
              "      <td>...</td>\n",
              "      <td>...</td>\n",
              "      <td>...</td>\n",
              "      <td>...</td>\n",
              "      <td>...</td>\n",
              "      <td>...</td>\n",
              "      <td>...</td>\n",
              "      <td>...</td>\n",
              "      <td>...</td>\n",
              "    </tr>\n",
              "    <tr>\n",
              "      <th>5567</th>\n",
              "      <td>spam</td>\n",
              "      <td>This is the 2nd time we have tried 2 contact u...</td>\n",
              "      <td>this is the 2nd time we have tried 2 contact u...</td>\n",
              "      <td>this is the 2nd time we have tried 2 contact u...</td>\n",
              "      <td>this is the nd time we have tried  contact u. ...</td>\n",
              "      <td>this is the nd time we have tried  contact u u...</td>\n",
              "      <td>nd time tried contact u u £ pound prize claim ...</td>\n",
              "      <td>nd time tried contact u u £ pound prize claim ...</td>\n",
              "      <td>nd time tri contact u u £ pound prize claim ea...</td>\n",
              "      <td>nd time tried contact u u £ pound prize claim ...</td>\n",
              "    </tr>\n",
              "    <tr>\n",
              "      <th>5568</th>\n",
              "      <td>ham</td>\n",
              "      <td>Will ü b going to esplanade fr home?</td>\n",
              "      <td>will ü b going to esplanade fr home?</td>\n",
              "      <td>will ü b going to esplanade fr home?</td>\n",
              "      <td>will ü b going to esplanade fr home?</td>\n",
              "      <td>will ü b going to esplanade fr home</td>\n",
              "      <td>ü b going esplanade fr home</td>\n",
              "      <td>ü b going esplanade fr home</td>\n",
              "      <td>ü b go esplanad fr home</td>\n",
              "      <td>ü b going esplanade fr home</td>\n",
              "    </tr>\n",
              "    <tr>\n",
              "      <th>5569</th>\n",
              "      <td>ham</td>\n",
              "      <td>Pity, * was in mood for that. So...any other s...</td>\n",
              "      <td>pity, * was in mood for that. so...any other s...</td>\n",
              "      <td>pity, * was in mood for that. so...any other s...</td>\n",
              "      <td>pity, * was in mood for that. so...any other s...</td>\n",
              "      <td>pity  was in mood for that soany other suggest...</td>\n",
              "      <td>pity mood soany suggestions</td>\n",
              "      <td>pity mood soany suggestions</td>\n",
              "      <td>piti mood soani suggest</td>\n",
              "      <td>pity mood soany suggestion</td>\n",
              "    </tr>\n",
              "    <tr>\n",
              "      <th>5570</th>\n",
              "      <td>ham</td>\n",
              "      <td>The guy did some bitching but I acted like i'd...</td>\n",
              "      <td>the guy did some bitching but i acted like i'd...</td>\n",
              "      <td>the guy did some bitching but i acted like i h...</td>\n",
              "      <td>the guy did some bitching but i acted like i h...</td>\n",
              "      <td>the guy did some bitching but i acted like i h...</td>\n",
              "      <td>guy bitching acted like interested buying some...</td>\n",
              "      <td>guy bitching acted like interested buying some...</td>\n",
              "      <td>guy bitch act like interest buy someth els nex...</td>\n",
              "      <td>guy bitching acted like interested buying some...</td>\n",
              "    </tr>\n",
              "    <tr>\n",
              "      <th>5571</th>\n",
              "      <td>ham</td>\n",
              "      <td>Rofl. Its true to its name</td>\n",
              "      <td>rofl. its true to its name</td>\n",
              "      <td>rofl. its true to its name</td>\n",
              "      <td>rofl. its true to its name</td>\n",
              "      <td>rofl its true to its name</td>\n",
              "      <td>rofl true name</td>\n",
              "      <td>rofl true name</td>\n",
              "      <td>rofl true name</td>\n",
              "      <td>rofl true name</td>\n",
              "    </tr>\n",
              "  </tbody>\n",
              "</table>\n",
              "<p>5572 rows × 10 columns</p>\n",
              "</div>\n",
              "    <div class=\"colab-df-buttons\">\n",
              "\n",
              "  <div class=\"colab-df-container\">\n",
              "    <button class=\"colab-df-convert\" onclick=\"convertToInteractive('df-c815760e-cc0c-49b6-ba4f-5f9bc5fb7504')\"\n",
              "            title=\"Convert this dataframe to an interactive table.\"\n",
              "            style=\"display:none;\">\n",
              "\n",
              "  <svg xmlns=\"http://www.w3.org/2000/svg\" height=\"24px\" viewBox=\"0 -960 960 960\">\n",
              "    <path d=\"M120-120v-720h720v720H120Zm60-500h600v-160H180v160Zm220 220h160v-160H400v160Zm0 220h160v-160H400v160ZM180-400h160v-160H180v160Zm440 0h160v-160H620v160ZM180-180h160v-160H180v160Zm440 0h160v-160H620v160Z\"/>\n",
              "  </svg>\n",
              "    </button>\n",
              "\n",
              "  <style>\n",
              "    .colab-df-container {\n",
              "      display:flex;\n",
              "      gap: 12px;\n",
              "    }\n",
              "\n",
              "    .colab-df-convert {\n",
              "      background-color: #E8F0FE;\n",
              "      border: none;\n",
              "      border-radius: 50%;\n",
              "      cursor: pointer;\n",
              "      display: none;\n",
              "      fill: #1967D2;\n",
              "      height: 32px;\n",
              "      padding: 0 0 0 0;\n",
              "      width: 32px;\n",
              "    }\n",
              "\n",
              "    .colab-df-convert:hover {\n",
              "      background-color: #E2EBFA;\n",
              "      box-shadow: 0px 1px 2px rgba(60, 64, 67, 0.3), 0px 1px 3px 1px rgba(60, 64, 67, 0.15);\n",
              "      fill: #174EA6;\n",
              "    }\n",
              "\n",
              "    .colab-df-buttons div {\n",
              "      margin-bottom: 4px;\n",
              "    }\n",
              "\n",
              "    [theme=dark] .colab-df-convert {\n",
              "      background-color: #3B4455;\n",
              "      fill: #D2E3FC;\n",
              "    }\n",
              "\n",
              "    [theme=dark] .colab-df-convert:hover {\n",
              "      background-color: #434B5C;\n",
              "      box-shadow: 0px 1px 3px 1px rgba(0, 0, 0, 0.15);\n",
              "      filter: drop-shadow(0px 1px 2px rgba(0, 0, 0, 0.3));\n",
              "      fill: #FFFFFF;\n",
              "    }\n",
              "  </style>\n",
              "\n",
              "    <script>\n",
              "      const buttonEl =\n",
              "        document.querySelector('#df-c815760e-cc0c-49b6-ba4f-5f9bc5fb7504 button.colab-df-convert');\n",
              "      buttonEl.style.display =\n",
              "        google.colab.kernel.accessAllowed ? 'block' : 'none';\n",
              "\n",
              "      async function convertToInteractive(key) {\n",
              "        const element = document.querySelector('#df-c815760e-cc0c-49b6-ba4f-5f9bc5fb7504');\n",
              "        const dataTable =\n",
              "          await google.colab.kernel.invokeFunction('convertToInteractive',\n",
              "                                                    [key], {});\n",
              "        if (!dataTable) return;\n",
              "\n",
              "        const docLinkHtml = 'Like what you see? Visit the ' +\n",
              "          '<a target=\"_blank\" href=https://colab.research.google.com/notebooks/data_table.ipynb>data table notebook</a>'\n",
              "          + ' to learn more about interactive tables.';\n",
              "        element.innerHTML = '';\n",
              "        dataTable['output_type'] = 'display_data';\n",
              "        await google.colab.output.renderOutput(dataTable, element);\n",
              "        const docLink = document.createElement('div');\n",
              "        docLink.innerHTML = docLinkHtml;\n",
              "        element.appendChild(docLink);\n",
              "      }\n",
              "    </script>\n",
              "  </div>\n",
              "\n",
              "\n",
              "    <div id=\"df-c8ad6483-3fc1-4338-9fdd-a6129c957c3f\">\n",
              "      <button class=\"colab-df-quickchart\" onclick=\"quickchart('df-c8ad6483-3fc1-4338-9fdd-a6129c957c3f')\"\n",
              "                title=\"Suggest charts\"\n",
              "                style=\"display:none;\">\n",
              "\n",
              "<svg xmlns=\"http://www.w3.org/2000/svg\" height=\"24px\"viewBox=\"0 0 24 24\"\n",
              "     width=\"24px\">\n",
              "    <g>\n",
              "        <path d=\"M19 3H5c-1.1 0-2 .9-2 2v14c0 1.1.9 2 2 2h14c1.1 0 2-.9 2-2V5c0-1.1-.9-2-2-2zM9 17H7v-7h2v7zm4 0h-2V7h2v10zm4 0h-2v-4h2v4z\"/>\n",
              "    </g>\n",
              "</svg>\n",
              "      </button>\n",
              "\n",
              "<style>\n",
              "  .colab-df-quickchart {\n",
              "      --bg-color: #E8F0FE;\n",
              "      --fill-color: #1967D2;\n",
              "      --hover-bg-color: #E2EBFA;\n",
              "      --hover-fill-color: #174EA6;\n",
              "      --disabled-fill-color: #AAA;\n",
              "      --disabled-bg-color: #DDD;\n",
              "  }\n",
              "\n",
              "  [theme=dark] .colab-df-quickchart {\n",
              "      --bg-color: #3B4455;\n",
              "      --fill-color: #D2E3FC;\n",
              "      --hover-bg-color: #434B5C;\n",
              "      --hover-fill-color: #FFFFFF;\n",
              "      --disabled-bg-color: #3B4455;\n",
              "      --disabled-fill-color: #666;\n",
              "  }\n",
              "\n",
              "  .colab-df-quickchart {\n",
              "    background-color: var(--bg-color);\n",
              "    border: none;\n",
              "    border-radius: 50%;\n",
              "    cursor: pointer;\n",
              "    display: none;\n",
              "    fill: var(--fill-color);\n",
              "    height: 32px;\n",
              "    padding: 0;\n",
              "    width: 32px;\n",
              "  }\n",
              "\n",
              "  .colab-df-quickchart:hover {\n",
              "    background-color: var(--hover-bg-color);\n",
              "    box-shadow: 0 1px 2px rgba(60, 64, 67, 0.3), 0 1px 3px 1px rgba(60, 64, 67, 0.15);\n",
              "    fill: var(--button-hover-fill-color);\n",
              "  }\n",
              "\n",
              "  .colab-df-quickchart-complete:disabled,\n",
              "  .colab-df-quickchart-complete:disabled:hover {\n",
              "    background-color: var(--disabled-bg-color);\n",
              "    fill: var(--disabled-fill-color);\n",
              "    box-shadow: none;\n",
              "  }\n",
              "\n",
              "  .colab-df-spinner {\n",
              "    border: 2px solid var(--fill-color);\n",
              "    border-color: transparent;\n",
              "    border-bottom-color: var(--fill-color);\n",
              "    animation:\n",
              "      spin 1s steps(1) infinite;\n",
              "  }\n",
              "\n",
              "  @keyframes spin {\n",
              "    0% {\n",
              "      border-color: transparent;\n",
              "      border-bottom-color: var(--fill-color);\n",
              "      border-left-color: var(--fill-color);\n",
              "    }\n",
              "    20% {\n",
              "      border-color: transparent;\n",
              "      border-left-color: var(--fill-color);\n",
              "      border-top-color: var(--fill-color);\n",
              "    }\n",
              "    30% {\n",
              "      border-color: transparent;\n",
              "      border-left-color: var(--fill-color);\n",
              "      border-top-color: var(--fill-color);\n",
              "      border-right-color: var(--fill-color);\n",
              "    }\n",
              "    40% {\n",
              "      border-color: transparent;\n",
              "      border-right-color: var(--fill-color);\n",
              "      border-top-color: var(--fill-color);\n",
              "    }\n",
              "    60% {\n",
              "      border-color: transparent;\n",
              "      border-right-color: var(--fill-color);\n",
              "    }\n",
              "    80% {\n",
              "      border-color: transparent;\n",
              "      border-right-color: var(--fill-color);\n",
              "      border-bottom-color: var(--fill-color);\n",
              "    }\n",
              "    90% {\n",
              "      border-color: transparent;\n",
              "      border-bottom-color: var(--fill-color);\n",
              "    }\n",
              "  }\n",
              "</style>\n",
              "\n",
              "      <script>\n",
              "        async function quickchart(key) {\n",
              "          const quickchartButtonEl =\n",
              "            document.querySelector('#' + key + ' button');\n",
              "          quickchartButtonEl.disabled = true;  // To prevent multiple clicks.\n",
              "          quickchartButtonEl.classList.add('colab-df-spinner');\n",
              "          try {\n",
              "            const charts = await google.colab.kernel.invokeFunction(\n",
              "                'suggestCharts', [key], {});\n",
              "          } catch (error) {\n",
              "            console.error('Error during call to suggestCharts:', error);\n",
              "          }\n",
              "          quickchartButtonEl.classList.remove('colab-df-spinner');\n",
              "          quickchartButtonEl.classList.add('colab-df-quickchart-complete');\n",
              "        }\n",
              "        (() => {\n",
              "          let quickchartButtonEl =\n",
              "            document.querySelector('#df-c8ad6483-3fc1-4338-9fdd-a6129c957c3f button');\n",
              "          quickchartButtonEl.style.display =\n",
              "            google.colab.kernel.accessAllowed ? 'block' : 'none';\n",
              "        })();\n",
              "      </script>\n",
              "    </div>\n",
              "\n",
              "  <div id=\"id_67037f2a-6030-49cf-982e-9ed3e1ce5456\">\n",
              "    <style>\n",
              "      .colab-df-generate {\n",
              "        background-color: #E8F0FE;\n",
              "        border: none;\n",
              "        border-radius: 50%;\n",
              "        cursor: pointer;\n",
              "        display: none;\n",
              "        fill: #1967D2;\n",
              "        height: 32px;\n",
              "        padding: 0 0 0 0;\n",
              "        width: 32px;\n",
              "      }\n",
              "\n",
              "      .colab-df-generate:hover {\n",
              "        background-color: #E2EBFA;\n",
              "        box-shadow: 0px 1px 2px rgba(60, 64, 67, 0.3), 0px 1px 3px 1px rgba(60, 64, 67, 0.15);\n",
              "        fill: #174EA6;\n",
              "      }\n",
              "\n",
              "      [theme=dark] .colab-df-generate {\n",
              "        background-color: #3B4455;\n",
              "        fill: #D2E3FC;\n",
              "      }\n",
              "\n",
              "      [theme=dark] .colab-df-generate:hover {\n",
              "        background-color: #434B5C;\n",
              "        box-shadow: 0px 1px 3px 1px rgba(0, 0, 0, 0.15);\n",
              "        filter: drop-shadow(0px 1px 2px rgba(0, 0, 0, 0.3));\n",
              "        fill: #FFFFFF;\n",
              "      }\n",
              "    </style>\n",
              "    <button class=\"colab-df-generate\" onclick=\"generateWithVariable('df')\"\n",
              "            title=\"Generate code using this dataframe.\"\n",
              "            style=\"display:none;\">\n",
              "\n",
              "  <svg xmlns=\"http://www.w3.org/2000/svg\" height=\"24px\"viewBox=\"0 0 24 24\"\n",
              "       width=\"24px\">\n",
              "    <path d=\"M7,19H8.4L18.45,9,17,7.55,7,17.6ZM5,21V16.75L18.45,3.32a2,2,0,0,1,2.83,0l1.4,1.43a1.91,1.91,0,0,1,.58,1.4,1.91,1.91,0,0,1-.58,1.4L9.25,21ZM18.45,9,17,7.55Zm-12,3A5.31,5.31,0,0,0,4.9,8.1,5.31,5.31,0,0,0,1,6.5,5.31,5.31,0,0,0,4.9,4.9,5.31,5.31,0,0,0,6.5,1,5.31,5.31,0,0,0,8.1,4.9,5.31,5.31,0,0,0,12,6.5,5.46,5.46,0,0,0,6.5,12Z\"/>\n",
              "  </svg>\n",
              "    </button>\n",
              "    <script>\n",
              "      (() => {\n",
              "      const buttonEl =\n",
              "        document.querySelector('#id_67037f2a-6030-49cf-982e-9ed3e1ce5456 button.colab-df-generate');\n",
              "      buttonEl.style.display =\n",
              "        google.colab.kernel.accessAllowed ? 'block' : 'none';\n",
              "\n",
              "      buttonEl.onclick = () => {\n",
              "        google.colab.notebook.generateWithVariable('df');\n",
              "      }\n",
              "      })();\n",
              "    </script>\n",
              "  </div>\n",
              "\n",
              "    </div>\n",
              "  </div>\n"
            ],
            "application/vnd.google.colaboratory.intrinsic+json": {
              "type": "dataframe",
              "variable_name": "df",
              "summary": "{\n  \"name\": \"df\",\n  \"rows\": 5572,\n  \"fields\": [\n    {\n      \"column\": \"label\",\n      \"properties\": {\n        \"dtype\": \"category\",\n        \"num_unique_values\": 2,\n        \"samples\": [\n          \"spam\",\n          \"ham\"\n        ],\n        \"semantic_type\": \"\",\n        \"description\": \"\"\n      }\n    },\n    {\n      \"column\": \"message\",\n      \"properties\": {\n        \"dtype\": \"string\",\n        \"num_unique_values\": 5169,\n        \"samples\": [\n          \"K, makes sense, btw carlos is being difficult so you guys are gonna smoke while I go pick up the second batch and get gas\",\n          \"URGENT! Your mobile No *********** WON a \\u00a32,000 Bonus Caller Prize on 02/06/03! This is the 2nd attempt to reach YOU! Call 09066362220 ASAP! BOX97N7QP, 150ppm\"\n        ],\n        \"semantic_type\": \"\",\n        \"description\": \"\"\n      }\n    },\n    {\n      \"column\": \"prep1\",\n      \"properties\": {\n        \"dtype\": \"string\",\n        \"num_unique_values\": 5168,\n        \"samples\": [\n          \"me sef dey laugh you. meanwhile how's my darling anjie!\",\n          \"apart from the one i told you about yesterday?\"\n        ],\n        \"semantic_type\": \"\",\n        \"description\": \"\"\n      }\n    },\n    {\n      \"column\": \"prep2\",\n      \"properties\": {\n        \"dtype\": \"string\",\n        \"num_unique_values\": 5157,\n        \"samples\": [\n          \"what is your record for one night? :)\",\n          \"are you free now?can i call now?\"\n        ],\n        \"semantic_type\": \"\",\n        \"description\": \"\"\n      }\n    },\n    {\n      \"column\": \"prep3\",\n      \"properties\": {\n        \"dtype\": \"string\",\n        \"num_unique_values\": 5135,\n        \"samples\": [\n          \":-( sad puppy noise\",\n          \"i was about to do it when i texted. i finished a long time ago and showered and er'ything!\"\n        ],\n        \"semantic_type\": \"\",\n        \"description\": \"\"\n      }\n    },\n    {\n      \"column\": \"prep4\",\n      \"properties\": {\n        \"dtype\": \"string\",\n        \"num_unique_values\": 5105,\n        \"samples\": [\n          \"nothing smsing u n xy lor sorry lor da guys neva c u in person but they sort of know u lor so u wan  meet them xy ask me  bring u along  our next meeting\",\n          \"gud mrng dear have a nice day\"\n        ],\n        \"semantic_type\": \"\",\n        \"description\": \"\"\n      }\n    },\n    {\n      \"column\": \"prep5\",\n      \"properties\": {\n        \"dtype\": \"string\",\n        \"num_unique_values\": 5075,\n        \"samples\": [\n          \"wanna watch movie\",\n          \"not forget owns private property good boy always passionate kiss\"\n        ],\n        \"semantic_type\": \"\",\n        \"description\": \"\"\n      }\n    },\n    {\n      \"column\": \"prep6\",\n      \"properties\": {\n        \"dtype\": \"string\",\n        \"num_unique_values\": 5075,\n        \"samples\": [\n          \"wanna watch movie\",\n          \"not forget owns private property good boy always passionate kiss\"\n        ],\n        \"semantic_type\": \"\",\n        \"description\": \"\"\n      }\n    },\n    {\n      \"column\": \"stem\",\n      \"properties\": {\n        \"dtype\": \"string\",\n        \"num_unique_values\": 5074,\n        \"samples\": [\n          \"excel spent ltgt year air forc iraq afghanistan stabl honest like travel\",\n          \"gr poli tone mob direct u rpli poli titl eg poli breath titl crazyin sleepingwith finest ymca getzedcouk poboxowwq p\"\n        ],\n        \"semantic_type\": \"\",\n        \"description\": \"\"\n      }\n    },\n    {\n      \"column\": \"lemmatize\",\n      \"properties\": {\n        \"dtype\": \"string\",\n        \"num_unique_values\": 5075,\n        \"samples\": [\n          \"wan na watch movie\",\n          \"not forget owns private property good boy always passionate kiss\"\n        ],\n        \"semantic_type\": \"\",\n        \"description\": \"\"\n      }\n    }\n  ]\n}"
            }
          },
          "metadata": {},
          "execution_count": 53
        }
      ],
      "source": [
        "# Combining preprocessing technique\n",
        "df['stem'] = df['prep6'].apply(stem)\n",
        "df['lemmatize'] = df['prep6'].apply(lemmatize)\n",
        "\n",
        "df"
      ]
    },
    {
      "cell_type": "markdown",
      "metadata": {
        "id": "TuDdlfWOVDGh"
      },
      "source": [
        "## Exploratory Data Analysis (Text Exploration)\n",
        "\n",
        "In this step, we will conduct exploratory data analysis on the text items that we have preprocessed. We will compare word frequency our text, perform calculation of the length of document, and generate word cloud based on the top most used words."
      ]
    },
    {
      "cell_type": "markdown",
      "metadata": {
        "id": "2Cwxi94EVDGi"
      },
      "source": [
        "### 1. Word Frequency"
      ]
    },
    {
      "cell_type": "code",
      "execution_count": 54,
      "metadata": {
        "colab": {
          "base_uri": "https://localhost:8080/",
          "height": 458
        },
        "id": "zpo0xAthVDGi",
        "outputId": "427953c6-0186-4152-ec0d-4b9801a70b15"
      },
      "outputs": [
        {
          "output_type": "execute_result",
          "data": {
            "text/plain": [
              "0       go jurong point crazi avail bugi n great world...\n",
              "1                                   ok lar joke wif u oni\n",
              "2       free entri wkli comp win fa cup final tkts st ...\n",
              "3                     u dun say earli hor u c alreadi say\n",
              "4                nah not think goe usf live around though\n",
              "                              ...                        \n",
              "5567    nd time tri contact u u £ pound prize claim ea...\n",
              "5568                              ü b go esplanad fr home\n",
              "5569                              piti mood soani suggest\n",
              "5570    guy bitch act like interest buy someth els nex...\n",
              "5571                                       rofl true name\n",
              "Name: stem, Length: 5572, dtype: object"
            ],
            "text/html": [
              "<div>\n",
              "<style scoped>\n",
              "    .dataframe tbody tr th:only-of-type {\n",
              "        vertical-align: middle;\n",
              "    }\n",
              "\n",
              "    .dataframe tbody tr th {\n",
              "        vertical-align: top;\n",
              "    }\n",
              "\n",
              "    .dataframe thead th {\n",
              "        text-align: right;\n",
              "    }\n",
              "</style>\n",
              "<table border=\"1\" class=\"dataframe\">\n",
              "  <thead>\n",
              "    <tr style=\"text-align: right;\">\n",
              "      <th></th>\n",
              "      <th>stem</th>\n",
              "    </tr>\n",
              "  </thead>\n",
              "  <tbody>\n",
              "    <tr>\n",
              "      <th>0</th>\n",
              "      <td>go jurong point crazi avail bugi n great world...</td>\n",
              "    </tr>\n",
              "    <tr>\n",
              "      <th>1</th>\n",
              "      <td>ok lar joke wif u oni</td>\n",
              "    </tr>\n",
              "    <tr>\n",
              "      <th>2</th>\n",
              "      <td>free entri wkli comp win fa cup final tkts st ...</td>\n",
              "    </tr>\n",
              "    <tr>\n",
              "      <th>3</th>\n",
              "      <td>u dun say earli hor u c alreadi say</td>\n",
              "    </tr>\n",
              "    <tr>\n",
              "      <th>4</th>\n",
              "      <td>nah not think goe usf live around though</td>\n",
              "    </tr>\n",
              "    <tr>\n",
              "      <th>...</th>\n",
              "      <td>...</td>\n",
              "    </tr>\n",
              "    <tr>\n",
              "      <th>5567</th>\n",
              "      <td>nd time tri contact u u £ pound prize claim ea...</td>\n",
              "    </tr>\n",
              "    <tr>\n",
              "      <th>5568</th>\n",
              "      <td>ü b go esplanad fr home</td>\n",
              "    </tr>\n",
              "    <tr>\n",
              "      <th>5569</th>\n",
              "      <td>piti mood soani suggest</td>\n",
              "    </tr>\n",
              "    <tr>\n",
              "      <th>5570</th>\n",
              "      <td>guy bitch act like interest buy someth els nex...</td>\n",
              "    </tr>\n",
              "    <tr>\n",
              "      <th>5571</th>\n",
              "      <td>rofl true name</td>\n",
              "    </tr>\n",
              "  </tbody>\n",
              "</table>\n",
              "<p>5572 rows × 1 columns</p>\n",
              "</div><br><label><b>dtype:</b> object</label>"
            ]
          },
          "metadata": {},
          "execution_count": 54
        }
      ],
      "source": [
        "df['stem']"
      ]
    },
    {
      "cell_type": "code",
      "execution_count": 55,
      "metadata": {
        "colab": {
          "base_uri": "https://localhost:8080/",
          "height": 423
        },
        "id": "Rdk7OQnIVDGi",
        "outputId": "755ceac4-844e-47f7-8a3e-fb9ef0733416"
      },
      "outputs": [
        {
          "output_type": "execute_result",
          "data": {
            "text/plain": [
              "           word  freq\n",
              "0             u  1157\n",
              "1           not   787\n",
              "2          call   658\n",
              "3            go   456\n",
              "4           get   451\n",
              "...         ...   ...\n",
              "7166  pshewmiss     1\n",
              "7167       shud     1\n",
              "7168       kane     1\n",
              "7169     influx     1\n",
              "7170    spiritu     1\n",
              "\n",
              "[7171 rows x 2 columns]"
            ],
            "text/html": [
              "\n",
              "  <div id=\"df-aaf209df-f4e1-4e1a-95a6-f482ede6a9c6\" class=\"colab-df-container\">\n",
              "    <div>\n",
              "<style scoped>\n",
              "    .dataframe tbody tr th:only-of-type {\n",
              "        vertical-align: middle;\n",
              "    }\n",
              "\n",
              "    .dataframe tbody tr th {\n",
              "        vertical-align: top;\n",
              "    }\n",
              "\n",
              "    .dataframe thead th {\n",
              "        text-align: right;\n",
              "    }\n",
              "</style>\n",
              "<table border=\"1\" class=\"dataframe\">\n",
              "  <thead>\n",
              "    <tr style=\"text-align: right;\">\n",
              "      <th></th>\n",
              "      <th>word</th>\n",
              "      <th>freq</th>\n",
              "    </tr>\n",
              "  </thead>\n",
              "  <tbody>\n",
              "    <tr>\n",
              "      <th>0</th>\n",
              "      <td>u</td>\n",
              "      <td>1157</td>\n",
              "    </tr>\n",
              "    <tr>\n",
              "      <th>1</th>\n",
              "      <td>not</td>\n",
              "      <td>787</td>\n",
              "    </tr>\n",
              "    <tr>\n",
              "      <th>2</th>\n",
              "      <td>call</td>\n",
              "      <td>658</td>\n",
              "    </tr>\n",
              "    <tr>\n",
              "      <th>3</th>\n",
              "      <td>go</td>\n",
              "      <td>456</td>\n",
              "    </tr>\n",
              "    <tr>\n",
              "      <th>4</th>\n",
              "      <td>get</td>\n",
              "      <td>451</td>\n",
              "    </tr>\n",
              "    <tr>\n",
              "      <th>...</th>\n",
              "      <td>...</td>\n",
              "      <td>...</td>\n",
              "    </tr>\n",
              "    <tr>\n",
              "      <th>7166</th>\n",
              "      <td>pshewmiss</td>\n",
              "      <td>1</td>\n",
              "    </tr>\n",
              "    <tr>\n",
              "      <th>7167</th>\n",
              "      <td>shud</td>\n",
              "      <td>1</td>\n",
              "    </tr>\n",
              "    <tr>\n",
              "      <th>7168</th>\n",
              "      <td>kane</td>\n",
              "      <td>1</td>\n",
              "    </tr>\n",
              "    <tr>\n",
              "      <th>7169</th>\n",
              "      <td>influx</td>\n",
              "      <td>1</td>\n",
              "    </tr>\n",
              "    <tr>\n",
              "      <th>7170</th>\n",
              "      <td>spiritu</td>\n",
              "      <td>1</td>\n",
              "    </tr>\n",
              "  </tbody>\n",
              "</table>\n",
              "<p>7171 rows × 2 columns</p>\n",
              "</div>\n",
              "    <div class=\"colab-df-buttons\">\n",
              "\n",
              "  <div class=\"colab-df-container\">\n",
              "    <button class=\"colab-df-convert\" onclick=\"convertToInteractive('df-aaf209df-f4e1-4e1a-95a6-f482ede6a9c6')\"\n",
              "            title=\"Convert this dataframe to an interactive table.\"\n",
              "            style=\"display:none;\">\n",
              "\n",
              "  <svg xmlns=\"http://www.w3.org/2000/svg\" height=\"24px\" viewBox=\"0 -960 960 960\">\n",
              "    <path d=\"M120-120v-720h720v720H120Zm60-500h600v-160H180v160Zm220 220h160v-160H400v160Zm0 220h160v-160H400v160ZM180-400h160v-160H180v160Zm440 0h160v-160H620v160ZM180-180h160v-160H180v160Zm440 0h160v-160H620v160Z\"/>\n",
              "  </svg>\n",
              "    </button>\n",
              "\n",
              "  <style>\n",
              "    .colab-df-container {\n",
              "      display:flex;\n",
              "      gap: 12px;\n",
              "    }\n",
              "\n",
              "    .colab-df-convert {\n",
              "      background-color: #E8F0FE;\n",
              "      border: none;\n",
              "      border-radius: 50%;\n",
              "      cursor: pointer;\n",
              "      display: none;\n",
              "      fill: #1967D2;\n",
              "      height: 32px;\n",
              "      padding: 0 0 0 0;\n",
              "      width: 32px;\n",
              "    }\n",
              "\n",
              "    .colab-df-convert:hover {\n",
              "      background-color: #E2EBFA;\n",
              "      box-shadow: 0px 1px 2px rgba(60, 64, 67, 0.3), 0px 1px 3px 1px rgba(60, 64, 67, 0.15);\n",
              "      fill: #174EA6;\n",
              "    }\n",
              "\n",
              "    .colab-df-buttons div {\n",
              "      margin-bottom: 4px;\n",
              "    }\n",
              "\n",
              "    [theme=dark] .colab-df-convert {\n",
              "      background-color: #3B4455;\n",
              "      fill: #D2E3FC;\n",
              "    }\n",
              "\n",
              "    [theme=dark] .colab-df-convert:hover {\n",
              "      background-color: #434B5C;\n",
              "      box-shadow: 0px 1px 3px 1px rgba(0, 0, 0, 0.15);\n",
              "      filter: drop-shadow(0px 1px 2px rgba(0, 0, 0, 0.3));\n",
              "      fill: #FFFFFF;\n",
              "    }\n",
              "  </style>\n",
              "\n",
              "    <script>\n",
              "      const buttonEl =\n",
              "        document.querySelector('#df-aaf209df-f4e1-4e1a-95a6-f482ede6a9c6 button.colab-df-convert');\n",
              "      buttonEl.style.display =\n",
              "        google.colab.kernel.accessAllowed ? 'block' : 'none';\n",
              "\n",
              "      async function convertToInteractive(key) {\n",
              "        const element = document.querySelector('#df-aaf209df-f4e1-4e1a-95a6-f482ede6a9c6');\n",
              "        const dataTable =\n",
              "          await google.colab.kernel.invokeFunction('convertToInteractive',\n",
              "                                                    [key], {});\n",
              "        if (!dataTable) return;\n",
              "\n",
              "        const docLinkHtml = 'Like what you see? Visit the ' +\n",
              "          '<a target=\"_blank\" href=https://colab.research.google.com/notebooks/data_table.ipynb>data table notebook</a>'\n",
              "          + ' to learn more about interactive tables.';\n",
              "        element.innerHTML = '';\n",
              "        dataTable['output_type'] = 'display_data';\n",
              "        await google.colab.output.renderOutput(dataTable, element);\n",
              "        const docLink = document.createElement('div');\n",
              "        docLink.innerHTML = docLinkHtml;\n",
              "        element.appendChild(docLink);\n",
              "      }\n",
              "    </script>\n",
              "  </div>\n",
              "\n",
              "\n",
              "    <div id=\"df-f7003bcf-e6e9-4091-a223-2d5c42a68fe6\">\n",
              "      <button class=\"colab-df-quickchart\" onclick=\"quickchart('df-f7003bcf-e6e9-4091-a223-2d5c42a68fe6')\"\n",
              "                title=\"Suggest charts\"\n",
              "                style=\"display:none;\">\n",
              "\n",
              "<svg xmlns=\"http://www.w3.org/2000/svg\" height=\"24px\"viewBox=\"0 0 24 24\"\n",
              "     width=\"24px\">\n",
              "    <g>\n",
              "        <path d=\"M19 3H5c-1.1 0-2 .9-2 2v14c0 1.1.9 2 2 2h14c1.1 0 2-.9 2-2V5c0-1.1-.9-2-2-2zM9 17H7v-7h2v7zm4 0h-2V7h2v10zm4 0h-2v-4h2v4z\"/>\n",
              "    </g>\n",
              "</svg>\n",
              "      </button>\n",
              "\n",
              "<style>\n",
              "  .colab-df-quickchart {\n",
              "      --bg-color: #E8F0FE;\n",
              "      --fill-color: #1967D2;\n",
              "      --hover-bg-color: #E2EBFA;\n",
              "      --hover-fill-color: #174EA6;\n",
              "      --disabled-fill-color: #AAA;\n",
              "      --disabled-bg-color: #DDD;\n",
              "  }\n",
              "\n",
              "  [theme=dark] .colab-df-quickchart {\n",
              "      --bg-color: #3B4455;\n",
              "      --fill-color: #D2E3FC;\n",
              "      --hover-bg-color: #434B5C;\n",
              "      --hover-fill-color: #FFFFFF;\n",
              "      --disabled-bg-color: #3B4455;\n",
              "      --disabled-fill-color: #666;\n",
              "  }\n",
              "\n",
              "  .colab-df-quickchart {\n",
              "    background-color: var(--bg-color);\n",
              "    border: none;\n",
              "    border-radius: 50%;\n",
              "    cursor: pointer;\n",
              "    display: none;\n",
              "    fill: var(--fill-color);\n",
              "    height: 32px;\n",
              "    padding: 0;\n",
              "    width: 32px;\n",
              "  }\n",
              "\n",
              "  .colab-df-quickchart:hover {\n",
              "    background-color: var(--hover-bg-color);\n",
              "    box-shadow: 0 1px 2px rgba(60, 64, 67, 0.3), 0 1px 3px 1px rgba(60, 64, 67, 0.15);\n",
              "    fill: var(--button-hover-fill-color);\n",
              "  }\n",
              "\n",
              "  .colab-df-quickchart-complete:disabled,\n",
              "  .colab-df-quickchart-complete:disabled:hover {\n",
              "    background-color: var(--disabled-bg-color);\n",
              "    fill: var(--disabled-fill-color);\n",
              "    box-shadow: none;\n",
              "  }\n",
              "\n",
              "  .colab-df-spinner {\n",
              "    border: 2px solid var(--fill-color);\n",
              "    border-color: transparent;\n",
              "    border-bottom-color: var(--fill-color);\n",
              "    animation:\n",
              "      spin 1s steps(1) infinite;\n",
              "  }\n",
              "\n",
              "  @keyframes spin {\n",
              "    0% {\n",
              "      border-color: transparent;\n",
              "      border-bottom-color: var(--fill-color);\n",
              "      border-left-color: var(--fill-color);\n",
              "    }\n",
              "    20% {\n",
              "      border-color: transparent;\n",
              "      border-left-color: var(--fill-color);\n",
              "      border-top-color: var(--fill-color);\n",
              "    }\n",
              "    30% {\n",
              "      border-color: transparent;\n",
              "      border-left-color: var(--fill-color);\n",
              "      border-top-color: var(--fill-color);\n",
              "      border-right-color: var(--fill-color);\n",
              "    }\n",
              "    40% {\n",
              "      border-color: transparent;\n",
              "      border-right-color: var(--fill-color);\n",
              "      border-top-color: var(--fill-color);\n",
              "    }\n",
              "    60% {\n",
              "      border-color: transparent;\n",
              "      border-right-color: var(--fill-color);\n",
              "    }\n",
              "    80% {\n",
              "      border-color: transparent;\n",
              "      border-right-color: var(--fill-color);\n",
              "      border-bottom-color: var(--fill-color);\n",
              "    }\n",
              "    90% {\n",
              "      border-color: transparent;\n",
              "      border-bottom-color: var(--fill-color);\n",
              "    }\n",
              "  }\n",
              "</style>\n",
              "\n",
              "      <script>\n",
              "        async function quickchart(key) {\n",
              "          const quickchartButtonEl =\n",
              "            document.querySelector('#' + key + ' button');\n",
              "          quickchartButtonEl.disabled = true;  // To prevent multiple clicks.\n",
              "          quickchartButtonEl.classList.add('colab-df-spinner');\n",
              "          try {\n",
              "            const charts = await google.colab.kernel.invokeFunction(\n",
              "                'suggestCharts', [key], {});\n",
              "          } catch (error) {\n",
              "            console.error('Error during call to suggestCharts:', error);\n",
              "          }\n",
              "          quickchartButtonEl.classList.remove('colab-df-spinner');\n",
              "          quickchartButtonEl.classList.add('colab-df-quickchart-complete');\n",
              "        }\n",
              "        (() => {\n",
              "          let quickchartButtonEl =\n",
              "            document.querySelector('#df-f7003bcf-e6e9-4091-a223-2d5c42a68fe6 button');\n",
              "          quickchartButtonEl.style.display =\n",
              "            google.colab.kernel.accessAllowed ? 'block' : 'none';\n",
              "        })();\n",
              "      </script>\n",
              "    </div>\n",
              "\n",
              "  <div id=\"id_ba888db7-8450-43a6-bf00-2c4cdeaa6df1\">\n",
              "    <style>\n",
              "      .colab-df-generate {\n",
              "        background-color: #E8F0FE;\n",
              "        border: none;\n",
              "        border-radius: 50%;\n",
              "        cursor: pointer;\n",
              "        display: none;\n",
              "        fill: #1967D2;\n",
              "        height: 32px;\n",
              "        padding: 0 0 0 0;\n",
              "        width: 32px;\n",
              "      }\n",
              "\n",
              "      .colab-df-generate:hover {\n",
              "        background-color: #E2EBFA;\n",
              "        box-shadow: 0px 1px 2px rgba(60, 64, 67, 0.3), 0px 1px 3px 1px rgba(60, 64, 67, 0.15);\n",
              "        fill: #174EA6;\n",
              "      }\n",
              "\n",
              "      [theme=dark] .colab-df-generate {\n",
              "        background-color: #3B4455;\n",
              "        fill: #D2E3FC;\n",
              "      }\n",
              "\n",
              "      [theme=dark] .colab-df-generate:hover {\n",
              "        background-color: #434B5C;\n",
              "        box-shadow: 0px 1px 3px 1px rgba(0, 0, 0, 0.15);\n",
              "        filter: drop-shadow(0px 1px 2px rgba(0, 0, 0, 0.3));\n",
              "        fill: #FFFFFF;\n",
              "      }\n",
              "    </style>\n",
              "    <button class=\"colab-df-generate\" onclick=\"generateWithVariable('df_unique')\"\n",
              "            title=\"Generate code using this dataframe.\"\n",
              "            style=\"display:none;\">\n",
              "\n",
              "  <svg xmlns=\"http://www.w3.org/2000/svg\" height=\"24px\"viewBox=\"0 0 24 24\"\n",
              "       width=\"24px\">\n",
              "    <path d=\"M7,19H8.4L18.45,9,17,7.55,7,17.6ZM5,21V16.75L18.45,3.32a2,2,0,0,1,2.83,0l1.4,1.43a1.91,1.91,0,0,1,.58,1.4,1.91,1.91,0,0,1-.58,1.4L9.25,21ZM18.45,9,17,7.55Zm-12,3A5.31,5.31,0,0,0,4.9,8.1,5.31,5.31,0,0,0,1,6.5,5.31,5.31,0,0,0,4.9,4.9,5.31,5.31,0,0,0,6.5,1,5.31,5.31,0,0,0,8.1,4.9,5.31,5.31,0,0,0,12,6.5,5.46,5.46,0,0,0,6.5,12Z\"/>\n",
              "  </svg>\n",
              "    </button>\n",
              "    <script>\n",
              "      (() => {\n",
              "      const buttonEl =\n",
              "        document.querySelector('#id_ba888db7-8450-43a6-bf00-2c4cdeaa6df1 button.colab-df-generate');\n",
              "      buttonEl.style.display =\n",
              "        google.colab.kernel.accessAllowed ? 'block' : 'none';\n",
              "\n",
              "      buttonEl.onclick = () => {\n",
              "        google.colab.notebook.generateWithVariable('df_unique');\n",
              "      }\n",
              "      })();\n",
              "    </script>\n",
              "  </div>\n",
              "\n",
              "    </div>\n",
              "  </div>\n"
            ],
            "application/vnd.google.colaboratory.intrinsic+json": {
              "type": "dataframe",
              "variable_name": "df_unique",
              "summary": "{\n  \"name\": \"df_unique\",\n  \"rows\": 7171,\n  \"fields\": [\n    {\n      \"column\": \"word\",\n      \"properties\": {\n        \"dtype\": \"string\",\n        \"num_unique_values\": 7171,\n        \"samples\": [\n          \"mahal\",\n          \"wwwringtonekingcouk\",\n          \"manual\"\n        ],\n        \"semantic_type\": \"\",\n        \"description\": \"\"\n      }\n    },\n    {\n      \"column\": \"freq\",\n      \"properties\": {\n        \"dtype\": \"number\",\n        \"std\": 27,\n        \"min\": 1,\n        \"max\": 1157,\n        \"num_unique_values\": 147,\n        \"samples\": [\n          22,\n          109,\n          9\n        ],\n        \"semantic_type\": \"\",\n        \"description\": \"\"\n      }\n    }\n  ]\n}"
            }
          },
          "metadata": {},
          "execution_count": 55
        }
      ],
      "source": [
        "# Word frequency\n",
        "text = df['stem']\n",
        "\n",
        "df_text = text.str.extractall('(\\w+)') # Extract each word from the document\n",
        "df_text = df_text.reset_index()\n",
        "\n",
        "df_unique = df_text[0].value_counts()\n",
        "df_unique = df_unique.to_frame().reset_index().rename(columns={0:'word', 'count':'freq'})\n",
        "\n",
        "df_unique"
      ]
    },
    {
      "cell_type": "code",
      "execution_count": 56,
      "metadata": {
        "id": "f_HaIVQAVDGi"
      },
      "outputs": [],
      "source": [
        "# function for word frequency\n",
        "def word_freq(text):\n",
        "\n",
        "    df_text = text.str.extractall('(\\w+)') # Extract each word from the document\n",
        "    df_text = df_text.reset_index()\n",
        "\n",
        "    df_unique = df_text[0].value_counts()\n",
        "    df_unique = df_unique.to_frame().reset_index().rename(columns={0:'word', 'count':'freq'})\n",
        "\n",
        "    return df_unique"
      ]
    },
    {
      "cell_type": "code",
      "execution_count": 64,
      "metadata": {
        "colab": {
          "base_uri": "https://localhost:8080/",
          "height": 453
        },
        "id": "iRhaAJbPVDGj",
        "outputId": "fb084b18-86c3-4cce-872e-e47545f0e4ec"
      },
      "outputs": [
        {
          "output_type": "display_data",
          "data": {
            "text/plain": [
              "<Figure size 640x480 with 1 Axes>"
            ],
            "image/png": "[encoded data removed]"
          },
          "metadata": {}
        }
      ],
      "source": [
        "# Top 10 most frequent words\n",
        "data = word_freq(df['stem'])\n",
        "sns.barplot(data=data.head(10), x='freq', y='word', palette='Set1')\n",
        "plt.show()"
      ]
    },
    {
      "cell_type": "code",
      "execution_count": 65,
      "metadata": {
        "colab": {
          "base_uri": "https://localhost:8080/",
          "height": 477
        },
        "id": "BS-XbZdiVDGj",
        "outputId": "c862388e-e7a0-42d7-9f58-8507a5971346"
      },
      "outputs": [
        {
          "output_type": "display_data",
          "data": {
            "text/plain": [
              "<Figure size 640x480 with 1 Axes>"
            ],
            "image/png": "[encoded data removed]"
          },
          "metadata": {}
        }
      ],
      "source": [
        "# Top 10 most frequent words in SPAM sms\n",
        "data = word_freq(df[df['label']=='spam']['stem'])\n",
        "sns.barplot(data=data.head(10), x='freq', y='word', palette='Set2')\n",
        "plt.title('Top 10 most frequent words in SPAM sms')\n",
        "plt.show()"
      ]
    },
    {
      "cell_type": "code",
      "execution_count": 67,
      "metadata": {
        "colab": {
          "base_uri": "https://localhost:8080/",
          "height": 477
        },
        "id": "MjWd_6RlVDGj",
        "outputId": "e0b71b31-9362-4293-d927-a7ebd648b307"
      },
      "outputs": [
        {
          "output_type": "display_data",
          "data": {
            "text/plain": [
              "<Figure size 640x480 with 1 Axes>"
            ],
            "image/png": "[encoded data removed]"
          },
          "metadata": {}
        }
      ],
      "source": [
        "# Top 10 most frequent words in HAM sms\n",
        "data = word_freq(df[df['label']=='ham']['stem'])\n",
        "sns.barplot(data=data.head(10), x='freq', y='word',  palette='Set3')\n",
        "plt.title('Top 10 most frequent words in HAM sms')\n",
        "plt.show()"
      ]
    },
    {
      "cell_type": "markdown",
      "source": [
        "Summary:\n",
        "\n",
        "* In spam SMS, frequently occurring words include: 'text', 'txt', 'car', 'stop', 'claim', 'reply'.\n",
        "\n",
        "* In ham SMS (non-spam), common words include: 'come', 'ok'.\n",
        "\n",
        "* Words like 'u', 'ur', 'got', if considered stopwords, can be added to the stopwords list."
      ],
      "metadata": {
        "id": "1e-xxZ3uV0Gl"
      }
    },
    {
      "cell_type": "markdown",
      "metadata": {
        "id": "SoxuJoM_VDGj"
      },
      "source": [
        "### 2. Length of Document"
      ]
    },
    {
      "cell_type": "code",
      "execution_count": null,
      "metadata": {
        "id": "SbuJeK5NVDGk"
      },
      "outputs": [],
      "source": [
        "# df['stem'].apply(len)"
      ]
    },
    {
      "cell_type": "code",
      "execution_count": 69,
      "metadata": {
        "colab": {
          "base_uri": "https://localhost:8080/",
          "height": 431
        },
        "id": "ZtPQB7e_VDGk",
        "outputId": "e388b947-fe95-4117-871b-735e7141ec8a"
      },
      "outputs": [
        {
          "output_type": "execute_result",
          "data": {
            "text/plain": [
              "  label                                            message  \\\n",
              "0   ham  Go until jurong point, crazy.. Available only ...   \n",
              "1   ham                      Ok lar... Joking wif u oni...   \n",
              "2  spam  Free entry in 2 a wkly comp to win FA Cup fina...   \n",
              "3   ham  U dun say so early hor... U c already then say...   \n",
              "4   ham  Nah I don't think he goes to usf, he lives aro...   \n",
              "\n",
              "                                               prep1  \\\n",
              "0  go until jurong point, crazy.. available only ...   \n",
              "1                      ok lar... joking wif u oni...   \n",
              "2  free entry in 2 a wkly comp to win fa cup fina...   \n",
              "3  u dun say so early hor... u c already then say...   \n",
              "4  nah i don't think he goes to usf, he lives aro...   \n",
              "\n",
              "                                               prep2  \\\n",
              "0  go until jurong point, crazy.. available only ...   \n",
              "1                      ok lar... joking wif u oni...   \n",
              "2  free entry in 2 a wkly comp to win fa cup fina...   \n",
              "3  u dun say so early hor... u c already then say...   \n",
              "4  nah i do not think he goes to usf, he lives ar...   \n",
              "\n",
              "                                               prep3  \\\n",
              "0  go until jurong point, crazy.. available only ...   \n",
              "1                      ok lar... joking wif u oni...   \n",
              "2  free entry in  a wkly comp to win fa cup final...   \n",
              "3  u dun say so early hor... u c already then say...   \n",
              "4  nah i do not think he goes to usf, he lives ar...   \n",
              "\n",
              "                                               prep4  \\\n",
              "0  go until jurong point crazy available only in ...   \n",
              "1                            ok lar joking wif u oni   \n",
              "2  free entry in  a wkly comp to win fa cup final...   \n",
              "3        u dun say so early hor u c already then say   \n",
              "4  nah i do not think he goes to usf he lives aro...   \n",
              "\n",
              "                                               prep5  \\\n",
              "0  go jurong point crazy available bugis n great ...   \n",
              "1                            ok lar joking wif u oni   \n",
              "2  free entry wkly comp win fa cup final tkts st ...   \n",
              "3                u dun say early hor u c already say   \n",
              "4         nah not think goes usf lives around though   \n",
              "\n",
              "                                               prep6  \\\n",
              "0  go jurong point crazy available bugis n great ...   \n",
              "1                            ok lar joking wif u oni   \n",
              "2  free entry wkly comp win fa cup final tkts st ...   \n",
              "3                u dun say early hor u c already say   \n",
              "4         nah not think goes usf lives around though   \n",
              "\n",
              "                                                stem  \\\n",
              "0  go jurong point crazi avail bugi n great world...   \n",
              "1                              ok lar joke wif u oni   \n",
              "2  free entri wkli comp win fa cup final tkts st ...   \n",
              "3                u dun say earli hor u c alreadi say   \n",
              "4           nah not think goe usf live around though   \n",
              "\n",
              "                                           lemmatize  len_char  \n",
              "0  go jurong point crazy available bugis n great ...        76  \n",
              "1                            ok lar joking wif u oni        21  \n",
              "2  free entry wkly comp win fa cup final tkts st ...       104  \n",
              "3                u dun say early hor u c already say        35  \n",
              "4            nah not think go usf life around though        40  "
            ],
            "text/html": [
              "\n",
              "  <div id=\"df-6b2d90a9-79a2-4ef3-b2da-5d537edf4e6b\" class=\"colab-df-container\">\n",
              "    <div>\n",
              "<style scoped>\n",
              "    .dataframe tbody tr th:only-of-type {\n",
              "        vertical-align: middle;\n",
              "    }\n",
              "\n",
              "    .dataframe tbody tr th {\n",
              "        vertical-align: top;\n",
              "    }\n",
              "\n",
              "    .dataframe thead th {\n",
              "        text-align: right;\n",
              "    }\n",
              "</style>\n",
              "<table border=\"1\" class=\"dataframe\">\n",
              "  <thead>\n",
              "    <tr style=\"text-align: right;\">\n",
              "      <th></th>\n",
              "      <th>label</th>\n",
              "      <th>message</th>\n",
              "      <th>prep1</th>\n",
              "      <th>prep2</th>\n",
              "      <th>prep3</th>\n",
              "      <th>prep4</th>\n",
              "      <th>prep5</th>\n",
              "      <th>prep6</th>\n",
              "      <th>stem</th>\n",
              "      <th>lemmatize</th>\n",
              "      <th>len_char</th>\n",
              "    </tr>\n",
              "  </thead>\n",
              "  <tbody>\n",
              "    <tr>\n",
              "      <th>0</th>\n",
              "      <td>ham</td>\n",
              "      <td>Go until jurong point, crazy.. Available only ...</td>\n",
              "      <td>go until jurong point, crazy.. available only ...</td>\n",
              "      <td>go until jurong point, crazy.. available only ...</td>\n",
              "      <td>go until jurong point, crazy.. available only ...</td>\n",
              "      <td>go until jurong point crazy available only in ...</td>\n",
              "      <td>go jurong point crazy available bugis n great ...</td>\n",
              "      <td>go jurong point crazy available bugis n great ...</td>\n",
              "      <td>go jurong point crazi avail bugi n great world...</td>\n",
              "      <td>go jurong point crazy available bugis n great ...</td>\n",
              "      <td>76</td>\n",
              "    </tr>\n",
              "    <tr>\n",
              "      <th>1</th>\n",
              "      <td>ham</td>\n",
              "      <td>Ok lar... Joking wif u oni...</td>\n",
              "      <td>ok lar... joking wif u oni...</td>\n",
              "      <td>ok lar... joking wif u oni...</td>\n",
              "      <td>ok lar... joking wif u oni...</td>\n",
              "      <td>ok lar joking wif u oni</td>\n",
              "      <td>ok lar joking wif u oni</td>\n",
              "      <td>ok lar joking wif u oni</td>\n",
              "      <td>ok lar joke wif u oni</td>\n",
              "      <td>ok lar joking wif u oni</td>\n",
              "      <td>21</td>\n",
              "    </tr>\n",
              "    <tr>\n",
              "      <th>2</th>\n",
              "      <td>spam</td>\n",
              "      <td>Free entry in 2 a wkly comp to win FA Cup fina...</td>\n",
              "      <td>free entry in 2 a wkly comp to win fa cup fina...</td>\n",
              "      <td>free entry in 2 a wkly comp to win fa cup fina...</td>\n",
              "      <td>free entry in  a wkly comp to win fa cup final...</td>\n",
              "      <td>free entry in  a wkly comp to win fa cup final...</td>\n",
              "      <td>free entry wkly comp win fa cup final tkts st ...</td>\n",
              "      <td>free entry wkly comp win fa cup final tkts st ...</td>\n",
              "      <td>free entri wkli comp win fa cup final tkts st ...</td>\n",
              "      <td>free entry wkly comp win fa cup final tkts st ...</td>\n",
              "      <td>104</td>\n",
              "    </tr>\n",
              "    <tr>\n",
              "      <th>3</th>\n",
              "      <td>ham</td>\n",
              "      <td>U dun say so early hor... U c already then say...</td>\n",
              "      <td>u dun say so early hor... u c already then say...</td>\n",
              "      <td>u dun say so early hor... u c already then say...</td>\n",
              "      <td>u dun say so early hor... u c already then say...</td>\n",
              "      <td>u dun say so early hor u c already then say</td>\n",
              "      <td>u dun say early hor u c already say</td>\n",
              "      <td>u dun say early hor u c already say</td>\n",
              "      <td>u dun say earli hor u c alreadi say</td>\n",
              "      <td>u dun say early hor u c already say</td>\n",
              "      <td>35</td>\n",
              "    </tr>\n",
              "    <tr>\n",
              "      <th>4</th>\n",
              "      <td>ham</td>\n",
              "      <td>Nah I don't think he goes to usf, he lives aro...</td>\n",
              "      <td>nah i don't think he goes to usf, he lives aro...</td>\n",
              "      <td>nah i do not think he goes to usf, he lives ar...</td>\n",
              "      <td>nah i do not think he goes to usf, he lives ar...</td>\n",
              "      <td>nah i do not think he goes to usf he lives aro...</td>\n",
              "      <td>nah not think goes usf lives around though</td>\n",
              "      <td>nah not think goes usf lives around though</td>\n",
              "      <td>nah not think goe usf live around though</td>\n",
              "      <td>nah not think go usf life around though</td>\n",
              "      <td>40</td>\n",
              "    </tr>\n",
              "  </tbody>\n",
              "</table>\n",
              "</div>\n",
              "    <div class=\"colab-df-buttons\">\n",
              "\n",
              "  <div class=\"colab-df-container\">\n",
              "    <button class=\"colab-df-convert\" onclick=\"convertToInteractive('df-6b2d90a9-79a2-4ef3-b2da-5d537edf4e6b')\"\n",
              "            title=\"Convert this dataframe to an interactive table.\"\n",
              "            style=\"display:none;\">\n",
              "\n",
              "  <svg xmlns=\"http://www.w3.org/2000/svg\" height=\"24px\" viewBox=\"0 -960 960 960\">\n",
              "    <path d=\"M120-120v-720h720v720H120Zm60-500h600v-160H180v160Zm220 220h160v-160H400v160Zm0 220h160v-160H400v160ZM180-400h160v-160H180v160Zm440 0h160v-160H620v160ZM180-180h160v-160H180v160Zm440 0h160v-160H620v160Z\"/>\n",
              "  </svg>\n",
              "    </button>\n",
              "\n",
              "  <style>\n",
              "    .colab-df-container {\n",
              "      display:flex;\n",
              "      gap: 12px;\n",
              "    }\n",
              "\n",
              "    .colab-df-convert {\n",
              "      background-color: #E8F0FE;\n",
              "      border: none;\n",
              "      border-radius: 50%;\n",
              "      cursor: pointer;\n",
              "      display: none;\n",
              "      fill: #1967D2;\n",
              "      height: 32px;\n",
              "      padding: 0 0 0 0;\n",
              "      width: 32px;\n",
              "    }\n",
              "\n",
              "    .colab-df-convert:hover {\n",
              "      background-color: #E2EBFA;\n",
              "      box-shadow: 0px 1px 2px rgba(60, 64, 67, 0.3), 0px 1px 3px 1px rgba(60, 64, 67, 0.15);\n",
              "      fill: #174EA6;\n",
              "    }\n",
              "\n",
              "    .colab-df-buttons div {\n",
              "      margin-bottom: 4px;\n",
              "    }\n",
              "\n",
              "    [theme=dark] .colab-df-convert {\n",
              "      background-color: #3B4455;\n",
              "      fill: #D2E3FC;\n",
              "    }\n",
              "\n",
              "    [theme=dark] .colab-df-convert:hover {\n",
              "      background-color: #434B5C;\n",
              "      box-shadow: 0px 1px 3px 1px rgba(0, 0, 0, 0.15);\n",
              "      filter: drop-shadow(0px 1px 2px rgba(0, 0, 0, 0.3));\n",
              "      fill: #FFFFFF;\n",
              "    }\n",
              "  </style>\n",
              "\n",
              "    <script>\n",
              "      const buttonEl =\n",
              "        document.querySelector('#df-6b2d90a9-79a2-4ef3-b2da-5d537edf4e6b button.colab-df-convert');\n",
              "      buttonEl.style.display =\n",
              "        google.colab.kernel.accessAllowed ? 'block' : 'none';\n",
              "\n",
              "      async function convertToInteractive(key) {\n",
              "        const element = document.querySelector('#df-6b2d90a9-79a2-4ef3-b2da-5d537edf4e6b');\n",
              "        const dataTable =\n",
              "          await google.colab.kernel.invokeFunction('convertToInteractive',\n",
              "                                                    [key], {});\n",
              "        if (!dataTable) return;\n",
              "\n",
              "        const docLinkHtml = 'Like what you see? Visit the ' +\n",
              "          '<a target=\"_blank\" href=https://colab.research.google.com/notebooks/data_table.ipynb>data table notebook</a>'\n",
              "          + ' to learn more about interactive tables.';\n",
              "        element.innerHTML = '';\n",
              "        dataTable['output_type'] = 'display_data';\n",
              "        await google.colab.output.renderOutput(dataTable, element);\n",
              "        const docLink = document.createElement('div');\n",
              "        docLink.innerHTML = docLinkHtml;\n",
              "        element.appendChild(docLink);\n",
              "      }\n",
              "    </script>\n",
              "  </div>\n",
              "\n",
              "\n",
              "    <div id=\"df-bc4957c5-8ef0-4e77-9d55-78dd3d514105\">\n",
              "      <button class=\"colab-df-quickchart\" onclick=\"quickchart('df-bc4957c5-8ef0-4e77-9d55-78dd3d514105')\"\n",
              "                title=\"Suggest charts\"\n",
              "                style=\"display:none;\">\n",
              "\n",
              "<svg xmlns=\"http://www.w3.org/2000/svg\" height=\"24px\"viewBox=\"0 0 24 24\"\n",
              "     width=\"24px\">\n",
              "    <g>\n",
              "        <path d=\"M19 3H5c-1.1 0-2 .9-2 2v14c0 1.1.9 2 2 2h14c1.1 0 2-.9 2-2V5c0-1.1-.9-2-2-2zM9 17H7v-7h2v7zm4 0h-2V7h2v10zm4 0h-2v-4h2v4z\"/>\n",
              "    </g>\n",
              "</svg>\n",
              "      </button>\n",
              "\n",
              "<style>\n",
              "  .colab-df-quickchart {\n",
              "      --bg-color: #E8F0FE;\n",
              "      --fill-color: #1967D2;\n",
              "      --hover-bg-color: #E2EBFA;\n",
              "      --hover-fill-color: #174EA6;\n",
              "      --disabled-fill-color: #AAA;\n",
              "      --disabled-bg-color: #DDD;\n",
              "  }\n",
              "\n",
              "  [theme=dark] .colab-df-quickchart {\n",
              "      --bg-color: #3B4455;\n",
              "      --fill-color: #D2E3FC;\n",
              "      --hover-bg-color: #434B5C;\n",
              "      --hover-fill-color: #FFFFFF;\n",
              "      --disabled-bg-color: #3B4455;\n",
              "      --disabled-fill-color: #666;\n",
              "  }\n",
              "\n",
              "  .colab-df-quickchart {\n",
              "    background-color: var(--bg-color);\n",
              "    border: none;\n",
              "    border-radius: 50%;\n",
              "    cursor: pointer;\n",
              "    display: none;\n",
              "    fill: var(--fill-color);\n",
              "    height: 32px;\n",
              "    padding: 0;\n",
              "    width: 32px;\n",
              "  }\n",
              "\n",
              "  .colab-df-quickchart:hover {\n",
              "    background-color: var(--hover-bg-color);\n",
              "    box-shadow: 0 1px 2px rgba(60, 64, 67, 0.3), 0 1px 3px 1px rgba(60, 64, 67, 0.15);\n",
              "    fill: var(--button-hover-fill-color);\n",
              "  }\n",
              "\n",
              "  .colab-df-quickchart-complete:disabled,\n",
              "  .colab-df-quickchart-complete:disabled:hover {\n",
              "    background-color: var(--disabled-bg-color);\n",
              "    fill: var(--disabled-fill-color);\n",
              "    box-shadow: none;\n",
              "  }\n",
              "\n",
              "  .colab-df-spinner {\n",
              "    border: 2px solid var(--fill-color);\n",
              "    border-color: transparent;\n",
              "    border-bottom-color: var(--fill-color);\n",
              "    animation:\n",
              "      spin 1s steps(1) infinite;\n",
              "  }\n",
              "\n",
              "  @keyframes spin {\n",
              "    0% {\n",
              "      border-color: transparent;\n",
              "      border-bottom-color: var(--fill-color);\n",
              "      border-left-color: var(--fill-color);\n",
              "    }\n",
              "    20% {\n",
              "      border-color: transparent;\n",
              "      border-left-color: var(--fill-color);\n",
              "      border-top-color: var(--fill-color);\n",
              "    }\n",
              "    30% {\n",
              "      border-color: transparent;\n",
              "      border-left-color: var(--fill-color);\n",
              "      border-top-color: var(--fill-color);\n",
              "      border-right-color: var(--fill-color);\n",
              "    }\n",
              "    40% {\n",
              "      border-color: transparent;\n",
              "      border-right-color: var(--fill-color);\n",
              "      border-top-color: var(--fill-color);\n",
              "    }\n",
              "    60% {\n",
              "      border-color: transparent;\n",
              "      border-right-color: var(--fill-color);\n",
              "    }\n",
              "    80% {\n",
              "      border-color: transparent;\n",
              "      border-right-color: var(--fill-color);\n",
              "      border-bottom-color: var(--fill-color);\n",
              "    }\n",
              "    90% {\n",
              "      border-color: transparent;\n",
              "      border-bottom-color: var(--fill-color);\n",
              "    }\n",
              "  }\n",
              "</style>\n",
              "\n",
              "      <script>\n",
              "        async function quickchart(key) {\n",
              "          const quickchartButtonEl =\n",
              "            document.querySelector('#' + key + ' button');\n",
              "          quickchartButtonEl.disabled = true;  // To prevent multiple clicks.\n",
              "          quickchartButtonEl.classList.add('colab-df-spinner');\n",
              "          try {\n",
              "            const charts = await google.colab.kernel.invokeFunction(\n",
              "                'suggestCharts', [key], {});\n",
              "          } catch (error) {\n",
              "            console.error('Error during call to suggestCharts:', error);\n",
              "          }\n",
              "          quickchartButtonEl.classList.remove('colab-df-spinner');\n",
              "          quickchartButtonEl.classList.add('colab-df-quickchart-complete');\n",
              "        }\n",
              "        (() => {\n",
              "          let quickchartButtonEl =\n",
              "            document.querySelector('#df-bc4957c5-8ef0-4e77-9d55-78dd3d514105 button');\n",
              "          quickchartButtonEl.style.display =\n",
              "            google.colab.kernel.accessAllowed ? 'block' : 'none';\n",
              "        })();\n",
              "      </script>\n",
              "    </div>\n",
              "\n",
              "    </div>\n",
              "  </div>\n"
            ],
            "application/vnd.google.colaboratory.intrinsic+json": {
              "type": "dataframe",
              "variable_name": "df",
              "summary": "{\n  \"name\": \"df\",\n  \"rows\": 5572,\n  \"fields\": [\n    {\n      \"column\": \"label\",\n      \"properties\": {\n        \"dtype\": \"category\",\n        \"num_unique_values\": 2,\n        \"samples\": [\n          \"spam\",\n          \"ham\"\n        ],\n        \"semantic_type\": \"\",\n        \"description\": \"\"\n      }\n    },\n    {\n      \"column\": \"message\",\n      \"properties\": {\n        \"dtype\": \"string\",\n        \"num_unique_values\": 5169,\n        \"samples\": [\n          \"K, makes sense, btw carlos is being difficult so you guys are gonna smoke while I go pick up the second batch and get gas\",\n          \"URGENT! Your mobile No *********** WON a \\u00a32,000 Bonus Caller Prize on 02/06/03! This is the 2nd attempt to reach YOU! Call 09066362220 ASAP! BOX97N7QP, 150ppm\"\n        ],\n        \"semantic_type\": \"\",\n        \"description\": \"\"\n      }\n    },\n    {\n      \"column\": \"prep1\",\n      \"properties\": {\n        \"dtype\": \"string\",\n        \"num_unique_values\": 5168,\n        \"samples\": [\n          \"me sef dey laugh you. meanwhile how's my darling anjie!\",\n          \"apart from the one i told you about yesterday?\"\n        ],\n        \"semantic_type\": \"\",\n        \"description\": \"\"\n      }\n    },\n    {\n      \"column\": \"prep2\",\n      \"properties\": {\n        \"dtype\": \"string\",\n        \"num_unique_values\": 5157,\n        \"samples\": [\n          \"what is your record for one night? :)\",\n          \"are you free now?can i call now?\"\n        ],\n        \"semantic_type\": \"\",\n        \"description\": \"\"\n      }\n    },\n    {\n      \"column\": \"prep3\",\n      \"properties\": {\n        \"dtype\": \"string\",\n        \"num_unique_values\": 5135,\n        \"samples\": [\n          \":-( sad puppy noise\",\n          \"i was about to do it when i texted. i finished a long time ago and showered and er'ything!\"\n        ],\n        \"semantic_type\": \"\",\n        \"description\": \"\"\n      }\n    },\n    {\n      \"column\": \"prep4\",\n      \"properties\": {\n        \"dtype\": \"string\",\n        \"num_unique_values\": 5105,\n        \"samples\": [\n          \"nothing smsing u n xy lor sorry lor da guys neva c u in person but they sort of know u lor so u wan  meet them xy ask me  bring u along  our next meeting\",\n          \"gud mrng dear have a nice day\"\n        ],\n        \"semantic_type\": \"\",\n        \"description\": \"\"\n      }\n    },\n    {\n      \"column\": \"prep5\",\n      \"properties\": {\n        \"dtype\": \"string\",\n        \"num_unique_values\": 5075,\n        \"samples\": [\n          \"wanna watch movie\",\n          \"not forget owns private property good boy always passionate kiss\"\n        ],\n        \"semantic_type\": \"\",\n        \"description\": \"\"\n      }\n    },\n    {\n      \"column\": \"prep6\",\n      \"properties\": {\n        \"dtype\": \"string\",\n        \"num_unique_values\": 5075,\n        \"samples\": [\n          \"wanna watch movie\",\n          \"not forget owns private property good boy always passionate kiss\"\n        ],\n        \"semantic_type\": \"\",\n        \"description\": \"\"\n      }\n    },\n    {\n      \"column\": \"stem\",\n      \"properties\": {\n        \"dtype\": \"string\",\n        \"num_unique_values\": 5074,\n        \"samples\": [\n          \"excel spent ltgt year air forc iraq afghanistan stabl honest like travel\",\n          \"gr poli tone mob direct u rpli poli titl eg poli breath titl crazyin sleepingwith finest ymca getzedcouk poboxowwq p\"\n        ],\n        \"semantic_type\": \"\",\n        \"description\": \"\"\n      }\n    },\n    {\n      \"column\": \"lemmatize\",\n      \"properties\": {\n        \"dtype\": \"string\",\n        \"num_unique_values\": 5075,\n        \"samples\": [\n          \"wan na watch movie\",\n          \"not forget owns private property good boy always passionate kiss\"\n        ],\n        \"semantic_type\": \"\",\n        \"description\": \"\"\n      }\n    },\n    {\n      \"column\": \"len_char\",\n      \"properties\": {\n        \"dtype\": \"number\",\n        \"std\": 36,\n        \"min\": 0,\n        \"max\": 476,\n        \"num_unique_values\": 184,\n        \"samples\": [\n          30,\n          10\n        ],\n        \"semantic_type\": \"\",\n        \"description\": \"\"\n      }\n    }\n  ]\n}"
            }
          },
          "metadata": {},
          "execution_count": 69
        }
      ],
      "source": [
        "# Adding a new colum # Length character\n",
        "df['len_char'] = df['stem'].str.len()\n",
        "df.head()"
      ]
    },
    {
      "cell_type": "code",
      "execution_count": 70,
      "metadata": {
        "colab": {
          "base_uri": "https://localhost:8080/",
          "height": 419
        },
        "id": "y_tY1eyQVDGk",
        "outputId": "cf05a31e-0eea-46c8-fe9f-35624f2e333a"
      },
      "outputs": [
        {
          "output_type": "display_data",
          "data": {
            "text/plain": [
              "<Figure size 1600x500 with 1 Axes>"
            ],
            "image/png": "[encoded data removed]"
          },
          "metadata": {}
        }
      ],
      "source": [
        "# Histogram # ham vs spam\n",
        "plt.figure(figsize=(16,5))\n",
        "sns.histplot(data=df, x='len_char', hue='label')\n",
        "plt.show()"
      ]
    },
    {
      "cell_type": "code",
      "execution_count": 71,
      "metadata": {
        "colab": {
          "base_uri": "https://localhost:8080/",
          "height": 415
        },
        "id": "kNBygoEZVDGl",
        "outputId": "2d70fa53-a876-49b5-8674-380d5d2b4c59"
      },
      "outputs": [
        {
          "output_type": "display_data",
          "data": {
            "text/plain": [
              "<Figure size 1600x500 with 1 Axes>"
            ],
            "image/png": "[encoded data removed]"
          },
          "metadata": {}
        }
      ],
      "source": [
        "# Boxen plot\n",
        "plt.figure(figsize=(16,5))\n",
        "sns.boxenplot(data=df, x='len_char', y='label')\n",
        "plt.show()"
      ]
    },
    {
      "cell_type": "markdown",
      "metadata": {
        "id": "YRYg8Q1kVDGl"
      },
      "source": [
        "Insights\n",
        "* \"There is a tendency for spam SMS to have a longer character count compared to ham (non-spam) messages.\"\n"
      ]
    },
    {
      "cell_type": "markdown",
      "metadata": {
        "id": "NCjFEMPCVDGl"
      },
      "source": [
        "### 3. Word Cloud"
      ]
    },
    {
      "cell_type": "code",
      "execution_count": null,
      "metadata": {
        "id": "XAIELHXQVDGm"
      },
      "outputs": [],
      "source": [
        "# pip install wordcloud"
      ]
    },
    {
      "cell_type": "code",
      "execution_count": 72,
      "metadata": {
        "id": "FZYWUOiKVDGm"
      },
      "outputs": [],
      "source": [
        "# Importing wordcloud library and supports\n",
        "from PIL import Image\n",
        "from wordcloud import WordCloud, STOPWORDS, ImageColorGenerator\n",
        "from io import BytesIO\n",
        "import requests"
      ]
    },
    {
      "cell_type": "code",
      "execution_count": 73,
      "metadata": {
        "colab": {
          "base_uri": "https://localhost:8080/",
          "height": 109
        },
        "id": "Nn7g-ZZGVDGm",
        "outputId": "c4f1a9ed-4816-4717-9262-58898c13aae3"
      },
      "outputs": [
        {
          "output_type": "execute_result",
          "data": {
            "text/plain": [
              "'0       go jurong point crazy available bugis n great ...\\n1                                 ok lar joking wif u oni\\n2       free entry wkly comp win fa cup final tkts st ...\\n3                     u dun say early hor u c already say\\n4                 nah not think go usf life around though\\n                              ...                        \\n5567    nd time tried contact u u £ pound prize claim ...\\n5568                          ü b going esplanade fr home\\n5569                           pity mood soany suggestion\\n5570    guy bitching acted like interested buying some...\\n5571                                       rofl true name\\nName: lemmatize, Length: 5572, dtype: object'"
            ],
            "application/vnd.google.colaboratory.intrinsic+json": {
              "type": "string"
            }
          },
          "metadata": {},
          "execution_count": 73
        }
      ],
      "source": [
        "# Check\n",
        "str(df['lemmatize'])"
      ]
    },
    {
      "cell_type": "code",
      "execution_count": 74,
      "metadata": {
        "colab": {
          "base_uri": "https://localhost:8080/",
          "height": 145
        },
        "id": "nqriKd5rVDGm",
        "outputId": "90c3e142-1363-495a-af1e-6aa4bb12fc20"
      },
      "outputs": [
        {
          "output_type": "execute_result",
          "data": {
            "text/plain": [
              "'go jurong point crazi avail bugi n great world la e buffet cine got amor wat ok lar joke wif u oni free entri wkli comp win fa cup final tkts st may text fa receiv entri questionstd txt ratetc appli over u dun say earli hor u c alreadi say nah not think goe usf live around though freemsg hey darl week word back like fun still tb ok xxx std chgs send rcv even brother not like speak treat like aid patent per request mell mell oru minnaminungint nurungu vettam set callertun caller press copi friend callertun winner valu network custom select receivea prize reward claim call claim code kl valid hour mobil month u r entitl updat latest colour mobil camera free call mobil updat co free gon na home soon not want talk stuff anymor tonight k cri enough today six chanc win cash pound txt csh send cost pday day tsandc appli repli hl info urgent week free membership prize jackpot txt word claim tc wwwdbuknet lccltd pobox ldnwarw search right word thank breather promis wont take help grant fulfil promis wonder bless time date sunday xxxmobilemovieclub use credit click wap link next txt messag click httpwap xxxmobilemovieclubcomnqjkgighjjgcbl oh kim watch eh u rememb spell name yes v naughti make v wet fine that way u feel that way gota b england v macedonia dont miss goalsteam news txt ur nation team eg england trywal scotland txtú poboxoxwwq serious spell name i m go tri month ha ha joke ü pay first lar da stock comin aft finish lunch go str lor ard smth lor u finish ur lunch alreadi ffffffffff alright way meet sooner forc eat slice realli not hungri tho suck mark get worri know sick turn pizza lol lol alway convinc catch bus fri egg make tea eat mom left dinner feel love back amp pack car let know room ahhh work vagu rememb feel like lol wait still not clear not sure sarcast x not want live us yeah got v apologet n fallen actin like spoilt child got caught till not go not bad cheer k tell anyth fear faint housework quick cuppa thank subscript rington uk mobil charg month pleas confirm repli yes repli not charg yup ok go home look time msg ü xuhui go learn nd may lesson oop let know roommat done see letter b car anyth lor u decid hello saturday go text see decid anyth tomo not tri invit anyth pls go ahead watt want sure great weekend abiola forget tell want need crave love sweet arabian steed mmmmmm yummi rodger burn msg tri call repli sms free nokia mobil free camcord pleas call deliveri tomorrow see great hope like man well endow ltgt inch callsmessagesmiss call not get hep b immunis nigeria fair enough anyth go yeah hope tyler can not could mayb ask around bit u not know stubborn not even want go hospit kept tell mark not weak sucker hospit weak sucker think first time saw class gram usual run like ltgt half eighth smarter though get almost whole second gram ltgt k fyi x ride earli tomorrow morn crash place tonight wow never realiz embarass accomod thought like sinc best could alway seem happi cave sorri not not give sorri offer sorri room embarass sms ac sptv new jersey devil detroit red wing play ice hockey correct incorrect end repli end sptv know mallika sherawat yesterday find lturlgt congrat year special cinema pass call c suprman v matrix starwar etc free bxipw pm dont miss sorri call later meet tell reach yesgauti sehwag odi seri gon na pick burger way home can not even move pain kill ha ha ha good joke girl situat seeker part check iq sorri roommat took forev ok come ok lar doubl check wif da hair dresser alreadi said wun cut v short said cut look nice valu custom pleas advis follow recent review mob award bonus prize call today song dedic day song u dedic send ur valuabl frnds first rpli urgent ur award complimentari trip eurodisinc trav acoentri claim txt dis morefrmmob shracomorsglsuplt ls aj hear new divorc barbi come ken stuff plane give month end wah lucki man save money hee finish class hi babe im home wan na someth xx kkwhere youhow perform u call wait machan call free that cool gentleman treat digniti respect like peopl much shi pa not oper ltgt not still look job much tas earn sorri call later k call ah ok way home hi hi place man yup next stop call later not network urgnt sms real u get yo need ticket one jacket done alreadi use multi yes start send request make pain came back back bed doubl coin factori got ta cash nitro realli not still tonight babe ela kanoil download come wen ur free yeah don t stand close tho you ll catch someth sorri pain ok meet anoth night spent late afternoon casualti mean not done stuffmoro includ time sheet sorri smile pleasur smile pain smile troubl pour like rain smile sum hurt u smile becoz someon still love see u smile pleas call custom servic repres ampm guarante cash prize havent plan buy later check alreadi lido got show e afternoon u finish work alreadi free rington wait collect simpli text password mix verifi get usher britney fml po box mk h ppw watch telugu moviewat abt u see finish load loan pay hi wk ok hol yes bit run forgot hairdress appoint four need get home n shower beforehand caus prob u see cup coffe anim pleas not text anymor noth els say okay name ur price long legal wen pick u ave x am xx still look car buy not gone drive test yet per request mell mell oru minnaminungint nurungu vettam set callertun caller press copi friend callertun wow right not mean guess gave boston men chang search locat nyc someth chang cuz signin page still say boston umma life vava umma love lot dear thank lot wish birthday thank make birthday truli memor aight hit get cash would ip address test consid comput not minecraft server know grumpi old peopl mom like better not lie alway one play joke dont worri guess busi plural noun research go dinnermsg ok wif cos like tri new thing scare u dun like mah cos u said not loud gent tri contact last weekend draw show prize guarante call claim code k valid hrs ppm wa ur openin sentenc formal anyway fine juz tt eatin much n puttin weighthaha anythin special happen enter cabin pa said happi bday boss felt special askd lunch lunch invit apart went winner u special select receiv holiday flight inc speak live oper claim pmin goodo yes must speak friday eggpotato ratio tortilla need hmmmi uncl inform pay school direct pls buy food privat account statement show unredeem bonus point claim call identifi code expir urgent mobil award bonus caller prize final tri contact u call landlin boxwrc ppm new address applespairsal malarki today voda number end select receiv award match pleas call quot claim code standard rate app go sao mu today done ü predict wat time üll finish buy good stuff knowyetund not sent money yet sent text not bother send dont involv anyth not impos anyth first place apologis room hey girl r u hope u r well del r bak long time c give call sum time lucyxx kkhow much cost home dear call tmorrowpl accomod first answer question sunshin quiz wkli q win top soni dvd player u know countri algarv txt ansr sptyron want get laid tonight want real dog locat sent direct ur mob join uk largest dog network bt txting gravel nt eca pmsgp haf msn yijuehotmailcom call meet check room befor activ not rcv msgs chat svc free hardcor servic text go u get noth u must age verifi yr network tri got c lazi type forgot ü lect saw pouch like not v nice k text way sir wait mail swt thought nver get tire littl thing lovabl person cozsomtim littl thing occupi biggest part heart gud ni know pls open back yes see ya not dot what staff name take class us freemsg not repli text randi sexi femal live local luv hear u netcollex ltd p per msg repli stop end ummmawil call check inour life begin qatar pls pray hard ki delet contact sindu got job birla soft wine flow never yup thk cine better cos need go plaza mah ok ur typic repli per request mell mell oru minnaminungint nurungu vettam set callertun caller press copi friend callertun everywher dirt floor window even shirt sometim open mouth come flow dream world without half chore time joy lot tv show ill see guess like thing must exist like rain hail mist time done becom one aaooooright work leav hous hello love get interview today happi good boy think mear miss custom servic annonc new year deliveri wait pleas call arrang deliveri winner u special select receiv cash holiday flight inc speak live oper claim keep safe need miss alreadi envi everyon see real life new car hous parentsi new job hand love excit day spend make happi pls stop bootydeli f invit friend repli yes see wwwsmsacubootydeli stop send stop frnd bangbab ur order way u receiv servic msg download ur content u not goto wap bangb tv ur mobil internetservic menu place ur point e cultur modul alreadi urgent tri contact last weekend draw show prize guarante call claim code valid hrs hi frnd best way avoid missunderstd wit belov one great escap fanci bridg need lager see tomo yes complet formclark also utter wast sir need axi bank account bank address hmmm thk sure got time hop ard ya go free abt muz call u discuss liao time come later bloodi hell cant believ forgot surnam mr ill give u clue spanish begin well gon na finish bath goodfin night let know got money carlo make call u still go mall turn friend stay whole show not back til ltgt feel free go ahead smoke ltgt worth text doesnt repli let know log hi spoke maneesha v like know satisfi experi repli toll free yes lift hope offer money need especi end month approach hurt studi anyway gr weekend lol u trust ok gentleman treat digniti respect guy close go noth greatby hello handsom find job not lazi work toward get back net mummi boytoy miss haha awesom minut pleas call custom servic repres freephon ampm guarante cash prize got xmas radio time not get jus reach home go bath first sis use net tell u finish k uniqu enough find th august wwwareyouuniquecouk sorri join leagu peopl dont keep touch mean great deal friend time even great person cost great week hi final complet cours stop howev suggest stay someon abl give or everi stool hope settl new school year wishin gr day gud mrng dear hav nice day u got person stori hamster dead hey tmr meet pm orchard mrt hi kate even hope see tomorrow bit bloodi babyjontet txt back u xxx found enc ltgt sent ltgt buck hello darlin ive finish colleg txt u finish u love kate xxx account refil success inr ltdecimalgt keralacircl prepaid account balanc rs ltdecimalgt transact id kr ltgt goodmorn sleep ga u call alter ok ü say like dat dun buy ericsson oso can not oredi lar enter cabin pa said happi bday boss felt special askd lunch lunch invit apart went aight yo dat straight dogg pleas give us connect today ltdecimalgt refund bill shoot big load get readi bruv hope great break reward semest home alway chat kkgoodstudi well yup ü noe leh sound great home final match head toward draw predict tire not slept well past night easi ahsen got select mean good take exam march yeah think use gt atm regist not sure anyway help let know sure readi ok prob take ur time os call ubandu run without instal hard diskyou use os copi import file system give repair shop sorri call later u say leh cours noth happen lar not say v romant jus bit lor thk e nite sceneri not nice leh new mobil must go txt nokia collect todayfrom wwwtcbiz optout gbpmtmsg would realli appreci call need someon talk u meet ur dream partner soon ur career flyng start find free txt horo follow ur star sign e g horo ari hey compani elama po mudyadhu life strict teacher bcoz teacher teach lesson amp conduct exam life first conduct exam amp teach lesson happi morn dear good morn get gandhipuram walk cross cut road right side ltgt street road turn first right dear go rubber place sorri batteri die yeah yesher tv alway avail work place text meet someon sexi today u find date even flirt u join p repli name age eg sam msg recdthirtyeight penc print oh ltgt come upstair ill littl closer like bus stop street youwhen wil reach new theori argument win situat lose person dont argu ur friend kick amp say alway correct u secret admir look make contact ufind rreveal think ur specialcal tomarrow final hear laptop case cant pleassssssseeeee tel v avent done sportsx okay shine meant sign sound better although told u dat baig face watch realli like e watch u gave cos fr u thanx everyth dat uve done today touch u not rememb old commerci late said websit not dont slipper ask call ok kalli wont bat nd inning didnt work oh ok goodnight ill fix readi time wake dear miss good night sleep congratul ur award cd voucher gift guarante free entri wkli draw txt music tncs wwwldewcomwinppmxag ranjith cal drpd deeraj deepak min hold wen ur lovabl bcum angri wid u dnt take serious coz angri childish n true way show deep affect care n luv kettoda manda nice day da doinghow up day also ship compani take wks way usp take week get lag may bribe nipost get stuff back lem me know readi not necessarili expect done get back though headin mmm yummi babe nice jolt suzi lover need tri contact repli offer video handset anytim network min unlimit text camcord repli call i m park next mini come today think yup anyway go shop cos sis not done yet dun disturb u liao luton ring ur around h hey realli horni want chat see nake text hot text charg pm unsubscrib text stop dint come us wana plan trip sometm not sure yet still tri get hold ur rington servic chang free credit go clubmobilescom choos content stop txt club stop pwk club po box mk wt evo download flash jealous rington club get uk singl chart mobil week choos top qualiti rington messag free charg come mu sort narcot situat night end anoth day morn come special way may smile like sunni ray leav worri blue blue bay hmv bonus special pound genuin hmv voucher answer easi question play send hmv infowwwpercentrealcom usf guess might well take car object bf not come thanx tell rob mack gf theater awesom see bit sent type food like done hand celebr full swing yet got call tool wen u miss someon person definit special u person special miss keepintouch gdeve ok ask money far oki yeah think usual guy still pass last night get ahold anybodi let know throw k might come tonight class let earli ok hi babi im cruisin girl friend r u give call hour home that alright fone fone love jenni xxx life mean lot not love life love peopl life world call friend call world ge dearshal mail tonitebusi streetshal updat toniteth look okvarunnathu edukkukaye raksha ollubut good one real sens hey told name gautham ah haf u found feel stupid da v cam work oop got bit much buzi accident delet messag resend pleas tmobil custom may claim free camera phone upgrad pay go sim card loyalti call offer end thfebtc appli unless situat go gurl would appropri hurt teas make cri end life die plz keep one rose grave say stupid miss u nice day bslvyl cant pick phone right pls send messag need coffe run tomoc believ time week alreadi awesom rememb last time got somebodi high first time diesel v shit realli shock scari cant imagin second def night u think somewher could crash night save taxi oh way food fridg want go meal tonight womdarful actor sms ac blind date u rodd aberdeen unit kingdom check httpimg sms acwicmbcktzr blind date send hide yup remb think book jos ask u wana meet lol yes friendship hang thread caus u not buy stuff themob check newest select content game tone gossip babe sport keep mobil fit funki text wap garag key not bookshelf today accept dayu accept brother sister lover dear best clos lvblefrnd jstfrnd cutefrnd lifpartnr belovd swtheart bstfrnd rpli mean enemi think ur smart win week week quiz text play nowtc winnersclub po box uz gbpweek say give call friend got money definit buy end week hi way u day normal waythi real ur uniquei hope know u rest mylif hope u find wot lost made day great day kkadvanc happi pongal hmmm guess go kb n power yoga haha dunno tahan power yoga anot thk got lo oso forgot liao not realli dude friend afraid decemb mobil mths entitl updat latest colour camera mobil free call mobil updat co free coffe cake guess merri christma babe love ya kiss hey dont go watch x men lunch haha cud u tell ppl im gona b bit l cos buse hav gon past cos full im still waitin pete x would great guild could meet bristol road somewher get touch weekend plan take flight good week problem callsmessagesmiss call hi dahow today class say good sign well know track record read women cool text park read text sent meant joke read light kkapo kgood movi mayb could get book tomo return immedi someth call germani penc per minut call fix line via access number prepay direct access chanc might evapor soon violat privaci steal phone number employ paperwork not cool pleas not contact report supervisor valentin day special win quiz take partner trip lifetim send go pmsg rcvd custcar tadaaaaa home babe still cool come havent wine dine sleepingand surf sorri call later u call right call hand phone ok great thanx lot take post come must text happi read one wiv hello carolin end favourit bless u hide stranger not interest like sister clear two round birla soft yesterday gudnitetcpractic go dis yiju jus saw ur mail case huim havent sent u num dis num one small prestig problem fanci shag dointerest sextextukcom txt xxuk suzi txts cost per msg tncs websit x check realli miss see jeremiah great month nah can not help never iphon not car hour half go apeshit today sorri day ever angri ever misbehav hurt plz plz slap urself bcoz ur fault basic good yo guy ever figur much need alcohol jay tri figur much safe spend weed ltgt ish minut minut ago wtf thank callingforgot say happi onam sirjii fine rememb met insur personmeet qatar insha allahrakhesh ex tata aig join tisscotays congratul ur award cd voucher gift guarante free entri wkli draw txt music tncs wwwldewcomwinppmxag ur cashbal current pound maxim ur cashin send cash pmsg cc hgsuiteland rowwjhl actor work work even sleep late sinc unemploy moment alway sleep late unemploy everi day saturday hello got st andrewsboy long way cold keep post ha ha cool cool chikku chikkudb oh ok prob check audrey status right busi tri finish new year look forward final meet good afternoon sunshin dawn day refresh happi aliv breath air smile think love alway well know z take care worri updatenow xmas offer latest motorola sonyericsson nokia free bluetooth doubl min txt orang call mobileupd calloptoutfq discount code rp stop messag repli stop wwwregalportfoliocouk custom servic wat uniform get cool text readi hello boytoy geeee miss alreadi woke wish bed cuddl love spoil bed well go bath msg next ltgt min cant keep talk peopl not sure pay agre price pls tell want realli buy much will pay thank rington order refer charg gbp per week unsubscrib anytim call custom servic say happen could seen mei didt recognis face well not lot thing happen lindsay new year sigh bar ptbo blue heron someth go keep payasam rinu bring taught ranjith sir call sms like becaus hes verifi project prabu told today pa dont mistak guess worri must know way bodi repair quit sure not worri take slow first test guid ovul relax noth said reason worri ill keep followin yeah sure give coupl minut track wallet hey leav not big deal take care hey late ah meet doubl min txts month free bluetooth orang avail soni nokia motorola phone call mobileupd calloptoutndx took mr owl lick custom place call mm time dont like fun mths half price orang line rental latest camera phone free phone mths call mobilesdirect free updat orstoptxt yup lunch buffet u eat alreadi huh late fr dinner hey sat go intro pilat kickbox morn ok yes think offic lap room think that last day didnt shut pick bout ish time go perform award calcul everi two monthnot current one month period actual sleep still might u call back text gr rock sis send u text wen wake alway put busi put pictur ass facebook one open peopl ever met would think pictur room would hurt make feel violat good even sir al salam wahleykkumshar happi newsbi grace god got offer tayseertissco joinedhop fineinshah allahmeet sometimerakheshvisitor india hmmmkbut want chang field quick dai wan na get system administr network administr free rington text first poli text get true tone help st free tone x pw e nd txt stop dear chechi talk hair cream not ship none happen til get though yep great loxahatche xmas tree burn ltgt start hour haha get use drive usf man know lot stoner well slight disastr class pm fav darl hope day ok coffe wld good can not stay late tomorrow time place alway hello good week fanci drink someth later headin toward busetop messagesom text miss sendernam miss number miss sentdat miss miss u lot that everyth miss sent via fullonsmscom come room point iron plan weekend cos want thing oki go yan jiu skip ard oso go cine den go mrt one blah blah blah bring home wendi date servic call boxskch whatsup dont u want sleep alright new goal free entri week competit text word win tc wwwtxttowincouk alright head minut text meet send logo ur lover name join heart txt love name name mobno eg love adam eve yahoo poboxwwq txtno ad p yesfrom last week take live call someon contact date servic enter phone fanci find call landlin poboxntfp siva hostel aha urgent mobil number award prize guarante call land line claim valid hrs send ur friend receiv someth ur voic speak express childish naughti sentiment rowdi ful attitud romant shi attract funni ltgt irrit ltgt lovabl repli ok ok guess aathiwher dear pain urin thing els esplanad ü mind give lift cos got car today wnt buy bmw car urgentlyit vri urgentbut hv shortag ltgt lacsther sourc arng dis amt ltgt lacsthat prob home watch tv lor usual take fifteen fuck minut respond yes question congrat nokia video camera phone call call cost ppm ave call min vari mobil close post bcm ldn wcnxx book ticket pongal avail like right around hillsborough amp ltgt th messag sent askin ltgt dollar shoul pay ltgt ltgt ask g iouri told stori like ten time alreadi long applebe fuck take hi hope u get txtjourney hasnt gdnow min late think like love arrang yesh realli greatbhaji told kalli best cricket sachin worldveri tough get suppos wake gt oic saw tot din c found group liao sorri call later hey hey wereth monkeespeopl say monkeyaround howdi gorgeous howu doin foundurself jobyet sausagelov jen xxx sorri batteri die come get gram place well done blimey exercis yeah kinda rememb wot hmm wont get concentr dear know mind everyth lol made plan new year min later k hank lotsli thank hope good day today kkwhat detail want transferacc enough ok tell stay yeah tough optimist thing improv month loan purpos homeown tenant welcom previous refus still help call free text back help si si think ill go make oreo truffl look ami ure beauti intellig woman like u lot know u don t like like don t worri hope result consist intellig kind start ask practicum link keep ear open best ttyl call cost guess isnt bad miss ya need ya want ya love ya go thru differ feelingwav decis cope individualtim heal everyth believ u go phone gon na die stay great never better day give even reason thank god upgrdcentr orang custom may claim free camera phone upgrad loyalti call offer end th juli tcs appli optout avail sorri call later ok bye ok way railway great princess love give receiv oral doggi style fave posit enjoy make love ltgt time per night not put stuff road keep get slipperi go ride bike yup need jus wait e rain stop mani compani tell languag okmail dear dave final notic collect tenerif holiday cash award call landlin tcs sae box cwwx ppm long sinc scream princess noth meant money enter account bank remov flat rate someon transfer ltgt account ltgt dollar got remov bank differ charg also differb sure trust ja person send account detail cos want get laid tonight want real dog locat sent direct ur mob join uk largest dog network txting moan nyt eca pmsgp nice line said broken heart plz not cum time infront wise trust u good ok gon na head usf like fifteen minut love aathilov u lot tension ahwhat machiani problem k pick anoth th done whenr guy get back g said think not stay mcr almost see u sec yo carlo friend alreadi ask work weekend watch tv lor thank babi cant wait tast real thing chang fb jaykwon thuglyf falconerf win realli side long time free messag activ free text messag repli messag word free term condit visit wwwcom dear reach railway happen depend qualiti want type sent boy fade glori want ralph mayb think fix send test messag sorri man account dri would want could trade back half could buy shit credit card congrat year special cinema pass call c suprman v matrix starwar etc free bxipw pm dont miss sorryin meet call later class ltgt reunion free nowcan call got meh nope think go monday sorri repli late told accentur not confirm true kate jackson rec center ish right dear reach room fight world easi u either win lose bt fightng close u dificult u lose u lose u win u still lose ü come check nuerologist lolnic went fish water congratul week competit draw u prize claim call b tcsstop sms ppm wait e car dat bore wat cos wait outsid got noth home stuff watch tv wat mayb westshor hyde park villag place near hous know anthoni bring money school fee pay rent stuff like that need help friend need signific opinion jada kusruthi lovabl silent spl charact not matur stylish simpl pls repli latest gs still scroung ammo want give new ak tri prabhaim sorydarealyfrm heart sori lol ok forgiven nojst chang tat guarante latest nokia phone gb ipod mp player prize txt word collect ibhltd ldnwh pmtmsgrcvd sno competit boltblu tone p repli poli mono eg poli cha cha slide yeah slow jamz toxic come stop tone txt credit top httpwwwbubbletextcom renew pin tgxxrz way transport less problemat sat night way u want ask n join bday feel free need know definit nos book fri usual person unconsci children adult may behav abnorm ill call ebay might less elsewher shall come get pickl gon na go get taco rude campus urgent mobil award bonus caller prize nd attempt contact call boxqu hi not b ard christma enjoy n merri xmas today offer claim ur worth discount voucher text yes savamob member offer mobil cs sub unsub repli x yes pretti ladi like singl reciev tone within next hrs term condit pleas see channel u teletext pg jay say doublefaggot privat account statement show unredeem sim point call identifi code expir todaysundaysunday holidayso work gudnitetcpractic go late not call hope lr malaria know miss guy miss bani big pls give love especi great day good afternoon love goe day hope mayb got lead job think boytoy send passion kiss across sea probabl gon na see later tonight lt mayb fat finger press button not know ummmmmaah mani mani happi return day dear sweet heart happi birthday dear tirupur da start offic call wwwapplausestorecom monthlysubscriptionpmsg maxmonth tcsc web age stop txt stop famous quot develop abil listen anyth uncondit without lose temper self confid mean marri go colleg pa els ill come self pa oclock mine bash flat plan girl not stay bed girl not need recoveri time id rather pass fun coop bed special know need get hotel got invit apologis cali sweet come english bloke weddin sorri took long omw wait ltgt min ok give minut think see btw alibi cut hair whole time imagin final get sink bath put pace mayb even eat left also imagin feel cage cock surround bath water remind alway own enjoy cuck hurri weeddefici like three day sure get acknowledg astound tactless general faggi demand blood oath fo ok everi night take warm bath drink cup milk see work magic still need loos weight know i ll look fri pan case it s cheap book perhap that s silli fri pan isn t like book well uv caus mutat sunscreen like essenti theseday lunchyou not onlinewhi know friend alreadi told hi princess thank pic pretti aiyo u alway c ex one dunno abt mei repli first time u repli fast lucki not workin huh got bao ur sugardad ahge hi msg meim offic thanx e browni v nice geeeee love much bare stand gent tri contact last weekend draw show prize guarante call claim code k valid hrs ppm fuck babe miss alreadi know can not let send money toward net need want crave ill call u mrw ninish address icki american freek wont stop callin bad jen k eh oooh bed ridden ey think anyway go gym whatev love smile hope ok good day babe miss much alreadi love daddi make scream pleasur go slap ass dick wot u wan na missi yar lor wait mum finish sch lunch lor whole morn stay home clean room room quit clean hee know lab goggl went open door wait call nope wait sch daddi cash prize claim call tire argu week week want ü wait sch finish ard mobil number claim call us back ring claim hot line arngd marriag u r walkin unfortunt snake bite u bt love marriag danc frnt snake amp sayin bite bite huh earli ü dinner outsid izzit ok anyway need chang said tri contact repli offer min textand new video phone call repli free deliveri tomorrow exwif not abl kid want kid one day scotland hope not show jjc tendenc take care live dream tell u headach want use hour sick time dun thk quit yet hmmm go jazz yogasana oso go meet em lesson den pete pleas ring meiv hard gotani credit ya srsli better yi tho meet call later ur chanc win wkli shop spree txt shop tscs wwwtxtshopcom custcar xpwk special select receiv pound award call line close cost ppm tcs appli ag promo privat account statement show unredeem point call identifi code expir still grand prix met stranger choos friend long world stand friendship never end let friend forev gud nitz great gud mrng dear nice day import custom servic announc call freephon exhaust train morn much wine pie sleep well go buy mum present ar mind blastin tsunami occur rajnik stop swim indian oceand u send home first ok lor not readi yet speak cash yet happi come noon meet lunch la take care n get well soon xclusiveclubsaisai morow soire special zouk nichol parisfre rose ladi info meant say cant wait see u get bore bridgwat banter neva mind ok fine imma get drink somethin want come find day kick euro u kept date latest news result daili remov send get txt stop valentin game send dis msg ur friend answer r someon realli love u que colour suit bestrpli mani depend thanx today cer nice catch ave find time often oh well take care c u soonc call said himthen choos futur happi valentin day know earli hundr handsom beauti wish thought finish aunti uncl st like not v shock leh cos tell shuhui like tell leona also like dat almost know liao got ask abt ur reaction lor famili happi come n pick ü come immedi aft ur lesson let snow let snow kind weather bring ppl togeth friendship grow dear got ltgt dollar hi hi good word word may leav u dismay mani time make sure alex know birthday fifteen minut far concern sorri got thing may pub later nah straight bring bud drink someth actual littl use straight cash haha good hear offici paid market th mani lick take get center tootsi pop yup thk r e teacher said make face look longer darren ask not cut short new textbuddi chat horni guy ur area p free receiv search postcod gaytextbuddycom txt one name today vodafon number end select receiv award number match call receiv award pleas dont say like hi hi hi thank u oh forward messag thought send got seventeen pound seven hundr ml hope ok dear voucher holder claim week offer pc go httpwwwetlpcoukexpressoff tscs appli stop text txt stop n funni sweetheart hope not kind day one load reason smile biola ü login dat time dad fetch ü home shower babi askd u question hour answer well imma definit need restock thanksgiv let know said kiss kiss can not sound effect gorgeous man not kind person need smile brighten day probabl gon na swing wee bit ya nice readi thursday allo brave buse taken train triumph mean we re b ham jolli good rest week watch cartoon listen music amp eve go templ amp church u mind ask happen dont say uncomfort privat account statement show unredeem point call identifi code expir prob send email cash prize claim call tc rstm sw ss ppm that cool sometim slow gentl sonetim rough hard gon na say sorri would normal start panic time sorri see tuesday wait know wesley town bet hella drug fine miss much u got person stori tell drug dealer get impati sun cant come earth send luv ray cloud cant come river send luv rain cant come meet u send care msg u gud evng place man doesnt make sens take unless free need know wikipediacom premium phone servic call sea lay rock rock envelop envelop paper paper word mum repent sorri go home first daddi come fetch ü later leav de start prepar next yes babi studi posit kama sutra en chikku nang bakra msg kalstiyathen teacoffe carlosl minut still need buy pay ltdecimalgt lakh good even ttyl u receiv msg ho ho big belli laugh see ya tomo sms ac sun post helloyou seem cool want say hi hi stop send stop get ur st rington free repli msg tone gr top tone phone everi week per wk opt send stop ditto not worri say anyth anymor like said last night whatev want peac got ltgt way could pick dont knw pa drink milk mayb say hi find got card great escap wetherspoon piggi r u awak bet ure still sleep go lunch caus not freaki lol miss call caus yell scrappi miss u can not wait u come home lone today hex place talk explain ü log wat sdrybi xy go e lunch hi sue year old work lapdanc love sex text live bedroom text sue textoper g da ppmsg want ask ü wait finish lect cos lect finish hour anyway finish work yet everi king cri babi everi great build map not imprtant u r today u wil reach tomorw gud ni dearm cherthalain case u r come cochin pls call bfore u starti shall also reach accordinglyor tell day u r comingtmorow engag an holiday thank love torch bold forward pleas call immedi urgent messag wait farm open sorri troubl u buy dad big small sat n sun thanx sister law hope great month say hey abiola purchas stuff today mail po box number ah poop look like ill prob send laptop get fix cuz gpu problem good good job like entrepreneur aight close still around alex place meet corpor st outsid gap see mind work mum ask ü buy food home ku also dont msg repli msg much r ü will pay sorri call later import prevent dehydr give enough fluid that bit weird even suppos happen good idea sure pub true deari sat pray even felt soso smsd time not think get away trek long famili town sorri wan na gym harri quit late lar ard anyway wun b drivin review keep fantast nokia ngage game deck club nokia go wwwcnupdatescomnewslett unsubscrib alert repli word mths half price orang line rental latest camera phone free phone mths call mobilesdirect free updat orstoptxt tcs height confid aeronaut professor wer calld amp wer askd sit aeroplan aftr sat wer told dat plane ws made student dey hurri plane bt didnt move saidif made studentsthi wont even start datz confid seem like weird time night g want come smoke day shitstorm attribut alway come make everyon smoke ampm cost p save stress person dorm account send account detail money sent also know lunch menu da know stuff sell ill tell urgent nd attempt contact uu call b tcsbcmwcnxx callcost ppm mobilesvari max book lesson msg call work sth go get spec membership px guarante cash prize claim yr prize call custom servic repres ampm macha dont feel upseti assum mindsetbeliev one even wonder plan uslet life begin againcal anytim oh send address sfine anytim best wondar full flim ya even cooki jelli world run stillmayb feel sameso itor admiti madthen correctionor let call lifeand keep run worldmay u r also runninglet run got look scrumptious daddi want eat night long cos lar not ba dao ok pm lor u never ask go ah said u would ask fri said u ask today alright omw got ta chang order halfth exact anyway far jide studi visit dunno u ask email alertfrom jeri stewarts kbsubject lowcost prescripiton drvgsto listen email call didnt spring come earli yay lol not feel bad use money take steak dinner even u dont get troubl convincingjust tel twice tel neglect msgs dont c read itjust dont repli leav qatar tonit search opportunityal went fastpl add ur prayer dearrakhesh one talk thank look realli appreci hi custom loyalti offerth new nokia mobil txtauction txt word start get tctxt tc pmtmsg wish haha mayb ure rite u know well da feel like someon gd lor u faster go find one gal group attach liao yes glad made well littl time thing good time ahead got room soon not put clock back til shout everyon get realis wahay anoth hour bed ok may free gym men like shorter ladi gaze eye dunno jus say go lido time promis take good care princess run pleas send pic get chanc ttyl u subscrib best mobil content servic uk per day send stop helplin reason not spoken year anyway great week best exam monday next week give full gist realiz year thousand old ladi run around tattoo import custom servic announc premier dont gim me lip caveboy get librari reali sorryi not recognis number confus r u pleas didnt holla cant think anyon spare room top head faith make thing possiblehop make thing worklov make thing beautifulmay three christmasmerri christma u made appoint call youcarlo isar phone vibrat act might not hear text romant pari night flight book next year call tscs appli grandma oh dear u still ill felt shit morn think hungov anoth night leav sat urgent ur guarante award still unclaim call closingd claimcod mm pmmorefrommobilebremovedmobypoboxlsyf noth jus tot u would ask cos u ba gua went mt faber yest yest jus went alreadi mah today not go jus call lor wish famili merri x mas happi new year advanc ur award citi break could win summer shop spree everi wk txt store skilgm tscswinawkag perwksub nt goin got somethin unless meetin dinner lor haha wonder go tis time sorri call later cant pick phone right pls send messag lol know dramat school alreadi close tomorrow appar can not drive inch snow suppos get not get anywher damn job hunt lol u drunkard hair moment yeah still tonight wat plan idc get not weasel way shit twice row wil ltgt minut got space sleepingand surf thank pick trash not go tell friend not sure want live smoke much spend hour beg come smoke hi kate love see tonight ill phone tomorrow got sing guy gave card xxx happi new year dear brother realli miss got number decid send text wish happi abiola mean get door opinion jada kusruthi lovabl silent spl charact not matur stylish simpl pls repli hmmm thought said hour slave not late punish beerag import custom servic announc premier call freephon dont think turn like randomlli within min open suppos could not make still town though time fix spell sometim get complet diff word go figur ever thought live good life perfect partner txt back name age join mobil communiti psms free top polyphon tone call nation rate get toppoli tune sent everi week text subpoli per pole unsub gud mrng dear hav nice day hope enjoy game yesterday sorri not touch pls know fond bein thot great week abiola e best ur drive tmr ywhere u dogbreath sound like jan c that al omg want scream weigh lost weight woohoo general not one uncount noun u dictionari piec research realli get hang around orang custom may claim free camera phone upgrad loyalti call offer end thmarch tcs appli optout availa petey boy wherear friendsar thekingshead come canlov nic ok msg u b leav hous gim me ltgt minut ago last chanc claim ur worth discount voucher today text shop savamob offer mobil cs savamob pobox muz sub appt lttimegt not fault u not listen told u twice free st week nokia tone ur mobil everi week txt nokia get txting tell ur mate wwwgetzedcouk pobox wwq normpton guarante award even cashto claim ur award call free stop getstop php rg jx k dled imp sure make sure know not smokin yet boooo alway work quit take half day leav bec not well ugh not wan na get bed warm ssnervous ltgt ring come guy costum gift futur yowif hint hint congratul ur award either cd gift voucher free entri week draw txt music tncs wwwldewcomwinppmxag borrow ur bag ok u outbid simonwatson shinco dvd plyr bid visit sms acsmsreward end bid notif repli end boytoy miss happen lot use one babe model not help youi bring match also bring galileo dobbi not respond boo babe u enjoyin yourjob u seem b gettin well hunnyhop ure oktak care i llspeak u soonlot lovem xxxx good afternoon starshin boytoy crave yet ach fuck sip cappuccino miss babe teas kiss road cant txt smsservic yourinclus text credit pls goto wwwcomuknet login qxj unsubscrib stop extra charg help comuk cm ae p alfi moon children need song ur mob tell ur ms txt tone chariti nokia poli chariti poli zed profit chariti good even ttyl hmm bit piec lol sigh hahahaus brain dear hey got mail sorri light turn green meant anoth friend want ltgt worth may not around thank yesterday sir wonder hope enjoy burial mojibiola u secret admir reveal think u r special call opt repli reveal stop per msg recd cust care hi mate rv u hav nice hol messag say hello coz haven t sent u age start drive stay roadsrvx dear voucher holder claim week offer pc pleas go httpwwwetlpcoukexpressoff tscs appli stop text txt stop thank much skype wit kz sura didnt get pleasur compani hope good given ultimatum oh countin aburo enjoy messag sent day ago sure result offer good morn dear great amp success day want anytim network min text new video phone five pound per week call repli deliveri tomorrow sir late pay rent past month pay ltgt charg felt would inconsider nag someth give great cost didnt speak howev recess wont abl pay charg month henc askin well ahead month end pleas help thank tri contact offer new video phone anytim network min half price rental camcord call repli deliveri wed last chanc claim ur worth discount voucherstext yes nowsavamobmemb offer mobil cs sub remov txt x stop luv u soo much u don t understand special u r ring u morrow luv u xxx pls send comprehens mail pay much prashanthettan mother pass away last night pray famili urgent call landlin complimentari ibiza holiday cash await collect sae tcs po box sk wp ppm kkwhen go meanwhil shit suit xavier decid give us ltgt second warn samantha come play jay guitar impress shit also not think doug realiz not live anymor stomach thru much trauma swear can not eat better lose weight officewhat mattermsg nowi call break yeah bare enough room two us x mani fuck shoe sorri man see later today offer claim ur worth discount voucher text yes savamob member offer mobil cs sub unsub repli x u reach orchard alreadi u wan go buy ticket first real babi want bring inner tigress da run activ full version da ah poor babyhop urfeel bettersn luv probthat overdos work hey go care spk u sn lot lovejen xxx stop stori told return say not order talk sexi make new friend fall love world discreet text date servic text vip see could meet go take babe hai ana tomarrow come morn ltdecimalgt ill sathi go rto offic repli came home spoon okay say somebodi name tampa work go min brother genius sorri guess whenev get hold connect mayb hour two text u find time bus coz need sort stuff dude ive see lotta corvett late congratul ur award either yrs suppli cds virgin record mysteri gift guarante call tscs wwwsmsconet pm approx min consid wall bunker shit import never play peac guess place high enough not matter privat account statement xxxxxx show unredeem point call identifi code expir hello need posh bird chap user trial prod champney put need address dob asap ta r u want xmas free text messag new video phone half price line rental call free find well offici philosoph hole u wan na call home readi save go goodno problembut still need littl experi understand american custom voic text drop x ugh long day exhaust want cuddl take nap talk atleast day otherwis miss best friend world shakespear shesil ltgt shop till u drop either k k cash travel voucher call ntt po box crbt fixedlin cost ppm mobil vari castor need see someth sunshin quiz wkli q win top soni dvd player u know countri liverpool play mid week txt ansr sptyron u secret admir look make contact ufind rreveal think ur specialcal u secret admir look make contact ufind rreveal think ur specialcal stopsm remind not download content alreadi paid goto httpdoit mymobi tv collect content see knew give break time woul lead alway want miss curfew gon na gibe til one midnight movi not gon na get til need come home need getsleep anyth need b studdi ear train love give massag use lot babi oil fave posit dude go sup yoyyooo u know chang permiss drive mac usb flash drive gibb unsoldmik hussey like talk pa not abl dont know dun cut short leh u dun like ah fail quit sad unbeliev faglord wifehow knew time murder exact ask princess great princess think nutter cutter ctter cttergg cttargg ctargg ctagg ie ok noe ure busi realli bore msg u oso dunno wat colour choos one not g class earli tomorrow thus not tri smoke ltgt superb thought grate u dont everyth u want mean u still opportun happier tomorrow u today hope good week check use hope agent not drop sinc book thing year whole boston nyc experi thursday night yeah sure thing work free rington wait collect simpli text password mix verifi get usher britney fml po box mk h ppw probabl money worri thing come due sever outstand invoic work two three month ago possibl teach wonder phone batteri went dead tell love babe love smell bus not tobacco get worri derek taylor alreadi assum worst hey charl sorri late repli lastest stereophon marley dizze racal libertin stroke win nookii game flirt click themob wap bookmark text wap ill give plus said grinul greet whenev speak white fudg oreo store januari male sale hot gay chat cheaper call nation rate pmin cheap pmin peak stop text call pmin love come took long leav zaher got word ym happi see sad left miss sorri hurt cant feel nauseous piss not eat sweet week caus today plan pig diet week not hungri ok lor not earli still project meet call da wait call could ask carlo could get anybodi els chip actual send remind today wonder weekend peopl see msgs think iam addict msging wrong bcoz dont know iam addict sweet friend bslvyl hey gave photo regist drive ah tmr wan na meet yck dont talk ever ok word u wana see way school pls send ashley number shall fine avalarr hollalat went attend anoth two round todaybut still didt reach home actual delet old websitenow blog magicalsongsblogspotcom k wait chikkuil send aftr ltgt min diet ate mani slice pizza yesterday ugh alway diet ki give kvb acc detail oh come ah money r lucki winner claim prize text money million give away pptxnormal text rate box wtji realli sorri not b abl fridayhop u find alternativehop yr term go ok congratul ore mo owo wa enjoy wish mani happi moment fro wherev go samus shoulder yet time think need know near campus dear matthew pleas call landlin complimentari lux tenerif holiday cash await collect ppm sae tcs box skxh dun wear jean lor sinc side fever vomitin kkare colleg urgent call landlin complimentari tenerif holiday cash await collect sae tcs box hp yf ppm better made friday stuf like pig yesterday feel bleh least not writh pain kind bleh sell ton coin sell coin someon thru paypal voila money back life pocket theyr lot place hospit medic place safe get touch folk wait compani txt back name age opt enjoy communiti psms also sorta blown coupl time recent id rather not text blue look weed sent score sopha secondari applic school think think appli research cost also contact joke ogunrind school one less expens one cant wait see photo use ur cashbal current pound maxim ur cashin send go pmsg cc po box tcrw hey book kb sat alreadi lesson go ah keep sat night free need meet confirm lodg chk ur belovd ms dict time want come awesom lem me know whenev around shb b ok lor thanx beauti truth graviti read care heart feel light someon feel heavi someon leav good night also rememb get dobbi bowl car filthi stori girl wait sorri c ur msg yar lor poor thing one night tmr ull brand new room sleep love not decis feel could decid love life would much simpler less magic welp appar retir sort code acc bank natwest repli confirm sent right person u sure u can not take sick time urgent tri contact u today draw show prize guarante call land line claim validhr watch cartoon listen music amp eve go templ amp church u yo chad gymnast class wan na take site say christian class full much buzi better still catch let ask sell ltgt not sure night menu know noon menu u want come backa beauti necklac token heart youthat give wife likingb seeno one give thatdont call mei wait till come will go aptitud class wont b tri sort hous ok yar lor wan go c hors race today mah eat earlier lor ate chicken rice u haha awesom omw back yup thk e shop close lor account number eh u send wrong lar hey ad crap nite borin without ya boggi u bore biatch thanx u wait til nxt time il ave ya ok shall talk dont hesit know second time weak like keep notebook eat day anyth chang day sure noth hey pay salari de ltgt anoth month need chocol weed alcohol start search get job daysh great potenti talent reckon need town eightish walk carpark congrat mobil g videophon r call videochat wid mate play java game dload polyph music nolin rentl look fuckin time fuck think yo guess drop carlo say mu ltgt minut offic call ltgt min geeee miss alreadi know think fuck can not wait till next year togeth love kiss yun ahth ubi one say ü wan call tomorrowcal look ireneer got bus ubi cresubi tech parkph st wkg daysèn ugh got ta drive back sd la butt sore th juli hi im relax time ever get everi day parti good night get home tomorrow ish ü ü wan come come lor din c stripe skirt xmas stori peac xmas msg love xmas miracl jesus hav bless month ahead amp wish u merri xmas cant not number chang e one next escal yetund class not run water make ok pls not lot happen feel quiet beth aunt charli work lot helen mo ü wait bus stop aft ur lect lar dun c ü go get car come back n pick ü aight thank comin nobut heard abt tat pleas call custom servic repres freephon ampm guarante cash prize yesh realli greatbhaji told kalli best cricket sachin worldveri tough get ltgt think say syllabus umma say anyth give sec think think panason bluetoothhdset free nokia free motorola free doublemin doubletxt orang contract call mobileupd call optout not quit know still can not get hold anyon cud pick bout pm see pub poyyarikaturkolathupalayamunjalur posterod dis ltgt dear heroi leav qatar tonit apt opportunitypl keep touch ltemailgt kerala lol would mom would fit tell whole famili crazi terribl got home babe still awak dunno close oredi not ü v fan buy pizza meat lover suprem u get pick ya toldsh ask wat matter dearregret cudnt pick calldrov frm ctla cochin homeleft mobil carent style ishtamayoohappi bakrid free st week nokia tone ur mob everi week txt nokia get txting tell ur mate wwwgetzedcouk pobox wwq normpton shall send exe mail id nope watch tv home not go v bore knowwait check good afternoon glorious anniversari day sweet j hope find happi content prey think send teas kiss across sea coax imag fond souveni cougarpen guess somebodi know secret fanci wan na find give us call landlin dateboxessexcmxn pmin still tonight may call later pls not pattern recent crap weekend sore throat scratch talk yes da plm ur offic not around still asleep v lol forgot eh yes bring babe good find way not use foreign stamp countri good lectur yup bath liao happi new year man oh mr sheffield wan na play game okay boss nanni give rais give one zoe hit im fuck shitin il defo tri hardest cum morow luv u million lekdog hello babi get back mom set comput fill belli goe loverboy miss alreadi sigh blanket suffici thx naughti littl thought better flirt flirt n flirt rather love someon n gettin hurt hurt n hurt gud nyt edison right said fool ask question wise man answer know us speechless viva gmgngegnt talk that de wont today go colleg not abl atten class class holla later easi ahsen got select mean good mmm that better got roast i d b better drink good indian know someon know fanci call find pobox lshb p come round thing chang sentenc want concentr educ career im leav flirt txt girl bloke ur name age eg girl zoe join get chat walk hour c u doesn t show care wont u believ im serious day euro kickoff u kept inform latest news result daili unsubscrib send get euro stop avail soire june rd u noe wat time e place dat sell close got anoth job one hospit data analysi someth start monday not sure thesi got finish jay get realli impati belliger hiya comin bristol st week april les got rudi new yrs eve snoringthey drunk u bak colleg yet work send ink bath work pleas call u drive lor ard like dat tell femal v howr throw decid get eastend tv quiz flower dot compar violet e tulip f lili txt e f chanc win cash wkentp work technic support voic processnetwork field might come kerala daysso prepar take leav finalis dont plan travel visitne finish urgent work ok not sure time tho not sure get librari class tri see point good eve new local date area lot new peopl regist area repli date start wwwflirtpartyus repli fine bitch later mum went dentist free call sir wait meet u work tel shall work tomorrow someon u know ask date servic contact cant guess call reveal po box wu jus finish bath alright make sure car back tonight urgent tri contact u today draw show prize guarante call land line claim c validhr dear uve invit xchat final attempt contact u txt chat lul im gettin juici gossip hospit two nurs talk fat gettin one think shes obes oyea aight ill get fb coupl minut oi ami parchi na kicchu kaaj kort iccha korch na phone ta tul na plz plz download clear movi dvd copi yep pretti sculptur convey regard watch surya movi pm vijay movi pokkiri tell happen dont behav like ok need say u get pic msgs phone send someon els wat make peopl dearer not de happi dat u feel u meet de pain u feel u miss dem love start attractioni feel need everi time around mesh first thing come thoughtsi would start day end hersh everi time dreamlov everi breath namemi life happen around hermi life name heri would cri herwil give happi take sorrowsi readi fight anyon heri love craziest thing herlov not proov anyon girl beauti ladi whole planeti alway sing prais herlov start make chicken curri end maki sambarlif beauti thenwil get everi morn thank god day mei would like say lotwil tell later frndship like needl clock though v r clock v r nt abl met evn v meetitz second bt v alwi stay conect gud not think spatula hand never noth award sipix digit camera call landlin deliveri within day cs box mbp yr warranti ppm p p goodmorn today late ltdecimalgt min win urgent mobil number award prize guarante call land line claim valid hrs ppm pleas da call mistak side sorri da pls da goto doctor r meet well weather cali great complex great need car move freeli tax outrag great place sad part miss home reach home tire come tomorro ryder unsoldnow gibb dear subscrib ur draw gift voucher b enter receipt correct an elvi presley birthday txt answer not fret buy ovul test strip send wont get til like march send postal addressul alrightokay gift tri get throw cliff someth ne thing interest good birthday u wrking nxt start uni today busi come point figur tomorrow yeah go bore depress sittin waitin phone ring hope wind drop though scari black shirt n blue jean thk c ü aiyah sorri lor watch tv watch forgot check phone messag import inform user today lucki day find log onto httpwwwurawinnercom fantast surpris await hen night go swing good afternoon love goe day woke earli onlin wait hmmm italian boy onlin see grin someon not smoke everi time smoke last two week call text want smoke get headach tri figur u trust math promis sfirst timedhoni rock ok ill tell compani awesom think get th usf time tonight mean still think teju good movi ok leav hourish nothi kalli home groundamla home town durban let make saturday monday per conveni hey time drive fri go evalu fri price claim call go lunch wif famili aft dat go str orchard lor bore speed date tri speedchat txt speedchat not like em txt swap get new chatter chat poboxwwq pmsg rcd cancel cheyyamoand get money back want anytim network min text new video phone five pound per week call repli deliveri tomorrow okok okthenwhat ur today plan good morn princess aiyar sorri lor forgot tell u take part mobil survey yesterday text use howev wish get txts send txt tc wwwtxtcom p not tonight mate catch sleep new number way height oh shit situat guy throw luv letter gal fall brother head whos gayd ur hmv quiz cashbal current maxim ur cashin send hmv pmsg check error difficulti correct howz painhop u r fine sorri call later good morn princess enter cabin pa said happi bday boss felt special askd lunch lunch invit apart went u wake alreadi thanx e tau sar piah quit nice k need login anyth dont forget place mani free request stchoicecouk wish inform call lol busi u wear messagesom text miss sendernam miss number miss sentdat miss miss u lot that everyth miss sent via fullonsmscom oha usual vijay film differ not know u u not know send chat let us find pmsg rcvd hgsuitelandsrowwjhl ldn year good day mine realli busi much tomorrow night way send shade stuff wonder realli tot ur paper end long ago wat u copi jus got use u happi lar still haf studi thank winner notifi sms good luck futur market repli stop custom servic babe lost ok help ask work tmr not not drive rain get caught e mrt station lor not drop tank said text one time sorri call later ok go chang also girl mani local u r virgin r readi fil ur everi sexual need u fil text cute p u find sitter kaitlyn sick slept day yesterday sorri man accident left phone silent last night not check til got hey someth came last min think wun sign tmr hee adult would learn experi real danger dont like peep use drug dont need comment hey veggi pizza yun buy school got offer plus sure neighbor didnt pick k sent free entri wkli comp win fa cup final tkts st may text fa receiv entri questionstd txt ratetc appli over new theori argument win situat lose person dont argu ur friend kick amp say alway correct well im computerless time make oreo truffl haha yeah see sec not number sir lol hot air balloon ok bus come soon come otherwis tomorrow msgs r not time passthey silent say think u right also make u think least moment gd ntswt drms shesil yeah probabl swing roommat finish girl got take take part wrc ralli oz u lucozad energi text ralli le p see pack lucozadecoukwrc itcould u happi new year melodi ü dun need pick ur gf yay better not told girl either horribl u eat mac eat u forgot abt alreadi rite u take long repli thk toot b b prepar wat shall eat say fantast chanc anyth need bigger life lift lose live think would first person die n v q nw came hme da outsid island head toward hard rock run day class class chennai velacheri flippin shit yet k give sec break ltgt cstore much bad avoid like yo around got car back annoy not goodmorn today late ltgt min point hangin mr not right not makin u happi come alivebett correct good look figur case guess see campus lodg done come home one last time wont anyth trust night worri appt shame miss girl night quizz popcorn hair sex ur mobil free sexi pic jordan text babe everi wk get sexi celeb pocketbabecouk pic wk ok c ya new voicemail pleas call said not matter mind say matter also know lunch menu da know al moan n e thin goe wrong faultal de argument r faultf himso bother hav go thanxxx neft transact refer number ltgt rs ltdecimalgt credit beneficiari account ltgt lttimegt ltgt otherwis part time job natuit know call also da feel yesterday night wait til day night dear thank understand tri tell sura win year suppli cds store ur choic worth enter week draw txt music tscs wwwldewcomsubswinppmx whole car appreci last two dad map read semi argument apart thing go ok p sim subscrib select receiv bonus get deliv door txt word ok claim pmsg exp apr need strong arm also maaaan miss bday real april guessin not gon na ok come ur home half hour yo game almost want go walmart soon yeah probabl not sure ilol let u know person wuldnt bother ur goin mite well text creepi like not think forgot would good phone tomo lunchtim shall organis someth new voicemail pleas call damn make tonight want wait til tomorrow kkim also finewhen complet cours true passabl get high score appli phd get year salari make life easier nokia tone ur mob everi week txt nok st tone free get txtin tell ur friend ptone repli hl info prakesh know teach app da come colleg rofl betta invest anti age product winner u special select receiv cash holiday flight inc speak live oper claim sir receiv account anoth hr time sorri delay repli name address receiv post week complet free accommod various global locat wwwphbcom php üll submit da project tmr rite free entri week comp send word enter tc wwwtextcompcom cust care jus an lar ull noe later want send someth sell fast ltgt k not easi money got thing may pub later finish meet call lol ok snatch purs hellodrivbyquit edrunk sorri iff pthis make senrddnot dancc drum n basqihav fun nhite x ros xxxxxxx opinion jada kusruthi lovabl silent spl charact not matur stylish simpl pls repli much get ur paper e morn aft tmr dear reliev westonzoyland go plan end hope great new semest wish best made great oh yes speak txt u hmm u get email want show world princess europ nobodi decid eat dad want chines shoot doc wait room go dinner soon hello site download song urgent pls know u mean king not havin credit goinb night night sweet onlymor sleep horribl gal sch stuff come u got mc hi hun im not comin nitetel everi im sorri hope u ava goodtimeoli rang melnit ifink mite b sortedbut il explain everythin monlrsx call later not network urgnt sms ummmmmaah mani mani happi return day dear sweet heart happi birthday dear pleas call immedi urgent messag wait yeah like goe like friend imma flip shit like half hour mum say wan go go shun bian watch da glass exhibit plan pongal wait till end march el nino get oh not yet chikkugo room nw bus also cbe pay honey boo miss u sent jd custom servic cum account execut ur mail id detail contact us yo parent gettin cash good news pick downstem thank much skype wit kz sura didnt get pleasur compani hope good given ultimatum oh countin aburo enjoy hungri gay guy feel hungri call pmin stop text call pmin ok wahala rememb friend need see half hour im inperialmus listeningth weirdest track ever by leafcutt john sound like insect molestedsomeon plumbingremix evil men acid hey sorri didntgiv ya bellearli hunnyjust bedbut mite go thepub ltr uwana mt upload luv jenxxx serious tell exact word right u get phone wan na chat set meet call u cum moro luv jane xx calls minmoremobsemspoboxpowa tee hee lectur cheeri bye bye sorri chikku cell got problem thts nt abl repli u msg u still havent collect dough pls let know go place sent get control number ok network oper servic free cs visit biz let know contact settl room let know ok wot u u weirdo lor dont put phone silent mode ok meet ü depend ü wan lor wait tv show start lor u leh still busi ur report oh ho first time u use type word one not stalk profil ever green quot ever told jerri cartoon person irrit u alway one love u vri much fail express gud nyt yes thought thank shes drinkin ok wonder other took night end anoth day morn come special way may smile like sunni ray leav worri blue blue bay gud mrng dog must alway wait till end day word run time cell alreadi happi new year u heygreat dealfarm tour pm pax deposit may eat jap done oso aft ur lect wat ü got lect rite hey babe saw came onlin second disappear happen da birthdat certif april real date today dont publish shall give special treat keep secret way thank wish happi birthday may ur dream come true aiyah u ok alreadi lar e nydc wheellock tell said eat shit sure drive reach destin soon k much th fifti daili text favour time great hear settl well happenin wit ola cocksuck make feel better ipad worthless garbag novelti item feel bad even want one tot u reach liao said tshirt fran decid go n e way im complet broke knacker got bout c u mrw love janx ps dad fone credit cant pick phone right pls send messag right make appoint right design softwar develop may get chennai enjoy jamster videosound gold club credit new videosound logosmusicnew get fun jamstercouk help call get lion england tone repli lionm mono lionp poli go wwwringtonescouk origin n best tone gbp network oper rate appli jokin oni lar ü busi wun disturb ü ok care not text drive ill alway even spirit ill get bb soon tri sure need u r much close heart u go away shatter plz stay love u babe r u sure everyth alrit idiot txt bak girli abt make pic bigger got got colour lor one colour quit light n e darker lor actual done style hair whenevr ur sad whenevr ur gray remembr im listn watevr u wan na say jus walk wid littl whileamp promis bring back ur smile noth ok anyway give treat win newest harri potter order phoenix book repli harri answer question chanc first among reader ok correct work today sent scream moan bed princess wake long ago alreadi dunno thing oh get even u u thk shd ok said plus minus ü leav line paragraph call plz number show coveragd area urgnt call vasai amp reach clock call plz yeah jay sort fuck retard sorri bathroom sup ur balanc ur next question sang uptown girl answer txt ur answer good luck exam februari wish great day dont know come ask question like dont mistak aight rush ask jay good morn plz call sir ok lar u sleep earli nite oh icic k lor den meet day oh half hour much longer syria canada eh wow must get much work done day us extra time grin sometim put wall around heartsnot safe get hurt find care enough break wall amp get closer goodnoon sweet may may not go u meet carlo gaug patti interest buy today ü need c meh aight sorri take ten year shower plan everi mondaynxt week vl complet might ax well im chill anoth hrs could sleep pain not surgic emerg see unfold okay yeah tri scroung someth crazi ar marri ü like gd look guy not fren like say korean leona fave dun thk aft think mayb prob go somewher fredericksburg que pase un buen tiempo someth like ok stay night xavier sleep bag get tire doesnt need test noth much chillin home super bowl plan freeday sexi st georg day pic jordantxt pic dont miss everi wk sauci celeb pic c pocketbabecouk wk bugi oso near wat yo there class tmrw right let ur heart ur compass ur mind ur map ur soul ur guid u never loos worldgnun sent via waysmscom goodnight sleep well da pleas take care pa pleas baaaaab misss youuuuu go teach class convey regard u ned convinc tht not possibl witot hurt feel main good afternoon loverboy goe day luck come way think sweeti send love across sea make smile happi start send blackberri torch nigeria find buyer melik month tell dad not buy bb anyon oh ltgt pple marri lover becz hav gud undrstndng dat avoid problem sent dis u u wil get gud news friday person like tomorrow best day life dont break chain break suffer send ltgt frnds ltgt min whn u read yo dude guess got arrest day shuhui say chang suntec steamboat u noe r u danc river yetund sorri moji seem busi abl go shop pleas find way get want us get pleas forgiv repli free via yahoo messeng hey realli pretti late want go lesson first join reach tp mrt hot live fantasi call p per min ntt ltd po box croydon cr wb k bbq sat mine ish ur welcom come not know thing wrong everyso often panick start goin bout not bein good enough alright outhav good night tri make anoth butt hope feel great pls fill abiola though shd go n fun bar town someth sound ok go write msg put dictionari mode cover screen hand press ltgt gentl remov ur hand interest bear pic nick tom pete dick fact type tri gay chat photo upload call pmin stop text call new mobil must go txt nokia collect todayfrom wwwtcbiz optout gbpmtmsg txtauction final readi fyi aunti huai juan never pick phone doubl min doubl txt price linerent latest orang bluetooth mobil call mobileupd latest offer calloptoutlf ya tel wat ur problem nokia tone ur mob everi week txt nok st tone free get txtin tell ur friend ptone repli hl info dnt wnt tlk wid u spend day wait ideal path appear front us forget path made walk not wait goodnight ok arm feel weak cuz got shot go anoth time pleas reserv ticket saturday eve chennai thirunelvali tirunelvali chennai sunday evei alreadi see netno ticket availablei want book ticket tackl storm msg wen u lift phne u say hello u knw wt real mean hello name girl yes u knw dat girl margaret hello girlfrnd f grahmbel invnt telphon moralon get name person bt not girlfrnd g n g h ok pop ask bout someth said around tonght wen girl come e best ur exam later hope ur head not hurt much plough way pile iron stay chinki tonight come round like oh ki think wi nz player unsold haha got fast lose weight thk muz go month den got effect geelat go aust put bk e weight wonder got onlin love gone net cafe get phone recharg friend net think boytoy haha kid papa need drug thk shld b ya wana go lesson haha go one whole stretch oh ok r still meet dinner tonight that cool gentleman treat digniti respect shall start hear wait u lor need feel bad lar check got detail messag regist sinco paye log icicibankcom enter urn ltgt confirm bewar fraud not share disclos urn anyon decid peopl care stuff vote care stuff loser kaiez enjoy ur tuition gee thk e second option sound beta go yan jiu den msg u regist sinco paye log icicibankcom enter urn ltgt confirm bewar fraud not share disclos urn anyon cool fun practic make babi actual get readi leav hous kkani special today urgent import inform user today lucki day find log onto httpwwwurawinnercom fantast surpris await got ta got ten buck jay noncomitt hungri pls speak custom machan somewher beneath pale moon light someon think u dream come true goodnit amp sweet dream wen ur lovabl bcum angri wid u dnt take serious coz angri childish n true way show deep affect care n luv kettoda manda nice day da dear uve invit xchat final attempt contact u txt chat pmsgrcvdhgsuitelandsrowwjhl ldn yrs wat ur opinion abt abt charact jay snicker tell x total fuck chord speak nofew hour beforew hair cut wonder cos dun rem see silver car thk saw black one lmao take pic send speak feel word better silenc gud mrng current scotland work week congratul ur award either cd gift voucher free entri week draw txt music tncs wwwldewcom winppmxag lol great im get hungri yes saw messag mu like ltgt second ok thing r good thanx got exam march ive done revis fran still boyf ive got ta interviw exet bit worriedx tell make littl spreadsheet track whose idea smoke determin smoke much entir month februari come sale arsenal dartboard good condit doubl trebl not look back build coat not want get sick hurri home wear coat gym pain person thought alway tri keep everybodi happi time nobodi recognis alon thank love wish rock intrepid duo great time see soon ask sen come chennai search job dad went oredi jus hope true missin cos realli missin not done anyth feel guilti yet wat late still earli mah juz go dinner lor aiya dunno arm fine cardiff uni fact leav think addi goe back school tue wed cool breez bright sun fresh flower twitter bird wait wish u goodmorn amp nice day yago restaur ok askd u knw tht free st week entri textpod chanc win gb ipod cash everi wk txt pod tscs wwwtextpodnet custcar duck chinchilla marriag function look like u wil b get headstart im leav bout ish u r desper compani could head earlierw goin meet rummer don t give fli monkey wot think certain don t mind friend mine regist optin subscrib ur draw gift voucher enter receipt correct an what bbc chart say thank msg rajini come ya ü take ure practic lesson start june good need drug stupidit not possibl ü decid faster cos sis go home liao summer final fanci chat flirt sexi singl yr area get match repli summer free join optout txt stop help u sleep go take haha got spys wat onlin check n repli mail lor clair havin borin time alon u wan na cum nite chat hope c u luv clair xx calls minmoremobsemspoboxpowa fight world easi u either win lose bt fightng close u dificult u lose u lose u win u still lose bought one rington get text cost pound offer tone etc yalru lyfu astn chikku bt innu mundh lyf ali halla ke bilo marriageprogram edha lyf nt yet ovr chikkuali vargu lyfu meow meowd kinda first one get twelv aah speak tomo urgent mobil xxxxxxxxx bonus caller prize nd attempt reach call asap ok good later come find ü c lucki told ü go earlier later pple take finish ü wat make u thk fall actual thk quit prone fall lucki dad home ask come n fetch alreadi guarante latest nokia phone gb ipod mp player prize txt wordcollect tcllc nyusa pmt msgrcvd account refil success inr ltdecimalgt keralacircl prepaid account balanc rs ltdecimalgt transact id kr ltgt wont touch permiss hi luci hubbi meetin day fri b alon hotel u fanci cumin pls leav msg day luci x calls minmobsmorelkpoboxhpfl wonder world th th ur style th ur smile th ur person rd ur natur nd ur sms st ur love friendship good morn dear take small dose tablet fever oh u must taken real valentin shop first sent email address incomm right gon na blake night might abl get littl earli friendship not game play not word say doesnt start march end may tomorrow yesterday today e nice waitshould text right not gon na pay ticket ya know watch lotr w sis dis aft u wan meet dinner nite not keep away like think far find check googl map place dorm trip ok quit tire lor uni start today ok cos not take modul jus concentr final yr project alway say welp guy browsin compulsori ok puriti friendship two not smile read forward messageit smile see name gud evng musthu sorri call later add not realli care can not least get dude fuck hey money want hello lover goe new job happi think wake slave send teas kiss across sea told number gautham tell need investig anywher ok juz receiv cant believ said mani thing morn realli want say good morn love beauti morn see librari later account credit free text messag activ txt word credit tcs wwwbiz end might still vomit okay not everyth come moneya youmoney aint thinghow sha everyth weather keep extra warm cold noth serious pls lot vitamin c hey gal anyon u go e drive centr tmr alway yahoo messeng send messag ill get may send mobil mode sha ill get repli put readi lttimegt time n smile r two crucial thing life sometim time make us forget smile sometim someon smile make us forget time gud noon sms ac jsco energi high u may not know channel day ur leadership skill r strong psychic repli an wquestion end repli end jsco hostbas idp linux system hot live fantasi call p per min ntt ltd po box croydon cr wb nation rate call dawhat plan ill ltgt ok oh god almost home total video convert free download type googl search thank vote sing along star karaok mobil free link repli sing wen ur lovabl bcum angri wid u dnt take serious coz angri childish n true way show deep affect care n luv kettoda manda nice day da sound like someth someon test would sayi u love someon dont make love u much u love much dont want love anyon except gud nit petei phone still jenni colleg leannewhat oop sorri check not mind pick tomo half eight station would ok hey sweet wonder moment might come want send file someon not go yahoo connect suck rememb set page go download format disc could tell know way download big file download stuff direct internet help would great prey teas kiss how champ leav glasgow kall bestcongrat wonder get text need come home give good lovin brand new mobil music servic live free music player arriv short instal phone brows content top artist shall ask one thing dont mistak check wid corect spele ie sarcasm urgent mobil award bonus caller prize nd attempt contact call boxqu bt nation rate angri happen dear thk u dun haf hint e forum alreadi lor cos told ron n darren go tell shuhui yup ok thanx hict employe pls pls find aunt nike wow love sooo much know bare stand wonder day goe well love think miss scream mean shout hey happen de alright pick receipt someth earlier think chennai well settl oh dang not mean send lol unfortun found pick sister airport even not think go tri go one th horribl bf v hungri rememb day nokia get win free auction take part send nokia hgsuiteland rowwjhl feel mr not real valentin yo valentin even tho u hard play sound good finger make difficult type midnight earliest not sure not tri make xavier smoke not want smoke told smoke much k come nordstrom done u konw waht rael friendship im gving yuo exmpel jsut ese tih msg evrey splle tih msg wrnog bt sitll yuo ra wihtuot ayn mitsak goodnight amp nice sleepsweet dream press confer da hello orang month free access game news sport plus free text photo messag repli yes term appli wwworangecoukow complet degre use join financ good afternoon love job prospect miss lazi bleak hmmm happi fill love shant disturb u anymor jia bishan lar nearer need buy earli cos buy got ta park car dont know oh dude sux snake got old raiden got buff say hi get ass back south tampa prefer kegger e msg jus u said thank gift u ok dear call chechi yeah tote u wan na ok found dis pierr cardin one look normal cost sale good sleep rhythm person establish rhythm bodi learn use want know wat r u messag truro hospit ext phone phone side singl line big mean miss anyth ur best life not miss ur best life anyth gud nyt got gas money chanc gang want go grand natur adventur dnt worryus ice piec cloth packalso take tablet dude saw park car sunroof pop sux get readi put excel sub face tmrw im finish door ltgt g saw day ago guy want sell wifi ltgt g ltgt blank late whatev im pretti piss today accept dayu accept brother sister lover dear best clos lvblefrnd jstfrnd cutefrnd lifpartnr belovd swtheart bstfrnd rpli mean enemi dont much imag class noi got rumour go buy apart chennai near kalainar tv officethenampet ur cashbal current pound maxim ur cashin send go pmsg cc hgsuiteland rowwjhl sms auction brand new nokia auction today auction free join take part txt nokia hgsuiteland rowwjhl sis catch e show e afternoon not watch w c u wan watch today tmr lor sound gd haha wah u yan jiu fast liao nosi guess idk react freak rememb hurt day satan impost mene pay priceso itmay destini keep go u said pray get mind get make girl happi not difficult make girl happi u need friend companion lover chef ltgt good listen ltgt organ ltgt good boyfriend ltgt clean ltgt sympathet ltgt athlet ltgt warm ltgt courag ltgt determin ltgt true ltgt depend ltgt intellig ltgt psychologist ltgt pest extermin ltgt psychiatrist ltgt healer ltgt stylist ltgt driver aaniy pudunga venaam princess bet brotha chase shall book chez jule half eight ok hhahhaahahah rofl wtf nig leonardo room someth yep derek hous see sunday lt cool let know kick around ltgt day sorri call later wonder would okay call uncl john let know thing not nigeria r ltgt dollar year sent know strain plan pay back everi dime give everi dime expect anyth not practic someth like charg transfer charg withdraw anyhow like dont search love let love find u that call fall love bcoz u dont forc u fall u know smeon hold u bslvyl let us go bill miller love set soul fire not spark flame big rawr flame xoxo somewhr someon sure made u god decid perfect time make u meet dat person till den enjoy ur crush honeymoon outfit help propos go back tomorrow privat account statement show unredeem point call identifi code expir never blame day ur life good day give u happi bad day give u experi essenti life god bless good morn pls confirm time collect chequ regist subscrib yr draw gift voucher b enter receipt correct an next olymp txt an urgent mobil number award prize guarante call land line claim valid hrs ppm daddi take good care yeah probabl still got ta check leo kthen special carlo take sweet time usual let know patti donew smoke tell haul ass ok pa noth problem heard job go wildlif talk tonight u wantcom thatworzel wizzl whatev god pick flower dippeditinadew love touch itwhichturnedinto u gift tomeandsaidthi friend u came hostel ok prob come lunch jus tell u dat b leav shanghai st instead haf time meet cya freez home yet rememb kiss mom morn love think miss yet readi big day tomorrow probabl around mu lot rtking pro video club need help inforingtonekingcouk call must club credit redeem wwwringtonekingcouk enjoy thnx dude u guy nite sef dey laugh meanwhil darl anji mm food da k make sens btw carlo difficult guy gon na smoke go pick second batch get gas u download fring app oz guy kinda flaki one friend interest pick ltgt worth tonight possibl friend u stay fb chat fuck babe miss sooooo much wish sleep bed lone go sleep dream love live simpl love also simpl laugh simpl win tooo simpl simpl difficult gud nte u secret admir look make contact ufind rreveal think ur specialcal ah well confus thing doesn t free text msgs text ok credit account hi dear call urgnt not know what problem not want work problem least tell wate repli dear ok select stay top british hotel noth holiday worth claim call london bx swss yes princess want make happi sound like mani talent would like go dinner date next week go film day da pm sorri da not watch movi alreadi xy want shop shop w hello littl parti anim thought buzz friend grin remind love send naughti ador kiss yesterday go home eeri nokia tone u rpli tone titl eg tone dracula titl ghost addamsfa munster exorcist twilight wwwgetzedcouk poboxwwq p come life brought sun shini warm heart put constant smile face make feel love care shit not surpris went spent even french guy met town fool around bit not let fuck anetwork allow compani bill sms respons supplier shop give guarante sell b g great comedyc stop laugh da freemsgfeelin kinda lnli hope u like keep compani jst got cam mobi wan na c pictxt repli date msgp rcv hlp stop alright set text man hi not keen go kind feel not go tomo not mind sleep nt feel well u switch fone dammit india take lead ill post lr class thts wat wright brother fli even v good somewhat event laden fill not worri head ok throat wreck see six u laugh realli loud u talk spontan u dont care other feel u probabl dear amp best friend goodeven dear laptop take dont file bagi work call mei tell find anyth room wan earli lei outsid wun b home earli neva mind ur chanc win cash everi wk txt action tscs wwwmovietriviatv custcar xpwk bugi juz wat walk home oredi ü late repli oso saw top dat like din buy r ü wish famili merri x mas happi new year advanc go ok na yes post coupl pic fb still snow outsid wake sif one good partnership go take lead rgent nd attempt contact uu call b tcsbcmwcnxx callcost ppm mobilesvari max yeah class send bec templ na not come home class right need work shower hi ur lookin sauci daytim fun wiv busti marri woman free next week chat sort time janinexx calls minmobsmorelkpoboxhpfl most not like ü v fan dunno cos v late n reach insid alreadi ate spageddi lor e gal r laugh lor guess spent last night phase fourth dimens dad gon na call get work ask crazi question yesbut said hurt n meaning line ever compromis everyth love end love compromis everyth gud mornin lmaonic glad see repli urgent tri contact u today draw show prize guarante call land line claim valid hrs month password wap mobsicom use wap phone not pc nah dub je still buff pain word thought happi toughest thing earth toughest act happi unspoken pain insid yeah fine get ok lol u come idea mani peopl seem special first sight remain special till last sight maintain till life end shjas today song dedic day song u dedic send ur valuabl frnds first rpli okay wait ah lei hi babe u r like bed im sorri tonight realli wan na see u tomorrow call love xxx alreadi squat new way walk want bold bb torch cramp stop go back sleep today vodafon number end last four digit select receiv award number match pleas call claim award free top rington sub week ringtoneget st week freesend subpoli per weekstop sms nan sonathaya soladha boss bring tat cd forget sunshin quiz wkli q win top soni dvd player u know countri algarv txt ansr sptyron not know rape dude poker weightloss girl friend make load money ebay someth give thank god gr see messag r u leav congrat dear school wat r ur plan ü eatin later eatin wif fren lei ü go home first finish alreadi yar keep say mushi embarrass ok sorri man stash ran dri last night can not pick sunday hai priya right doctor said pa free msg sorri servic order could not deliv not suffici credit pleas top receiv servic ok pleas ask mummi call father come room can not come hous cos hous still messi haha lost kilo today tast fish curri p might accid tookplac somewher ghodbandar rd traffic move slove plz slip amp not worri yun ahnow ü wkg wherebtw ü go nus sc ü wana specialis wad yes one woman man pleas tell like dislik bed test earlier appreci call tomorrow loverboy keep come queen hmmm not ach speak miss despar u meet fren dun wan meet ah muz b guy rite promis though not even gotten dinner yet got back dislik bed turn stereo love mi phone unknown album hard live chat pmin choos girl connect live call cheap chat uk biggest live servic vu bcmwcnxx yeah not see not ask u knw nt may ur frnds classmat sorri earlier put firesar around talk actual life lol wow boy r back take uk tour win vip ticket prebook vip club txt club trackmarqu ltd infovipclubu missionari hook doggi hook stand u better go sleep dun disturb u liao u wake msg lor fight world easi u either win lose bt fightng close u dificult u lose u lose u win u still lose watch hous entertain get whole hugh lauri thing even stick inde especi stick thought prap meant anoth one goodo look tomorrow hi jon pete ive bin spain recent hav sum dinero left bill said u ur rent mayb interest hav pes around tb jame bold ltgt know shall speak ltgt minut alrit hunnywot u nite didnt end goin town jus da pub instead jus chillin da mo bedroomlov jen xxx went project centr per request maangalyam alaipayuth set callertun caller press copi friend callertun lol yeah point guess not project w fren lor lol well qualiti aint bad aint complain k happen tonight hi mandi sullivan call hotmix fmyou chosen receiv easter prize drawpleas telephon claim prize transfer someon els think go finn come tire special come tomorrow di cant pick phone right pls send messag k go sleep well take rest u guy never invit anywher ur go bahama callfreefon speak live oper claim either bahama cruis of cash opt txt x want pleas insid outsid bedroom ey calm downon theacus itxt u cos iwana know wotu r doin thewend haventcn u agesr ur neth satlov j xxx love wine dine ladi someon conact date servic enter phone fanci youto find call landlin poboxntf i m cool ta luv vtire caus doin load plan wk got social servic inspect nurseri take care spk sn x know account detailsi ask mom send youmi mom reach think u wrong number feel alway happi slowli becom habit amp final becom part life follow happi morn amp happi day not b late love mum got itmail panren paru think chuckin ur red green n black trainner save carryin bac train give one miss number pleas jus came back fr lunch wif sis u leh schedul next week town weekend realli gooddhanush rock lmao ok wont need u hair anymor miss ya need ya want ya love ya sorri not free u ever get song stuck head reason not go away til u listen like time nt yet chikkusimpl habbahw abt u got ur mail dileepthank muchand look forward lot supportveri less contact hererememb one venugop mentionedtomorrow not latei shall tri come till theregoodnight dear sometim heart remembr someon much forget someon soon bcoz heart not like everyon like one rememb everytim bslvyl joy father john john name joy father mandan hi ibh custom loyalti offer new nokia mobil txtauctiontxt wordstart get nowt hi yiju regard textbook intro algorithm second edit sell sms auction nokia get win free auction take part send nokia hgsuiteland rowwjhl k want us come littl difficult simpl way enter place ha us e thing got tv watch u thk go tonight u alreadi haf smth mind dont show far put new pictur facebook watch tv got new job good afternoon sexi bun goe job search wake first thought alway love wish fine happi know ador not come whatev want ok chikku favourit song u see post facebook call freephon buy space invad chanc win orig arcad game consol press game arcad std wap charg see ocoukgam term set purchas wonder world th th ur style th ur smile th ur person rd ur natur nd ur sms st ur love friendship good morn dear loan purpos homeown tenant welcom previous refus still help call free text back help big brother alert comput select u k cash voucher call ntt po box cro bt landlin cost ppm mobil vari oh well c u later uncl atlanta wish guy great semest dear free messag without recharg hi hi hi dont search love let love find u that call fall love bcoz u dont forc u fall u know smeon hold u bslvyl dun believ u thk u told know god creat gap finger one made come amp fill gap hold hand love yessura sun tvlol arun u transfr amt takin shower yeah leav done not work eye philosophi text u later bit free chat u haven t lost ill alway b ui didn t intend hurt u never knew u felt iwasmarinethat itriedtel urmomi careabout u win winner mr foley ipod excit prize soon keep eye ur mobil visit wwwwincouk bad girl still rememb much gave morn hope alright babe worri might felt bit despar learn job fake wait come back love hey tell blake address carlo want meet got lost not answer phone get opinion someth first one week leav put know time hit move excel spent ltgt year air forc iraq afghanistan stabl honest like travel wan na watch movi ok lor thanx ü school class get text bus leav ltgt god blessget good sleep deari pray today voda number end select receiv award match pleas call quot claim code standard rate app nice day today love dear aiyo bit pai seh ü noe scare dun rem die hee becom better lookin oredi leh aight ask roommat what hous beer ü wan meet n combin part da rest da project go get ticket walsal tue th march mate get sat ill pay treat want go txt bak terri yes chat hi jess dont know work call u im home eve xxx sian aft meet supervisor got work liao u work go write ccna exam week well watch shrek db much dirti fellow dunno dat wat told ok lor probabl tomorrow even later tonight someth go could not say die man feel sad go want know would probabl gone late night think lift one u dun wan u dun like alreadi ah wat u still eat sent ur email id soon wat make peopl dearer not de happi dat u feel u meet de pain u feel u miss dem dude teresa hope okay didnt hear peopl call receiv packag sinc dec ltgt thot yould like know fantast year best read plus realli realli bam first aid usml work done hey gorgeous man work mobil number good one babe squishi mwah may call later pls hottest pic straight phone see get wet want xx text pic txt cost p textoper gga xxx way stay oh hello thanx take call got job start monday time ur flight tmr come rather promin bite mark right cheek septemb wet right husband hack chat get backdoor entri chat room fraction cost repli neo call subscrib p pm dps bcm box ldn wcnxx norm tomorrow finish cos st test need sort librari stuff point tomo got letter today access til end march better get move yeah got list u joanna feel realli anti social offic na comingdown later super dagood replac murali da good good playerwhi unsold hi u want join sts later meet five call u class engalnd telli decid not let watch mia elliot kiss damn free nokia motorola upto mths price linerent free xnet minstxtmth free btooth call mobileupd call optoutdwv dont want hear philosophi say happen got job wiproyou get everi thing life year cant get da laptop matric card wif ü lei dunno da next show aft toa payoh got nd time tri contact u u pound prize claim easi call p per min btnationalr made payment dont much sorri would want fedex way didt play one day last year know even though good team like india kyou girl wait recept ah say slowli godi love amp need youclean heart bloodsend ten special peopl amp u c miracl tomorrow itplspl hate turn fun shop trip annoy day everyth would look hous sir wait call want come onlin could work reach consensus next meet aiyah wait lor u entertain hee last thing ever want hurt not think would laugh embarass delet tag keep go far knew not even fact even felt like would hurt show realli not know messi wednesday not bad problem time clean choos not skype take pictur sleep want go not mind thing not make bed throw laundri top can not friend hous embarass underwear bras strewn bed pillow floor someth els use good least make bed let know kick call ok said call call number avail appoint ask connect call wahe fathima ü go buy wif meet ü later mmmm fuck not fair know weak grin push knee expos belli pull head not forget know wick smile today system sh get readyal well also deep well mom want know aight text back dont know support ass srt thnk think ps play usb oh ok didnt know meant yep babi jontin guarante cash prizeto claim yr prize call custom servic repres would like see xxx pic hot near ban uk hmv bonus special pound genuin hmv voucher answer easi question play send hmv infowwwpercentrealcom watch tv got new job pen thing beyond joke wont biro not master can not ever parti alex nichol u secret admir look make contact ufind rreveal think ur specialcal see miss call dear brother gr day ok ü finish soon sorri can not help come slave go shell unconsci avoid make unhappi love ass enjoy doggi style think ask gym excus lazi peopl jog dear xxxxxxx uve invit xchat final attempt contact u txt chat pmsgrcvdhgsuitelandsrowwjhl ldn yrs urgent pleas call landlin abta complimentari tenerif holiday cash await collect sae tcs box cwwx ppm way home not long dri spell season would got ta collect da car lei ok knacker came home went sleep not good full time work lark probabl earlier station think call listen extrem dirti live chat go offic right total privaci one know sic listen p min mp good morn plz call sir freemsg hey u got videop fone repli wild txt ill send u pic hurri im bore work xxx prcvd stopstop uh head not much left tot u outsid cos darren say u come shop cours nice wat jus went sim lim look mp player aight sound good want come wat would u like ur birthday love work home miss vday parachut doubl coin u must not know well sorri call later sister got place birla soft da free entri week comp chanc win ipod txt pod get entri std txt rate tcs appli detail wah oki oki muz make use e unlimit haha therer peopl mu tabl lambda stop old man get build snowman snow angel snowbal fight ello babe u ok hello beauti r u ok kinda ad row wiv walk pub want night wiv u miss u u go ikea str aft dat becoz ltgt jan whn al post ofic holiday cn go fr post oficegot duffer lol grr mom take forev prescript pharmaci like minut away ugh real tho suck can not even cook whole electr hungri want go new textbuddi chat horni guy ur area p free receiv search postcod gaytextbuddycom txt one name rpl stop cnl not time month mid time fffff text kadeem far gone not leav yet ok lor go elsewher n eat u thk fujitsu seri lifebook good yar want scold u yest late alreadi got zhong se qing u ask b ask go w u lor n u still act real dont know bring food current food alon also sch fr dun haf da book sch home hello go villag pub either come accord ok ok call like ltgt time oh give us hypertens oh dont give monkey wot think certain not mind friend mineal not sleep wiv wud annoyin omg could snow tonit call tell u call claim prize u enter ur mobil person detail prompt care free st week entri textpod chanc win gb ipod cash everi wk txt vpod tscs wwwtextpodnet custcar carri not disturb pa tell went bath jus finish avatar nigro r u scratch hope great day either idea know anyplac someth plan usual stop find hella weed smoke hella weed fact clean show know upset prioriti constant want not need excel readi moan scream ecstasi peopl dog area call join like mind guy not arrang even a minapn lsbb dude avatar imp one point thought actual fli room almost tri hittng one reflex well done costa del sol holiday await collect call toclaim sae tcs pobox stockport skxh cost pm maxmin kkwhi cant come search job got lousi sleep kept wake everi hour see cat want come worri cold yeah leav coupl minut amp let know get mu ü call make sure dat woken hey go jazz power yoga hip hop kb yogasana batteri mr adewal uncl aka egbon cant pick phone right pls send messag wait minstand bus stop oh ic thought meant mari jane haha realli oh deduct lesson tmr nah im goin wrks j wot bout u eat shit wait ur monkey face bitch u asshol good night go sleep aight grab someth eat text back mu kkwhi cant come search job take someth pain move howev side next hrs see doctor lol oh babe wont slide place midnight thank invit howz person stori guess somebodi know secret fanci wan na find give us call landlin dateboxessexcmxn pmin lol would awesom payback free text messag valid decemb yes complet formclark also utter wast honeybe said im sweetest world god laugh amp said waitu havnt met person read msg moral even god crack joke gmgngegn thank tesco quit nice gone speak soon featheri bowa someth guy not know even cant close eye vava play umma laptop noe infra slow lar wan fast one guarante award even cashto claim ur award call free stop getstop php nvm ok enjoy ur life good night yes meet town cos go gep home could text bus stop not worri finish march ish askd u question hour answer that cool cum delhi chennai still silent lol alright thinkin haha repli win week fifa world cup held send stop end servic boat still mom check yo half nake shhhhh nobodi suppos know sorri call later sorri call later meet thing relat trade pleas call arul ltgt hey late amk need drink tea coffe wnt buy bmw car urgentlyit vri urgentbut hv shortag ltgt lacsther sourc arng dis amt ltgt lacsthat prob urgent pleas call landlin abta complimentari tenerif holiday cash await collect sae tcs box cwwx ppm length e e top shorter n got fring thk not go liao lazi dun wan distract u also santha num corrct dane callsmessagesmiss call sorri call later basket gettin full might tonight hi darlin ive got back realli nice night thank much lift see u tomorrow xxx valentin huh proof fb page ugh glad realli not watch rupaul show tool free tone hope enjoy new content text stop unsubscrib helpp provid tonesyoucouk eh den sat u book e kb liao huh practis curtsey shall come get pickl lol boo hope laugh yeh def someth satjust got payedday havbeen given a pay rise work havebeen made preschoolcoordin feelingood luv well leav class babe never came back hope nice sleep love lmao fish memori need b go sch mon sis need take smth idea soon get convert live themobyo yo yoher come new select hot download member get free click open next link sent ur fone ssindia go draw seri mani year south african soil goodmorn today late ltdecimalgt min can not take major role communiti outreach rock mel shop lor rain mah hard leav orchard hi birth lb oz mother babi brilliant see forward messag proof can not keep go never intent run choos rather keep room clean not say visitor mayb best choic yes want embarass mayb feel feel friend want drop buy say happen morn tri everyth not know els dunno lei thk mum lazi go neva ask yet whatev want know rule talk earlier week start happen show respons yet everi week bend rule way way whatev tire thia argument everi week ltgt movi doesnt inlud preview still get beauti truth graviti read care heart feel light someon feel heavi someon leav goodmorn great news call freefon claim guarante cash gift speak live oper ambrithmaduraimet u arun dha marrgeremembr read shame tell take run blame u ever not realli ever long time princess kitti shave natur better bb wont use wife doctor ya came ago tomorrow onward eve work anyth lor toa payoh got place walk meh not anybodi number still not thought tact way ask alex u win music gift voucher everi week start txt word draw tscs wwwldewcom skillgamewinaweek ageppermesssubscript movi theatr go watch unlimit movi pay u lunch alon bore yes obvious eggspert potato head speak soon nah man car meant cram full peopl got new job bar airport satsgettin per hour mean lie keep touch kalli readi bat nd inning thanx birthday alreadi ugh can not u apolog admit u wrong ask take u back noe la u wana pei bf oso rite k lor day den yes small kid boost secret energi im gon na miss u much avatar suppos subtoitl simpli sit watch match offic jot thing want rememb later oh sorri pleas hey go lo lesson gym dont pack buy storelik cereal must pack food pack gari someth ja miss alway make thing bigger ü dun wan watch infern affair not wake afternoon sup mths half price orang line rental latest camera phone free phone mths call mobilesdirect free updat orstoptxt send pic like okay book alreadi includ one bugi aight fuck get later de call time ill tell k dont use hook much blackberri bold nigeria hi home calicut hey darlin pick u colleg u tell wen mt love pete xx call use ur min call cast pmin mob vari servic provid aom gbpmonth aom boxm er u stop age oh thkin goin yogasana den nd go den rush parco nb oki lor u call readi late need go n get da laptop sir wait mail pleas charg mobil get morn noth got msg frm tht unknown ugh fuck resub eve not see shadow get earli spring yay one slice one breadstick lol hey want crave miss need love ahmad saeed al hallaq train tomorrow urgent mobil bonus caller prize nd attempt reach call asap boxnqp ppm pass dis ur contact n see wat u get redim luv wid u blueu put smile face purpleu r reali hot pinku r swt orangei thnk lyk u greeni reali wana go wid u yelowi wnt u bck blackim jealous u browni miss nw plz giv one color cos daddi arrang time c wat time fetch ü mah eldest know say hi drugdeal hard believ thing like say lie think twice say anyth eeri nokia tone u rpli tone titl eg tone dracula titl ghost addamsfa munster exorcist twilight wwwgetzedcouk poboxwwq p sexi singl wait text age follow gender wither f egf gay men text age follow g egg good night dear sleepwellamptak care wondarful song freemsg claim ur sms messagestext ok nowus webmobil ur mate etc join txtcom pwk tc box lawu remov txtx stop yar lor actual quit fast cos da ge slow wat haha must come later normal bath da afternoon mah trust even not hey hunonbus goin meet want go meal donyt feel like cuz get last bus homebut hes sweet latelyxxx freeringtonerepli real take like noon open mca aight wat happen side done oredi sweet well princess pleas tell like dislik bed wish great semest moji love word rich day dude like buff wind alright babe justthought i d sayhey u doinnear endof wk offdam nevamindw hook sn uwant lovejen x well done england get offici poli rington colour flag yer mobil text tone flag optout txt eng stop box wwx not can not give everyth want need actual could better yor ownyouv got money can not get work can not get man can not pay rent can not even fill fuck gas tank yes stress depress not even call home thanksgiv cuz tell im noth skalli wont play first two odi get cash togeth text jason oh love soooo good hear omg miss much today sorri problem provid thank tming final chanc claim ur worth discount voucher today text yes savamob member offer mobil cs savamob pobox muz sub privat account statement show unredeem bonus point claim call identifi code expir probabl want pick done cutest girl world dice art class thru thank though idea time come tomorrow sms servic inclus text credit pls goto wwwcomuknet login unsubscrib stop extra charg help po box ip oh howda gud gud math en samachara chikku thk lor dunno get ticket not wat u audri lousi autocorrect site simul test give tough question test readi anyway serious hit back otherwis light armand alway shit andor vomit fetch yun u fetch thank like well hmmm imagin come home rub feet make dinner help get readi date sure readi kind life freeday sexi st georg day pic jordantxt pic dont miss everi wk sauci celeb pic c pocketbabecouk wk lara said loan ltgt spare power suppli yar quit clever aft mani guess lor got ask bring thk darren not will go aiya thk leona still not attach wat winner special select receiv cash award speak live oper claim call ampm cost p yeah not go bed back midnight sunshin hol claim ur med holiday send stamp self address envelop drink us uk po box bray wicklow eir quiz start saturday unsub stop well not avail washob nob last night ask nickey platt instead time week ryan wish u mani mani return day happi birthday vikki u win music gift voucher everi week start txt word draw tscs wwwidewcom skillgam winaweek age ppermesssubscript hope know still mad argh g spotti anyway thing rememb research provinc sterl problemfre place look xam hall boy ask girl tell start term dis answer den manag lot hesit n lookin around silent said intha ponnungal ipaditan know result congratul week competit draw u prize claim call b tcsstop sms ppm beauti truth graviti read care heart feel light someon feel heavi someon leav good night sorri im get feel realli bad total reject kinda thing got shitload diamond though tessypl favor pls convey birthday wish nimyapl dnt forget today birthday shija well go aunti mine like fr china noisi later guess needa mcat studi sfrom train manual show tech processit password reset troubleshoot bu voucher wc marsm log onto wwwbutelecom discount credit opt repli stop custom care call spoke uncl john today strong feel need sacrific keep go call beg listen dont make promis make clear thing not easi need pleas let us work thing long keep expect help creativ stifl pls keep happi promis part start search get job daysh great potenti talent carlo took leav minut well done luv ya came hostel k still love juz rememb got ta bath dog today drug abl eat alright took morphin back yo see requir pleas stayin troubl strangersaw dave day he sort nowstil bloke u gona get girl mrur mum still think get getha freemsg hey buffi love satisfi men home alon feel randi repli c pix qlynnbv helpp msg send stop stop txts sunshin hol claim ur med holiday send stamp self address envelop drink us uk po box bray wicklow eir quiz start saturday unsub stop collect ur laptop ok later show around want cld drink wld prefer not spend money nosh not mind nxt wk get home waaaat lololo ok next time tabl occupi wait tree sure dont forgot comei alway touch hi kind give us back document submit loan stapati dont shall buy one dear oh god happi see messag day year mani mile hey cuti goe wale kinda ok like hill shit still avent kill sad stori man last week bday wife didnt wish parent forgot n kid went work even colleagu not wish enter cabin pa said happi bday boss felt special askd lunch lunch invit apart went said u mind go bedroom minut ok sed sexi mood came minut latr wid caken wife parent kidz friend n colleagu scream surpris wait sofa nake think go honesti road call bank tomorrow tough decis make us great peopl free st week nokia tone ur mob everi week txt nokia get txting tell ur mate zed pobox wwq normpton not specialis work slave labor look month sha cos shakara beggar repli boy chang phone number go write msg put dictionari mode cover screen hand press ltgt gentl remov ur hand interest hi darlin im way london smash anoth driver big dent im realli miss u u xxx noth realli make sure everybodi speed not come home dinner thank way lost yesh good crickit mind thx well month shop till u drop either k k cash travel voucher call ntt po box crbt fixedlin cost ppm mobil vari pleas come imin towndontmatt urgoin outlrjust reallyne docdpleas dontpleas dontignor mycallsu thecd isvimport tome moro wont wat wit guy yavnt tri yet never play origin either hiya good day spoken sinc weekend see thought work pleas call get readi moan scream oh k got job what dont think not need go late school night especi one class one miss last wednesday probabl fail test friday pop ltgt ibuprofen help babe goe day sip cappuccino think love send kiss across sea ok ps u ur grown right chinatown got porridg claypot rice yam cake fishhead beehoon either eat cheap den go cafe n tok go nydc somethin know peopl hit fuck yes puriti friendship two not smile read forward messageit smile see name gud evng anyth specif regard jaklin idk fuck oh god gon na googl nearbi cliff free camera phone linerent month cross ntwk min price txt bundl deal also avbl call calloptoutj mf yup shd haf ard page add figur ü got mani page ooh got gon na start belli danc moseley wed u want join cafe thankyou much call appreci care congrat treat pendingi not mail dayswil mail thrurespect mother homecheck mail call one pick e phone ask alreadi said ok hi email address chang valuabl affection loveabl etern nobl truth intim natur enam happi valentin day advanc not much textin bout bring got movi call wat not sure stomach haha dinner cousin boy late home father power frndship man carlo definit come mu tonight excus soon real thing princess make wet rajipl favour pls convey birthday wish nimya pls today birthday haha leg neck kill amigo hope end night burn think could swing like hour urgent mobil xxxxxxxxx bonus caller prize nd attempt reach call asap boxnqp ppm usual bodi take care buy make sure doesnt progress pls continu talk saturday urgent costa del sol holiday await collect call toclaim sae tc pobox stockport skxh cost pm maxmin hmm well night night want say holi shit guy not kid bud gettin bit arti collag mo well tryin ne way got roast min love shall enjoy one day billion class right goodmorn today late hrs back pain ok let noe later n ask call u tmr prabhaim sorydarealyfrm heart sori ok walik ard u wan buy anyth go ur hous two carton u pleas shelv nice talk pleas dont forget pix want see guarante cash prize claim yr prize call custom servic repres ampm cost p realli quit funni lor wat u shd haf run shorter distanc wat notic like look shit mirror your turn right freak great get worri know wonder care person like best life know u r wonder god love thank rington order ref number k mobil charg tone not arriv pleas call custom servic prefer free day tue wed fri oso ü ask workin lor alrit jod how revis goin keri bin doin smidgin n e way u wan na cum collegexx beliv come home oh kkwhere take test exact intent haha money leh later got go tuition haha look empti slot drive lesson hey thk juz go accordin wat discuss yest lor except kb sun cos nt much lesson go attend kb sat k wen ur free come home also tel vikki hav sent mail also better come even il free today aftr pm noth get msgs dis name wit differ nos good morn plz call sir room number wan na make sure knock right door sicomo nolistenedth plaid albumquit gdthe new air hilariousalso bought braindance a compofstuff aphex abelu havhear itc u sn xxxx pls tell nelson bbs longer comin money expect aint come give someth drink take not vomit temp might drop unmit howev let know think sent text home phone cant display text still want send number everi day use sleep ltgt k call close u buy newspap alreadi nope wif sis lor aft bath dog bath look like go rain soon boo way mom make tortilla soup yummmm manag puzzel find way not includ detail hi ya babe x u goten bout scammer get smartthough regular vodafon respond get prem rate msgsubscript nos use also bewar back work morro half term u c nite sexi passion b go back chat luv dena call minmobsmorelkpoboxhpfl like spoil thank rington order ref number r mobil charg tone not arriv pleas call custom servic get threat sale execut shifad rais complaint offici messag hope thing went well doctor remind still need godid u c littl thing left loung den wat e schedul b lk sun lol enjoy role play much ok watch tv lov line hurt truth not mindi wil toleratbc ur someon never comfort lie gud ni sweet dream check head drop stuff got lot hair dresser fr china sad stori man last week bday wife didnt wish parent forgot n kid went work even colleagu not wish ill call even ill idea splashmobil choos gr tone wk subscrit servic week tone cost p u one credit kick back enjoy show wot say could u not c dust take ltgt min not heard u call rude chat privat line cum wan c pic gettin shag text pix end send stop sam xxx ok bus come soon come otherwis tomorrow cant pick phone right pls send messag forward free entri week comp send word enter tc wwwtextcompcom finish liao u lost pound help haha think u know watchin lido life spend someon lifetim may meaningless moment spent someon realli love mean life haha awesom u coupl time all come cold dont sad dear think could stop like hour roommat look stock trip telli brdget jone love aathilov u lot hello r u im bore inev thought id get bore tv tell someth excit happen anyth hmmbad newshyp park plaza studio takenon left bedrm sorri call later meet r ü comin back dinner hav almost reach call unabl connect u wait yesterday reach home safe n sound liao velli good yes pleas hi wkend ok journey terribl wk not good huge back log mark two letter copi cos one messag speak soon alex know guy sell mid south tampa not think could set like dont messag offer mobil mths updat free orang latest colour camera mobil unlimit weekend call call mobil upd freefon stoptx hey babe u doin wot u nite love anni x remind get shall not v romant hello damn christma thing think decid keep mp doesnt work new messag pleas call hi darlin im missin u hope good time u back time u give call home jess xx forward hi mailbox messag sms alert messag match pleas call back retriev messag match draw vai dont think dont pick call someth import tell hrishi congrat year special cinema pass call c suprman v matrix starwar etc free bxipw pm dont miss nothin come mind ü help buy hanger lor ur laptop not heavi ltgt guess easi enough make babi yo tho tell friend not come round til like ltgt ish friendship poem dear dear u r not near hear dont get fear live cheer tear u r alway dear gud ni still area restaur ill tri come back soon aight thatll work thank win year suppli cds store ur choic worth enter week draw txt music tscs wwwldewcomsubswinppmx mobi pub quizwin high street prize u know new duchess cornwal txt first name unsub stop sp arrow sleep bag blanket paper phone detail anyth els nokia get win free auction take part send nokia hgsuiteland rowwjhl congratul thank good friend u xmas prize claim easi call p per minut btnationalr tddnewsletteremccouk game thedailydraw dear helen dozen free game great prizeswith guy also chat awesom not make regular unless see person signific dont worri caus old live high waqt se pehl naseeb se zyada kisi ko kuch nahi miltazindgi wo nahi jo hum socht hai zindgi wo hai jo ham jeetey hai way offic da place want da pain could not come wors time ok stalk u sorri dude dont know forgot even dan remind sorri hope guy fun ok lor app class varaya elaya xmas stori peac xmas msg love xmas miracl jesus hav bless month ahead amp wish u merri xmas urgent mobil number bonus caller prize nd attempt reach call asap box nqp ppm day ask anand number surf onlin store offer want buy thing long beach lor expect u dinner home way fine thank happen tell truth like italian food weird know one point aww must near deadwel jez iscom todo workand whilltak forev tell friend plan valentin day lturlgt alright see bit cheer messag zogtorius i v stare phone age decid whether text not take care financi problemi help tell dear happen talk like alian doubl min txts orang price linerent motorola sonyericsson btooth freenokia free call mobileupd oroptouthvd go write msg put dictionari mode cover screen hand press ltgt gentl remov ur hand interest oki hi yiju meet u tmr posibl dnt live ltgt centuri cm frwd n thnk differ dint slept afternoon seem unnecessarili affection yar els thk sort funni thing place man download mani rington u like restrict choos u even send yr buddi txt sir that cool day pleas call immedi urgent messag wait r go ltgt bus hello love went day alright think sweet send jolt heart remind love hear scream across sea world hear ahmad al hallaq love own possess passion kiss nohe join today okay well thank clarif talk other probabl come earli tomorrow spook mob halloween collect logo pic messag plus free eeri tone txt card spook zed p per logop money issu weigh thank breath easier ill make sure dont regret thank hi sorri miss call pls call back hope settl new school year wishin gr day fantasi footbal back tv go sky gamestar sky activ play k dream team score start saturday regist nowski opt ok need tell anyth go sleep good night ok tri week end cours coimbator tone club sub expir resub repli monoc mono polyc poli week p per week txt stop stop msg free stream v nice sheffield tom air opinion categori b use measur ethnic next census busi transcrib r home come within min boy love gal propsd bt didnt mind gv lv lttrs bt frnds threw thm boy decid aproach gal dt time truck speed toward gal wn hit girld boy ran like hell n save ask hw cn u run fast boy repli boost secret energi n instant girl shout energi n thi live happili gthr drink boost evrydi moral stori hv free msgsd gud ni day ü say ü cut ur hair paragon call hair sens ü noe much hair cut hmm mani unfortun pic obvious arent hot cake kinda fun tho watch tv lor funni bluff wat izzit thk imposs us xmas prize draw tri contact u today draw show prize guarante call land line valid hrs dunno lei neva say thanx day u r goodmat think ur rite sari asusu u cheer love u franyxxxxx way home went chang batt watch go shop bit lor yes place town meet excit adult singl uk txt chat pmsg hi mobil ltgt ad contact list wwwfullonsmscom great place send free sms peopl visit fullonsmscom good even sir hope nice day want bring notic late pay rent past month pay ltgt charg felt would inconsider nag someth give great cost didnt speak howev recess wont abl pay charg month henc askin well ahead month end pleas help thank everyth let want hous best line said love wait till day forget u day u realiz u can not forget gn reach ten morn pussi perfect sorri call later someon contact date servic enter phone becausethey fanci find call landlin pobox wrg p messageno responcewhat happend also piec wiskey brandi rum gin beer vodka scotch shampain wine kudiyarasu dhina vaazhthukk boo thing back home littl bore alreadi first gain ltgt kg sinc took second done blood sugar test ok blood pressur within normal limit worri pick ur fone u dumb thank da thangam feel happi dear also miss da okey doke home not dress cos lay around ill speak later bout time stuff not run away frm u walk slowli amp kill u not care enough stop babe back come back well told other marri neshanthtel r u yo yo yo byatch whassup oh kay sat right hi roger cl babe u want dont u babi im nasti thing filthyguy fanci rude time sexi bitch go slo n hard txt xxx slomsg oh oh wast den muz chiong sat n sun liao jesus christ bitch tri give drug answer fuck phone pleas give pick tuesday even ok meet darren one best dialogu cute reltnship wen die dont come near bodi bcoz hand may not come wipe ur tear timegud ni solv case man found murder ltdecimalgt ltgt afternoon wife call polic polic question everyon wife siri sleep murder took place cook cook garden pick veget housemaid went post offic children went play neighbour went marriag polic arrest murder immedi repli reason u r brilliant dear reach aww first time u said u miss without ask miss u first love ok thanx gd nite ü come right ahmad not know u u not know send chat let us find pmsg rcvd hgsuitelandsrowwjhl ldn year lol pleas actual send pic right wan na see pose comb hair dryer someth not fps huh mean comput scienc like dat one push n could not read love answer oh lk tt den take e one tt end cine lor dun wan yogasana oso madamregret disturbancemight receiv refer check dlf premaricakind informedrgdsrakheshkerala sms servic inclus text credit pls gotto wwwcomuknet login qxj unsubscrib stop extra charg help comukcm ae oic better quick go bath n settl err cud go pm not got way contact bloo bloo bloo miss first bowl lmao fun oh k kbut not big hitteranyway good hey almost forgot happi bday babe love ya valentin day special win quiz take partner trip lifetim send go pmsg rcvd custcar think move ltgt week shes find sent offlin messag know anjola guess ithi first time creat web page wwwasjesuscom read wrote wait opinion want friend txting drive good let thank god pleas complet drug lot water beauti day realli dun bluff leh u sleep earli nite indian r poor india not poor countri say one swiss bank director say ltgt lac crore indian money deposit swiss bank use taxless budget ltgt yrs give ltgt crore job indian villag delhi lane road forev free power supli ltgt social project everi citizen get month ltgt ltgt yrs need world bank amp imf loan think money block rich politician full right corrupt politician itna forward karo ki pura india padhegm uncl boy need movi oh guid plus know torrent not particular legal system slow gr day plus start cos dont meet onlin honey moon oh ya ya rememb da btw regard realli tri see anyon els th guy commit random dude ur chanc win cash everi wk txt play tscs wwwmusictrivianet custcar xpwk not busi juz dun wan go earli hee rightio well arent bright earli morn great church holla get back brum thank put us keep us happi see soon donno scorabl ltgt great loxahatche xmas tree burn updat total see star yes dont care need bad princess guy kadeem not sell sinc break know one guy paranoid fuck not like sell without can not til late tonight sorri call later tmr ü brin lar aiya later come n c lar mayb ü neva set proper ü got da help sheet wif ü u knw dis ltgt dun believ wat kgive back thank know complain num onlybettr direct go bsnl offc nd appli okay seen pick friday much pay suganya left dessert u wan go suntec look u abeg make profit start use get sponsor next event onum ela pa normal kkhow sister kid cool text way nope meanwhil talk say make greet cant talk nowi call candont keep call anyth lar rose need water season need chang poet need imaginationmi phone need ur sms need ur love frndship forev good afternoon babe goe day job prospect yet miss love sigh pick drop carso problem si think wast rr world famamus come friday leav pongaldo get news work place lol well not without could big sale togeth way eat old airport road oredi got lot pple sri can not talk phone parent final chanc claim ur worth discount voucher today text yes savamob member offer mobil cs savamob pobox muz sub ok lor wat time ü finish princess like make love ltgt time per night hope that not problem mm way railway dnt wnt tlk wid u done sorri hope next space give everyth want rememb furnitur not around move lock lock leav key jenn not yet like keep touch easiest way barcelona way ru hous sppok ur mob halloween collect nokia logop messag plus free eeri tone txt card spook urgent call landlin complementari tenerif holiday cash await collect sae tcs po box wa px ppm sender hol offer kdo even daurgent pansi live jungl two year drive worri mm kanji dont eat anyth heavi ok promis get soon text morn let know made ok lol differ not go tri find everi real life photo ever took dont thnk wrong call us k ill drinkpa need srs model pls send mail id pa aiyah e rain like quit big leh drizzl least run home doc appoint next week tire shove stuff ugh could not normal bodi dun b sad dun thk abt alreadi concentr ur paper k greet consid excus drama plsi enough famili struggl hot sun strang placeno reason ego not go not invit actual necess gowait serious reppurcuss releas anoth italian one today cosign option mu tri figur much money everyon gas alcohol jay tri figur weed budget winner valu network custom hvae select receiv reward collect call valid hour aclpm hcl chennai requir fresher voic processexcel english neededsalari upto ltgt call mssuman ltgt telephon interview via indyarockscom dai da send resum id know ltgt around yup finish c ü rememb ask alex pizza datoday also forgot ola would get back mayb not today told direct link us get car bid onlin arrang ship get cut u partnership u invest money ship take care restuwud b self reliant soon dnt worri fwiw reason around time smoke gas afford around someon tell appar happen somebodi want light hello boytoy made home constant thought love hope nice visit can not wait till come home kiss congrat kanowhr treat maga u talk yup ok u wake alreadi wat u u pick us later rite take sq reach ard smth like dat u check e arriv time c ya soon yunni walk citylink ü faster come hungri er yep sure prop hiya u pay money account thank got pleasant surpris check balanc u c not get statement acc u nokia plus free digit camera u get u win free auction take part send nokia poboxtcrw ok ill send ltdecimalgt ok bognor splendid time year yesim offic da sorri call later joy father john john name joy father mandan ok ask abt e movi u wan ktv oso misplac number send text old number wonder not heard year best mcat got number atlanta friend sorri call later dunno lei might b eatin wif fren ü wan eat wait ü lar sorri call later free entri week comp send word win tc wwwtxttowincouk say slowli godi love amp need youclean heart bloodsend ten special peopl amp u c miracl tomorrow itplspl u noe send file comput mmmmm love wake word morn miss love hope day goe well happi wait us togeth jay say put ltgt come sec somebodi want see sun anti sleep medicin happen gotten job begun registr perman resid yup ok glad went well come plenti time clair goe work ok enjoy r u home pls pls send mail know relat come deliv know cost risk benefit anyth els thank like haf combin n c lor month amount not terribl not pay anyth till month finish school hmmmhow mani player select said gon na snow start around pm tonit predict inch accumul dont send plus mode aiyo pleas ü got time meh packag program well sister belong famili hope tomorrow pray herwho fate shoranur train incid let hold hand togeth amp fuell love amp concern prior grief amp pain pls join dis chain amp pass stop violenc women guy ask get slipper gone last year compani goodenviron terrif food realli nice text get rington logo game wwwtxtcom question infotxtcouk honest made love cup tea prompt drop key burnt finger get yup not studi surf lor e lazi mode today pleas sen kind advic pleas come tri done c ü oh fine tonight ü give time walk reach ard min ok freemsg award free mini digit camera repli snap collect prize quizclub opt stop pwk sprwm ph fuck babe happen come never came back messag brought gmw ltd not connect friend want drive em someplac probabl take also thk fast xy suggest one not u dun wan ok go rain leh got gd still get good mayb pressi yeah leav mayb ish kkim also finewhen complet cours sea lay rock rock envelop envelop paper paper word told dr appt next week think gon na die told check noth worri not listen room need dont want hear anyth hey leav friday wait ask superior tell ultim tor motiv tui achiev kor work time don t worri we ll finish march ish hous water dock boat roll newscast dabbl jazz flute behind wheel congrat mobil g videophon r call videochat wid ur mate play java game dload polyph music nolin rentl bx ip p next amaz xxx picsfre video sent enjoy one vid not enough day text back keyword picsfre get next video that go ruin thesi sch neva mind u eat st lor hey what u sleep morn erm thought contract ran theth octob dunno let go learn pilat u subscrib best mobil content servic uk per ten day send stop helplin yup elabor safeti aspect issu free tarot text find love life tri free text chanc free msgs goodmorn today late hr hi happi birthday hi hi hi hi hi hi hi outsid offic take not respond imma assum still asleep imma start call n shit aight see bit superior tell friday leav depart except oursso leav youani way call wahe fathima hr conform join uk horniest dog servic u sex nite sign follow instruct txt entri nytecalpmsgp lol take member said aunt flow not visit month caus develop ovarian cyst bc way shrink still work go onit small hous friend got say up order gram hes got ltgt get tmr timin still da wat cos got lesson that s thing ape u fight death keep someth minut u let go that sunshin quiz wkli q win top soni dvd player u know countri liverpool play mid week txt ansr sptyron not gon na abl late notic home week anyway plan got fujitsu ibm hp toshiba got lot model say oki thanx gosh pain spose better come usualiam fine happi amp well oki gon na get rimac access im arestaur eat squid wan na dosometh late call time job today ok umma ask speed hello ucal wen u finish wrki fanci meetin wiv u tonit need break dabook hrs last nite today wrk r u sam p eachoth meet go hous yeah lol luckili not star role like hello madam awesom text restock usualiam fine happi amp well knock knock txt whose enter r week draw gift voucher store yr choic tcs wwwtklscom age stoptxtstop week yes innoc fun thank send mental abil question sir hope day go smooth realli hope wont bother bill can not settl month extra cash know challeng time also let know marrow wed ltgt aha went ur hon lab one cant pick phone right pls send messag hey pple nightsexcel locat wif breakfast hamper forward hi mailbox messag sms alert match pleas call back retriev messag match ccpmin come lol nah not bad thank good b home quit realiti check how ur day u anyth websit ok lor come home dinner daal r ltgt free ring tone text poli everi week get new tone yrs wk unni thank dear rechargerakhesh know lack particular dramastorm detail part not worri haha cant tmr forfeit haha hey glad u r better hear u treat urself digi cam good r pm fab new year c u coupla wks way go back urgent mobil xxx bonus caller prize nd attempt reach call asap boxnqp ppm cal sir meet love hear v see sundayish sorri da thangam sorri held prasad tiwari rcbbattl bang kochi thank god bed not cancer mom make big deal regular checkup aka pap smear gobi art colleg want talk pandi join w technolog todayh got job guarante latest nokia phone gb ipod mp player prize txt word collect ibhltd ldnwh pmtmsgrcvd tri get lost fact tee hee hi spoke maneesha v like know satisfi experi repli toll free yes friend use call sorri call later em olowoyey uscedu great time argentina not sad secretari everyth bless taxt massagetiepo argh ok lool hi pleas get ltgt dollar loan ill pay back mid februari pls might want pull case plan not spend not much confid derek taylor money manag like shake booti danc floor text get not call phone problem need drug anymor sorri dai thought call lot timeslil busyi call noon sarcasm nt scarcasim great run ttyl feel like tri kadeem v dai ltgt naal eruku not yet chikkuwat abt u ok want final lunch today know dad back hello darl today would love chat dont tell look like sexi free st week nokia tone ur mob everi week txt nokia get txting tell ur mate wwwgetzedcouk pobox w wq norm ptone remain bro amongst bros r u meet da ge nite tmr nice day impress sensibl went home earli feel fine bore can not rememb de look good wan na get laid nite want real dog locat sent direct ur mobil join uk largest dog network txt park nyt eca lp msg tri contact respons offer new nokia fone camcord hit repli call deliveri yes repli mail go manag offic later plus bank later alsoor wednesday cool come like ltgt ish super msg danalla time good afternoon boytoy feel today better hope good boy obedi slave pleas queen ft good combin sick needi want pout stomp feet pout stomp feet want slave want train back northampton afraid not abj serv stay dad alon playng door game gt race phone lol new tone week includ mcflyall ab sara jorgeshock smithswitch order follow instruct next messag solv case man found murder ltdecimalgt ltgt afternoon wife call polic polic question everyon wife siri sleep murder took place cook cook garden pick veget housemaid went post offic children went play neighbour went marriag polic arrest murder immedi repli reason u r brilliant da bus go home got call landlin number ask come anna nagar go afternoon okay chase dream good next yupz oredi book slot weekend liao urgent tri contact u today draw show prize guarante call land line claim c valid hrs r mani modelsoni ericson also der ltgt luk good bt forgot modl oki yes know cheesi song frosti snowman ya ok vikki vl c witin ltgt min il repli u sport fan get latest sport news str ur mobil wk free plus free tone txt sport wwwgetzedcouk norm txtp hey tmr meet bugi urgent urgent free flight europ give away call b th sept take friend free call claim bannfwflyppm nice new shirt thing wear nudist theme mu hey sexi bun day word morn ym think whenev see still hook nope go home go pump petrol lor like go rain soon use foreign stamp whatev send lost help oh babi hous come dont new pictur facebook feb ltgt love u day send dis ur valu frnds evn come back ull gt marri person u luv u ignor dis u lose ur luv evr hiya sorri not hav signal not seen heard neither unusu put case get sort hug snog omw back tampa west palm hear happen yup alreadi thanx print n hand freemsg fanci flirt repli date join uk fastest grow mobil date servic msgs rcvd p optout txt stop repli date mean come chase state watch mani movi want took tablet reaction morn great new offer doubl min doubl txt best orang tariff get latest camera phone free call mobileupd free stoptxt tcs nah perpetu dd sorri de went shop hope enjoy new content text stop unsubscrib helpp provid tonesyoucouk wen ur lovabl bcum angri wid u dnt take serious coz angri childish n true way show deep affect care n luv kettoda manda nice day da hey still want go yogasana coz end cine go bath hav steam bath nope not drivin neva develop da photo lei think go reg pract lesson flung advanc haha wat time u go cool ltgt inch long hope like big housemaid murder coz man murder ltgt th januari public holiday govtinstituit closedinclud post officeunderstand oki thanx day euro kickoff u kept inform latest news result daili unsubscrib send get euro stop go n buy juz buy get lar ok lor work technic support voic process justbeen overa week sinc broke alreadi brain go mush tund wish great day abiola nope c ü medic mission nigeria not not movi laptop whatsup dont u want sleep urgent pleas call landlin cash luxuri canari island holiday await collect tcs sae award maq ppm urgent pleas call landlin complimentari lux costa del sol holiday cash await collect ppm sae tcs jame ehrr havent lei next mon mm feel sleepi today shall get dear dare stupid wont tell anyth hear wont talk ü noe ben go mag meet avo point meant middl left right realli crash cuddl sofa hi chachi tri call u unabl reach u pl give miss cal u c tiz msg kanagu sent price mean ltgt g much buzi noth not know u u not know send chat let us find pmsg rcvd hgsuitelandsrowwjhl ldn year work ring u thing whole hous scream brat pull hair love u famili not respond anyth room not went home diwali one call not come make feel like die tick tick tick babe r ü go today meet k dahow mani page want ya nowonion roast send number give repli tomorrow morn said like ok said not problem let know ok tell half hr b u come need prepar play w comput aiyah tok u lor sat right okay thank derp wors dude alway want parti dude file complaint three drug abus live ok chines food way get fat pay lipo r outsid alreadi good trip watch rememb get back must decid easter yo watch movi netflix time i m prob meh thgt clash realli ah dun mind dun seen lost weight gee dont thnk wrong call us not sure night menu know noon menu arr birthday today wish get oscar say slowli godi love amp need youclean heart bloodsend ten special peopl amp u c miracl tomorrow itplspl open rebtel firefox load put plus sign user name place show two number lower number number pick number pin display okay pick various point marri local women look discreet action real match instant phone text match msg cost p stop txt stop bcmsfwcnxx wow v v impress fun shop way ur home burger king wan na play footi top stadium get burger king st sept go larg super cocacola walk winner problem talk later ur sis still custom place come take littl time child afraid dark becom teenag want stay night dude u knw also telugutht gudk gud nyt confirm eat esplanad send id password kind took garag centr part exhaust need replac part order n take fix tomo morn ur chanc win cash everi wk txt action tscs wwwmovietriviatv custcar xpwk well might not come long quit get like minut day like call mittelschmertz googl dont paracetamol dont worri go well right gon na get check today steam salespe text want come get arriv see coupl day lt k wat tht incid yeah get unlimit cthen thk shd b enuff still got conclus n content pg n refer b da content pg n cover pg forgot take year shower sorri atyour phone dead yet ü got wat buy tell us ü need come big god bring success u ve bin award play instant cash call claim everi th player win min optout r stayin extra week back next wed rugbi weekend hi c u soon well still bit left guy want tonight not campus librari affidavit say ltgt e twigg st divis g courtroom ltgt lttimegt doubl check text tomorrow creep tell friend plan valentin day lturlgt get ten billion call text help god puriti friendship two not smile read forward messageit smile see name gud evng musthu told return order housemaid murder coz man murder ltgt th januari public holiday govtinstituit closedinclud post offic depend u go lor smile right go world wonder smile think crazi keep away grin freemsgfav xmas tonesrepli real lil fever fine think still car not decemb mobil mths entitl updat latest colour camera mobil free call mobil updat co free yes princess want catch big strong hand oh yeah forgot u take shop mm ask not call radio thinkin someon good drug say slowli godi love amp need youclean heart bloodsend ten special peopl amp u c miracl tomorrow itplspl enjoy shower possess pour u ur love one bcoz world lie golden gift love truli alright sure let know leav last much hour might get lucki genius brother pls send number skype gr poli tone mob direct u rpli poli titl eg poli breath titl crazyin sleepingwith finest ymca getzedcouk poboxowwq p thk em find wtc far weiyi not goin e rest dunno yet r ur goin dinner den might b abl join not forget own privat properti good boy alway passion kiss interflora it not late order interflora flower christma call place order midnight tomorrow oh godtaken teethi pain romcapspam everyon around respond well presenc sinc warm outgo bring real breath sunshin u ask darren go n pick u lor oso sian tmr haf meet lect need buy lunch eat maggi mee congratul thank good friend u xmas prize claim easi call p per minut btnationalr ok lor oh right ok make sure load work day got realli nasti cough today dri n shot realli help wifehow knew time murder exact send logo ur lover name join heart txt love name name mobno eg love adam eve yahoo poboxwwq txtno ad p howz person stori thanx send home normal hot mail com see tkts euro cup final cash collect call b pobox ppm u sick still go shop ya well fine bbdpooja full pimpleseven becom quit blackand ur rite cold wear sweatter nicenicehow work reach home call tri find chines food place around easi mate guess quick drink bit ambiti babe miiiiiiissssssssss need crave geeee sad without babe love ok thanx aathiwher dear tunji queen wish great day abiola today iz yellow rose day u love frndship give misscal amp send ur frndz amp see mani miss call u get u get miss u marri ur lover class hour sorri wat time u finish ur lect today freemessag jamsterget crazi frog sound poli text mad real text mad crazi sound gbpweek tcs appli sad stori man last week bday wife didnt wish parent forgot n kid went work even colleagu not wish enter cabin pa said happi bday boss felt special askd lunch lunch invit apart went said u mind go bedroom minut ok sed sexi mood came minut latr wid caken wife parent kidz friend n colleagu scream surpris wait sofa nake chanc realiti fantasi show call p per min ntt ltd po box croydon cr wb nation rate call fine good hear dear happi new year oh go wipro interview today tall princess doubt could handl time per night case haha hope ü hear receipt sound gd luck gon na death gon na leav note say rob fault aveng japanes proverb one u none itu must indian version one let none itleav final kerala version one stop none make strike today not workin not free oso gee thgt u workin ur fren shop life face choic toss coin not becoz settl question coin air u know heart hope gudni know god creat gap finger one made come amp fill gap hold hand love want kiss feel next not happi say adult content video short ok would b love u r sure think wot u want drinkin dancin eatin cinema u wot say not explicit told nora know someon probabl not gon na bother say hi get ass back south tampa prefer kegger smith wast dai wan na gayl mum sent mani mani messag sinc got want know actual get enjoy rest day aight tomorrow around ltgt housemaid murder coz man murder ltgt th januari public holiday govtinstituit closedinclud post officeunderstand chanc realiti fantasi show call p per min ntt ltd po box croydon cr wb nation rate call actual first time went bed not long spoke woke night see dont understand messag crucifi c not told earlier idk keep say not sinc move keep but head freedom vs respons tire much shit deal bare keep togeth get ad fuck cedar key fuck come anyway tho twenti past five said train durham alreadi not coz reserv seat hey boy want hot xxx pic sent direct ur phone txt porn hrs free p per day stop text stopbcm sf wcnxx u still paint ur wall last chanc claim ur worth discount voucher today text shop savamob offer mobil cs savamob pobox muz sub printer cool mean groovi wine groovi hi harish rent transfr ur acnt anyth lor come cbe realli good nowadayslot shop showroomsc shape good ü still attend da talk prob hon u doinat mo k take care take not phone callon friday assum not year batteri low babe shuhui bought ron present swatch watch yeah quit bit left swing tomorrow get babe said hour almost internet k sure get noon see kkyesterday cbe went ganesh dress shop pdatenow doubl min txts orang tariff latest motorola sonyericsson nokia bluetooth free call mobileupd calloptoutyhl ü collect ur laptop go configur da set izzit r home come within min aight latest probabl closer jay tyler two trip come aftr ltdecimalgt clean hous ur cashbal current pound maxim ur cashin send cash pmsg cc po box tcrw bill letter i m expect one orang isn t bill may still say orang tell pa pain de hi darlin hope nice night wish come cant wait see love fran ps want dirti anal sex want man gang bang ha don t know either clever simpl thing pear day perfect christma helloooo wake sweet morn welcom enjoy day full joy gud mrng alrit must sit around wait summer day celebr magic sight world dress white oooooh let snow urgent mobil number award prize guarante call land line claim valid hrs guy go see movi side sorryin meet call later not tell thatnow think plus go stop run kind send one flat ltdecimalgt today sorri u not unsubscrib yet mob offer packag min term week pls resubmit request expiri repli themob help info noth lor bit bore dun u go home earli sleep today time tell friend around yes fine love safe thank chikku gud nyt xy ur car u pick thanx time we v spent geva bin mint ur babi want uxxxx yo way could pick someth tonight not sent send fine simpli sit thts god gift bird human hav natur gift frm god come day class im done studyn librari ok u enjoy ur show anyth wuld without babi thought alon mite break don t wan na go crazi everyboy need ladi xxxxxxxx wat dear sleep ah hi test ltgt rd student solv cat question xam ltgt ltgt ltgt tell answer u r brilliantthingi got answr yo know anyon ltgt otherwis abl buy liquor guy flake right not get hold somebodi loko night yup n fren lor meet fren yeah got one line us stop wonder wow ever go stop tming tm whenev want mine laugh lol yep yesterday alreadi got fireplac anoth icon sit hey book pilat yoga lesson alreadi haha ok happen behav like new messag pleas call supervisor find one lor thk student havent ask yet tell u aft ask hello news job make wait fifth week yeah im woozl weasel exet still home messageno responcewhat happend current messag await collect collect messag call hey babe sorri not get sooner gari come fix caus think know not go far ptbo say cost ltgt buck not know might cheaper find someon not second hand machin right let know want babe make fuck sake x leav u alway ignor nope b go sch fri quit earli lor cos mys sis got paper da morn bruce b down amp fletcher said would woke hey free call tell whos pls urgent mobil award bonus caller prize final attempt contact u call think might give miss teach til twelv lectur two damn work thing id check like bowl worth left yes mani sweet would still cozi exhaust last nightnobodi went school work everyth close u secret admir reveal think u r special call opt repli reveal stop per msg recd cust care buzzzz grin buzz ass buzz chest buzz cock keep phone vibrat feel shake sir send group mail check da intro cover energi trend n pros n con brief descript nuclear fusion n oso brief histori iter n jet got abt n half page nonenowher ikno doesdiscountshitinnit dont know jabo abi ever notic drive anyon go slower idiot everyon drive faster maniac not yet hadya sapna aunti maneg yday hogidhechinnu full weak swalpa black agidhan good babi neft transact refer number ltgt rs ltdecimalgt credit beneficiari account ltgt lttimegt ltgt most sport typelyk footblcrckt head dey swell oh thank make day u make fb list height confid aeronaut professor wer calld amp wer askd sit aeroplan aftr sat wer told dat plane ws made student dey hurri plane bt didnt move saidif made studentsthi wont even start datz confid sari need tim bollox hurt lot tol happi new year princess text carlo let know hang not worri easi ingredi love u littl poci bell sorri love u ok omw castor yar lor keep rain non stop u wan go elsewher xmas offer latest motorola sonyericsson nokia free bluetooth dvd doubl min txt orang call mobileupd calloptoutqf u mean u almost done done wif sleep tot u go take nap yup send liao pick ard smth lor wonder world th th ur style th ur smile th ur person rd ur natur nd ur sms st ur love friendship good morn dear tonight yeah eat fo lunch senor said right giggl saw u would possibl first persondi nvq think much could break time one come n get stuff fr ü repli win week profession sport tiger wood play send stop end servic see can not see mayb reboot ym seen buzz still grinder polyphon tone ur mob everi week txt pt st tone free get txtin tell ur friend ptone repli hl info love not decis feel could decid love life would much simpler less magic hot live fantasi call p per min ntt ltd po box croydon cr wb nation rate call ki didt see youkwher list buyer idea guess work hour suppos leav sinc usual nobodi interest figur shit last second mm not entir sure understood text hey ho weekend releas vday shirt u put make bottom half nake instead white underwear knowh watch film comput b thursday oh phone phone disconnect id onluy matter get offcampus messag free welcom new improv sex dog club unsubscrib servic repli stop msgsp excel see riley plan see half hour tkts euro cup final cash collect call b pobox ppm ew one also hi wesley howv ah see lingo let know wot earth finish make loan purpos homeown tenant welcom previous refus still help call free text back help updatenow mths half price orang line rental minscal mobileupd calloptoutjq imagin life without see fast u search medont worri lm alway disturb u goodnoon hm good morn headach anyon yeah prob last night obvious catch speak soon free unlimit hardcor porn direct mobil txt porn get free access hrs chrgdp per day txt stop exit msg free might go sch yar e salon v bore ltgt min stop somewher first ltgt fast approach wish u happi new year happi sankranti happi republ day happi valentin day happi shivratri happi ugadi happi fool day happi may day happi independ day happi friendshipmotherfatherteacherschildren day amp happi birthday u happi ganesh festiv happi dasara happi diwali happi christma ltgt good morn afternoon even night rememberi first wish u theseyour raj one joy lifei wake daywith thought somewheresomeon care enough tosend warm morn greet not get second half messag wat time u wan meet later thank much selfless love plenti film ill call later dare chang ring bad girl ladi love ya tri budget money better babe gari would freak knew part dont initi not understand finish lunch alreadi u wake alreadi still game got tallent wast record one night also sir sent email log usc payment portal ill send anoth messag explain thing back home great weekend gon na let know cos come bak holiday day come dontgettext number jokin lar depend phone father get lor aight lem me know get readi ltgt inch pleasur rajipl favour pls convey birthday wish nimya pls today birthday ok feel like john lennon cos darren say ü consid mah ask ü not bother trust answer pls wish famili merri x mas happi new year advanc one day crab run sea shoreth wave came n clear footprint crab crab ask frnd r u clear beauti footprint wave repli fox follow ur footprint catch that clear frndsship never let u dwn gud nyt aight time want come slaaaaav must summon time not wish come anymor bill that not bad let know chang next hrs even appendix age rang howev not imposs chill let know hrs hello yeah got bath need hair come done yeah weather ok not much though hm friday cant wait dunno wot hell im gon na anoth week becom slob oh wait alreadi done die e toot fring lol not know awesom phone could click delet right want ok awesom question cute answer someon ask boy ur life smile amp answer fine gudnit pleas leav topicsorri tell pls send correct name da happen yo date eastend tv quiz flower dot compar violet e tulip f lili txt e f chanc win cash wkentp webpag not avail woke yeesh late not fall asleep til ltgt unsubscrib servic get ton sexi babe hunk straight phone go httpgotbabescouk subscript dear know ltgt th ltgt th birthday love gopalettan plan give small gift day like particip welcom pleas contact admin team detail kkfrom tomorrow onward start ah u talk bout earli morn almost noon fine rememb hi babe jordan r u im home abroad lone text back u wan na chat xxsp visionsmscom text stop stopcost p ok mani buy sound good keep post get brand new mobil phone agent mob plus load goodi info text mat ok april cant wait boy best get yo ass quick ay wana meet satü wkg sat wait till bus pick apart one told yesterday ok lor buy wat somebodi go andro steal ice know didt msg recent take us shop mark distract isaiahd mum hope great day hope text meet well full life great day abiola sens foot peni okay thought expert deep sigh miss realli surpris not gone net cafe yet get not miss ssi thinl role like sachinjust stand other hit great trip india bring light everyon not project everyon lucki see smile bye abiola import discuss u kkhow train process ok lor ned go toa payoh return smth u wan send wat da car park wish hold tight make see import much mean much need life ask anthoni dad bf wnevr wana fal luv vth book bed fal luv vth yen madodu nav pretsorginta nammanna pretsovru import alwa gud eveb todaysundaysunday holidayso work go take bath ill place key window lord ringsreturn king store nowrepli lotr june chanc win lotr soundtrack cds stdtxtrate repli stop end txts dear take care reach homelov u lot staffsciencenusedusgphyhcmkteachingpc emigr someth ok mayb bit hope olol print forum post guy exact prob fix gpu replac hope dont ignor walk mom right stagwood pass right winterston left victor hill address ltgt yo jp hungri like mofo creepi crazi ok din get ur msg tessypl favor pls convey birthday wish nimyapl dnt forget today birthday shija pathaya enketa maraikara pa even friend priest call u lousi run alreadi come back half dead hee said bad dat e gal know u wat u remind hrs hope would not send messag rent due dont enough reserv complet gone loan need hope could balanc ltgt way could get till mid march hope pay back hi happi new year dont mean intrud pls let know much tuition paid last semest much semest thank hello hun ru way im good date guy met walkabout far meet soon how everyon els lol gon na last month cash left ltgt case collect week caus announc blog good luck draw take place th feb good luck remov send stop custom servic short cute good person dont tri prove gud mrng not decid yet eh wat time liao still got yes watch footi worri go blow phil nevill wait ü insid da car park uncl abbey happi new year abiola free call pa r u say order slipper cos pay return stop know well good even roger small problem auctionpunj ask tiwari free entri week comp chanc win ipod txt pod get entri std txt rate tcs appli detail tell not tell one treat hi hi hi uncl atlanta wish guy great semest st wk free gr tone str u wk txt nokia classic nokia tone hit poli nokiap polyp u come pick that cool like photo sexi would u fuckin believ didnt know thur pre book cancel need b sack haha better late ever way could swing ok finish lookatm thank purchas video clip lookatm charg p think better not send video mmsto bar b q store lifethi twat orang dungere came ask want deck got first punch messag food ok go sleep hope meet wat make peopl dearer not de happi dat u feel u meet de pain u feel u miss dem let know detail fri u find cos not tom fri mention chines thank right think wat r u ur lectur sexi sexi cum text im wet warm readi porn u fun msg free recd msgs p inc vat cancel text stop custom place call not plan yet go join compani jan onlydon know happen boy love u grl hogolo boy gold chain kodstini grl agalla boy necklac madstini grl agalla boy hog mutai eerulli kodthini grl love u kano haha heard text around ill get tomorrow send shit babe thasa bit mess upyeh shudvetold u urgran knowneway illspeak umoro wen im not asleep oh that late well good night give u call tomorrow iam go go sleep night night cheer u tex mecaus u werebor yeah okden hunni r uin wk satsound likeyour havin grfun j keep updat countinlot lovem xxxxx sorri meet call later yo howz u girl never rang india l yeah wors hard live chat pmin choos girl connect live call cheap chat uk biggest live servic vu bcmwcnxx tag friend seem count friend not heard u call rude chat privat line cum wan c pic gettin shag text pix end send stop sam xxx ok long time rememb today havent shop lor juz arriv thank u better work caus feel use otherwis challeng know much ur hdd case cost mysteri solv open email sent anoth batch not sweeti can not describ lucki actual awak noon nd time tri contact u u prize claim call b tcsstop sms ppm today sorri day ever angri ever misbehav hurt plz plz slap urself bcoz ur fault basic good cheer card time year alreadi hot live fantasi call p per min ntt ltd po box croydon cr wb k peopl see msgs think iam addict msging wrong bcoz dont know iam addict sweet friend bslvyl ugh hope asus ppl dont random reformat not seen facebook huh lol mah b pick tomorrow still otsid leu come morrow maga u still plumber tape wrench could borrow dear voucher holder claim week offer pc pleas go httpwwwetlpcoukreward tscs appli vl bcum difficult ur go bahama callfreefon speak live oper claim either bahama cruis of cash opt txt x havent still waitin usual ü come back sch oredi meet da call k k watch film cinema plus drink appeal tomo fr thriller director like mac size eleph tablet u shove um ur ass mani peopl seem special first sight remain special till last sight maintain till life end take cr da parent kidz friend n colleagu scream surpris wait sofa nake dunno juz askin cos got card got salon call hair sens tot da one ü cut ur hair good morn pooki pie lol hope not wake u mayb woke fuck would not problem happi birthday youdearwith lot loverakhesh nri howz person stori nd time tri contact u u pound prize claim easi call p per min btnationalr x ltgt go get hi neva worri bout da truth coz truth lead ur heart it least uniqu person like u deserv sleep tight morn ur award citi break could win summer shop spree everi wk txt store skilgmetscswinawkage perwksub ur paper today e morn aft lick everi drop readi use mouth well expect whenev text hope goe well tomo great p diddi neighbor come toothpast everi morn av new number wil u use oneta poke man everyday teach canada abi say hi lor chang suntec wat time u come deam see onlin shop ask curious cuz ask nicenicehow work okay lor wah like def wont let us go haha say term condit haha yup hope lose kg mon hip hop go orchard weigh good r u work oh yes littl weather kind coccoon home home also phone weirdest auto correct oop phone die not even know yeah like better havent mus ask u st wat meet lunch den u n meet alreadi lor u wan go ask da ge st confirm w asap said u mind go bedroom minut ok sed sexi mood came minut latr wid caken wife oh yeahand hav great time newquaysend postcard look girl im goneu know im talkin boutxx got divorc lol shes ur pin babe got enough money pick bread milk give back get home want snow freez windi urgent tri contact u today draw show prize guarante call land line claim valid hrs come mahal bus stop ltdecimalgt knowthi week go tirunelvai da babi promis treat well bet take good care like hotel dusk game think solv puzzl area thing thank rington order refer number x mobil charg tone not arriv pleas call custom servic hi love goe day fuck morn woke drop cell way stair seem alright phew miss well must pain catch sorri da thangamit mistak need coz never go rose redr bloodblood heartheart u u send tis ur friend includ u like u get back u r poor relat u need support u r frnd mani luv u pray god marri u tri wifehow knew time murder exact six chanc win cash pound txt csh send cost pday day tsandc appli repli hl info ur cashbal current pound maxim ur cashin send collect pmsg cc po box tcrw feel like dick keep sleep text facebook messag sup town plm come da way guess want alon time could show watch height recycl read twice peopl spend time earn money money spent spend time good morn keep smile yup ü not comin yes princess toledo aight text back mu swing need somebodi get door ron say fri leh n said ding tai feng cant make reserv said wait lor good swimsuit allow okay soon best cute thought friendship not necessari share everi secret ur close frnd watev u share true ok sent u da latest version da project good morn dear great amp success day pls accept one day beg chang number squeeeeez christma hug u lik frndshp den hug back u get u r cute u r luvd u r lucki none peopl hate u ok anybodi ask abt u tel themp funni fact nobodi teach volcano erupt tsunami aris hurrican sway aroundn teach hw choos wife natur disast happen gon na ring weekend wot also track lighter find sorri can not help babe need advic i ll leav around four ok come medic colleg pm forward da kkit goodwhen go make lasagna vodka hi kate u give ring asap xxx peopl tour thought sofa thing sent curious sugar told go got drunk fuck chicken messag would late woould buzz not hear word congratul thank good friend u xmas prize claim easi call p per minut btnationalr alway look excus citi yup still coffe wif fren fren drove give lift shore takin bus u gon na get deus ex send email mind ltgt time per night want new nokia colour phone deliveredtomorrow free minut mobil free text free camcord repli call tap spile seven pub gas st broad st canal ok ok come n pick u engin never want tell short onedg late raviyog peripher bhayandar east k actual guy meet sunoco howard right way new voicemail pleas call moon come color dream star make music sms give warm peac sleep good night finish eat got u plate not leftov time thanx lot hurri home u big butt hang last caller u food done starv not ask cook lol right diet everyday cheat anyway meant fatti great day beauti one happen interview solv case man found murder ltdecimalgt ltgt afternoon wife call polic polic question everyon wife siri sleep murder took place cook cook garden pick veget housemaid went post offic children went play neighbour went marriag polic arrest murder immedi repli reason u r brilliant badrith chennaii sure pick usno competit tot group mate lucki havent repli wat time ü need leav hey around got enough half ten owe hey tmr mayb meet yck alrit sam nic checkin ur numberso ittb make easi pay back ltgt yrs say pay back earlier get not worri sure get gas station like block away hous drive right sinc armenia end swann take howard someon u know ask date servic contact cant guess call reveal pobox lshb p camera award sipix digit camera call fromm landlin deliveri within day tuition hm go one mind not smoke peopl use wyli smoke much justifi ruin shit dear good morn feel dear littl med say take everi hour pain back took anoth hope not die beauti tomorrow never come come alreadi today hunt beauti tomorrow not wast wonder today goodmorn dunno lei ü decid lor abt leona oop tot ben go n msg hi move pub would great c u u cud come today voda number end select receiv award hava match pleas call quot claim code standard rate app messag free welcom new improv sex dog club unsubscrib servic repli stop msgsp honeybe said im sweetest world god laugh amp said waitu havnt met person read msg moral even god crack joke gmgngegn ever easier rct thnq adrian u text rgds vatian stop call everyon say might cancer throat hurt talk can not answer everyon call get one call not babysit monday tough im gonnamissu muchi would say il send u postcard butther abouta much chanc merememberin asther ofsi not breakin contract luv yaxx ee msg na poortiyagi odalebeku hanumanji name hanuman bajarangabali maruti pavanaputra sankatmochan ramaduth mahav ee name ltgt janarig ivatt kalisidar next saturday olag ondu good news keluviri maretar ind dodda problum nalli siguviri idu matra ltgt true not neglet hi darlin finish u pick meet text back number luv kate xxx set place heart not mind mind easili forget heart alway rememb wish happi valentin day surpris still guess right lor oki ü wan meet bishan cos bishan not drive today oh ho first time u use type word hi darlin work u get troubl ijust talk mum morn realli good time last night im goin soon call u know serv mean huh hyde park not mel ah opp got confus anyway tts e best choic den juz take oh gei happend tron mayb ill dl free messag activ free text messag repli messag word free term condit visit wwwcom know girl alway safe selfish know got pa thank good night worri hope photo shoot went well spif fun workag freez crave ice fml kay sinc alreadi eh sorri leh din c ur msg not sad alreadi lar watch tv u still offic yo im right yo work ok darlin supos ok worri muchi film stuff mate babysit call therexx said u mind go bedroom minut ok sed sexi mood came minut latr wid caken wife wake sinc check stuff saw true avail space pls call embassi send mail nope juz work huh fast dat mean u havent finish paint number u live put parti day week studi light think need draw custom checkbox know hardcor sac score big hundredh set batsman send yetti number pls much cost approx per month ok theori test ü go book think may coz thought wan na go jiayin isnt free contact date servic someon know find call land line poboxwtgp fine give call know want question sorri got late start way u go back urself lor gas station go k u bore come home babe love cover face kiss like made throw smoke friend car one time awesom still not check da go walmart ill stay not forgotten might coupl buck send tomorrow k love ya oh great ill disturb talk revers cheat not mathemat ure welcom caught u use broken english problem babi good time talk call left messag sorri call later oh brand sorri cant take call right happen r waxsto wat want come ill get medic insur abl deliv basic care current shop right medic insur give til friday morn that ill see major person guid right insur time come call say not come today ok tell not fool like ok email yifeng part oredi ü get fr r u sure understand wine good idea slurp minimum walk mile day ok not problem get taxi c ing tomorrow tuesday tuesday think r go cinema brainless babi dolld vehicl sariyag drive madok barolla not run away frm u walk slowli amp kill u not care enough stop sorri miss call let us talk time pleas attend phone hate call didnt accept even singl call mine even messag messag phone hold free yo trip got postpon still stock sorri call later wait call sir hey repli pa hey elain today meet still sorri not gone place ill tomorrow realli sorri tiim not let hug not break tear tomorrow not go theatr come wherev u call tell come tomorrow electr went fml look like found someth smoke great job also andro ice etc etc good afternon love today hope good mayb interview wake miss babe passion kiss across sea yup wun believ wat u realli neva c e msg sent shuhui how watch resiz dear umma call finish miss plenti complimentari star ibiza holiday cash need urgent collect landlin not lose boxskwpppm well meant oppos drunken night k must book not huh go yoga basic sunday free msgwe bill mobil number mistak shortcod pleas call charg refundedthi call free bt landlin ok oop mum somerset bit far back tomo see soon x u workin overtim nigpun kalli dismissi nd test guess got screwd pleas call immedi urgent messag wait meet call later r u cook dinner ok thanx bull plan go float ikea without care world live mess anoth day buy urgent mobil number award bonus caller prize call land line valid hrs heehe funni tho simpl arithmet not percentag yeah would not leav hour least sound valu custom pleas advis follow recent review mob award bonus prize call thank honey great day amaz quot sometim life difficult decid what wrong lie bring smile truth bring tear good night dear sleepwellamptak care ü ask dad pick ü lar ü wan stay meh jus chillaxin hey das cool iknow wellda peril studentfinanci crisisspk u lr beauti truth graviti read care heart feel light someon feel heavi someon leav goodmorn want new nokia colour phone deliveredtomorrow free minut mobil free text free camcord repli call what come hill monster hope great day thing r go fine busi though joy father john john joy father u an ths hav ltgt iq tis ia question tri answer ill obey didnt search onlin let know need go get pic pleas resend remain bro amongst bros uhhhhrmm isnt tb test bad your sick haf enuff space got like mb life never much fun great came made truli special not forget enjoy one gbpsms want new video phone anytim network min inclus video call download per week free deltomorrow call repli valu custom pleas advis follow recent review mob award bonus prize call welcom pleas repli age gender begin eg freemsg month unlimit free call activ smartcal txt call subscriptngbpwk unlimit call help stoptxt stop landlineon mobil mths updat latest orang cameravideo phone free save s free textsweekend call text yes callback orno opt new club dont fink met yet b gr c u pleas leav msg day wiv ur area repli promis carli x calls minmobsmor lkpoboxhpfl true easier sure sinc parent work tuesday not realli need cover stori haha okay today weekend leh hi darlin youphon im athom youwanna chat not know jack shit anyth sayask someth help want pretend text whatev respons hypotheticalhuagauahahuagahyuhagga alway braini one yeah get random dude need chang info sheet parti ltgt never studi safe camera award sipix digit camera call fromm landlin deliveri within day christma occas celebr reflect ur valu desir affectionsamp tradit ideal christma send greet joy happi gr even hi darlin cantdo anythingtomorrow mypar aretak outfor meal u free katexxx india win level seri mean record plan good hear awesom deal gate charl told last night uh yeah time thinkin goin get free mobil video player free movi collect text go free extra film order ts cs appli yrs save money wed lingeri wwwbridalpetticoatdreamscouk choos superb select nation deliveri brought weddingfriend board work fine issu overh also reslov still softwar inst pend come around clock yes not care caus know wiskey brandi rum gin beer vodka scotch shampain wine kudiyarasu dhina vaazhthukk mon oki lor haha best cheap n gd food la ex oso oki depend whether wana eat western chines food den u prefer sit ard noth lor u leh busi w work ltgt k oh send home sale sorri mail ya tell abt tht incid yes outsid like hour call whole famili wake caus start ugh got outta class nowaday peopl notixiqu laxinorf opportun bambl entrop ever oblising opt ur book masteriast amplikat fidalf champlaxig think atroci wotz ur opinion junna dont file bagi work call mei tell find anyth room need lar jus test e phone card dunno network not gd thk wait sis finish bath bath dun disturb u liao u clean ur room ok ill right later friendship poem dear dear u r not near hear dont get fear live cheer tear u r alway dear gud ni lunch come quick open door not heard u call night knicker make beg like u last time xx luv nikiyunet back bit long cos accid divert via wadebridgei brilliant weekend thank speak soon lot love k yan jiu liao sat go bugi vill one frm den hop parco nb sun go cine frm den hop orc mrt hip hop bloomberg messag center wait appli futur httpcareer bloombergcom seek ladi street freak sheet phone haha figur well found piec priscilla bowl actual fuck whatev find excus tampa point januari though urgent tri contact u today draw show prize guarante call land line claim validhr yay final lol miss cinema trip last week day work dayexcept saturday sunday aathiwher dear heart empti without love mind empti without wisdom eye r empti without dream amp life empti without frnds alwi touch good night amp sweet dream think i m wait bus inform get ever get get back time soon thing quick question night end anoth day morn come special way may smile like sunni ray leav worri blue blue bay gud mrng probabl come everybodi done around ltgt right got new year cos yetund said want surpris didnt see money return mid januari ltgt day return period end ask around not lot term mid sure check yahoo email sent photo yesterday look wherr boytoy want new video phone anytim network min text five pound per week call repli deliveri tomorrow hello love goe day wish well fine babe hope find job prospect miss boytoy teas kiss tell bad charact u dnt lik tri chang ltgt add tat new year resolut wait ur replyb frankgood morn noi got rumour go buy apart chennai yeah probabl earlier chang window logoff sound still not check da also came room huh got lesson lei n thinkin go sch earlier n tot parkin kent vale ok reach offic around ltdecimalgt amp mobil problem cannt get voic call asa free cool text head contact date servic someon know find call land line poboxwtgp wan win meetgreet westlif u current tour unbreak untam unkempt text cost p std text happi birthday may u find ur princ charm soon n dun work hard oh grand bit parti not mention cover charg probabl first come first serv said went back bed can not sleep anyth hope arnt piss id would realli like see tomorrow love xxxxxxxxxxxxxx dorothykiefercom bank granit issu strongbuy explos pick member nasdaq symbol cdgt per say ltgt year old man money last ltgt still wait check come ur home free day finish mon n thur food life all moneeppolum oru pole allalo nite two fundament cool life walk like king walk like dont carewhoev king gud nyt camera quit good mega pixel optic digit doom love holiday safe hope hav good journey happi new year see coupl week hi peteynoi m ok want chat coz avent spoken u long timehop ur doin alritehav good nit js love ya amx saw ron burgundi captain parti boat yeah serious money base alreadi one guy love staff placement train amrita colleg alway chat fact need money rais job profil seem like bpo well give cos said didn t one nighter persev found one cheap apologis advanc somewher sleep isnt think actual talk not call boss morn went place last year told could go get car fix cheaper kept tell today much hope would come back alway regret not get number etc will go app class hang brother famili reach tell dont know hey go quit soon xuhui work till end month im sorri bout last nite wasn t ur fault spous pmt sumthin u give think u shldxxxx tri neva mate yeah pretti much best case scenario not free today haf pick parent tonit hey babe far spunout spk da mo dead da wrld sleep da sofa day cool nytho tx fonin hon call mwen im bk frmcloud j x send naughti pix winner guarante caller prize final attempt contact claim call ppmpoboxbhambx xmas new year eve ticket sale club day till pm thur fri sat night week sell fast tyler get th leav not long get like hour prepar pound everi night actual mobil full msg work onlin need send ltgt sent msg wil explain u later sorri call later good even home pleas call oic cos n sis got lunch today dad went dunno whether eat sch wat mmmmm sooooo good wake word morn love mmmm fuck love lion devour kiss across sea pleas inform applic airtel broadband process success instal happen within day happen dear silent tens get unless guy want come time sooner not cough noth ü come lt n pass lar e person e sms survey lol ok ill tri send warn sprint dead slow prolli get tomorrow thank meet monday th gower mate r u man good wale ill b back morrow c u wk msg random rock yr chik get filthi film xxx pic yr phone rpli filth saristar ltd e yt p per day stop cancel singl line big mean miss anyth ur best life not miss ur best life anyth gud nyt got like ltgt get later though get whatev feel like dad want talk apart got late start omw love lol u still feel sick din tell u jus eye philosophi next month get upto call ur standard network charg activ call c wirenet stterm pobox uz cost min mobcudb ok lor town lei alreadysabarish ask go da vijay go talk jaya tv urgent tri contact u today draw show prize guarante call land line claim j po boxcpm lol know hey someon great inperson flea forum love text banneduk see cost p textoper gga xxx still chanc search hard get itlet tri auction round highest bid next maximum bid bid send bid e g bid good luck alway celebr nys famili know taj mahal symbol love lesser known fact mumtaz shahjahan th wife wife shahjahan kill mumtaz husband marri mumtaz die ltgt th deliveri marri mumtaz sister question aris hell love great hari okcom home vl nice meet v chat collect valentin weekend pari inc flight hotel prize guarante text pari wwwrtfsphostingcom sent de webadr gete salari slip fine send greet custom loyalti offerth new nokia mobil txtauction txt word start get tctxt tc pmtmsg dint touch yup leav right back soon not believ true incred txts repli g learn truli amaz thing blow mind ofwd ptxt yeah sure leav min one teach ship car sign matur not start say big thing actual start understand small thing nice even bslvyl yeah confirm stay weekend said ü dun haf passport smth like dat ü juz send email account multipli number independ count decim point divis push decim place like show love night wake see messag hope smile know great morn ard lor right meanwhil project twin comin sent maga money yesterday oh hi ibh custom loyalti offer new nokia mobil txtauctiontxt wordstart get nowt heart empti without love mind empti without wisdom eye r empti without dream amp life empti without frnds alwi touch good night amp sweet dream hot n horni will live local text repli hear strt back p per msg netcollex ltdhelpdesk repli stop end ride equal unev not mani peski cyclist around time night werear free give otherwis nalla adi entey nattil kittum sent wife text buy tell relax go get wkend escap theatr go watch kavalan minut much would cost hire hitman anyth lor sorri call later want new nokia colour phone deliv tomorrow free minut mobil free text free camcord repli call huh cant go ur hous empti hand right good morn princess happi new year congratul winner august prize draw call prize code aight head wat r u busi wif work know mood today jay told alreadi cps caus outag conserv energi not sure check happen around area hey morn come ask pa jordan got vote last nite mean got epi shes fine shes idea pls come quick cant bare joy father john john joy father u an ths hav ltgt iq tis ia question tri answer call unabl cal let meet bhaskar deep ill meet librari k roommat also want dubsack anoth friend may also want plan bring extra tell know sure depend individu lor e hair dresser say pretti parent say look gong u kaypoh also dunno wat collect ok c ü enjoy watch play footbal basketbal anyth outdoor pleas ask macho price rang want someth new use plus interfu blackberri bold ltgt bb sorri sent blank msg yup tri serious studi hey check da list da p alfi moon children need song ur mob tell ur ms txt tone chariti nokia poli chariti poli zed profit chariti meant apolog text get drug ltgt night mean februari april get place stay not hustl back forth audit season sinc sister move away harlem goin workout lor muz lose e fat damn poor zac not stand chanc messageno responcewhat happend want tel u one thing u not mistak k messag sent yeah right bring tape measur fri still chanc search hard get itlet tri meet u work tel shall work tomorrow head straight get offici england poli rington colour flag yer mobil tonight game text tone flag optout txt eng stop box wwx thank princess sexi oooh got plenti hui xin da lib big differ ltgt versus ltgt everi ltgt hrs not make cri stuff happen top everyth els push edg not underdtand often cri sorri sorri life babe feel let get itboth tri cheer upnot fit soo muchxxlov u locaxx know hook mean right custom servic announc recent tri make deliveri unabl pleas call reschedul ref wat da model num ur phone realli skateboard despit fact get thrown wind bandag shit arm everi five minut stop club tone repli stop mix see mytonecomenjoy html term club tone cost gbpweek mfl po box mk wt hous e sky quit dark liao rain got excus not run alreadi rite hee sorri left phone upstair ok might hectic would bird one fell swoop date thought not see wamma get laidwant real doggin locat sent direct mobil join uk largest dog network txt dog nownyt eca lp msg carlo say pick later yeah set hey babe friend cancel still visit per request maangalyam alaipayuth set callertun caller press copi friend callertun hmm ill think ok forgiven hope get away langport still town tonight want send virtual hug need one probabl not still go stuff issu right ill fix tomorrow come peopl senthil group compani apnt pm oh realli make air talent studi ill free next weekend r u yet wear blue shirt n black pant waiti come ltgt min reach ur home ltgt minut well great weekend langport sorri probabl bed pm suck ill xmas gosri lanka frnd not juz wordnot mere relationshipit silent promis say wherevr whenevr forevr gudnyt dear huh also can not mani mistak ha u jus ate honey ar sweet turn phone mom tell everyon cancer sister not stop call hurt talk can not put see u u get home love u honey sweetheart darl sexi bun sugar plum loverboy miss boytoy smack ass go gym thank love rock yeah imma come caus jay want drug ok thanx take care yup thk u oso bore wat came look flat seem ok away alot wiv work got woman come moji inform save live thank nokia get win free auction take part send nokia hgsuiteland rowwjhl whos class hey r ü still onlin finish format great attract brotha promot number ur award citi break could win summer shop spree everi wk txt store skilgm tscswinawkag perwksub stupidit not possibl cant pick phone right pls send messag lol happen vega stay vega hello hello hi lou sorri took long repli left mobil friend lancast got bak neway im sorri couldn t make ur b day hun use soc use home ü dunno type word ar dad say hurri hell wake ltgt morn get class bsn like ltgt minut know advis great shoot big load get readi meet lobbi still come tonight happen dear tell sir wait call free pleas call not not movi laptop text finish long time ago shower eryth ok im not sure time finish tomorrow wan na spend even cos would vewi vewi lubli love xxx hello per request ltgt rs transfer tirupur call da winner special select receiv cash award speak live oper claim call ampm cost p sbut luck catch put noe ü specifi da domain nusstu ü still sch ohi ask fun hahatak care ü shall get pouch hey loverboy love tell look pictur ach feel leg fuck want need crave boy sweet word left morn sigh goe day love start studi kent vale lor ü wait ar ok good make money read gud habit nan bari hudgi yorg pataistha ertini kano aight still want get money free top rington sub week ringtoneget st week freesend subpoli per weekstop sms okok okthenwhat ur today plan town v import sorri pa dont knw ru pa wat u not meet ü rite go home lor ü dun feel like comin ok oh get paid outstand one commerci hasbroin august made us jump mani hoop get paid still not lateso call tomorrow morningtak care sweet dreamsu meummifyingby network technic support associ gon na rip uterus cool like swim pool jacuzzi hous thank rington order refer number x mobil charg tone not arriv pleas call custom servic colourredtextcolourtxtstar yeah not gang readi blank blank wat blank lol movi collect car oredi left alreadi orchard hi night ur lucki night uve invit xchat uk wildest chat txt chat pmsgrcvdhgsuitelandsrowwjhl ldn yrs noth splwat abt u whr ru chikku nt yet ya free aldrin rakhesh ex rtm herepl callurg search happi main sourc unhappi accept life way come u find happi everi moment u live home pleas call guess could good excus lol not frnd neces life imagin urself witout frnd hwd u feel ur colleg watll u wth ur cell wat abt function thnk abt event espel care miss amp irrit u wrd dearlov frnds wthout u cant live jst takecar goodmorn gud mrng dear hav nice day old orchard near univ taco raja burrito right it s get ok how street end librari walk plz note anyon call mobil co amp ask u type ltgt ltgt not disconnect callcoz iz attempt terrorist make use sim card itz confirmd nokia n motorola n verifi cnn ibn stop get ice cream go back stitch trouser da vijay go talk jaya tv tfp hey bore think u wat r u nah wednesday bring mini cheeto bag nobodi name peni girl name stori not add aight let know gon na around usf not lip sync shangela ü neva tell noe not home da aft wat bit ur smile hppnss drop ur tear sorrow part ur heart life heart like mine wil care u forevr goodfriend dear voucher holder claim st class airport loung pass use holiday voucher call book quot st class x buzz hey love think hope day goe well sleep miss babe long moment togeth againlov smile haha sound crazi dunno tahan anot u earli ya one slow poo bloomberg messag center wait appli futur httpcareer bloombergcom im gloucesterroad uup later yesher tv alway avail work place yes place town meet excit adult singl uk txt chat pmsg lol ouch wish stay bit longer god ask forgiv littl child gave love repli wonder fruit tree give hurt stone good night join ltgt bus ask keep one mayb not get messag sent glo free st week nokia tone ur mob everi week txt nokia get txting tell ur mate wwwgetzedcouk pobox wwq normpton ki send ltgt min would smoke help us work difficult time someon u know ask date servic contact cant guess call reveal pobox sxi p yesmum lookin strong sir goodmorn free call call gr see messag r u leav congrat dear school wat r ur plan love girl offic may wonder smile sore hi wlcome back wonder got eaten lion someth noth much uncl timi help clear car came hostel go sleep plz call class hrishi ok bag hi spoke maneesha v like know satisfi experi repli toll free yes ok lor msg b u call mila age blond new uk look sex uk guy u like fun text mtalk pptxt st free increment help fishrman woke earli mrng dark wait amp found sack ful stone strtd throwin thm sea pass time atlast jus stone sun rose amp found tht r nt stone diamond moraldont wake earli mrng good night claim shop spree call mobstorequizppm ur physic get dear friend sorri late inform today birthday love arpraveesh detail log face book see number ltgt dont miss delici treat r ü go send onlin transact dear got train seat mine lower seat let know need anyth els salad desert someth mani beer shall get wat r u whore unbeliev want funk ur fone week new tone repli tonesu text wwwringtonescouk origin n best tone gbp network oper rate appli sure not mean get made hold weed love know feel make belli warm wish love shall meet dream ahmad ador kiss twink bear scalli skin jock call not miss weekend fun call pmin stop text call nat rate love want flood pretti pussi cum hey angri repli dr short cute good person dont tri prove gud noon also rememb bead not come ever thread wishlist section forum ppl post nitro request start last page collect bottom first time histori need comfort luxuri sold price india onionr ltgt petrolr ltgt beerr ltgt shesil ltgt feb ltgt love u day send dis ur valu frnds evn come back ull gt marri person u luv u ignor dis u lose ur luv evr actual nvm got hella cash still ltgt ish tri contact repli offer video handset anytim network min unlimit text camcord repli call ok least armand still around da happi sit togeth na yup song bro creativ neva test qualiti said check review onlin dude not fakemi frnds got money thts reffer uif u member wit mail link u vl credit ltgt rs il geti ltgt rsi draw acc wen ltgt rs dude makin weirdi browni sister made awesom cooki took pic urgent tri contact last weekend draw show prize guarante call claim code k valid hour pls dont restrict eat anythin like next two day mm ask come enough funer home audrey dad aight text address excel wish togeth right yep fine ice age pls wont beliv godnot jesus dunno wat get not yet chikkuk wat abt tht guy stop irrit msging u long take get number vivek xmas iscom ur award either cd gift voucher free entri r week draw txt music tnc sorri brah finish last exam got arrest possess shit not lttimegt pm right though can not give space want need realli start becom issu go suggest set definit move outif still greec mayb readi normal pleas protect ethreat sib never ask sensit inform like passwordsatmsm pin thru email never share password anybodi miss much despar record messag left day listen hear sound voic love hi alway onlin yahoo would like chat someday goodmorningmi grandfath expiredso leav today congratul u claim vip row ticket c blu concert novemb blu gift guarante call claim tscs wwwsmsconet cost max yuou work get pc mom find spot would work need sure see come bit agre stop thinkin ipad pleas ask macho question let us pool money togeth buy bunch lotto ticket win get ltgt u get ltgt deal ok askd u question hour answer watch tv lor nice one like lor think chennai forgot come auction ü come n pick ar earli bird purchas yet went pay rent go bank authoris payment erm ill pick pm thatll give enough time get park hey mate how u honeydid u ave good holiday gimmi de gossx howz painit come todaydo said ystrdayic medicin chile pleas ltdecimalgt hour drive come time sublet febapril audit season yes ammaelif take lot turn sit tri hold steer yeah thought lem me know anyth goin later mmmm cant wait lick pls go today ltgt dont want excus fantasi footbal back tv go sky gamestar sky activ play k dream team score start saturday regist nowski opt plz tell an bslvyl sent via fullonsmscom u town alon look forward sex cuddl two sleep rounderso not requir truekdo u knw dis ltgt dont worri day big lambu ji vl cometil enjoy batchlor parti oh ya got hip hop open haha think go jazz zoom cine actual tonight free leh kb lesson tonight free msg singl find partner area real peopl wait chat nowsend chat cncl send stopc per msg ok part tomorrow found diff farm shop buy chees way back call r u still work win newest harri potter order phoenix book repli harri answer question chanc first among reader yep like pink furnitur tho free msg ringtonefrom httptms widelivecomindex wmlidbaeceffffirsttruejul custom place wil cal u sir oh god found number glad text back xafter msgs cst std ntwk chg pure heart person wonder smile make even hisher enemi feel guilti enemi catch world smile goodmorn amp smiley sunday that alrit girl u know gail neva wrongtak care sweet don t worryc u ltr hunlov yaxxx theoret yeah could abl come alright hook guy not know peopl still town let math not good oh ok wait lect havent finish yeah usual guy town therer definit peopl around know join today formallypl keep prayingwil talk later happi sad one thing past good morn multimedia messag email oki scare u say fat u dun wan alreadi u get messag sorri sir call tomorrow senthilhsbc need person give na left vagu said would inform person account delay rent discuss hous agenc rent anoth place check onlin place around usc ltgt hi juan im come home fri hey cours expect welcom parti lot present ill phone u get back load love nicki x x x x x x x x x plz tell an bslvyl sent via fullonsmscom short cute good person dont tri prove gud noon gumbi special ltgt chees pizza know doin tonight link pictur sent also use httpaltocoukwavewaveaspo like person size great aunt anniversari parti tarpon spring cab availablethey pick drop door step oktak careumma unlimit text limit minut doubl min txts orang tariff latest motorola sonyericsson nokia bluetooth free call mobileupd calloptouthf problem spend lot qualiti time togeth urgent nd attempt contact u prize yesterday still await collect claim call aclpm heard week dear dave final notic collect tenerif holiday cash award call landlin tcs sae box cwwx ppm yes last practic tell u call claim prize u enter ur mobil person detail prompt care thank wonder otherwis part time job natuit ü mean confirm tot juz say oni ok oki depend would like treat right brah see later wait e car mum lor u leh reach home alreadi account xxxxxxxxx show unredeem point claim call identifi code xxxxx expir want new video handset anytim network min half price line rental camcord repli call deliveri tomorrow went fast asleep deartak care mean fat head sound like plan cardiff still still cold sit radiat serious like proper tongu shes good wonder wont say hi shes smile cope long distanc noe da car later c lar wear short import custom servic announc call freephon yeah whatev lol today accept dayu accept brother sister lover dear best clos lvblefrnd jstfrnd cutefrnd lifpartnr belovd swtheart bstfrnd rpli mean enemi ard lor ok messag ü lor ok c u eh ur laptop got stock lei say mon muz come take look c got not need ke qi ü bore izzit sudden thk wish not think gon na snow much flurri usual get melt hit ground eek not snow sinc ltgt even born freerington repli real poli eg real pushbutton dontcha babygoodby golddigg webeburnin st tone free u join wk thing chang sentenc want concentr educ career im leav oh realli perform write paper go movi home midnight huh okay lor still let us go not ah coz not know later drop card box right izzit still rain not enough troubl sleep havent add ü yet right lol realli need rememb eat drink appreci keep compani night babe smile babe lost tri reboot yes nigh cant aha thk ü got ta go home urself cos b go shop fren present nooooooo gon na bore death day cabl internet outag sos amount get pls playin space poker u come guoyang go n tell u told need get r give second chanc rahul dengra yeah fact ask need anyth like hour ago much first strike red one bird antelop begin toplay fieldof selfindepend believ flower content growrandom ü wan go c doctor daddi bb free msg get gnarl barkley crazi rington total free repli go messag right borderlin yeah whatev got call landlin number ask come anna nagar go afternoon lor ya go dinner togeth gentl princess make sweet gentl love u doin babi girl hope u okay everi time call ure phone miss u get touch sorri went bed earli nightnight like think alway possibl pub later hmm yeah not groov im look forward pound special got video tape pple type messag lor u free wan help hee cos noe u wan watch infern affair ask u along ask shuhui oso hi dude hw r u da reali mise u today hungri buy food good lei mum n yun dun wan juz buy littl bit refus loan secur unsecur can not get credit call free text back help probabl not eat today think gon na pop weekend u miss knew u slept v late yest wake late haha dont angri take practic real thing one day train could kiss feel next nice day dear sent lanr fakey eckankar detail mail box dad back ph special select receiv award call line close cost ppm tcs appli ag promo ask say pleas messag e time go w u lor love aathilov u lot callin say hi take care bruv valu vodafon custom comput pick win prize collect easi call u turn heater heater set ltgt degre thank messag realli appreci sacrific not sure process direct pay find way back test tomorrow class wonder day troubl class go well due dodgey one expect mine tomo see recoveri time place free video camera phone half price line rental mths cross ntwk min txts call mobileupd calloptout wot u j night night see tomorrow roger we re probabl go rem u think girl propos u today se ur bloodi funki shit fuck faceasssssholeee wish u feel alon great new offer doubl min doubl txt best orang tariff get latest camera phone free call mobileupd free stoptxt tcs reason team budget avail last buy unsold player base rate ceri u rebel sweet dreamz littl buddi c ya moro need bloke ringtonek huh cant thk oredi mani page fren go lor not alon wif mum n sis lor nationwid auto centr someth like newport road like hey miss tm last night phone charg smile meet friend short whatev juliana whatev want friendship not game play not word say doesnt start march end may tomorrow yesterday today e rington club gr new poli direct mobil everi week hello sort town alreadi dont rush home eat nacho let know eta ok lor anyway thk cant get ticket cos like quit late alreadi u wan go look ur fren not darren wif bank granit issu strongbuy explos pick member nasdaq symbol cdgt per way ur home dizzamn aight ask suitem get back nimbomson yep phone know one obvious cos that real word love cuddl want hold strong arm right r u contin pay like ltgt yrs not difficult bore housew chat n date btnation rate pmin landlin tri call repli sms video mobil min unlimit text free camcord repli call del thur kkwhen give treat nd time tri contact u u prize claim easi call p per minut btnationalr gon na worri noth not give money use get gift year didnt get anyth bad somewher beneath pale moon light someon think u dream come true goodnit amp sweet dream well pattern emerg friend tell drive come smoke tell weed fiendmak smoke muchimped thing see hesit ow u deyi paid thousadi told u would call im fine babe aint much tho saw scari movi yest quit funni want mrw afternoon town mall sumthinxx reach home min forgot work today wan na chat thing ok drop text free bore etc ring hope well nose essay xx ha must walk everywher can not take tram cousin said walk vic market hotel wan win meetgreet westlif u current tour unbreak untam unkempt text cost p std text pleas call custom servic repres freephon ampm guarante cash prize discuss mother ah ok sorri can not text amp drive coher see twenti receiv week tripl echo rington short enjoy place get room cheap eek lot time especi sinc american pie like minut long can not stop sing gran onlyfound afew day agocusoon honi uve select stay top british hotel noth holiday valu dial claim nation rate call bx swss univers southern california pick rayan macleran u gd lor go shop got stuff u wan watch infern affair not come lar well ball time make call wat time ü wan today ltgt mca not conform oh ok wat ur email yes princess go make moan lol ok not rememb til last nite anyway mani good even u cool text sorri vikki watch olav mandara movi kano trishul theatr wit frnds happi babe woo hoo parti dude take italian food pretti dress panti wot u thout u gon na call txt bak luv k chosen receiv award pls call claim number collect award select receiv valu mobil custom hold dont flatter tell man mine two pint carlin ten minut pleas hope not scare cant pick phone right pls send messag home n readi pleas call custom servic repres freephon ampm guarante cash prize time u get liter bed like ltgt hour yes reg ciao mean websit yes win cash prize prize worth thank rington order refer number xyour mobil charg tone not arriv pleas call custom servic lol could starv lose pound end day yeah impress got ok ok take care understand motiv behind everi dark shine light wait find behind everi best friend alway trust love bslvyl ya ok dinner slept timeyou dont make ne plan nxt wknd coz want us come ok school start stay weather like food social support system like friend school thing import ha ha nan yalrigu heltiniiyo kothi chikku u share mani thing wit meso far not told bodi even utter word abt u ur trust much tell other plz nxt time dont use word meok chikkub noic text hi di yiju meet pm esaplanad tonight mobi pub quizwin high street prize u know new duchess cornwal txt first name unsub stop sp week savamob member offer access call detail savamob pobox la wu week savamob offer mobil aight set free think could text blake address occur not quit sure thought hi dear saw dear happi batteri low age abj prof pass paper sem congrat student enna kalaachutaarama prof gud mrng dont kick coco fyi gon na call sporad start like ltgt bc not not doin shit contact date servic someon know find call mobil landlin poboxldn tbspersolvo chase us sinc sept for definit not pay thank inform ignor kath manchest hope you r not much fun without see u tomorrow love jess x ok wont call disturb one know avoid burden reach home n bath liao u call loan purpos even bad credit tenant welcom call noworriesloanscom actual exam harder nbme lot sick thing go round take easi hope u feel better soon lol god pick flower dippeditinadew love touch itwhichturnedinto u gift tomeandsaidthi friend u kick new season wks free goal news ur mobil txt ur club name eg villa hey sathya till dint meet not even singl time saw situat sathya gam gone outstand inning play smash bros ltgt religi sir good morn hope good weekend call let know abl rais ltgt dad howev said would make rest avail mid feb amount still quit short hope would help good day abiola hurri home soup done check room befor activ good afternoon love good see word ym get tm smart move slave smile drink coffe await quit ok bit ex u better go eat smth els feel guilti orang bring rington time chart hero free hit week go rington pic wap stop receiv tip repli stop lem me know privat account statement show unredeem point call identifi code expir need stop go bed make fuck deal love brother time talk english grin say hey muhommad penni say hello across sea tri call repli sms video mobil min unlimit text free camcord repli call hey doc pls want get nice shirt hubbi nice fite one budget ltgt k help pls load card abi hwkeep post luv mj remain unconvinc not elabor test willpow life noth wen v get everyth life everyth wen v miss someth real valu peopl wil realiz absenc gud mrng miss not answerin phone actual pretti reason hour sleepi hey rite u put evey mnth go bed prin think thank see tomo u dun drive go sch not home lei gsoh good spam ladiesu could b male gigolo join uk fastest grow men club repli oncal mjzgroup stop repli stop msg rcvd ok come ur home half hour u secret admir look make contact ufind rreveal think ur specialcal u hav frnd name ashwini ur colleg jus finish lunch way home lor tot u dun wan stay sch today k marrow come class hot live fantasi call p per min ntt ltd po box croydon cr wb nation rate call pls send address sir want lick pussi yo gon na still stock tomorrowtoday tri get dubsack urgent mobil number award ukp prize guarante call landlin claim valid hrs ppm see prolli yeah thought could go dinner treat seem ok stand away not heart ach without not wonder not crave sorri never hear unless book one kinda jokethet realli look skinni white girl one lineyou much camera someth like cast look doinghow sure thing big man hockey elect shouldn t go longer hour though watch lor saw swatch one thk quit ok ard need nd opinion leh hiya u like hlday pic look horribl took mo how camp amrca thing speak soon serena babe goe day miss alreadi love love kiss hope everyth goe well yunni goin late doc prescrib morphin caus pain med not enough wait mom bring med kick fast gon na tri later cool want go kappa meet outsid mu hey sexi bun told ador loverboy hope rememb thank sister law meatbal grin love babe may b approv panalambut post spjanuari male sale hot gay chat cheaper call nation rate pmin cheap pmin peak stop text call pmin sorri call later dont thnk wrong call us not workin get job done mean ur luck love someon ur fortun love one love u miracl love person can not love anyon except u gud nyt hi babi ive got back work want see u allday hope didnt piss u phone today u give call xxx freemsg today day readi horni live town love sex fun game netcollex ltd p per msg repli stop end yahoo boy bring perf legal need say anyth know outsid ever one foot got ltgt good don t need receipts wel done yes pleas tell what s number could ring ever green quot ever told jerri cartoon person irrit u alway one love u vri much fail express gud nyt leav wif lar ü wan carri meh heavi da num familiar ü beauti truth express face could seen everyon depress heart could understood love one gud ni infact happi new year see simpson movi releas juli name band die start film agreen day bblue day cred day send b c shame mayb cld meet hrs tomo lol would despit cramp like girl can t wait cornwal hope tonight isn t bad well it rock night shite anyway i m go kip good night speak soon pls help tell sura expect batteri hont pls send messag download movi thank pleas call amanda regard renew upgrad current tmobil handset free charg offer end today tel subject ts cs not found way get anoth app phone eh go net cafe take job geeee need babe crave see work mon thur sat cant leh book liao day u free ü comin fetch us oredi nanni address urgent costa del sol holiday await collect call toclaim sae tc pobox stockport skxh cost pm maxmin haf u eaten wat time u wan come want new video phone anytim network min half price line rental free text month repli call free deliveri yo call get chanc friend mine want ask big order singl singl answer fight plus said broke didnt repli certain put thing perspect someth like happen got tv watch meh u work today felt sonot convey reason ese mobil month u r entitl updat latest colour mobil camera free call mobil updat co free go got excit karaok type activ plan debat whether play footbal eve feel lazi though told come wednesday ok call mom instead fun dear voucher holder claim week offer pc pleas go httpwwwwtlpcouktext tscs appli well desper call armand work right congrat nokia video camera phone call call cost ppm ave call min vari mobil close post bcm ldn wcnxx not heard anyth not answer text guess flake said jb fantast mmmmmm love youso much ahmad can not wait year begin everi second take closer side happi new year love pls full name joke school cos fee univers florida seem actual ltgt k pls holla back sorri call later ok said got wisdom teeth hidden insid n mayb need remov pls pls drink plenti plenti water queen go royal wed lag sad part keep touch thank skype ok lor go tog lor two team wait player ü send copi da report swhrt u deyhop ur ok tot u daylov n misstak care ok da alreadi plan wil pick urgent pleas call abta complimentari spanish holiday cash await collect sae tcs box po ez ppm sorri call later meet realli need shit tomorrow know not awak like good regist vote hmm ok stay like hour cos eye realli sore dear got bus direct calicut mm umma ask vava also come tell play later togeth well general price ltgt oz let know ifwhenhow much want sorri call later moment dayha valuemorn bring hopeafternoon bring faitheven bring luvnight bring restwish u find todaygood morn ltgt w jetton ave forgot ok come home not use foreign stamp countri doubl min txts month free bluetooth orang avail soni nokia motorola phone call mobileupd calloptoutndx sorri lot friendofafriend stuff talk actual guy want buy free st week nokia tone ur mob everi week txt nokia get txting tell ur mate wwwgetzedcouk pobox wwq normpton want funk ur fone week new tone repli tonesu text wwwringtonescouk origin n best tone gbp network oper rate appli cmon babe make horni turn txt fantasi babe im hot sticki need repli cost cancel send stop come tomorrow di wyli updat weed dealer carlo went freedom class lunsford happi babi alright take job hope fine send kiss make smile across sea kiss kiss c movi juz last minut decis mah juz watch lar tot ü not interest enjoy semest take care brother import inform orang user xxxxxx today ur lucki day find log onto httpwwwurawinnercom fantast prizeawait get door let use next week princess go home first lar ü wait lor put stuff first want kfc tuesday buy meal gravi mark dahe stupid daalway send like thisdon believ messagepandi mental oi gon na ring miss call alert number call left messag attend noth ard like dat lor juz meet mrt station ü dun haf come dear sleep p er mw im fill tuth aight offic around pm go hospit actual wait week start put ad anyth lor go go lor u free sat rite u wan watch infern affair wif n darren n mayb xy plz note anyon call mobil co amp ask u type ltgt ltgt not disconnect callcoz iz attempt terrorist make use sim card itz confirmd nokia n motorola n verifi cnn ibn yo around friend mine lookin pick later tonight stupid auto correct phone doubl evict week spiral michael good riddanc world suffer lot not violenc bad peopl silenc good peopl gud night ok that cool either raglan rd edward rd behind cricket ground gim me ring ur closebi see tuesday buy one egg dapleas start skye bookedth hut also time way sever sir u realli pig leh sleep much dad wake smth eat lunch today home pleas call love hope not anyth drastic not dare sell pc phone reach home tire come tomorro freemsg record indic may entitl pound accid claim free repli yes msg opt text stop u win music gift voucher everi week start txt word draw tscs wwwidewcom skillgam winaweek age ppermesssubscript life style garment account pleas lol wtf random btw lunch break sez how u de arab boy hope u r good give love evri love ya eshxxxxxxxxxxx lay man let know miss thought great day send bimbo ugo number ill appreci safe detroit home snow enjoy show ur colour euro offer get england flag lion tone ur phone click follow servic messag info oki aight chillin friend room text way toshiba porteg gd well welp sort semiobscur internet thing text pass collect polyphon rington normal gprs charg appli enjoy tone accord repeat text word ok mobil phone send loosu go hospit de dont let careless much eighth omg joanna freak look thru friend find photo ask stuff myspac not even log like year send ur birthdat month year tel u ur life partner name method calcul repli must juz havent woke bit blur blur dad went liao cant cum oso cloth jewelri trip block breaker come delux format new featur great graphic tmobil buy repli get bbdelux take challeng aah cuddl would lush need lot tea soup kind fumbl import inform orang user today lucki dayfind log onto httpwwwurawinnercom fantast surpris await late sad stori man last week bday wife didnt wish parent forgot n kid went work even colleagu not wish plan famili set stone pls dont forget studi never believ actual got taunton wow den weekday got special price haiz cant eat liao cut nail oso muz wait finish drivin wat lunch still muz eat wat broke list reason nobodi town can not tell sarcast faggi ltdecimalgt not common car better buy china asia find less expens ill holla greatest test courag earth bear defeat without lose heartgn tc sorri im stil fuck last nite went tobe got work hey what plan sat beauti sleep help ur pimpl great hope use connect mode men also cos never know old friend lead today natalja f invit friend repli yes see wwwsmsacunat stop send stop frnd get kind miss train cos asthma attack nxt one half hr drive not sure park ball move lotwil spin last difficult bat haiyoh mayb hamster jealous million pleas send aunti number glad follow dream reach home final urgent import inform user today lucki day find log onto httpwwwurawinnercom fantast surpris await winner valu network custom select receivea prize reward claim call claim code kl valid hour wn u r hurt prsn close u fight wit dem coz somtim dis fight save relat bt quiet leav nothin relat gud eveb u call scienc tell chocol melt sunlight pleas not walk sunlight bcozi not want loss sweet friend yes come nyc audiit tri reloc pock congrat great want tell not tell score cos might make relax motiv thank share wud never mind u dont miss u dont need u wil realli hurt wen u need amp u dont tell take care hey mr what name bill brison book one languag word okay good problem thanx inform ikea spell cap not yell thought left sit bed among mess came said go got home class pleas not tri bullshit make want listen less call ure done gwr best watch say caus get drunk motherfuck kit strip bill p netcollex ltd po box ig oja hmv bonus special pound genuin hmv voucher answer easi question play send hmv infowwwpercentrealcom pleas call immedi urgent messag wait thesmszonecom let send free anonym mask messagesim send messag theredo see potenti abus well done costa del sol holiday await collect call toclaim sae tcs pobox stockport skxh cost pm maxmin hurt teas make cri end life die plz keep one rose grave say stupid miss u nice day bslvyl erm woodland avenu somewher get parish magazin telephon number ta job avail let know pleas cos realli need start work aiyar hard type u later free tell call n scold n tell u yup free good good billi mate gone jog enjoy concert yo come carlo soon awww dat sweet think someth nice time tonight ill probabl txt u later cos im lone xxx guess useless call u someth import ha ha pop loo hello hello dint tell anyth angri told abi someon u know ask date servic contact cant guess call reveal po box wu happen r waxsto wat want come ill get medic insur abl deliv basic care current shop right medic insur give til friday morn that ill see major person guid right insur keep ten rs shelf buy two egg not well babe swollen gland throat end ur chang da report big cos alreadi made chang da previous report captain room can not speak bcaz mobil problem listen cannt listen voic call later hiya stu wot u im much trubl home moment evon hate even u wot hell av done wont u tell text bck pleas luv dan si take mokka player still play gautham hey mr go sea view coupl gay mean game give bell ya finish k jason say gon na around around ltgt sorri abl get see morn aight well keep inform not number sir search good dual sim mobil pa seem unnecessarili hostil dude got haircut breezi congrat mobil g videophon r call videochat wid ur mate play java game dload polyh music nolin rentl bx ip pm appledayno doctor tulsi leafdayno cancer lemondayno fat cup milkdayno bone problm litr watrdayno diseas snd ths u care thought king hill thing nope come onlin also tell said happi birthday bishan lei tot ü say lavend boo time u get u suppos take shop today u sound like manki scous boy stevelik travel da bus homewot u inmind recreat dis eve fyi take quick shower epsilon like ltgt min tuesday night r u real yes appt got outta class gon na go gym want sent ltgt mesag today that sorri hurt ü write wat ha would not say not read anyth way u seem not like judgementali save friday pub valentin game send dis msg ur friend answer r someon realli love u que colour suit best hidid ask waheeda fathima leav enjoy urself tmr still around could use halfth u secret admir look make contact ufind rreveal think ur specialcal give us back id proof ltgt rs wont allow work come home within day ü bot note oredi cos juz rem got yes rent expens way save night end anoth day morn come special way may smile like sunni ray leav worri blue blue bay gud mrng how pain deari r u smile fun fact although would think armand would eventu build toler shit consid much smoke get fuck like hit import inform orang user xxxxxxx today lucki dayfind log onto httpwwwurawinnercom fantast surpris await sorri can not help great send account number hellogorg how u fone charg lst nitw wen u texd hopeu ad nice wkend im sure u lookin ward cin u mrw luv jaz date servic ask contact u someon shi call reveal pobox uz p ü send content page night sweet sleep well see exorc emili rose may never sleep hug snog not think u got think use got good ni can not right second got ta hit peopl first evri emot dsnt hav wordsevri wish dsnt hav prayr u smile world wit uothrwis even drop tear dsnt lik stay wit uso b happi good morn keep smile rememb ujhhhhhhh comput ship address sandiago parantella lane wtf poop mm yes dear look hug p like dis sweater fr mango size alreadi irrit not number gon na massiv pain ass rather not get involv possibl anytim lor want new video handset time network min unlimit text camcord repli call del sat puriti friendship two not smile read forward messageit smile see name gud evng ur balanc next question complet landmark big bob b barri c ben text b c good luck fineabsolut fine k sure not consent form v ur tonex subscript renew charg choos poli month wwwclubzedcouk bill msg dont prize go anoth custom tc wwwtcbiz pmin polo ltd suit london wj hl pleas call back busi much torch ja noth u not dinner w us check done internet connect v slow can t send tri later first thing tomo mathew tait edward anderson yeah sure thing mate haunt got stuff sort im go sound anyway promot hex way dont know number joke need lar go engin cos sis art today thank honey still not heard anyth leav bit longer not crowd tri later great advic thank hope cardiff still want new nokia colour phone deliv tomorrow free minut mobil free text free camcord repli call im snowboard trip wonder plan get everyon togeth befor goa meet greet kind affair cheer sim watch live see christmassi k readi ltgt know god creat gap finger one made come amp fill gap hold hand love greatest test courag earth bear defeat without lose heartgn tc new year plan recpt order rington order process baaaaaaaab wake miss crave need got messag not ignor yes shop dear mood cant drive brother drive dad get back tell shola pleas go colleg medicin visit academ depart tell academ secretari current situat ask transfer ask someon check sagamu thing lautech vital complet medic educ nigeria less expens much less expens unless get citizen rate new zealand yes finish watch day live love juz go googl n search qet mani time lose best one bcoz good friend care close friend understand true friend stay forev beyond word beyond time gud ni get back home sorri call later ltgt min dun need use dial juz open da browser n surf one regist subscrib u enter draw gb gift voucher repli enter unsubscrib text stop awesom plan get time like ltgt text detail wee bit take care sleep wellyou need learn chang lifeyou need get convinc thati wait convers usget convinc timeyour famili mani sensesrespect not overemphasiseor u role life chanc win free bluetooth headset simpli repli back adp also didnt get na hi hi hi hi hi ya cant display intern sub got ta extract said anyth wrong sorri de sad stori man last week bday wife didnt wish parent forgot n kid went work even colleagu not wish stupid say challeng godyou dont think write instead respond im yeah abl text readi meet v skint fanci bevieswaz gona go meet othr spoon jst bin watchng planet earthsofa v comfey dont make hav gd night say quit leasttim day wudnt take much notic nah not mind gon na see want come taunton tonight u tell get free call littl darl far week need coffe run tomoc believ time week alreadi ok msg u b leav hous still west coast haiz üll take forev come back mmm fuck merri christma alright thank advic enjoy night ima tri get sleep updat face book status frequent saw messageit k da someth u ate bank say money aiyar dun disturb u liao thk u lot aft ur cupboard come hey r not watch movi tonight prob b home earli yar lor u noe u use dat rout mro not come gym machan goodnight dont think need yellow card uk travel ask someon gone ltgt buck u look da lib got stuff havent finish yet sound great im go sleep good night not b floppi b snappi happi gay chat servic photo upload call pmin stop text call housemaid murder coz man murder ltgt th januari public holiday govtinstituit closedinclud post officeunderstand come u got noth noth ever easi not look reason not take risk life love want grasp pretti booti got tea not sure flavour go orchard lareadi reach soon u reach dear not deni word pleas know old dom told yesterday name roger got touch last night want meet today pm come back tampa ffffuuuuuuu celebr b day els merri christma u anni pleas tell special stock talk sent like urgent ur award complimentari trip eurodisinc trav acoentri claim txt dis morefrmmob shracomorsglsuplt ls aj awesom minut problem walk around julianaland oblivi go around say thing constant go one ear go whatev want not not know upsetit not listen tell go upset want surpris mad told everyth stop dont let get dehydr guess ltgt min home ard wat time u reach storm msg wen u lift phne u say hello u knw wt real mean hello name girl yes u knw dat girl margaret hello girlfrnd f grahmbel invnt telphon moralon get name person bt not girlfrnd g n g h want mapquest someth look usf dogwood drive tini street park lot aight plan come later tonight die accident delet e msg suppos put e sim archiv haiz sad welcom ukmobiled msg free give free call futur mgs bill p daili cancel send go stop wish great day moji told offer alway speechless offer easili go great length behalf stun exam next friday keep touch sorri thank repli today ur visa come r u still buy gucci bag sister thing not easi uncl john also bill realli need think make money later sha sorri flake last night shit serious goin roommat tonight said look pretti wif long hair wat thk cut quit short leh ranjith cal drpd deeraj deepak min hold cheer callin babesozi culdnt talkbut wannatel u detail later wenwecan chat proper x hey u still gym said u mind go bedroom minut ok sed sexi mood came minut latr wid caken wife much better thank lol noth smsing u n xy lor sorri lor da guy neva c u person sort know u lor u wan meet xy ask bring u along next meet lem me know swing pick free basic time semest wa u effici gee thanx receiv mobil content enjoy not abl sleep want explicit sex sec ring cost pmin meet soon princess ttyl pick pm go taunton still want come oh outsid player allow play know anyth lor erutupalam thandiyachu cant u tri new invent flyim not joke noit ful song lyric u reckon need arrang transport u can not thank true lov n care wil nevr go unrecogn though somon often make mistak valu definit undrstnd start miss shop eh ger toke abt syd lehhaha not stand good weekend miss call miss call khelat kintu opponent miss call dhort lage that rule one great phone receiv qualiti win call get chanc plz lt new deus ex game comin earli next yr comput fri essenti part not keep spare fuck idiot roommat looovvv leav thing run full ltgt friend studi warwick plan go shop concert tmw may cancel havnt seen age yeah get togeth sometim probabl coupl hour top lol grin not babe thank think man bus slow think gon na get hope text meet smile not let text give reason smile beauti day case wake wonder forgot take care someth grandma today done parad ok latest nokia mobil ipod mp player proze guarante repli win norcorp ltd mtmsgrcvd sms servic inclus text credit pls goto wwwcomuknet login qxj unsubscrib stop extra charg help comuk cm ae nvm take ur time wat da decis wot u bitch stupidit not possibl told hr want post chennaibecaus work mobil club choos top qualiti item mobil cfcaa guy leav neva grumbl sad lor hee buy tmr lor aft lunch still meetin lunch tmr not neva hear fr lei ü got lot work ar not abl anyth ü takin linear algebra today weekend fine excus not much decor sorri miss babe late slept hope enjoy drive lesson boytoy miss teas kiss project pa come money wine number wot next sure whenev show fuck gt random saw old roomat campus graduat congrat mobil g videophon r call videochat wid ur mate play java game dload polyh music nolin rentl bx ip pm men alway need beauti intellig care love adjust cooper wife law allow one wife suck got plan yo valentin yo valentin not got part nottingham hrs mile good thing love man much mph hey ho think one say clear ok leav need ask go come not hi good mornin thanku wish u u want meet morro actual decid hungri not left yet v sent ü part cos shop wif darren jus n call ask wat present wan lor start guess wif n final guess darren lor want cock hubbi away need real man satisfi txt wife string action txt stop end txt rec ea otbox la ws understand loss gain work school u miss u havent much bit bore holiday want go bak colleg sad isnt itxx hiya probabl come home weekend next not forget though love walk besid watch keep heart warm wish thing differ wonder abl show much valu pls continu brisk walk drug without askin pleas find thing laugh love dear ok day make dinner tonit invit gr new servic live sex video chat mob see sexiest dirtiest girl live ur phone detail text horni cancel send stop money steve mate im late tellmiss im way never blame day ur life good day give u happi bad day give u experi essenti life god bless good morn normal use drink water daili dare ask luck sort car parti place usf charg contribut way great appreci yeah got room one urgh coach hot smell chip fat thank especi duvet not predict text word hiya last night naughti bought cloth littl readi shop tho kind time wan na meet freemsg hi babi wow got new cam mobi wan na c hot pic fanci chatim win utxt rpli chat hlp msgp rcv tri reach without success derek done class never lei v lazi got wat dat day ü send da url cant work one never tri alon take weight tear come ur heart fall ur eye alway rememb stupid friend share bslvyl hey mate spoke mag peopl we re deliv end month deliv th sept talk later hope good week check haha friend tyler liter ask could get dubsack hey u fanci meetin cha hav lil beverag not txt ring meet lr quit tire got vpist love pete x x x great safe trip dont panic surrend symptom u love u like listen song u get stop u see name belov u not get angri sun ah thk mayb dun anythin thk book e lesson e pilat orchard mrt u noe hor tri someth dear read someth exam wonder world th th ur style th ur smile th ur person rd ur natur nd ur sms st ur love friendship good morn dear gettin rdi ship comp hospit da return home even piss talk someon realis u point itnow read backward think da wil awak oh good afternoon boytoy goe walk day get polic abstract still wake miss babe much u tri get come around ltdecimalgt pm vikkyim otsid nw il come tht time tell address honeybe said im sweetest world god laugh amp said waitu havnt met person read msg moral even god crack joke gmgngegn buy blackberri bold torch buy new use let know plus say buy ltgt g wifi ipad say ltgt g togeth thinkin hiya how go sunni africa hope u r avin good time give big old silver back big kiss time come tomorrow wan na laugh tri chitchat mobil logon txting word chat send cm po box london wa zf pmsg rcvd cha quiteamuz that scool babeprobpop cu satthen hunni brekki love jen xxx psxtra lrg portion pleas omg u know ate urgent nd attempt contact uu call b tcsbcmwcnxxcallcostppmmobilesvari max not not direct behind abt row behind ü congratul ur award cd voucher gift guarante free entri wkli draw txt music contract mobil mnths latest motorola nokia etc free doubl min text orang tariff text yes callback remov record urgent call landlin complimentari ibiza holiday cash await collect sae tcs po box sk wp ppm plan yet hi engag fixd ltgt th next month know realli shock bthmm njan vilikkamt ws al sudn not cours math one day one chapter one month finish wow not think common take back ur not freak unless u chop ur chanc win wkli shop spree txt shop tscs wwwtxtshopcom custcar xpwk noooooooo pleas last thing need stress life fair u secret admir look make contact ufind rreveal think ur specialcal stopsmsppm mila age blond new uk look sex uk guy u like fun text mtalk pptxt st free increment help see swing bit got thing take care firsg want wish happi new year want talk legal advic gari split person make trip ptbo hope everyth good babe love ya not finish work yet someth tomorrow not go theatr come wherev u call tell come tomorrow well done england get offici poli rington colour flag yer mobil text tone flag optout txt eng stop box wwx right wasnt phone someon number like ok wun b angri msg u aft come home tonight good time nice someth bit differ weekend chang see ya soon yo sorri shower sup carlo pick swing usf littl bit full heat pa appli oil pa stuck da middl da row da right hand side da lt laid airtel line rest hi u decid wot get bday not ill prob jus get voucher frm virgin sumf freemsg txt call claim reward hour talk time use phone subscribegbpmnth inc hrs stoptxtstop hey j r u feel better hopeso hunni amnow feelin ill ithink may tonsolitusaswel damn iam layin bedreal bore lotsof luv xxxx not plan stay night prolli not back til late thanx puttin da fone need th campus atm could pick hour two oh haha den shld went today gee nvm la kaiez dun mind goin jazz oso scare hiphop open cant catch run manag minut need oxygen might resort roller option live next ltgt min de ask like glad talk wat time ü finish sorri da gone mad mani pend work much got clean how favourit person today r u workin hard could not sleep last nite near rang u sunshin quiz win super soni dvd record cannam capit australia text mquiz b ü call dad oredi good think could send pix would love see top bottom nvm go wear sport shoe anyway go late leh sorri call later meet long fuckin showr receiv understood n act upon final came fix ceil u need presnt alway bcz u cant mis love jeevithathil irulina neekunna prakasamanu sneham prakasam ennal prabha mns prabha islov got dont mis jus finish blow hair u finish dinner alreadi bus love lol knew saw dollar store pleas call custom servic repres ampm guarante cash prize today voda number end select receiv reward match pleas call quot claim code standard rate appli saturday sunday holiday difficult everybodi fun even miss got hella gas money want go grand natur adventur galileo littl bit meet call later oh wow that gay firmwar updat help not move morphin come din c ü yup cut hair k k pa lunch aha oh ho first time u use type word captain vijaykanth comedi captain tvhe drunken cours guess god got hold right hide anythi keep distanc havent rip get mobil content wwwclubmobycom call polytruepixringtonesgam six download sorri din lock keypad u got person stori plan come chennai tri contact repli offer video phone anytim network min half price line rental camcord repli call god creat gap btwn ur finger dat sum vri special fill gap hold ur hand plz dont ask creat much gap leg okay go sleep later pleas protect ethreat sib never ask sensit inform like passwordsatmsm pin thru email never share password anybodi final happen aftr decad beer cheaper petrol gover expect us drink not drive xmas reward wait comput random pick loyal mobil custom receiv reward call r e meet tmr lol yes add spice day hope great day prasanth ettan mother pass away last night pray famili k work someth privat account statement show unredeem point call identifi code expir messag great doctor india not drink appi fizz contain cancer caus age cant pick phone right pls send messag call tell infront call ok prob ladi first genus second k yes pleas swim mum not go robinson alreadi ok set let u noe e detail later nottel softwar name send print out da im reali soz imat mum nite moro born god said oh anoth idiot born god said oh competit knew one day two becom freind forev didnt get ur full msgsometext miss send probabl not almost gas get cash tomorrow custom servic announc recent tri make deliveri unabl pleas call reschedul ref forgot ask ü smth card da present lei ü want write smth sign leav hous hi babe chloe r u smash saturday night great weekend u miss sp visionsmscom text stop stop ptext ü readi call wewa iriv mb good thing get connect bw sri dajst nw came home cool night lem me know around stay town haha yeah oz kind shitload ok u take shop u get paid life mean lot not love life love peopl life world call friend call world ge alright bring see like ltgt min pls dont play other life eatin lunch hmmmbut give one day not tri g decid not head ok prob sur ill give come review march end readi call sure problem capit never complet far work ladi tessypl favor pls convey birthday wish nimyapl dnt forget today birthday shija pls give food prefer pap slowli load sugar take hour give water slowli urgent mobil award bonus caller prize nd attempt contact call boxqu guy get use dumb realiz okey dokey i ll bit sort stuff dawhat plan yes fine win winner mr foley ipod excit prize soon keep eye ur mobil visit wwwwincouk like new mobil anytim mmmmmmm snuggl deep content sigh whisper fuck love much bare stand yar say got error hey anyway wow healthi old airport rd lor cant thk anyth els b bath dog later wif famili book tour packag say bold torch later one torch bold haha awesom might need take doin tonight ya knw u vl givit ok thank kanoanyway enjoy wit ur famili wit st salari huh slow tot u reach long ago liao u day leh that cool princess cover face hot sticki cum big brother s realli scrape barrel shower social misfit oop thk dun haf enuff go check tell ü min go lunch hey happen u switch ur cell whole day isnt good u care give call tomorrow k addi amp art get home uncl atlanta wish guy great semest aiyo lesson earli still sleepin haha oki u go home liao den confirm w lor forgot tell ü smth ü like number section clearer yup anyth lor u dun wan ok home love still awak love kiss hello peach cake tast lush free game get rayman golf free game arcad st get ur game set repli post save activ press key arcad termsappli therel minor shindig place later tonight interest jason say cool pick place like hour mobil mths updat latest cameravideo phone free keep ur number get extra free minstext text yes call career tel ad u contact indyarockscom send free sms remov phonebook sms ltgt reach alreadi dont know ask brother noth problem thing told keng rock ash wat time r ü go xin hostel good morn dear shijutta great amp success day buy space invad chanc win orig arcad game consol press game arcad std wap charg see ocoukgam term set purchas oh kafter placement ah not possess especi not first offens nt drive even mani reason call bbdthts chikku hw abt dvg coldheard tht vinobanagar violenc hw conditionand hw ru problem bought test yesterday someth let know exact day u ovulatewhen get u wks pls pls dont fret know u r worri pls relax also anyth ur past histori u need tell pizza u want keep see weird shit bein woah realis actual reason oh mani happi return day wish happi birthday ya nice readi thursday hospit da return home even think u x camera award sipix digit camera call fromm landlin deliveri within day orh tot u say still dun believ put sign choos number pin show right beauti life next second hide thousand secret wish everi second wonder ur life gud n thanx u darlinim cool thanx bday drink nite morrow take care c u soonxxx still mayb leav credit card get gas get back like told week coolmob tone readi download week new tone includ crazi frogaxel f akonlon black eyeddont p info n well boy glad g wast night applebe noth cashbincouk get lot cash weekend wwwcashbincouk dear welcom weekend got biggest best ever cash give away ok lor u wan go look u u wan haf lunch da canteen not make life stressful alway find time laugh may not add year life sure add life ur year gud niswt dream hey look like wrong one kappa guy number still phone want text see around urgent mobil number award prize guarante call land line claim valid hrs ppm thank continu support question week enter u draw cash name new us presid txt an home doc gave pain med say everyth fine é ardé rest ard leastwhich é price é bedrm love night xxx prepar pleasur hitechn supportprovid assist us custom call email text way cup stop work bus when radio show uniqu user id remov send stop custom servic not sure still avail though watev relat u built dis world thing remain atlast iz lonlin lotz n lot memori feel cheer lou yeah goodnit shame u neva came c ya gailxx hii got money da hi mobil ltgt ad contact list wwwfullonsmscom great place send free sms peopl visit fullonsmscom ok u tell wat time u come later lor u repeat e instruct wat e road name ur hous mani peopl seem special first sight remain special till last sight maintain till life end shjas quit lor dun tell wait get complac sorri complet forgot pop em round week still u r beauti girl ive ever seen u r babi come c common room cant see join deni mina deni want alon time sen told go join uncl financ cbe yup hey one day fri ask miwa jiayin take leav go karaok call senthil hsbc especi sinc talk boston person statement lol woulda chang realiz said nyc say boston inde way either not urgent call landlin complimentari ibiza holiday cash await collect sae tcs po box sk wp ppm holi live christ take long ü thk wat eat tonight thanx yup come back sun finish dinner go back hotel time fli tog exact mth today hope haf mani mths come opposit side drop yup izzit still rain heavili cos e mrt can not c outsid send resum gd luck ur exam u ask next sat not make ok lor sorri uncl ill keep touch saw guy doll last night patrick swayz great urgent nd attempt contact u prize yesterday still await collect claim call santa call would littl one like call santa xmas eve call book time callsppm last min tc wwwsantacallingcom come home not want u miser dont know shes not get messag cool tyler take gon na buy drop place later tonight total order quarter got enough guy car shop flirt got phone number paperwork call text nervous cours may address call boss tell know may get fire revers cheat not mathemat plan manag er hello thing didn t quit go plan limp slowli home follow aa exhaust hang sorri delay yes master call u finish come n pick u privat account statement show unredeem bonus point claim call identifi code expir oga left phone home saw ur messag hope good great weekend not worri though understand import put place poor thought punish face worst thing ever happen brb gon na go kill honey pls find much sell predict nigeria mani time use import repli monday e admin build might b slight earlier call u reach fyi usf swing room whenev call ltgt min that ok ummmmmaah mani mani happi return day dear sweet heart happi birthday dear ü home work meh anyth valuabl situat first get second loos mark take forev pick prescript pain come back ur paper got smaller capac one quit ex check choos babe video smsshsexnetun fgkslpopw fgkslpo im good think u r winner u ave special select receiv cash holiday flight inc speak live oper claim pmin not thought bout drink tap spile seven pub gas st broad st canal ok go sleep tire travel haha thinkin yup not give problem mayb jus leav lol tri make day littl interest long get repli defer admiss til next semest word checkmat chess come persian phrase shah maat mean king dead goodmorn good day po de need job aha rat hey u ever vote next theme new mobil must go txt nokia collect today wwwtcbiz optout gbpmtmsg txtauction hope pee burn tonit oh rite well im best mate pete went week geva longer week yay can not wait parti togeth photoshop make comput shut boy made fun today ok problem sent one messag fun one issu california okay snow manag privat account statement show unredeem point call identifi code expir hmmm mayb tri e shoppin area one forgot e name hotel awesom gon na soon later tonight need detail onlin job valu vodafon custom comput pick win prize collect easi call miss toopray inshah allah pls help tell ashley cant find number oh escap theatr go watch kavalan minut sthis increas chanc win either way work ltgt year old hope doesnt bother mayb find someth els instead gain right wifedont demand iti tri husband toolet see like new hous fine hope also also north carolina texa atm would go gre site pay test result sent u yes babi need stretch open pussi thank bomb date phone want say ok hey guy know breath neck get bud anyway abl get half track usf tonight respons one power weapon occupi place other heart alway give respons care u gud nightswt dreamstak care nokia phone lovli free messagethank use auction subscript servic pmsgrcvd skip auction txt unsubscrib txt stop customercar bore housew chat n date btnation rate pmin landlin sorri datoday wont come playi drive clas realli sorri lit hair fire oh shit thought trip loooooool make much sens grin sofa refer sleep couch link sent not went trip oh not babe go celebr rent okey dokey swashbuckl stuff oh watch cartoon listen music amp eve go templ amp church u tension face smile face wast face innoc face terror face cruel face romant face lovabl face decent face ltgt joker face dip cell dead come u better respond els shall come back well know mean text hi dis yiju would happi work wif ü gek lol oop sorri fun wat happen cruis thing know dat feelin pete wuld get em nuther place nuther time mayb lyricalladief invit friend repli yes see wwwsmsacuhmmross stop send stop frnd world happiest frnds never charact dey best understand differ polyphon tone ur mob everi week txt pt st tone free get txtin tell ur friend ptone repli hl info yeah open chat click friend list make list easi pie alright tyler got minor crisi home sooner thought asap whenwher pick usual u call ard smth new theori argument win situat lose person dont argu ur friend kick amp say alway correct mani thing antibiot use chest abdomen gyna infect even bone infect poor girl can not go one day lmao time today vodafon number end select receiv award number match call receiv award pls make note shes expos also find school anyon els vomit dog cat hous let know later japanes proverb one u none itu must indian version one let none itleav final kerala version one stop none make strike sound like could lot time spent chastiti devic boy grin take beat like good dog go loung nice long bath wors use half way stop better complet miser not tell u side effect birth control massiv gut wrench cramp first month not sleep last night send new number convey regard want latest video handset anytim network min half price line rental repli call deliveri tomorrow half year miss friendship cant pick phone right pls send messag oh fuck sake like tallahasse haha first person gon na ask ou guarante latest nokia phone gb ipod mp player prize txt word collect ibhltd ldnwh pmtmsgrcvd taka lor wat time u wan come n look us free polyphon rington text super get free poli tone week sn pobox nr zs subscript pw im reach anoth stop didnt mean post wrote like mani time ritten stuff let sit feel time angri left hit send stop not check phone got car not said not sleep bore would not time clean fold laundri etc least make bed warner villag c colin farrel swat wkend warner villag get free med popcornjust show msgticketkioskvalid c tc kiosk repli soni mre film offer come onlin today night anyth special solihul want anyth good day regret inform u nhs made mistakeu never actual bornpleas report yor local hospit b terminatedw r sorri inconveni love holiday monday feel even go dentist hour way tirupur goal arsenal henri v liverpool henri score simpl shot yard pass bergkamp give arsenal goal margin min alreadi got flaki parent itsnot suppos child job support parentnot ride age anyway suppos support hurt unintent hurt nonetheless took hooch walk toaday fell splat graze knee everyth stay home see tomorrow drop em omw back nd time tri contact u u pound prize claim easi call p per min btnationalr sit mu wait everyon get suit take shower call not see facebook huh g say never answer text confirmdeni common hearin r u wat r u ur day let ask u someth differ u smile today not gud evng hi dear call urgnt not know what problem not want work problem least tell wate repli oh yah never cancel leh haha go e normal pilat intro ok let u noe leav hous oh yes like tortur watch england wan na art hope wasn t piss rememb gone sister someth got take take part wrc ralli oz u lucozad energi text ralli le p see pack lucozadecoukwrc itcould u hi sexychat girl wait text text great night chat send stop stop servic good morn boytoy yummi lip sexi bun think crave need match startedindia ltgt free call sir hey want anyth buy hey babe go ever figur go new year kkcongratul g want know fuck cancel yeah babi well sound import understand darlin give ring later fone love kate x tomarrow want got court ltdecimalgt come bus stand ü go home liao ask dad pick omg make wed chapel frontiervill get good stuff eatin lor goin back work soon e mountain deer show huh watch b liao nice check maili mail varma kept copi regard membershiptak careinsha allah wrong phone phone answer one assum peopl not well anyway not think secur anyth lem me know want drive south chill alreadi back home probabl not great news call freefon claim guarante cash gift speak live oper hi ami send free phone number coupl day give access adult parti bus way calicut hi probabl much fun get messag thought id txt u cos im bore jame fart night hi babi im sat bloodi bus mo wont home wan na somethin later call later ortxt back jess xx welcom select servic ad benefit call special train advisor free mobil diall lost pound sinc doc visit last week woot woot gon na celebr stuf face u come back dinner rite dad ask confirm wif u master buy bb cos sale bf ahhhhjust woken uphad bad dream u thoso dont like u right didnt know anyth comedi night guess im viveki got call number not u call lunch mean left earli check cos work want ltgt rs dado bit ur smile hppnss drop ur tear sorrow part ur heart life heart like mine wil care u forevr goodfriend yup ok want see pretti pussi dear voucher holder next meal us use follow link pc enjoy dine experiencehttpwwwvouchmecometlpdiningasp peopl game mall iouri kaila urgent tri contact u today draw show prize guarante call land line claim valid hrs donat unicef asian tsunami disast support fund text donat ad next bill futur not plan tomorrow result today best present enjoy futur cme want go hos morow wil cme got dear didnt say time suppos meet discuss abt trip thought xuhui told afternoon thought go lesson hey come onlin use msn fine hope good take care oop shower u call hey park garag collaps univers hospit see not crazi stuff like happen aiyo u poor thing u dun wan eat u bath alreadi yar tot u knew dis would happen long ago alreadi gorgeous keep pix cum thank boy late home father power frndship jade paul didn t u txt u rememb barm want talk u txt spend new year brother famili let plan meet next week readi spoil u today said okay sorri slept thinkthi time ltgt pm not danger network job goldvik invit friend repli yes see wwwsmsacugoldvik stop send stop frnd dont let studi stress lr u haf keep busi rush not work school rush go hungri channel tell coulda real valentin wasnt u never pick noth phoni award today voda number end xxxx select receiv award match pleas call quot claim code standard rate app made eta taunton plan hope that s still okday good see xx hungri buy smth home hey kate hope ur ok give u buz wedlunch go outsomewher adrink towncud go watershd bit ppl fromwrk bthere love petexxx drive read need write look addi goe back monday suck happi new year hope good semest esplanad lor els talk hmph go head big baller well not like actual call someon punto woulda wors nope sinc ayo travel forgotten guy still around look pick later cds u congratul ur award cd gift voucher gift guarante freeentri wkli draw xt music tncs wwwldewcomwinppmxag someon year ltgt toyota camri like mr olayiwola mileag ltgt kit clean need know much sell rais dough soon land sell holla back guess pub im im happi pig clover whatev say ill b soon oh k come tomorrow go fool dont cheat other ok mobil numberpl sms ur mail idconvey regard achanammarakheshqatar way rencontr meet mountain dont guarante cash prize claim yr prize call custom servic repres ampm cost p u attend ur drive lesson mani time wk n day uncl g check reward month hello boytoy geeee miss today like send tm remind think love love kiss think two still need get cash def readi hey galsu wan na meet dinner nìte dear xxxxxxx uve invit xchat final attempt contact u txt chat pmsgrcvdhgsuitelandsrowwjhl ldn yrs babe talk think good boy miss love great offic today cool last littl get time soon sad puppi nois yes possibl dint tri pls dont tell one k anyway holla whenev around need excus go creep peopl sarasota happen gon na ask lol think ur cashbal current pound maxim ur cashin send go pmeg cc hgsuiteland rowwjhl privat account statement show unredeem sim point call identifi codexx expir go chase run cross street like tell deepest darkest fantasi call pmin stop text call nat rate come friday leav pongaldo get news work place hey inconveni sis not huh ok vldo u know got adsens approv realli good see day dudett miss want go perumbavoor mani time told stage use laugh not listen aha not believ true incred txts repli g learn truli amaz thing blow mind ofwd ptxt not hear thank talk saturday dear cherish brother role model pls clarifi back open return ticket prepon go back kerala natali f invit friend repli yes see wwwsmsacunataliek stop send stop frnd ran younger man make pretti babi togeth jamster get free wallpap text heart tc appli need help call ic lol play door sometim yo dunno dad said come home bring us lunch yup go w u lor call u reach school lor sent jd custom servic cum account execut ur mail id detail contact us desir u go doctor liver get bit stylish get ur hair manag that hmmmstill dont open yeah basic time next week get away mom amp get edison right said fool ask question wise man answer know us speechless viva gmgngegnt vote wherev heart guid sis lor juz watch italian job tick tick tick could die loneli know pout stomp feet need lmao know well doubl min doubl txt price linerent latest orang bluetooth mobil call mobileupd latest offer calloptoutlf train back northampton afraid not stay skyve today ho ho around wednesday though fanci comedi club week way goodnight da thangam realli miss u dear hey next sun basic yoga cours bugi go pilat intro next sat tell time r free geeeee internet realli bad today eh free video camera phone half price line rental mths cross ntwk min txts call mobileupd calloptout think disturb da sorri call later meet sir havent stuck orchard dad car go dinner u leh r free tonight ok also wan watch e pm show dunno lei like dun haf brother transfer ltgt ltgt pa call later afternoon onword mtnl servic get problem south mumbai hear cannt listen uk break accommodationvouch term condit appli claim mustprovid claim number talk g x hai dear friend new amp present number rajitha raj ranju p alfi moon children need song ur mob tell ur ms txt tone chariti nokia poli chariti poli zed profit chariti differ style win shop spree everi week start play text store skilgm tscs winawk age perweeksub gud ni dearslp welltak careswt dreamsmuah want sent ltgt mesag today that sorri hurt nd attempt contract u week top prize either cash prize call well glad not find total disagre lol guy flash go call call madam take care oh want new nokia colour phone deliveredtomorrow free minut mobil free text free camcord repli call mark work tomorrow get work hous meet u afterward keep ur problem ur heart bcoz nobodi fight u u amp u fight ur self amp win battl vivekanand g sd ham yeah give call got minut ham hi babe uawakefeellikw shitjustfound via alett thatmum gotmarri thnovbehind ourback fuckinniceselfishdeviousbitchanywayi l call u amaz rearrang letter give mean dormitori dirti room astronom moon starer eye see elect result lie let recount motherinlaw woman hitler eleven plus two twelv plus one amaz aiya discuss later lar pick ü hey happi birthday sorri miss call pleas call back omg not one thing anoth cat worm bad day end good morn im suffer fever dysentri not abl come offic today wont anyth de type stuff sing st andr virgil cream check room befor activ fri ah oki lorgoin drivin den go shoppin tt gokila talk aha hi shanilrakhesh herethanksi exchang uncut diamond stuffleav back excel servic dino prem kkthis month kote birthday know realli realli broke oh amount small even ltgt sorri mate phone didnt write love kate themobhit link get premium pink panther game new sugabab crazi zebra anim badass hoodi wallpaperal free ah well confus thing doesnt thought friend mayb wrong thing alreadi sort invit tho may not come cos money aight call close nope that fine might nap tho msg mobil content order resent previous attempt fail due network error queri customersqueriesnetvisionukcom news hassl get weed week andr money haughaighgtujhyguj boy love gal propsd bt didnt mind gv lv lttrs bt frnds threw thm boy decid aproach gal dt time truck speed toward gal wn hit girld boy ran like hell n save ask hw cn u run fast boy repli boost secret energi n instant girl shout energi n thi live happili gthr drink boost evrydi moral stori hv free msgsd gud ni wnt buy bmw car urgentlyit vri urgentbut hv shortag ltgt lacsther sourc arng dis amt ltgt lacsthat prob ding ya break fassyol blacko londn realli need kiss u miss u babi ur babi eva sign matur not start say big thing actual start understand small thing nice even bslvyl oh got mani respons new messag pleas call reach sch alreadi decemb mobil mths entitl updat latest colour camera mobil free call mobil updat vco free u definit need modul e human dis sem izzit u wan take modul st argh fuck nobodi town get lion england tone repli lionm mono lionp poli go wwwringtonescouk origin n best tone gbp network oper rate appli thank fill complet calm reassur aslamalaikkuminsha allah tohar beeen muht albi mufti mahfuuzmean drive train lol real told dad cancer privat account statement oop ltgt not enufcredeit tocallshal ileav uni get bus yor hous hi chikku send nice msgs imposs argu alway treat like sub like never releas remind necessari work ah den plus lor u workin oso rite den go orchard lor place go liao wonder okor great month cherish guy wish well day mojibiola cuz ibor wan na studi wot wed nite til rose redr bloodblood heartheart u u send tis ur friend includ u like u get back u r poor relat u need support u r frnd mani luv u pray god marri u tri way suck go u hair free right still not work time also tri ad zero save check ltgt hmm dunno leh mayb bag goigng dat not small jus anyth except perfum smth dat keep sday joinedso train start today sorri grocer nice pub near franki n benni near warner cinema costa del sol holiday await collect call toclaim sae tc pobox stockport skxh cost pm maxmin yup havent want go yoga call book oh shut omg yesterday dream kid boy piss not kid boy even told mark dream chang diaper caus not get owe face yeah imagin would realli gentl unlik doc treat patient like turkey free st week nokia tone ur mobil everi week txt nokia get txting tell ur mate wwwgetzedcouk pobox wwq normpton start dont stop pray good idea anyth see help guy ill forward link hi darlin im helen fone im gon na b princ nite pleas come tb love kate offic dawher aiyar u poor thing give u support k jia think u oh unintent not bad time great finger train play along give fifteen min warn get garden readi summer free select summer bulb seed worth scotsman saturday stop go notxtcouk kthen come wenev u lik come also tel vikki come get free time pls call da happen happi new year u ur familymay new year bring happi stabil tranquil ur vibrant colour life problem renew ill right away dont know detail idk sit stop shop park lot right bawl eye feel like failur everyth nobodi want feel like fail not left yet probabl gon na til dinner like ltgt question new year eve ok went parti boyfriend si hey sir need velusami sir date birth compani bank facil detail k k sms chat come karnan car pleas wait till pm direct goto doctor bluray player ok r meet later lol need cash nitro hurri come crash send text skype later ok leav need ask congrat mobil g videophon r call videochat wid ur mate play java game dload polyph music nolin rentl bx ip p ü still got lesson ü sch dun believ leh tot told true alreadi thk muz c us tog believ oh charg camera i ve got salt rub open wound like go lunch school n da lab stuff give call ü r done oh k come tomorrow aight text tonight see u water log desert geoenvironment implic rajipl favour pls convey birthday wish nimya pls today birthday compani goodenviron terrif food realli nice strang watch nd one bed sweet dream miss u sms auction brand new nokia auction today auction free join take part txt nokia hi hope u r ok said would text hasnt u seen let gentl pleas babe fuck love know fuck good hear voic need crave can not get enough ador ahmad kiss k sure relat home sms de pls sent like fuuuuck need stop sleepin sup town jus take mrt later cook rather nice salmon la upload mine facebook time u wrkin oki ree entri week comp chanc win ipod txt pod get entri std txt rate tcs appli detail record indic u mayb entitl pound compens accid claim free repli claim msg stop txt stop sorri call later oh oh den muz chang plan liao go back yan jiu wyli tampa sarasota ok take ur time n enjoy ur dinner darren say dat u meet da ge den dun meet dinner cos later u leav xy feel awkward den u meet lunch lor spook mob halloween collect logo pic messag plus free eeri tone txt card spook zed p per logop like cheap i m happi splash wine make feel better shes fine difficulti phone work mine pls send anoth friend request ugh leg hurt musta overdid mon call germani penc per minut call fix line via access number prepay direct access wwwtelediscountcouk costa del sol holiday await collect call toclaim sae tc pobox stockport skxh cost pm maxmin wot student discount u get book fineabsolut fine come get b quit diff guess rite mobil mths updat free orang latest colour camera mobil unlimit weekend call call mobil upd freefon stoptxt reach ur home ltgt minut babe answer can not see mayb better reboot ym got photo great hiwhat think match know thinkin malaria relax children cant handl malaria would wors gastroenter take enough replac loss temp reduc give malaria med vomit self limit ill mean day complet stop dai download exe file run exe instal yesterday true true kkhow busi pa not select natalja f invit friend repli yes see wwwsmsacunat stop send stop frnd keep ten rs shelf buy two egg late well that nice bad cant eat accident brought em home box pls need dat slowli vomit take exam march jane babe not goin wrk feel ill lst nite fone alreadi cover chuck nightsw nt stay port step liaotoo ex die want u stuff oh fuck juswok bed boatin dock slept wid year old spinout giv u da gossip lr xxx smile pleasur smile pain smile troubl pour like rain smile sum hurt u smile becoz someon still love see u smile prabhaim sorydarealyfrm heart sori remet alex nichol middl school turn deal privat account statement fone show unredeem point call identifi code expir mean u could not keep ur word nope still market realis busi guy tri not bother get exam outta way tri car gr day chosen receiv award pls call claim number collect award select receiv valu mobil custom hey project start aha da ok cool see ya uworld site buy qbank buy self assess also opinion jada kusruthi lovabl silent spl charact not matur stylish simpl pls repli someonon know tri contact via date servic find could call mobil landlin boxskch yeah still give ride jay want work first sound gud gudk chikku tke care sleep well gud nyt part check iq hmm think lor cours not teas know simpli must see grin keep post prey love smile devour kiss thank temal wonder thank great week thank princess want see nice juici booti not eaten day sit stare juici pizza can not eat med ruin life gud ni dearslp welltak careswt dreamsmuah u come n search tat vidnot finishd k leav soon littl urgent pleas call landlin cash holiday await collect cs sae po box mxi yeah work fine start last week stuff dull easi guy fun studi alon without anyon help cant need studi pleas tell not car key purs didnt get anyth da ok sweet dream well big surpris usualiam fine happi amp well cbe chennai help u swoop pick u wherev ur bird r meet u want anyon call treadmil say buy make sure work found ad craigslist sell ltgt absolut love south park recent start watch offic see film pls speak wont ask anyth friendship storm msg wen u lift phne u say hello u knw wt real mean hello name girl yes u knw dat girl margaret hello girlfrnd f grahmbel invnt telphon moralon get name person bt not girlfrnd g n g h gud niswt drmstake care hi darlin kate u doin somethin tonight im go pub call swan someth parent one drink phone u anyth lar ü not go home dinner er enjoyin indian moyep sall good hehe how bout u shexi pete xx dont prize go anoth custom tc wwwtcbiz pmin polo ltd suit london wj hl pleas call back busi u fix teethif not asapok take care u wan come dinner tonight not hellohow u doingwhat u u b move flat cos need arrang pick lamp etc take care hello carolin latebut kwish hi hope ur day good back walk tabl book half eight let know ur come oh yeah clear fault dunno leh cant rememb mayb lor wat time r meet tmr best msg hard person u know one step foward make u fall love amp one step back ruin ur friendship good night urgent mobil number award prize guarante call land line claim valid hrs ppm helloooo wake sweet morn welcom enjoy day full joy gud mrng vikki come around lttimegt princess gone get info bt dont know yeah probabl sent ur email id soon urgent week free membership prize jackpot txt word claim tc wwwdbuknet lccltd pobox ldnwarw still pretti weak today bad day hey not forget mine possess properti mmm childish smile excel thought misundrstud frnd knw u hate bt day wen ull knw truth ull hate urself gn hey congrat u id luv ive go home dear call xy tri smth u eat alreadi havent urgent pleas call landlin cash luxuri canari island holiday await collect tcs sae po box mxi ppm donno gene someth xmas iscom ur award either cd gift voucher free entri r week draw txt music tnc wwwldewcomwinppmxagesubscript alex say not ok not ok u come funer home darl sister school resum minimum wait period reappli take care ill hand phone chat wit u well good morn mr how london treatin ya treacl can not make tonight time come tomorrow ltgt buck bank fee fix better call bank find tell quit long cos not finish film yet pls ask macho much budget bb bold cos saw new one ltgt dollar hi miss call mumha beendrop red wine theplac adress ill min look leav come back thursday yay gon na ok get money cheer oh yeah everyth alright how school call work jolli good way give u ticket sat eve speak x yeah think kkim go tirunelvali week see uncl alreadi spend amount take dress want moneyi give feb got ur favorit oyster n got favorit sashimi ok lar dun say alreadi wait ur stomach start rumbl sister go earn da get offici england poli rington colour flag yer mobil tonight game text tone flag optout txt eng stop box wwx hahahaus brain dear jus finish watch tv u k fyi back parent place south tampa might need deal somewher els good morn love go sleep wish great day full feel better opportun last thought babe love kiss kothi print marandratha havent got da topic yet rite ok problem yup go sch rem correct thank keep mind aah bless arm dear sirsalam alaikkumprid pleasur meet today tea shopw pleas send contact number qatarrakhesh indianpl save numberrespect regard gal n boy walk park galcan hold ur hand boyi u think would run away galno jst wana c feel walk heaven princegn make happi wish wonder week sweet heart sir wait letter dude im longer pisc im aquarius x cours yrs messag messeng lik r send think steyn sure get one wicket neither sterm voic studi fine not sure thing resolv tho anyway fab hol garbag bag egg jam bread hannaford wheat chex not pride almost ltgt year old not takin money kid not suppos deal stuff grownup stuffwhi not tell sound better even im costum im not sure time finish tomorrow txt end birthday feb ltgt da wan na gym like would not jerk u awak snow cours make stink u r subscrib textcomp wkli comp st wks free question follow subsequ wks chargedpmsg unsubscrib txt stop custcar go open room til thanksgiv without upcharg guy plan come wat ü parent kidz friend n colleagu scream surpris wait sofa nake sir hr trip bus last week anoth audit next wednesday think might drive time thought put back box home one interest may busi plan yup paragon havent decid whether cut yet hee good morn princess great day guai ü shd haf seen naughti ü free today go jog aiyo cos sms ü ü neva repli wait ü repli lar tot ü havent finish ur lab wat live simpl love also simpl laugh simpl win tooo simpl simpl difficult tell someth that okay ok hmm shall bring bottl wine keep us amus joke still bring bottl red white see tomorrow ur face test ltgt select number tell ur face astrolog wait quick repli hey iouri gave number wyli ryan friend yep get program slack insid officestil fill formsdon know leav think mentor not percent sure call send girl erot ecstaci pmin stop text call nat rate camera award sipix digit camera call fromm landlin deliveri within day xmas reward wait comput random pick loyal mobil custom receiv reward call tri figur suppos see coupl differ peopl week said get togeth not set date import messag final contact attempt import messag wait custom claim dept expir call hi mom might back later ltgt datingi two start sent text talk sport radio last week connect think coincid lol oh got friend dog ok problem u frm wat matter k head min see u konw waht rael friendship im gving yuo exmpel jsut ese tih msg evrey splle tih msg wrnog bt sitll yuo ra wihtuot ayn mitsak goodnight amp nice sleepsweet dream cant pick phone right pls send messag not want leav bare stay sane fight constant not help current lead bid paus auction send custom care free entri grprize wkli comp chanc win latest nokia psp cash everi wktxt great httpwwwgrprizescom somebodi set websit play hold em use eve onlin spacebuck sunni california weather cool new messag call make squeez ltgt buck dad good day toopray meremov teeth pain maintain stuff babe hope ok shit night sleep fell asleep i m knacker i m dread work tonight thou upto tonight x friend help us problem give stupid suggest land us anoth problem help us forgt previous problem work pleas call gentl babi soon take ltgt inch deep insid tight pussi not much fight good nite okok okthenwhat ur today plan nt joke serious told watch ajith film ah ooooooh forgot tell u get yovill phone done hand not know mega shop asda count celebr that dont know exact could ask chechi dunno lei shd b drive lor cos go sch hr oni want custom offic discount oh necessarili respect hi hope good day better night appar bffs car quick hard true much show amp express love someonethat much hurt leav get seperated鈥 ud even babe think got ur brolli left english wil bring mrw u luv franxx hi babe thank come even though didnt go welli want bed hope see soon love kiss xxx gd got free ice cream oso wan pls give prometazin syrup mls ltgt min later feed mani day sinc dear angri busi dear yup msg tat yiju tot group mate cos meet today mah askin ü leav earlier wat mah cos mayb ü haf walk v far pub first time everyth daddi shu shu look u u wan tell ure not singapor wat ask u meet da ge tmr nite gr handl victoria island traffic plus album due nite nite pocay wocay luv u n e thing eva promis ring u morrowxxxx east coast get chicken broth want ramen unless not know slave want take pictur today bright light cell phone bright light nope forgot show next week realli master bruce amp fowler mom car can not park long stori dont know oh hope month hi elain today meet confirm ok ksri knw sivatat askd sorri call later u horribl gal u knew dat go wif yest n u still come n ask otherwis part time job natuit oh yeah diet flew window santa call would littl one like call santa xmas eve call book time didnt complet gist oh er yeah b sorri tell pubcaf sit come wen u make time tonight whenev cool text whenev around not pay attent thanx lot ur help gon na way specif jesus armand realli tri tell everybodi find wif buy tix lar mode men left slow use biola fne youdo later sar xxx hey book lesson sun liao thank general date brotha way make sure u get train worc foreg street not shrub hill fun night x thought get watch cos that kind thing u getanth love much guarante award mayb even cash claim ur award call free legitimat efreefon number wat u think good morn repair shopth reason hour fine got enough bud last night least back good journey let know need receipt shall tell like pendent take away money worri aight pick open tonight latest news polic station toilet stolen cop noth go sac need carri sing hu think also import find someon femal know place well prefer citizen also smart help navig even thing like choos phone plan requir guidanc doubt ask especi girl hello wat talk email address except there chick huge boob im wonder right wish beauti day moment reveal even thing keep smile enjoy sparkl shop break per person call visit wwwshortbreaksorguk arun u transfr amt sorri call later hear loud scream ltgt minut caus gyno shove thing not belong decemb mobil mths entitl updat latest colour camera mobil free call mobil updat co free ok thk got u wan come wat txt call claim reward hour talk time use phone subscribegbpmnth inc hrs stoptxtstop wwwgambtv u goin nite treasur everi moment spend togeth shall bring us bottl wine keep us amus joke i ll bring one anyway httptms widelivecomindex wmlidadafirsttrue c c ringtone get garden readi summer free select summer bulb seed worth scotsman saturday stop go notxtcouk urgent last weekend draw show cash spanish holiday call claim tc rstm sw ss ppm ok lor thought slide enough yup well obvious not peopl cool colleg life went home ok lor ü reach messag mummi boy good bad posit negat mummi made wait hmmmm dhoni luck win big titleso win yes princess want pleas everi night wish command todaysundaysunday holidayso work probabl ltgt realli hope work doesnt get stress gr day seen back holbi shall call dear food urgent tri contact last weekend draw show u prize guarante call claim code k valid hrs p pm li hai bore da lectur repeat last week stuff wast time pick various point go yeovil motor project hour u take home max easi also fuck famili go rhode island wherev fuck leav alon week new bong gt ofcours also upload song p per min call germani bt line p per min check planettalkinstantcom info ts cs text stop opt k sent oh thank loti alreadi bought egg k sent u studi sch go home anyway b go sch later marvel mobil play offici ultim spiderman game ur mobil right text spider game send u free ball wallpap think rule tamilnaduthen tough peopl cool shall go see go tip anyway home got someth drop later let go town tonight mayb mum take us good afternoon love goe day sleep hope well boytoy think yes trust u buy new stuff asap tri sms servic inclus text credit pls goto wwwcomuknet login qxj unsubscrib stop extra charg help comuk cm ae wake gt get step outta way congrat love one law make happi person love way friendship one law never make ur friend feel alon aliv gud night privat account statement show unredeem point call identifi code expir apo mokka player perhap much easi give account identif tomorrow uni wait msg ltgt min told tell stupid hear wont tell anyth dad call brother spoken not god love limit god grace measur god power boundari may u god endless bless alway ur life gud ni want insid everi night machan go gym tomorrow wil come late goodnight lol mad first woke gave went project centr it s reassur crazi world make dinner yes pleas leav ltgt ltgt leav oh oki lorw go sat great role model give much realli wish day miracl god reason everyth must say wish knew dont look sinc young still great day ya referin mei ex wat ah waitin u treat somebodi shld b rich liaoso gd den u dun work frm tmr onward mile smile r made frm letter u know differ smile ur face keep happi even though mile away u keep smile good nyt way put skip right outsid front hous see hous pull pls send compani name saibaba colani dont want hear anyth big chic common declar that cool want pleas go join tomorrow award sipix digit camera call landlin deliveri within day cs box mbp yr warranti ppm p p want tell bad feel basic time text late need drug privat account statement show unredeem sim point call identifi code expir total disappoint text craziest shit got effect irrit ignor one think tantrum finish yeah point compliment away system side happen adventur hey chief give bell get need talk royal visit st june ok anoth number know thinkin malaria relax children cant handl malaria would wors gastroenter take enough replac loss temp reduc give malaria med vomit self limit ill mean day complet stop aiyah ok wat long got improv alreadi wat want explicit sex sec ring cost pmin gsex pobox wcn xx can not believ attach see everi day know best get babe go teach class midnight sleepingand surf ask mobil chatlin inclu free min india cust serv sed yes ler got mega bill dont giv shit bailiff due day want yeah jus rite armand say get ass epsilon u still havent got urself jacket ah take derek amp taylor walmart not back time done leav mous desk text priscilla readi hi durban still number ic lotta childporn car contract mobil mnths latest motorola nokia etc free doubl min text orang tariff text yes callback remov record tri weekend v know wot peopl wear shirt jumper hat belt know r cribb cool time think get wen get spiritu deep great safe trip nigeria wish happi soon compani share moment hahahaus brain dear well keep mind got enough gas one round trip bar sudden influx cash yeh indian nice tho kane bit shud go drink sometim soon mite hav go da work laugh soon love pete x x yes u text pshewmiss much meant calcul ltgt unit ltgt school realli expens start practic accent import decid year dental school nmde exam sorri call later not next ltgt hour imma flip shit anyth lor juz us lor get dump heap mom decid come low bore ok lor soni ericsson salesman ask shuhui say quit gd use consid ard like dat lor not wait til least wednesday see get huh lei remind get pound free call credit detail great offer pls repli text valid name hous postcod nd time tri contact u u pound prize claim easi call p per minut btnationalr ü b go esplanad fr home piti mood soani suggest guy bitch act like interest buy someth els next week gave us free rofl true name'"
            ],
            "application/vnd.google.colaboratory.intrinsic+json": {
              "type": "string"
            }
          },
          "metadata": {},
          "execution_count": 74
        }
      ],
      "source": [
        "# Extract and place into list\n",
        "' '.join(df['stem'].str.extractall('(\\w+)')[0].to_list())"
      ]
    },
    {
      "cell_type": "code",
      "execution_count": 75,
      "metadata": {
        "colab": {
          "base_uri": "https://localhost:8080/",
          "height": 285
        },
        "id": "gb3t7ZWIVDGm",
        "outputId": "63342383-ceda-45b5-e267-4e6466a1fdad"
      },
      "outputs": [
        {
          "output_type": "display_data",
          "data": {
            "text/plain": [
              "<Figure size 640x480 with 1 Axes>"
            ],
            "image/png": "[encoded data removed]"
          },
          "metadata": {}
        }
      ],
      "source": [
        "# Generating word cloud\n",
        "# Start with one review:\n",
        "text = ' '.join(df['stem'].str.extractall('(\\w+)')[0].to_list())\n",
        "\n",
        "# Create and generate a word cloud image:\n",
        "wordcloud = WordCloud(max_words=20, background_color=\"white\").generate(text)\n",
        "\n",
        "# Display the generated image:\n",
        "plt.imshow(wordcloud)\n",
        "plt.axis(\"off\")\n",
        "plt.show()"
      ]
    },
    {
      "cell_type": "code",
      "execution_count": 76,
      "metadata": {
        "colab": {
          "base_uri": "https://localhost:8080/",
          "height": 406
        },
        "id": "BvN-w3xXVDGn",
        "outputId": "5bf0c42e-0fb5-4d61-9dc8-ef3be087e4e5"
      },
      "outputs": [
        {
          "output_type": "display_data",
          "data": {
            "text/plain": [
              "<Figure size 640x480 with 1 Axes>"
            ],
            "image/png": "[encoded data removed]"
          },
          "metadata": {}
        }
      ],
      "source": [
        "# Use external source materials\n",
        "\n",
        "# From URL\n",
        "response = requests.get(\"https://i.pinimg.com/564x/a1/84/0a/a1840a14b487ef2bee618d080221ec13.jpg\")\n",
        "\n",
        "my_mask = np.array(Image.open(BytesIO(response.content)))\n",
        "\n",
        "# Start with one review:\n",
        "text = ' '.join(df['stem'].str.extractall('(\\w+)')[0].to_list())\n",
        "\n",
        "# Create and generate a word cloud image:\n",
        "wordcloud = WordCloud(\n",
        "    max_words=20,\n",
        "    background_color=\"white\",\n",
        "    mask= my_mask,\n",
        "    stopwords=[]\n",
        "    ).generate(text)\n",
        "\n",
        "# Display the generated image:\n",
        "plt.imshow(wordcloud)\n",
        "plt.axis(\"off\")\n",
        "plt.show()"
      ]
    },
    {
      "cell_type": "code",
      "execution_count": 81,
      "metadata": {
        "colab": {
          "base_uri": "https://localhost:8080/",
          "height": 453
        },
        "id": "GYlkErlcVDGn",
        "outputId": "e29dacd5-2e71-45cd-98b0-63f07d501f0d"
      },
      "outputs": [
        {
          "output_type": "display_data",
          "data": {
            "text/plain": [
              "<Figure size 640x480 with 1 Axes>"
            ],
            "image/png": "[encoded data removed]"
          },
          "metadata": {}
        }
      ],
      "source": [
        "# Top 10 most frequent words\n",
        "data = word_freq(df['stem'])\n",
        "sns.barplot(data=data.head(20), x='freq', y='word', palette='rainbow')\n",
        "plt.show()"
      ]
    }
  ],
  "metadata": {
    "kernelspec": {
      "display_name": "pwdenv",
      "language": "python",
      "name": "python3"
    },
    "language_info": {
      "codemirror_mode": {
        "name": "ipython",
        "version": 3
      },
      "file_extension": ".py",
      "mimetype": "text/x-python",
      "name": "python",
      "nbconvert_exporter": "python",
      "pygments_lexer": "ipython3",
      "version": "3.11.3"
    },
    "orig_nbformat": 4,
    "vscode": {
      "interpreter": {
        "hash": "26d83cb9ebc769f8a392797c85547e3220df367d4f886ed011b3f771d6a84444"
      }
    },
    "colab": {
      "provenance": [],
      "toc_visible": true,
      "include_colab_link": true
    }
  },
  "nbformat": 4,
  "nbformat_minor": 0
}